{
 "cells": [
  {
   "cell_type": "markdown",
   "id": "89030e1a",
   "metadata": {},
   "source": [
    "### Sprint 10  Aprenentage Supervisat  Classificació - part 1"
   ]
  },
  {
   "cell_type": "code",
   "execution_count": 1,
   "id": "73741df1",
   "metadata": {
    "ExecuteTime": {
     "end_time": "2022-05-08T15:14:42.414900Z",
     "start_time": "2022-05-08T15:14:39.657044Z"
    }
   },
   "outputs": [],
   "source": [
    "import pandas as pd \n",
    "import numpy as np \n",
    "import matplotlib.pyplot as plt \n",
    "%matplotlib inline\n",
    "import seaborn as sns\n",
    "pd.set_option('display.max_columns', None)\n",
    "import warnings\n",
    "warnings.filterwarnings('ignore')\n",
    "\n",
    "from sklearn.model_selection import train_test_split\n",
    "from sklearn.metrics import accuracy_score, f1_score, confusion_matrix, recall_score\n",
    "from sklearn.metrics import classification_report\n",
    "from sklearn import metrics"
   ]
  },
  {
   "cell_type": "markdown",
   "id": "68e2f656",
   "metadata": {},
   "source": [
    "First I will open a dataframe that has already data cleaned from previous exercises. "
   ]
  },
  {
   "cell_type": "code",
   "execution_count": 2,
   "id": "f6043d33",
   "metadata": {
    "ExecuteTime": {
     "end_time": "2022-05-08T15:14:48.355857Z",
     "start_time": "2022-05-08T15:14:44.388302Z"
    }
   },
   "outputs": [
    {
     "data": {
      "text/html": [
       "<div>\n",
       "<style scoped>\n",
       "    .dataframe tbody tr th:only-of-type {\n",
       "        vertical-align: middle;\n",
       "    }\n",
       "\n",
       "    .dataframe tbody tr th {\n",
       "        vertical-align: top;\n",
       "    }\n",
       "\n",
       "    .dataframe thead th {\n",
       "        text-align: right;\n",
       "    }\n",
       "</style>\n",
       "<table border=\"1\" class=\"dataframe\">\n",
       "  <thead>\n",
       "    <tr style=\"text-align: right;\">\n",
       "      <th></th>\n",
       "      <th>ArrDelay</th>\n",
       "      <th>ActualElapsedTime</th>\n",
       "      <th>CRSElapsedTime</th>\n",
       "      <th>AirTime</th>\n",
       "      <th>DepDelay</th>\n",
       "      <th>Distance</th>\n",
       "      <th>Speed</th>\n",
       "      <th>TaxiIn</th>\n",
       "      <th>TaxiOut</th>\n",
       "      <th>CarrierDelay</th>\n",
       "      <th>WeatherDelay</th>\n",
       "      <th>NASDelay</th>\n",
       "      <th>SecurityDelay</th>\n",
       "      <th>LateAircraftDelay</th>\n",
       "      <th>DepTime</th>\n",
       "      <th>CRSDepTime</th>\n",
       "      <th>ArrTime</th>\n",
       "      <th>CRSArrTime</th>\n",
       "      <th>Month</th>\n",
       "      <th>DayofMonth</th>\n",
       "      <th>DayOfWeek</th>\n",
       "      <th>UniqueCarrier</th>\n",
       "      <th>Origin</th>\n",
       "      <th>Dest</th>\n",
       "    </tr>\n",
       "  </thead>\n",
       "  <tbody>\n",
       "    <tr>\n",
       "      <th>0</th>\n",
       "      <td>-14.0</td>\n",
       "      <td>128.0</td>\n",
       "      <td>150.0</td>\n",
       "      <td>116.0</td>\n",
       "      <td>8.0</td>\n",
       "      <td>810</td>\n",
       "      <td>418.97</td>\n",
       "      <td>4.0</td>\n",
       "      <td>8.0</td>\n",
       "      <td>0.0</td>\n",
       "      <td>0.0</td>\n",
       "      <td>0.0</td>\n",
       "      <td>0.0</td>\n",
       "      <td>0.0</td>\n",
       "      <td>2003.0</td>\n",
       "      <td>1955</td>\n",
       "      <td>2211.0</td>\n",
       "      <td>2225</td>\n",
       "      <td>1</td>\n",
       "      <td>3</td>\n",
       "      <td>4</td>\n",
       "      <td>WN</td>\n",
       "      <td>IAD</td>\n",
       "      <td>TPA</td>\n",
       "    </tr>\n",
       "    <tr>\n",
       "      <th>1</th>\n",
       "      <td>2.0</td>\n",
       "      <td>128.0</td>\n",
       "      <td>145.0</td>\n",
       "      <td>113.0</td>\n",
       "      <td>19.0</td>\n",
       "      <td>810</td>\n",
       "      <td>430.09</td>\n",
       "      <td>5.0</td>\n",
       "      <td>10.0</td>\n",
       "      <td>0.0</td>\n",
       "      <td>0.0</td>\n",
       "      <td>0.0</td>\n",
       "      <td>0.0</td>\n",
       "      <td>0.0</td>\n",
       "      <td>754.0</td>\n",
       "      <td>735</td>\n",
       "      <td>1002.0</td>\n",
       "      <td>1000</td>\n",
       "      <td>1</td>\n",
       "      <td>3</td>\n",
       "      <td>4</td>\n",
       "      <td>WN</td>\n",
       "      <td>IAD</td>\n",
       "      <td>TPA</td>\n",
       "    </tr>\n",
       "    <tr>\n",
       "      <th>2</th>\n",
       "      <td>14.0</td>\n",
       "      <td>96.0</td>\n",
       "      <td>90.0</td>\n",
       "      <td>76.0</td>\n",
       "      <td>8.0</td>\n",
       "      <td>515</td>\n",
       "      <td>406.58</td>\n",
       "      <td>3.0</td>\n",
       "      <td>17.0</td>\n",
       "      <td>0.0</td>\n",
       "      <td>0.0</td>\n",
       "      <td>0.0</td>\n",
       "      <td>0.0</td>\n",
       "      <td>0.0</td>\n",
       "      <td>628.0</td>\n",
       "      <td>620</td>\n",
       "      <td>804.0</td>\n",
       "      <td>750</td>\n",
       "      <td>1</td>\n",
       "      <td>3</td>\n",
       "      <td>4</td>\n",
       "      <td>WN</td>\n",
       "      <td>IND</td>\n",
       "      <td>BWI</td>\n",
       "    </tr>\n",
       "    <tr>\n",
       "      <th>3</th>\n",
       "      <td>34.0</td>\n",
       "      <td>90.0</td>\n",
       "      <td>90.0</td>\n",
       "      <td>77.0</td>\n",
       "      <td>34.0</td>\n",
       "      <td>515</td>\n",
       "      <td>401.30</td>\n",
       "      <td>3.0</td>\n",
       "      <td>10.0</td>\n",
       "      <td>2.0</td>\n",
       "      <td>0.0</td>\n",
       "      <td>0.0</td>\n",
       "      <td>0.0</td>\n",
       "      <td>32.0</td>\n",
       "      <td>1829.0</td>\n",
       "      <td>1755</td>\n",
       "      <td>1959.0</td>\n",
       "      <td>1925</td>\n",
       "      <td>1</td>\n",
       "      <td>3</td>\n",
       "      <td>4</td>\n",
       "      <td>WN</td>\n",
       "      <td>IND</td>\n",
       "      <td>BWI</td>\n",
       "    </tr>\n",
       "    <tr>\n",
       "      <th>4</th>\n",
       "      <td>11.0</td>\n",
       "      <td>101.0</td>\n",
       "      <td>115.0</td>\n",
       "      <td>87.0</td>\n",
       "      <td>25.0</td>\n",
       "      <td>688</td>\n",
       "      <td>474.48</td>\n",
       "      <td>4.0</td>\n",
       "      <td>10.0</td>\n",
       "      <td>0.0</td>\n",
       "      <td>0.0</td>\n",
       "      <td>0.0</td>\n",
       "      <td>0.0</td>\n",
       "      <td>0.0</td>\n",
       "      <td>1940.0</td>\n",
       "      <td>1915</td>\n",
       "      <td>2121.0</td>\n",
       "      <td>2110</td>\n",
       "      <td>1</td>\n",
       "      <td>3</td>\n",
       "      <td>4</td>\n",
       "      <td>WN</td>\n",
       "      <td>IND</td>\n",
       "      <td>JAX</td>\n",
       "    </tr>\n",
       "  </tbody>\n",
       "</table>\n",
       "</div>"
      ],
      "text/plain": [
       "   ArrDelay  ActualElapsedTime  CRSElapsedTime  AirTime  DepDelay  Distance  \\\n",
       "0     -14.0              128.0           150.0    116.0       8.0       810   \n",
       "1       2.0              128.0           145.0    113.0      19.0       810   \n",
       "2      14.0               96.0            90.0     76.0       8.0       515   \n",
       "3      34.0               90.0            90.0     77.0      34.0       515   \n",
       "4      11.0              101.0           115.0     87.0      25.0       688   \n",
       "\n",
       "    Speed  TaxiIn  TaxiOut  CarrierDelay  WeatherDelay  NASDelay  \\\n",
       "0  418.97     4.0      8.0           0.0           0.0       0.0   \n",
       "1  430.09     5.0     10.0           0.0           0.0       0.0   \n",
       "2  406.58     3.0     17.0           0.0           0.0       0.0   \n",
       "3  401.30     3.0     10.0           2.0           0.0       0.0   \n",
       "4  474.48     4.0     10.0           0.0           0.0       0.0   \n",
       "\n",
       "   SecurityDelay  LateAircraftDelay  DepTime  CRSDepTime  ArrTime  CRSArrTime  \\\n",
       "0            0.0                0.0   2003.0        1955   2211.0        2225   \n",
       "1            0.0                0.0    754.0         735   1002.0        1000   \n",
       "2            0.0                0.0    628.0         620    804.0         750   \n",
       "3            0.0               32.0   1829.0        1755   1959.0        1925   \n",
       "4            0.0                0.0   1940.0        1915   2121.0        2110   \n",
       "\n",
       "   Month  DayofMonth  DayOfWeek UniqueCarrier Origin Dest  \n",
       "0      1           3          4            WN    IAD  TPA  \n",
       "1      1           3          4            WN    IAD  TPA  \n",
       "2      1           3          4            WN    IND  BWI  \n",
       "3      1           3          4            WN    IND  BWI  \n",
       "4      1           3          4            WN    IND  JAX  "
      ]
     },
     "execution_count": 2,
     "metadata": {},
     "output_type": "execute_result"
    }
   ],
   "source": [
    "# open dataset from the previous exercise \n",
    "# this file has data cleaned (we handled missing values and droped non useful columns, explained in oprevious exercise)\n",
    "# this file does not have yet dummy columns, I will generate them later before doing the regressions \n",
    "data = pd.read_csv('data.csv')\n",
    "data.head()"
   ]
  },
  {
   "cell_type": "markdown",
   "id": "913cf123",
   "metadata": {},
   "source": [
    "This dataset is already cleaned from previous exercise. Because of memory issues and due to the large dataset, I'm having trouble performing the models, so I will select a sample of the dataset consisting of the 10% of the observations. I will stratify by UniqueCarrier to have a good representation of all Carriers."
   ]
  },
  {
   "cell_type": "code",
   "execution_count": 3,
   "id": "b501c398",
   "metadata": {
    "ExecuteTime": {
     "end_time": "2022-05-08T15:14:53.844017Z",
     "start_time": "2022-05-08T15:14:53.272089Z"
    }
   },
   "outputs": [],
   "source": [
    "data_sample = data.groupby('UniqueCarrier', group_keys= False).apply(lambda x : x.sample(frac=0.1, random_state = 0))"
   ]
  },
  {
   "cell_type": "markdown",
   "id": "2fc57d34",
   "metadata": {},
   "source": [
    "### - Exercici 1\n",
    "Crea almenys tres models de classificació diferents per intentar predir el millor possible l’endarreriment dels vols (ArrDelay) de DelayedFlights.csv. Considera si el vol ha arribat tard o no (ArrDelay > 0).\n",
    "\n",
    "First, we will create a new column to categorize 'ArrDelay', we will create two classes:\n",
    "\n",
    "+ 0: The fligth was on time, measured on Arrival, ArrDelay <= 0\n",
    "+ 1: The flight had delay, measured on Arrival, ArrDelay > 0\n",
    "\n",
    "For this exercise: \n",
    "\n",
    "+ 0 will represent negatives (flights on time) \n",
    "+ 1 will represent positives (flights on delay)"
   ]
  },
  {
   "cell_type": "code",
   "execution_count": 4,
   "id": "e7a39d99",
   "metadata": {
    "ExecuteTime": {
     "end_time": "2022-05-08T15:15:00.195032Z",
     "start_time": "2022-05-08T15:15:00.116188Z"
    }
   },
   "outputs": [],
   "source": [
    "def delay_class(x): \n",
    "    if x <= 0: \n",
    "        return 0\n",
    "    else: \n",
    "        return 1\n",
    "    \n",
    "data_sample['Class'] = data_sample['ArrDelay'].apply(delay_class)"
   ]
  },
  {
   "cell_type": "code",
   "execution_count": 5,
   "id": "5de9ea5c",
   "metadata": {
    "ExecuteTime": {
     "end_time": "2022-05-08T15:15:02.872721Z",
     "start_time": "2022-05-08T15:15:02.846805Z"
    }
   },
   "outputs": [
    {
     "data": {
      "text/html": [
       "<div>\n",
       "<style scoped>\n",
       "    .dataframe tbody tr th:only-of-type {\n",
       "        vertical-align: middle;\n",
       "    }\n",
       "\n",
       "    .dataframe tbody tr th {\n",
       "        vertical-align: top;\n",
       "    }\n",
       "\n",
       "    .dataframe thead th {\n",
       "        text-align: right;\n",
       "    }\n",
       "</style>\n",
       "<table border=\"1\" class=\"dataframe\">\n",
       "  <thead>\n",
       "    <tr style=\"text-align: right;\">\n",
       "      <th></th>\n",
       "      <th>ArrDelay</th>\n",
       "      <th>ActualElapsedTime</th>\n",
       "      <th>CRSElapsedTime</th>\n",
       "      <th>AirTime</th>\n",
       "      <th>DepDelay</th>\n",
       "      <th>Distance</th>\n",
       "      <th>Speed</th>\n",
       "      <th>TaxiIn</th>\n",
       "      <th>TaxiOut</th>\n",
       "      <th>CarrierDelay</th>\n",
       "      <th>WeatherDelay</th>\n",
       "      <th>NASDelay</th>\n",
       "      <th>SecurityDelay</th>\n",
       "      <th>LateAircraftDelay</th>\n",
       "      <th>DepTime</th>\n",
       "      <th>CRSDepTime</th>\n",
       "      <th>ArrTime</th>\n",
       "      <th>CRSArrTime</th>\n",
       "      <th>Month</th>\n",
       "      <th>DayofMonth</th>\n",
       "      <th>DayOfWeek</th>\n",
       "      <th>UniqueCarrier</th>\n",
       "      <th>Origin</th>\n",
       "      <th>Dest</th>\n",
       "      <th>Class</th>\n",
       "    </tr>\n",
       "  </thead>\n",
       "  <tbody>\n",
       "    <tr>\n",
       "      <th>143019</th>\n",
       "      <td>21.0</td>\n",
       "      <td>95.0</td>\n",
       "      <td>88.0</td>\n",
       "      <td>63.0</td>\n",
       "      <td>14.0</td>\n",
       "      <td>364</td>\n",
       "      <td>346.67</td>\n",
       "      <td>11.0</td>\n",
       "      <td>21.0</td>\n",
       "      <td>14.0</td>\n",
       "      <td>0.0</td>\n",
       "      <td>7.0</td>\n",
       "      <td>0.0</td>\n",
       "      <td>0.0</td>\n",
       "      <td>1711.0</td>\n",
       "      <td>1657</td>\n",
       "      <td>1746.0</td>\n",
       "      <td>1725</td>\n",
       "      <td>1</td>\n",
       "      <td>18</td>\n",
       "      <td>5</td>\n",
       "      <td>9E</td>\n",
       "      <td>DTW</td>\n",
       "      <td>EVV</td>\n",
       "      <td>1</td>\n",
       "    </tr>\n",
       "    <tr>\n",
       "      <th>1886001</th>\n",
       "      <td>24.0</td>\n",
       "      <td>139.0</td>\n",
       "      <td>126.0</td>\n",
       "      <td>105.0</td>\n",
       "      <td>11.0</td>\n",
       "      <td>813</td>\n",
       "      <td>464.57</td>\n",
       "      <td>18.0</td>\n",
       "      <td>16.0</td>\n",
       "      <td>0.0</td>\n",
       "      <td>0.0</td>\n",
       "      <td>13.0</td>\n",
       "      <td>0.0</td>\n",
       "      <td>11.0</td>\n",
       "      <td>1100.0</td>\n",
       "      <td>1049</td>\n",
       "      <td>1419.0</td>\n",
       "      <td>1355</td>\n",
       "      <td>12</td>\n",
       "      <td>5</td>\n",
       "      <td>5</td>\n",
       "      <td>9E</td>\n",
       "      <td>AUS</td>\n",
       "      <td>ATL</td>\n",
       "      <td>1</td>\n",
       "    </tr>\n",
       "    <tr>\n",
       "      <th>1881989</th>\n",
       "      <td>2.0</td>\n",
       "      <td>86.0</td>\n",
       "      <td>102.0</td>\n",
       "      <td>65.0</td>\n",
       "      <td>18.0</td>\n",
       "      <td>490</td>\n",
       "      <td>452.31</td>\n",
       "      <td>9.0</td>\n",
       "      <td>12.0</td>\n",
       "      <td>0.0</td>\n",
       "      <td>0.0</td>\n",
       "      <td>0.0</td>\n",
       "      <td>0.0</td>\n",
       "      <td>0.0</td>\n",
       "      <td>943.0</td>\n",
       "      <td>925</td>\n",
       "      <td>1209.0</td>\n",
       "      <td>1207</td>\n",
       "      <td>12</td>\n",
       "      <td>22</td>\n",
       "      <td>1</td>\n",
       "      <td>9E</td>\n",
       "      <td>RAP</td>\n",
       "      <td>MSP</td>\n",
       "      <td>1</td>\n",
       "    </tr>\n",
       "    <tr>\n",
       "      <th>1030789</th>\n",
       "      <td>37.0</td>\n",
       "      <td>114.0</td>\n",
       "      <td>90.0</td>\n",
       "      <td>87.0</td>\n",
       "      <td>13.0</td>\n",
       "      <td>442</td>\n",
       "      <td>304.83</td>\n",
       "      <td>4.0</td>\n",
       "      <td>23.0</td>\n",
       "      <td>13.0</td>\n",
       "      <td>0.0</td>\n",
       "      <td>24.0</td>\n",
       "      <td>0.0</td>\n",
       "      <td>0.0</td>\n",
       "      <td>1908.0</td>\n",
       "      <td>1855</td>\n",
       "      <td>2102.0</td>\n",
       "      <td>2025</td>\n",
       "      <td>6</td>\n",
       "      <td>12</td>\n",
       "      <td>4</td>\n",
       "      <td>9E</td>\n",
       "      <td>MEM</td>\n",
       "      <td>MLI</td>\n",
       "      <td>1</td>\n",
       "    </tr>\n",
       "    <tr>\n",
       "      <th>687997</th>\n",
       "      <td>10.0</td>\n",
       "      <td>90.0</td>\n",
       "      <td>88.0</td>\n",
       "      <td>61.0</td>\n",
       "      <td>8.0</td>\n",
       "      <td>382</td>\n",
       "      <td>375.74</td>\n",
       "      <td>7.0</td>\n",
       "      <td>22.0</td>\n",
       "      <td>0.0</td>\n",
       "      <td>0.0</td>\n",
       "      <td>0.0</td>\n",
       "      <td>0.0</td>\n",
       "      <td>0.0</td>\n",
       "      <td>1038.0</td>\n",
       "      <td>1030</td>\n",
       "      <td>1208.0</td>\n",
       "      <td>1158</td>\n",
       "      <td>4</td>\n",
       "      <td>1</td>\n",
       "      <td>2</td>\n",
       "      <td>9E</td>\n",
       "      <td>DTW</td>\n",
       "      <td>ROA</td>\n",
       "      <td>1</td>\n",
       "    </tr>\n",
       "  </tbody>\n",
       "</table>\n",
       "</div>"
      ],
      "text/plain": [
       "         ArrDelay  ActualElapsedTime  CRSElapsedTime  AirTime  DepDelay  \\\n",
       "143019       21.0               95.0            88.0     63.0      14.0   \n",
       "1886001      24.0              139.0           126.0    105.0      11.0   \n",
       "1881989       2.0               86.0           102.0     65.0      18.0   \n",
       "1030789      37.0              114.0            90.0     87.0      13.0   \n",
       "687997       10.0               90.0            88.0     61.0       8.0   \n",
       "\n",
       "         Distance   Speed  TaxiIn  TaxiOut  CarrierDelay  WeatherDelay  \\\n",
       "143019        364  346.67    11.0     21.0          14.0           0.0   \n",
       "1886001       813  464.57    18.0     16.0           0.0           0.0   \n",
       "1881989       490  452.31     9.0     12.0           0.0           0.0   \n",
       "1030789       442  304.83     4.0     23.0          13.0           0.0   \n",
       "687997        382  375.74     7.0     22.0           0.0           0.0   \n",
       "\n",
       "         NASDelay  SecurityDelay  LateAircraftDelay  DepTime  CRSDepTime  \\\n",
       "143019        7.0            0.0                0.0   1711.0        1657   \n",
       "1886001      13.0            0.0               11.0   1100.0        1049   \n",
       "1881989       0.0            0.0                0.0    943.0         925   \n",
       "1030789      24.0            0.0                0.0   1908.0        1855   \n",
       "687997        0.0            0.0                0.0   1038.0        1030   \n",
       "\n",
       "         ArrTime  CRSArrTime  Month  DayofMonth  DayOfWeek UniqueCarrier  \\\n",
       "143019    1746.0        1725      1          18          5            9E   \n",
       "1886001   1419.0        1355     12           5          5            9E   \n",
       "1881989   1209.0        1207     12          22          1            9E   \n",
       "1030789   2102.0        2025      6          12          4            9E   \n",
       "687997    1208.0        1158      4           1          2            9E   \n",
       "\n",
       "        Origin Dest  Class  \n",
       "143019     DTW  EVV      1  \n",
       "1886001    AUS  ATL      1  \n",
       "1881989    RAP  MSP      1  \n",
       "1030789    MEM  MLI      1  \n",
       "687997     DTW  ROA      1  "
      ]
     },
     "execution_count": 5,
     "metadata": {},
     "output_type": "execute_result"
    }
   ],
   "source": [
    "data_sample.head()"
   ]
  },
  {
   "cell_type": "markdown",
   "id": "00f616b9",
   "metadata": {},
   "source": [
    "Now we will change the order of the columns: "
   ]
  },
  {
   "cell_type": "code",
   "execution_count": 7,
   "id": "dff820f1",
   "metadata": {
    "ExecuteTime": {
     "end_time": "2022-05-08T15:15:11.782544Z",
     "start_time": "2022-05-08T15:15:11.702224Z"
    }
   },
   "outputs": [
    {
     "data": {
      "text/html": [
       "<div>\n",
       "<style scoped>\n",
       "    .dataframe tbody tr th:only-of-type {\n",
       "        vertical-align: middle;\n",
       "    }\n",
       "\n",
       "    .dataframe tbody tr th {\n",
       "        vertical-align: top;\n",
       "    }\n",
       "\n",
       "    .dataframe thead th {\n",
       "        text-align: right;\n",
       "    }\n",
       "</style>\n",
       "<table border=\"1\" class=\"dataframe\">\n",
       "  <thead>\n",
       "    <tr style=\"text-align: right;\">\n",
       "      <th></th>\n",
       "      <th>Class</th>\n",
       "      <th>ArrDelay</th>\n",
       "      <th>ActualElapsedTime</th>\n",
       "      <th>CRSElapsedTime</th>\n",
       "      <th>AirTime</th>\n",
       "      <th>DepDelay</th>\n",
       "      <th>Distance</th>\n",
       "      <th>Speed</th>\n",
       "      <th>TaxiIn</th>\n",
       "      <th>TaxiOut</th>\n",
       "      <th>CarrierDelay</th>\n",
       "      <th>WeatherDelay</th>\n",
       "      <th>NASDelay</th>\n",
       "      <th>SecurityDelay</th>\n",
       "      <th>LateAircraftDelay</th>\n",
       "      <th>DepTime</th>\n",
       "      <th>CRSDepTime</th>\n",
       "      <th>ArrTime</th>\n",
       "      <th>CRSArrTime</th>\n",
       "      <th>Month</th>\n",
       "      <th>DayofMonth</th>\n",
       "      <th>DayOfWeek</th>\n",
       "      <th>UniqueCarrier</th>\n",
       "      <th>Origin</th>\n",
       "      <th>Dest</th>\n",
       "    </tr>\n",
       "  </thead>\n",
       "  <tbody>\n",
       "    <tr>\n",
       "      <th>143019</th>\n",
       "      <td>1</td>\n",
       "      <td>21.0</td>\n",
       "      <td>95.0</td>\n",
       "      <td>88.0</td>\n",
       "      <td>63.0</td>\n",
       "      <td>14.0</td>\n",
       "      <td>364</td>\n",
       "      <td>346.67</td>\n",
       "      <td>11.0</td>\n",
       "      <td>21.0</td>\n",
       "      <td>14.0</td>\n",
       "      <td>0.0</td>\n",
       "      <td>7.0</td>\n",
       "      <td>0.0</td>\n",
       "      <td>0.0</td>\n",
       "      <td>1711.0</td>\n",
       "      <td>1657</td>\n",
       "      <td>1746.0</td>\n",
       "      <td>1725</td>\n",
       "      <td>1</td>\n",
       "      <td>18</td>\n",
       "      <td>5</td>\n",
       "      <td>9E</td>\n",
       "      <td>DTW</td>\n",
       "      <td>EVV</td>\n",
       "    </tr>\n",
       "    <tr>\n",
       "      <th>1886001</th>\n",
       "      <td>1</td>\n",
       "      <td>24.0</td>\n",
       "      <td>139.0</td>\n",
       "      <td>126.0</td>\n",
       "      <td>105.0</td>\n",
       "      <td>11.0</td>\n",
       "      <td>813</td>\n",
       "      <td>464.57</td>\n",
       "      <td>18.0</td>\n",
       "      <td>16.0</td>\n",
       "      <td>0.0</td>\n",
       "      <td>0.0</td>\n",
       "      <td>13.0</td>\n",
       "      <td>0.0</td>\n",
       "      <td>11.0</td>\n",
       "      <td>1100.0</td>\n",
       "      <td>1049</td>\n",
       "      <td>1419.0</td>\n",
       "      <td>1355</td>\n",
       "      <td>12</td>\n",
       "      <td>5</td>\n",
       "      <td>5</td>\n",
       "      <td>9E</td>\n",
       "      <td>AUS</td>\n",
       "      <td>ATL</td>\n",
       "    </tr>\n",
       "    <tr>\n",
       "      <th>1881989</th>\n",
       "      <td>1</td>\n",
       "      <td>2.0</td>\n",
       "      <td>86.0</td>\n",
       "      <td>102.0</td>\n",
       "      <td>65.0</td>\n",
       "      <td>18.0</td>\n",
       "      <td>490</td>\n",
       "      <td>452.31</td>\n",
       "      <td>9.0</td>\n",
       "      <td>12.0</td>\n",
       "      <td>0.0</td>\n",
       "      <td>0.0</td>\n",
       "      <td>0.0</td>\n",
       "      <td>0.0</td>\n",
       "      <td>0.0</td>\n",
       "      <td>943.0</td>\n",
       "      <td>925</td>\n",
       "      <td>1209.0</td>\n",
       "      <td>1207</td>\n",
       "      <td>12</td>\n",
       "      <td>22</td>\n",
       "      <td>1</td>\n",
       "      <td>9E</td>\n",
       "      <td>RAP</td>\n",
       "      <td>MSP</td>\n",
       "    </tr>\n",
       "    <tr>\n",
       "      <th>1030789</th>\n",
       "      <td>1</td>\n",
       "      <td>37.0</td>\n",
       "      <td>114.0</td>\n",
       "      <td>90.0</td>\n",
       "      <td>87.0</td>\n",
       "      <td>13.0</td>\n",
       "      <td>442</td>\n",
       "      <td>304.83</td>\n",
       "      <td>4.0</td>\n",
       "      <td>23.0</td>\n",
       "      <td>13.0</td>\n",
       "      <td>0.0</td>\n",
       "      <td>24.0</td>\n",
       "      <td>0.0</td>\n",
       "      <td>0.0</td>\n",
       "      <td>1908.0</td>\n",
       "      <td>1855</td>\n",
       "      <td>2102.0</td>\n",
       "      <td>2025</td>\n",
       "      <td>6</td>\n",
       "      <td>12</td>\n",
       "      <td>4</td>\n",
       "      <td>9E</td>\n",
       "      <td>MEM</td>\n",
       "      <td>MLI</td>\n",
       "    </tr>\n",
       "    <tr>\n",
       "      <th>687997</th>\n",
       "      <td>1</td>\n",
       "      <td>10.0</td>\n",
       "      <td>90.0</td>\n",
       "      <td>88.0</td>\n",
       "      <td>61.0</td>\n",
       "      <td>8.0</td>\n",
       "      <td>382</td>\n",
       "      <td>375.74</td>\n",
       "      <td>7.0</td>\n",
       "      <td>22.0</td>\n",
       "      <td>0.0</td>\n",
       "      <td>0.0</td>\n",
       "      <td>0.0</td>\n",
       "      <td>0.0</td>\n",
       "      <td>0.0</td>\n",
       "      <td>1038.0</td>\n",
       "      <td>1030</td>\n",
       "      <td>1208.0</td>\n",
       "      <td>1158</td>\n",
       "      <td>4</td>\n",
       "      <td>1</td>\n",
       "      <td>2</td>\n",
       "      <td>9E</td>\n",
       "      <td>DTW</td>\n",
       "      <td>ROA</td>\n",
       "    </tr>\n",
       "  </tbody>\n",
       "</table>\n",
       "</div>"
      ],
      "text/plain": [
       "         Class  ArrDelay  ActualElapsedTime  CRSElapsedTime  AirTime  \\\n",
       "143019       1      21.0               95.0            88.0     63.0   \n",
       "1886001      1      24.0              139.0           126.0    105.0   \n",
       "1881989      1       2.0               86.0           102.0     65.0   \n",
       "1030789      1      37.0              114.0            90.0     87.0   \n",
       "687997       1      10.0               90.0            88.0     61.0   \n",
       "\n",
       "         DepDelay  Distance   Speed  TaxiIn  TaxiOut  CarrierDelay  \\\n",
       "143019       14.0       364  346.67    11.0     21.0          14.0   \n",
       "1886001      11.0       813  464.57    18.0     16.0           0.0   \n",
       "1881989      18.0       490  452.31     9.0     12.0           0.0   \n",
       "1030789      13.0       442  304.83     4.0     23.0          13.0   \n",
       "687997        8.0       382  375.74     7.0     22.0           0.0   \n",
       "\n",
       "         WeatherDelay  NASDelay  SecurityDelay  LateAircraftDelay  DepTime  \\\n",
       "143019            0.0       7.0            0.0                0.0   1711.0   \n",
       "1886001           0.0      13.0            0.0               11.0   1100.0   \n",
       "1881989           0.0       0.0            0.0                0.0    943.0   \n",
       "1030789           0.0      24.0            0.0                0.0   1908.0   \n",
       "687997            0.0       0.0            0.0                0.0   1038.0   \n",
       "\n",
       "         CRSDepTime  ArrTime  CRSArrTime  Month  DayofMonth  DayOfWeek  \\\n",
       "143019         1657   1746.0        1725      1          18          5   \n",
       "1886001        1049   1419.0        1355     12           5          5   \n",
       "1881989         925   1209.0        1207     12          22          1   \n",
       "1030789        1855   2102.0        2025      6          12          4   \n",
       "687997         1030   1208.0        1158      4           1          2   \n",
       "\n",
       "        UniqueCarrier Origin Dest  \n",
       "143019             9E    DTW  EVV  \n",
       "1886001            9E    AUS  ATL  \n",
       "1881989            9E    RAP  MSP  \n",
       "1030789            9E    MEM  MLI  \n",
       "687997             9E    DTW  ROA  "
      ]
     },
     "execution_count": 7,
     "metadata": {},
     "output_type": "execute_result"
    }
   ],
   "source": [
    "# choose the order we want \n",
    "cols = ['Class','ArrDelay', 'ActualElapsedTime', 'CRSElapsedTime', 'AirTime',\n",
    "       'DepDelay', 'Distance', 'Speed', 'TaxiIn', 'TaxiOut', 'CarrierDelay',\n",
    "       'WeatherDelay', 'NASDelay', 'SecurityDelay', 'LateAircraftDelay',\n",
    "       'DepTime', 'CRSDepTime', 'ArrTime', 'CRSArrTime', 'Month', 'DayofMonth',\n",
    "       'DayOfWeek', 'UniqueCarrier', 'Origin', 'Dest']\n",
    "data_sample = data_sample[cols]\n",
    "data_sample.head()"
   ]
  },
  {
   "cell_type": "code",
   "execution_count": 8,
   "id": "f373eb50",
   "metadata": {
    "ExecuteTime": {
     "end_time": "2022-05-08T15:16:03.889789Z",
     "start_time": "2022-05-08T15:16:03.880756Z"
    }
   },
   "outputs": [
    {
     "data": {
      "text/plain": [
       "(192825, 25)"
      ]
     },
     "execution_count": 8,
     "metadata": {},
     "output_type": "execute_result"
    }
   ],
   "source": [
    "data_sample.shape"
   ]
  },
  {
   "cell_type": "code",
   "execution_count": 9,
   "id": "67778518",
   "metadata": {
    "ExecuteTime": {
     "end_time": "2022-05-06T07:21:02.578481Z",
     "start_time": "2022-05-06T07:21:02.478032Z"
    }
   },
   "outputs": [
    {
     "name": "stdout",
     "output_type": "stream",
     "text": [
      "<class 'pandas.core.frame.DataFrame'>\n",
      "Int64Index: 192825 entries, 143019 to 1544585\n",
      "Data columns (total 25 columns):\n",
      " #   Column             Non-Null Count   Dtype  \n",
      "---  ------             --------------   -----  \n",
      " 0   Class              192825 non-null  int64  \n",
      " 1   ArrDelay           192825 non-null  float64\n",
      " 2   ActualElapsedTime  192825 non-null  float64\n",
      " 3   CRSElapsedTime     192825 non-null  float64\n",
      " 4   AirTime            192825 non-null  float64\n",
      " 5   DepDelay           192825 non-null  float64\n",
      " 6   Distance           192825 non-null  int64  \n",
      " 7   Speed              192825 non-null  float64\n",
      " 8   TaxiIn             192825 non-null  float64\n",
      " 9   TaxiOut            192825 non-null  float64\n",
      " 10  CarrierDelay       192825 non-null  float64\n",
      " 11  WeatherDelay       192825 non-null  float64\n",
      " 12  NASDelay           192825 non-null  float64\n",
      " 13  SecurityDelay      192825 non-null  float64\n",
      " 14  LateAircraftDelay  192825 non-null  float64\n",
      " 15  DepTime            192825 non-null  float64\n",
      " 16  CRSDepTime         192825 non-null  int64  \n",
      " 17  ArrTime            192825 non-null  float64\n",
      " 18  CRSArrTime         192825 non-null  int64  \n",
      " 19  Month              192825 non-null  int64  \n",
      " 20  DayofMonth         192825 non-null  int64  \n",
      " 21  DayOfWeek          192825 non-null  int64  \n",
      " 22  UniqueCarrier      192825 non-null  object \n",
      " 23  Origin             192825 non-null  object \n",
      " 24  Dest               192825 non-null  object \n",
      "dtypes: float64(15), int64(7), object(3)\n",
      "memory usage: 38.2+ MB\n"
     ]
    }
   ],
   "source": [
    "data_sample.info()"
   ]
  },
  {
   "cell_type": "code",
   "execution_count": 9,
   "id": "4c10da80",
   "metadata": {
    "ExecuteTime": {
     "end_time": "2022-05-08T15:16:30.461059Z",
     "start_time": "2022-05-08T15:16:30.429021Z"
    }
   },
   "outputs": [],
   "source": [
    "# now we can drop 'ArrDelay' column: \n",
    "data_sample.drop('ArrDelay', axis = 1, inplace= True)"
   ]
  },
  {
   "cell_type": "markdown",
   "id": "43506e4d",
   "metadata": {},
   "source": [
    "Now I will generate the dummy column for the categorical variables. In last exercise we saw that categorical features are not so important for the predicitions of our models, so I will only leave one categorical feature : CarrierDelay. I will drop Origin and Dest since they generate a lot of columns and are not so useful for doing the predictions.\n",
    "\n",
    "+ We have a column that measures the Distance of the flight, so we will drop 'Origin' and 'Dest' columns.\n",
    "+ The average time of delay varies widely depending on the Carrier (we saw that in our Exploratory Analysis in previous exercise), so we will keep this column. "
   ]
  },
  {
   "cell_type": "code",
   "execution_count": 10,
   "id": "dbd2bf64",
   "metadata": {
    "ExecuteTime": {
     "end_time": "2022-05-08T15:16:33.541383Z",
     "start_time": "2022-05-08T15:16:33.514467Z"
    }
   },
   "outputs": [],
   "source": [
    " data_sample.drop(['Origin', 'Dest'], axis = 1, inplace= True )"
   ]
  },
  {
   "cell_type": "code",
   "execution_count": 11,
   "id": "b99658ec",
   "metadata": {
    "ExecuteTime": {
     "end_time": "2022-05-08T15:16:39.006328Z",
     "start_time": "2022-05-08T15:16:38.974573Z"
    }
   },
   "outputs": [
    {
     "data": {
      "text/html": [
       "<div>\n",
       "<style scoped>\n",
       "    .dataframe tbody tr th:only-of-type {\n",
       "        vertical-align: middle;\n",
       "    }\n",
       "\n",
       "    .dataframe tbody tr th {\n",
       "        vertical-align: top;\n",
       "    }\n",
       "\n",
       "    .dataframe thead th {\n",
       "        text-align: right;\n",
       "    }\n",
       "</style>\n",
       "<table border=\"1\" class=\"dataframe\">\n",
       "  <thead>\n",
       "    <tr style=\"text-align: right;\">\n",
       "      <th></th>\n",
       "      <th>Class</th>\n",
       "      <th>ActualElapsedTime</th>\n",
       "      <th>CRSElapsedTime</th>\n",
       "      <th>AirTime</th>\n",
       "      <th>DepDelay</th>\n",
       "      <th>Distance</th>\n",
       "      <th>Speed</th>\n",
       "      <th>TaxiIn</th>\n",
       "      <th>TaxiOut</th>\n",
       "      <th>CarrierDelay</th>\n",
       "      <th>WeatherDelay</th>\n",
       "      <th>NASDelay</th>\n",
       "      <th>SecurityDelay</th>\n",
       "      <th>LateAircraftDelay</th>\n",
       "      <th>DepTime</th>\n",
       "      <th>CRSDepTime</th>\n",
       "      <th>ArrTime</th>\n",
       "      <th>CRSArrTime</th>\n",
       "      <th>Month</th>\n",
       "      <th>DayofMonth</th>\n",
       "      <th>DayOfWeek</th>\n",
       "      <th>UniqueCarrier</th>\n",
       "    </tr>\n",
       "  </thead>\n",
       "  <tbody>\n",
       "    <tr>\n",
       "      <th>143019</th>\n",
       "      <td>1</td>\n",
       "      <td>95.0</td>\n",
       "      <td>88.0</td>\n",
       "      <td>63.0</td>\n",
       "      <td>14.0</td>\n",
       "      <td>364</td>\n",
       "      <td>346.67</td>\n",
       "      <td>11.0</td>\n",
       "      <td>21.0</td>\n",
       "      <td>14.0</td>\n",
       "      <td>0.0</td>\n",
       "      <td>7.0</td>\n",
       "      <td>0.0</td>\n",
       "      <td>0.0</td>\n",
       "      <td>1711.0</td>\n",
       "      <td>1657</td>\n",
       "      <td>1746.0</td>\n",
       "      <td>1725</td>\n",
       "      <td>1</td>\n",
       "      <td>18</td>\n",
       "      <td>5</td>\n",
       "      <td>9E</td>\n",
       "    </tr>\n",
       "    <tr>\n",
       "      <th>1886001</th>\n",
       "      <td>1</td>\n",
       "      <td>139.0</td>\n",
       "      <td>126.0</td>\n",
       "      <td>105.0</td>\n",
       "      <td>11.0</td>\n",
       "      <td>813</td>\n",
       "      <td>464.57</td>\n",
       "      <td>18.0</td>\n",
       "      <td>16.0</td>\n",
       "      <td>0.0</td>\n",
       "      <td>0.0</td>\n",
       "      <td>13.0</td>\n",
       "      <td>0.0</td>\n",
       "      <td>11.0</td>\n",
       "      <td>1100.0</td>\n",
       "      <td>1049</td>\n",
       "      <td>1419.0</td>\n",
       "      <td>1355</td>\n",
       "      <td>12</td>\n",
       "      <td>5</td>\n",
       "      <td>5</td>\n",
       "      <td>9E</td>\n",
       "    </tr>\n",
       "    <tr>\n",
       "      <th>1881989</th>\n",
       "      <td>1</td>\n",
       "      <td>86.0</td>\n",
       "      <td>102.0</td>\n",
       "      <td>65.0</td>\n",
       "      <td>18.0</td>\n",
       "      <td>490</td>\n",
       "      <td>452.31</td>\n",
       "      <td>9.0</td>\n",
       "      <td>12.0</td>\n",
       "      <td>0.0</td>\n",
       "      <td>0.0</td>\n",
       "      <td>0.0</td>\n",
       "      <td>0.0</td>\n",
       "      <td>0.0</td>\n",
       "      <td>943.0</td>\n",
       "      <td>925</td>\n",
       "      <td>1209.0</td>\n",
       "      <td>1207</td>\n",
       "      <td>12</td>\n",
       "      <td>22</td>\n",
       "      <td>1</td>\n",
       "      <td>9E</td>\n",
       "    </tr>\n",
       "    <tr>\n",
       "      <th>1030789</th>\n",
       "      <td>1</td>\n",
       "      <td>114.0</td>\n",
       "      <td>90.0</td>\n",
       "      <td>87.0</td>\n",
       "      <td>13.0</td>\n",
       "      <td>442</td>\n",
       "      <td>304.83</td>\n",
       "      <td>4.0</td>\n",
       "      <td>23.0</td>\n",
       "      <td>13.0</td>\n",
       "      <td>0.0</td>\n",
       "      <td>24.0</td>\n",
       "      <td>0.0</td>\n",
       "      <td>0.0</td>\n",
       "      <td>1908.0</td>\n",
       "      <td>1855</td>\n",
       "      <td>2102.0</td>\n",
       "      <td>2025</td>\n",
       "      <td>6</td>\n",
       "      <td>12</td>\n",
       "      <td>4</td>\n",
       "      <td>9E</td>\n",
       "    </tr>\n",
       "    <tr>\n",
       "      <th>687997</th>\n",
       "      <td>1</td>\n",
       "      <td>90.0</td>\n",
       "      <td>88.0</td>\n",
       "      <td>61.0</td>\n",
       "      <td>8.0</td>\n",
       "      <td>382</td>\n",
       "      <td>375.74</td>\n",
       "      <td>7.0</td>\n",
       "      <td>22.0</td>\n",
       "      <td>0.0</td>\n",
       "      <td>0.0</td>\n",
       "      <td>0.0</td>\n",
       "      <td>0.0</td>\n",
       "      <td>0.0</td>\n",
       "      <td>1038.0</td>\n",
       "      <td>1030</td>\n",
       "      <td>1208.0</td>\n",
       "      <td>1158</td>\n",
       "      <td>4</td>\n",
       "      <td>1</td>\n",
       "      <td>2</td>\n",
       "      <td>9E</td>\n",
       "    </tr>\n",
       "  </tbody>\n",
       "</table>\n",
       "</div>"
      ],
      "text/plain": [
       "         Class  ActualElapsedTime  CRSElapsedTime  AirTime  DepDelay  \\\n",
       "143019       1               95.0            88.0     63.0      14.0   \n",
       "1886001      1              139.0           126.0    105.0      11.0   \n",
       "1881989      1               86.0           102.0     65.0      18.0   \n",
       "1030789      1              114.0            90.0     87.0      13.0   \n",
       "687997       1               90.0            88.0     61.0       8.0   \n",
       "\n",
       "         Distance   Speed  TaxiIn  TaxiOut  CarrierDelay  WeatherDelay  \\\n",
       "143019        364  346.67    11.0     21.0          14.0           0.0   \n",
       "1886001       813  464.57    18.0     16.0           0.0           0.0   \n",
       "1881989       490  452.31     9.0     12.0           0.0           0.0   \n",
       "1030789       442  304.83     4.0     23.0          13.0           0.0   \n",
       "687997        382  375.74     7.0     22.0           0.0           0.0   \n",
       "\n",
       "         NASDelay  SecurityDelay  LateAircraftDelay  DepTime  CRSDepTime  \\\n",
       "143019        7.0            0.0                0.0   1711.0        1657   \n",
       "1886001      13.0            0.0               11.0   1100.0        1049   \n",
       "1881989       0.0            0.0                0.0    943.0         925   \n",
       "1030789      24.0            0.0                0.0   1908.0        1855   \n",
       "687997        0.0            0.0                0.0   1038.0        1030   \n",
       "\n",
       "         ArrTime  CRSArrTime  Month  DayofMonth  DayOfWeek UniqueCarrier  \n",
       "143019    1746.0        1725      1          18          5            9E  \n",
       "1886001   1419.0        1355     12           5          5            9E  \n",
       "1881989   1209.0        1207     12          22          1            9E  \n",
       "1030789   2102.0        2025      6          12          4            9E  \n",
       "687997    1208.0        1158      4           1          2            9E  "
      ]
     },
     "execution_count": 11,
     "metadata": {},
     "output_type": "execute_result"
    }
   ],
   "source": [
    "# save this file for next exercise!!\n",
    "data_sample.head()"
   ]
  },
  {
   "cell_type": "code",
   "execution_count": 13,
   "id": "fa486818",
   "metadata": {
    "ExecuteTime": {
     "end_time": "2022-05-06T07:28:35.910489Z",
     "start_time": "2022-05-06T07:28:34.144921Z"
    }
   },
   "outputs": [],
   "source": [
    "# save this file to use in the second exercise \n",
    "# data_sample.to_csv('data_sample.csv', index = False)"
   ]
  },
  {
   "cell_type": "code",
   "execution_count": 12,
   "id": "9d007a7c",
   "metadata": {
    "ExecuteTime": {
     "end_time": "2022-05-08T15:16:46.426814Z",
     "start_time": "2022-05-08T15:16:46.350813Z"
    }
   },
   "outputs": [],
   "source": [
    "# generate dummy columns for UniqueCarrier \n",
    "# we´ll use the param drop first = True so we don t have duplicated information \n",
    "\n",
    "data_sample= pd.get_dummies(data = data_sample, columns = ['UniqueCarrier'], \n",
    "                            drop_first= True)"
   ]
  },
  {
   "cell_type": "code",
   "execution_count": 13,
   "id": "62d67114",
   "metadata": {
    "ExecuteTime": {
     "end_time": "2022-05-08T15:16:48.856923Z",
     "start_time": "2022-05-08T15:16:48.845238Z"
    }
   },
   "outputs": [
    {
     "data": {
      "text/plain": [
       "(192825, 40)"
      ]
     },
     "execution_count": 13,
     "metadata": {},
     "output_type": "execute_result"
    }
   ],
   "source": [
    "data_sample.shape"
   ]
  },
  {
   "cell_type": "markdown",
   "id": "411dca49",
   "metadata": {},
   "source": [
    "Like Regression models, classification models are also affected by multicollinearity. In this exercise we will eliminate the variables that are highly correlated between each other (we already did the multicollinearity analysis in the previous exercise, Sprint 9, we will use the same variables as in that exercise). "
   ]
  },
  {
   "cell_type": "code",
   "execution_count": 14,
   "id": "b52f00ae",
   "metadata": {
    "ExecuteTime": {
     "end_time": "2022-05-08T15:20:53.293764Z",
     "start_time": "2022-05-08T15:20:53.270829Z"
    }
   },
   "outputs": [],
   "source": [
    "data_cleaned = data_sample.copy()"
   ]
  },
  {
   "cell_type": "code",
   "execution_count": 15,
   "id": "a17668bf",
   "metadata": {
    "ExecuteTime": {
     "end_time": "2022-05-08T15:21:34.081393Z",
     "start_time": "2022-05-08T15:21:34.051195Z"
    }
   },
   "outputs": [
    {
     "data": {
      "text/plain": [
       "(192825, 31)"
      ]
     },
     "execution_count": 15,
     "metadata": {},
     "output_type": "execute_result"
    }
   ],
   "source": [
    "data_cleaned.drop(['ActualElapsedTime', 'TaxiIn', 'LateAircraftDelay', 'CRSElapsedTime', 'CRSDepTime', 'AirTime',\n",
    "                   'CRSArrTime', 'Speed', 'DepTime'], axis = 1, inplace = True)\n",
    "data_cleaned.shape"
   ]
  },
  {
   "cell_type": "code",
   "execution_count": 26,
   "id": "85629d1a",
   "metadata": {
    "ExecuteTime": {
     "end_time": "2022-05-05T07:06:36.646254Z",
     "start_time": "2022-05-05T07:06:36.628597Z"
    }
   },
   "outputs": [
    {
     "data": {
      "text/html": [
       "<div>\n",
       "<style scoped>\n",
       "    .dataframe tbody tr th:only-of-type {\n",
       "        vertical-align: middle;\n",
       "    }\n",
       "\n",
       "    .dataframe tbody tr th {\n",
       "        vertical-align: top;\n",
       "    }\n",
       "\n",
       "    .dataframe thead th {\n",
       "        text-align: right;\n",
       "    }\n",
       "</style>\n",
       "<table border=\"1\" class=\"dataframe\">\n",
       "  <thead>\n",
       "    <tr style=\"text-align: right;\">\n",
       "      <th></th>\n",
       "      <th>Class</th>\n",
       "      <th>DepDelay</th>\n",
       "      <th>Distance</th>\n",
       "      <th>TaxiOut</th>\n",
       "      <th>CarrierDelay</th>\n",
       "      <th>WeatherDelay</th>\n",
       "      <th>NASDelay</th>\n",
       "      <th>SecurityDelay</th>\n",
       "      <th>ArrTime</th>\n",
       "      <th>Month</th>\n",
       "      <th>DayofMonth</th>\n",
       "      <th>DayOfWeek</th>\n",
       "      <th>UniqueCarrier_AA</th>\n",
       "      <th>UniqueCarrier_AQ</th>\n",
       "      <th>UniqueCarrier_AS</th>\n",
       "      <th>UniqueCarrier_B6</th>\n",
       "      <th>UniqueCarrier_CO</th>\n",
       "      <th>UniqueCarrier_DL</th>\n",
       "      <th>UniqueCarrier_EV</th>\n",
       "      <th>UniqueCarrier_F9</th>\n",
       "      <th>UniqueCarrier_FL</th>\n",
       "      <th>UniqueCarrier_HA</th>\n",
       "      <th>UniqueCarrier_MQ</th>\n",
       "      <th>UniqueCarrier_NW</th>\n",
       "      <th>UniqueCarrier_OH</th>\n",
       "      <th>UniqueCarrier_OO</th>\n",
       "      <th>UniqueCarrier_UA</th>\n",
       "      <th>UniqueCarrier_US</th>\n",
       "      <th>UniqueCarrier_WN</th>\n",
       "      <th>UniqueCarrier_XE</th>\n",
       "      <th>UniqueCarrier_YV</th>\n",
       "    </tr>\n",
       "  </thead>\n",
       "  <tbody>\n",
       "    <tr>\n",
       "      <th>143019</th>\n",
       "      <td>1</td>\n",
       "      <td>14.0</td>\n",
       "      <td>364</td>\n",
       "      <td>21.0</td>\n",
       "      <td>14.0</td>\n",
       "      <td>0.0</td>\n",
       "      <td>7.0</td>\n",
       "      <td>0.0</td>\n",
       "      <td>1746.0</td>\n",
       "      <td>1</td>\n",
       "      <td>18</td>\n",
       "      <td>5</td>\n",
       "      <td>0</td>\n",
       "      <td>0</td>\n",
       "      <td>0</td>\n",
       "      <td>0</td>\n",
       "      <td>0</td>\n",
       "      <td>0</td>\n",
       "      <td>0</td>\n",
       "      <td>0</td>\n",
       "      <td>0</td>\n",
       "      <td>0</td>\n",
       "      <td>0</td>\n",
       "      <td>0</td>\n",
       "      <td>0</td>\n",
       "      <td>0</td>\n",
       "      <td>0</td>\n",
       "      <td>0</td>\n",
       "      <td>0</td>\n",
       "      <td>0</td>\n",
       "      <td>0</td>\n",
       "    </tr>\n",
       "    <tr>\n",
       "      <th>1886001</th>\n",
       "      <td>1</td>\n",
       "      <td>11.0</td>\n",
       "      <td>813</td>\n",
       "      <td>16.0</td>\n",
       "      <td>0.0</td>\n",
       "      <td>0.0</td>\n",
       "      <td>13.0</td>\n",
       "      <td>0.0</td>\n",
       "      <td>1419.0</td>\n",
       "      <td>12</td>\n",
       "      <td>5</td>\n",
       "      <td>5</td>\n",
       "      <td>0</td>\n",
       "      <td>0</td>\n",
       "      <td>0</td>\n",
       "      <td>0</td>\n",
       "      <td>0</td>\n",
       "      <td>0</td>\n",
       "      <td>0</td>\n",
       "      <td>0</td>\n",
       "      <td>0</td>\n",
       "      <td>0</td>\n",
       "      <td>0</td>\n",
       "      <td>0</td>\n",
       "      <td>0</td>\n",
       "      <td>0</td>\n",
       "      <td>0</td>\n",
       "      <td>0</td>\n",
       "      <td>0</td>\n",
       "      <td>0</td>\n",
       "      <td>0</td>\n",
       "    </tr>\n",
       "    <tr>\n",
       "      <th>1881989</th>\n",
       "      <td>1</td>\n",
       "      <td>18.0</td>\n",
       "      <td>490</td>\n",
       "      <td>12.0</td>\n",
       "      <td>0.0</td>\n",
       "      <td>0.0</td>\n",
       "      <td>0.0</td>\n",
       "      <td>0.0</td>\n",
       "      <td>1209.0</td>\n",
       "      <td>12</td>\n",
       "      <td>22</td>\n",
       "      <td>1</td>\n",
       "      <td>0</td>\n",
       "      <td>0</td>\n",
       "      <td>0</td>\n",
       "      <td>0</td>\n",
       "      <td>0</td>\n",
       "      <td>0</td>\n",
       "      <td>0</td>\n",
       "      <td>0</td>\n",
       "      <td>0</td>\n",
       "      <td>0</td>\n",
       "      <td>0</td>\n",
       "      <td>0</td>\n",
       "      <td>0</td>\n",
       "      <td>0</td>\n",
       "      <td>0</td>\n",
       "      <td>0</td>\n",
       "      <td>0</td>\n",
       "      <td>0</td>\n",
       "      <td>0</td>\n",
       "    </tr>\n",
       "    <tr>\n",
       "      <th>1030789</th>\n",
       "      <td>1</td>\n",
       "      <td>13.0</td>\n",
       "      <td>442</td>\n",
       "      <td>23.0</td>\n",
       "      <td>13.0</td>\n",
       "      <td>0.0</td>\n",
       "      <td>24.0</td>\n",
       "      <td>0.0</td>\n",
       "      <td>2102.0</td>\n",
       "      <td>6</td>\n",
       "      <td>12</td>\n",
       "      <td>4</td>\n",
       "      <td>0</td>\n",
       "      <td>0</td>\n",
       "      <td>0</td>\n",
       "      <td>0</td>\n",
       "      <td>0</td>\n",
       "      <td>0</td>\n",
       "      <td>0</td>\n",
       "      <td>0</td>\n",
       "      <td>0</td>\n",
       "      <td>0</td>\n",
       "      <td>0</td>\n",
       "      <td>0</td>\n",
       "      <td>0</td>\n",
       "      <td>0</td>\n",
       "      <td>0</td>\n",
       "      <td>0</td>\n",
       "      <td>0</td>\n",
       "      <td>0</td>\n",
       "      <td>0</td>\n",
       "    </tr>\n",
       "    <tr>\n",
       "      <th>687997</th>\n",
       "      <td>1</td>\n",
       "      <td>8.0</td>\n",
       "      <td>382</td>\n",
       "      <td>22.0</td>\n",
       "      <td>0.0</td>\n",
       "      <td>0.0</td>\n",
       "      <td>0.0</td>\n",
       "      <td>0.0</td>\n",
       "      <td>1208.0</td>\n",
       "      <td>4</td>\n",
       "      <td>1</td>\n",
       "      <td>2</td>\n",
       "      <td>0</td>\n",
       "      <td>0</td>\n",
       "      <td>0</td>\n",
       "      <td>0</td>\n",
       "      <td>0</td>\n",
       "      <td>0</td>\n",
       "      <td>0</td>\n",
       "      <td>0</td>\n",
       "      <td>0</td>\n",
       "      <td>0</td>\n",
       "      <td>0</td>\n",
       "      <td>0</td>\n",
       "      <td>0</td>\n",
       "      <td>0</td>\n",
       "      <td>0</td>\n",
       "      <td>0</td>\n",
       "      <td>0</td>\n",
       "      <td>0</td>\n",
       "      <td>0</td>\n",
       "    </tr>\n",
       "  </tbody>\n",
       "</table>\n",
       "</div>"
      ],
      "text/plain": [
       "         Class  DepDelay  Distance  TaxiOut  CarrierDelay  WeatherDelay  \\\n",
       "143019       1      14.0       364     21.0          14.0           0.0   \n",
       "1886001      1      11.0       813     16.0           0.0           0.0   \n",
       "1881989      1      18.0       490     12.0           0.0           0.0   \n",
       "1030789      1      13.0       442     23.0          13.0           0.0   \n",
       "687997       1       8.0       382     22.0           0.0           0.0   \n",
       "\n",
       "         NASDelay  SecurityDelay  ArrTime  Month  DayofMonth  DayOfWeek  \\\n",
       "143019        7.0            0.0   1746.0      1          18          5   \n",
       "1886001      13.0            0.0   1419.0     12           5          5   \n",
       "1881989       0.0            0.0   1209.0     12          22          1   \n",
       "1030789      24.0            0.0   2102.0      6          12          4   \n",
       "687997        0.0            0.0   1208.0      4           1          2   \n",
       "\n",
       "         UniqueCarrier_AA  UniqueCarrier_AQ  UniqueCarrier_AS  \\\n",
       "143019                  0                 0                 0   \n",
       "1886001                 0                 0                 0   \n",
       "1881989                 0                 0                 0   \n",
       "1030789                 0                 0                 0   \n",
       "687997                  0                 0                 0   \n",
       "\n",
       "         UniqueCarrier_B6  UniqueCarrier_CO  UniqueCarrier_DL  \\\n",
       "143019                  0                 0                 0   \n",
       "1886001                 0                 0                 0   \n",
       "1881989                 0                 0                 0   \n",
       "1030789                 0                 0                 0   \n",
       "687997                  0                 0                 0   \n",
       "\n",
       "         UniqueCarrier_EV  UniqueCarrier_F9  UniqueCarrier_FL  \\\n",
       "143019                  0                 0                 0   \n",
       "1886001                 0                 0                 0   \n",
       "1881989                 0                 0                 0   \n",
       "1030789                 0                 0                 0   \n",
       "687997                  0                 0                 0   \n",
       "\n",
       "         UniqueCarrier_HA  UniqueCarrier_MQ  UniqueCarrier_NW  \\\n",
       "143019                  0                 0                 0   \n",
       "1886001                 0                 0                 0   \n",
       "1881989                 0                 0                 0   \n",
       "1030789                 0                 0                 0   \n",
       "687997                  0                 0                 0   \n",
       "\n",
       "         UniqueCarrier_OH  UniqueCarrier_OO  UniqueCarrier_UA  \\\n",
       "143019                  0                 0                 0   \n",
       "1886001                 0                 0                 0   \n",
       "1881989                 0                 0                 0   \n",
       "1030789                 0                 0                 0   \n",
       "687997                  0                 0                 0   \n",
       "\n",
       "         UniqueCarrier_US  UniqueCarrier_WN  UniqueCarrier_XE  \\\n",
       "143019                  0                 0                 0   \n",
       "1886001                 0                 0                 0   \n",
       "1881989                 0                 0                 0   \n",
       "1030789                 0                 0                 0   \n",
       "687997                  0                 0                 0   \n",
       "\n",
       "         UniqueCarrier_YV  \n",
       "143019                  0  \n",
       "1886001                 0  \n",
       "1881989                 0  \n",
       "1030789                 0  \n",
       "687997                  0  "
      ]
     },
     "execution_count": 26,
     "metadata": {},
     "output_type": "execute_result"
    }
   ],
   "source": [
    "data_cleaned.head()"
   ]
  },
  {
   "cell_type": "markdown",
   "id": "0f0b1fb1",
   "metadata": {},
   "source": [
    "Now we can proceed with the exercise. "
   ]
  },
  {
   "cell_type": "markdown",
   "id": "cdc22b6f",
   "metadata": {},
   "source": [
    "#### Model 1: Logistic Regression"
   ]
  },
  {
   "cell_type": "markdown",
   "id": "084bb997",
   "metadata": {},
   "source": [
    "First, we will test a model of Logistic Regression with the data as we have it in this moment. "
   ]
  },
  {
   "cell_type": "code",
   "execution_count": 18,
   "id": "10dda953",
   "metadata": {
    "ExecuteTime": {
     "end_time": "2022-05-07T09:51:00.387108Z",
     "start_time": "2022-05-07T09:51:00.362936Z"
    }
   },
   "outputs": [],
   "source": [
    "# choose dependent and independent variables \n",
    "y = data_cleaned['Class']\n",
    "X = data_cleaned.drop(['Class'], axis = 1)"
   ]
  },
  {
   "cell_type": "code",
   "execution_count": 19,
   "id": "b74fe181",
   "metadata": {
    "ExecuteTime": {
     "end_time": "2022-05-07T09:51:03.524178Z",
     "start_time": "2022-05-07T09:51:03.506954Z"
    }
   },
   "outputs": [
    {
     "name": "stdout",
     "output_type": "stream",
     "text": [
      "data_cleaned.shape:  (192825, 31)\n",
      "y.shape:  (192825,)\n",
      "X.shape (192825, 30)\n"
     ]
    }
   ],
   "source": [
    "print('data_cleaned.shape: ', data_cleaned.shape)\n",
    "print('y.shape: ', y.shape)\n",
    "print('X.shape', X.shape)"
   ]
  },
  {
   "cell_type": "code",
   "execution_count": 20,
   "id": "81249c88",
   "metadata": {
    "ExecuteTime": {
     "end_time": "2022-05-07T09:51:06.360903Z",
     "start_time": "2022-05-07T09:51:06.280480Z"
    }
   },
   "outputs": [],
   "source": [
    "# test size 0.3\n",
    "X_train, X_test, y_train, y_test = train_test_split(X, y, test_size=0.3, random_state= 0)"
   ]
  },
  {
   "cell_type": "code",
   "execution_count": 30,
   "id": "e3f6e137",
   "metadata": {
    "ExecuteTime": {
     "end_time": "2022-05-06T07:32:16.969429Z",
     "start_time": "2022-05-06T07:32:16.955938Z"
    }
   },
   "outputs": [
    {
     "name": "stdout",
     "output_type": "stream",
     "text": [
      "X_train.shape:  (134977, 30)\n",
      "X_test.shape:  (57848, 30)\n",
      "y_train.shape:  (134977,)\n",
      "y_test.shape:  (57848,)\n"
     ]
    }
   ],
   "source": [
    "print('X_train.shape: ', X_train.shape)\n",
    "print('X_test.shape: ', X_test.shape)\n",
    "print('y_train.shape: ', y_train.shape)\n",
    "print('y_test.shape: ', y_test.shape)"
   ]
  },
  {
   "cell_type": "code",
   "execution_count": 31,
   "id": "0d9d0293",
   "metadata": {
    "ExecuteTime": {
     "end_time": "2022-05-06T07:32:25.276021Z",
     "start_time": "2022-05-06T07:32:23.248612Z"
    }
   },
   "outputs": [
    {
     "data": {
      "text/plain": [
       "LogisticRegression(random_state=12)"
      ]
     },
     "execution_count": 31,
     "metadata": {},
     "output_type": "execute_result"
    }
   ],
   "source": [
    "from sklearn.linear_model import LogisticRegression\n",
    "# USE RANDOM STATE\n",
    "lr = LogisticRegression(random_state=12)\n",
    "lr.fit(X_train, y_train)"
   ]
  },
  {
   "cell_type": "code",
   "execution_count": 32,
   "id": "7dfe7246",
   "metadata": {
    "ExecuteTime": {
     "end_time": "2022-05-06T07:32:31.435902Z",
     "start_time": "2022-05-06T07:32:31.421974Z"
    }
   },
   "outputs": [],
   "source": [
    "# predictions on test set: \n",
    "lr_pred = lr.predict(X_test)"
   ]
  },
  {
   "cell_type": "markdown",
   "id": "dee4546d",
   "metadata": {
    "ExecuteTime": {
     "end_time": "2022-05-06T07:33:02.504650Z",
     "start_time": "2022-05-06T07:33:02.475443Z"
    }
   },
   "source": [
    "Now let´s check how the confusion matrix looks like: "
   ]
  },
  {
   "cell_type": "code",
   "execution_count": 34,
   "id": "9155cb75",
   "metadata": {
    "ExecuteTime": {
     "end_time": "2022-05-06T07:39:13.904105Z",
     "start_time": "2022-05-06T07:39:13.882722Z"
    }
   },
   "outputs": [
    {
     "data": {
      "text/plain": [
       "array([[ 1595,  4382],\n",
       "       [ 1061, 50810]], dtype=int64)"
      ]
     },
     "execution_count": 34,
     "metadata": {},
     "output_type": "execute_result"
    }
   ],
   "source": [
    "cm_lr = confusion_matrix(y_test, lr_pred)\n",
    "cm_lr"
   ]
  },
  {
   "cell_type": "code",
   "execution_count": 41,
   "id": "52227f64",
   "metadata": {
    "ExecuteTime": {
     "end_time": "2022-05-06T07:51:32.564662Z",
     "start_time": "2022-05-06T07:51:32.554628Z"
    }
   },
   "outputs": [],
   "source": [
    "# create a function that prints results: \n",
    "def print_confusion_matrix(y_true, y_pred):\n",
    "    cm = confusion_matrix(y_true, y_pred)\n",
    "    TP = cm[1][1]\n",
    "    FP = cm[0][1]\n",
    "    TN = cm[0][0]\n",
    "    FN = cm[1][0]\n",
    "    \n",
    "    print('True positive = ', TP )\n",
    "    print('False positive = ', FP )\n",
    "    print('True negative = ', TN )\n",
    "    print('False negative = ', FN )  \n",
    "    \n",
    "# create function to show results \n",
    "def cm_results(y_true,y_pred): \n",
    "    cm = confusion_matrix(y_true, y_pred)\n",
    "    TP = cm[1][1]\n",
    "    FP = cm[0][1]\n",
    "    TN = cm[0][0]\n",
    "    FN = cm[1][0]\n",
    "    \n",
    "    return TP, FP, TN, FN \n",
    "    "
   ]
  },
  {
   "cell_type": "code",
   "execution_count": 42,
   "id": "760838fc",
   "metadata": {
    "ExecuteTime": {
     "end_time": "2022-05-06T07:51:34.632717Z",
     "start_time": "2022-05-06T07:51:34.615001Z"
    }
   },
   "outputs": [
    {
     "name": "stdout",
     "output_type": "stream",
     "text": [
      "True positive =  50810\n",
      "False positive =  4382\n",
      "True negative =  1595\n",
      "False negative =  1061\n"
     ]
    }
   ],
   "source": [
    "print_confusion_matrix(y_test, lr_pred)"
   ]
  },
  {
   "cell_type": "markdown",
   "id": "436daa82",
   "metadata": {},
   "source": [
    "We have 52405 correct results and 5443 wrong results. "
   ]
  },
  {
   "cell_type": "markdown",
   "id": "b247470c",
   "metadata": {},
   "source": [
    "Once we have the confusion matrix we can calculate some of the most important metrics used to evaluate Classification methods: accuracy, precision, recall and f1-score. "
   ]
  },
  {
   "cell_type": "code",
   "execution_count": 46,
   "id": "81efba0a",
   "metadata": {
    "ExecuteTime": {
     "end_time": "2022-05-06T08:10:30.969641Z",
     "start_time": "2022-05-06T08:10:30.927163Z"
    }
   },
   "outputs": [
    {
     "name": "stdout",
     "output_type": "stream",
     "text": [
      "accuracy:  0.9059085880237865\n",
      "precision:  0.920604435425424\n",
      "recall:  0.979545410730466\n",
      "f1-score:  0.9491607744972586\n"
     ]
    }
   ],
   "source": [
    "TP , FP, TN, FN = (cm_results(y_test, lr_pred)[0], cm_results(y_test, lr_pred)[1], cm_results(y_test, lr_pred)[2], \n",
    "                   cm_results(y_test, lr_pred)[3])\n",
    "# calculate accuracy \n",
    "accuracy = (TP+TN)/(TP+FP+FN+TN)\n",
    "# precision \n",
    "precision = TP/(TP+FP)\n",
    "# recall (or sensitivity)\n",
    "recall = TP/(TP+FN)\n",
    "# f1 score \n",
    "f1_score = 2*(recall * precision) / (recall + precision)\n",
    "\n",
    "print('accuracy: ', accuracy)\n",
    "print('precision: ', precision)\n",
    "print('recall: ', recall)\n",
    "print('f1-score: ', f1_score)"
   ]
  },
  {
   "cell_type": "markdown",
   "id": "a68c98f2",
   "metadata": {},
   "source": [
    "+ The metrics look good but it's not that simple. We see that in the confusion matrix the number of False Positives is higher than the number of True Negatives, which means that from Class 0 (on-time flights) we are getting more than half of the predictions wrong (in our model, much more than 50% (4382 False Positives against 1595 True Negatives).\n",
    "\n",
    "\n",
    "+ Furthermore, we must take into account that if we were to build a model that always predicts Class 1 (Flights on Delay), the metrics would also be high (apparently good).\n",
    "\n",
    "\n",
    "\n",
    "Let's check this out, we are going to generate a model that always predicts 1 (majority Class): "
   ]
  },
  {
   "cell_type": "code",
   "execution_count": 47,
   "id": "8c2496a9",
   "metadata": {
    "ExecuteTime": {
     "end_time": "2022-05-06T08:14:59.011929Z",
     "start_time": "2022-05-06T08:14:59.001102Z"
    }
   },
   "outputs": [
    {
     "data": {
      "text/plain": [
       "1    51871\n",
       "0     5977\n",
       "Name: Class, dtype: int64"
      ]
     },
     "execution_count": 47,
     "metadata": {},
     "output_type": "execute_result"
    }
   ],
   "source": [
    "y_test.value_counts()"
   ]
  },
  {
   "cell_type": "markdown",
   "id": "b960d250",
   "metadata": {},
   "source": [
    "In our 'Blind Model', the predictions will always be 1 : "
   ]
  },
  {
   "cell_type": "code",
   "execution_count": 50,
   "id": "d0c056b9",
   "metadata": {
    "ExecuteTime": {
     "end_time": "2022-05-06T08:19:32.726861Z",
     "start_time": "2022-05-06T08:19:32.722875Z"
    }
   },
   "outputs": [],
   "source": [
    "# generate a result of only 1 (predicting the majority class): \n",
    "y_blind_predictor = np.ones(len(y_test))"
   ]
  },
  {
   "cell_type": "code",
   "execution_count": 51,
   "id": "3888715e",
   "metadata": {
    "ExecuteTime": {
     "end_time": "2022-05-06T08:20:20.063062Z",
     "start_time": "2022-05-06T08:20:20.037403Z"
    }
   },
   "outputs": [
    {
     "data": {
      "text/plain": [
       "array([[    0,  5977],\n",
       "       [    0, 51871]], dtype=int64)"
      ]
     },
     "execution_count": 51,
     "metadata": {},
     "output_type": "execute_result"
    }
   ],
   "source": [
    "# lets check confsusion matrix of this 'blind model': \n",
    "cm_blind = confusion_matrix(y_test, y_blind_predictor)\n",
    "cm_blind"
   ]
  },
  {
   "cell_type": "code",
   "execution_count": 52,
   "id": "94e7c7e5",
   "metadata": {
    "ExecuteTime": {
     "end_time": "2022-05-06T08:21:06.768986Z",
     "start_time": "2022-05-06T08:21:06.741234Z"
    }
   },
   "outputs": [
    {
     "name": "stdout",
     "output_type": "stream",
     "text": [
      "True positive =  51871\n",
      "False positive =  5977\n",
      "True negative =  0\n",
      "False negative =  0\n"
     ]
    }
   ],
   "source": [
    "print_confusion_matrix(y_test, y_blind_predictor)"
   ]
  },
  {
   "cell_type": "code",
   "execution_count": 54,
   "id": "0e128d10",
   "metadata": {
    "ExecuteTime": {
     "end_time": "2022-05-06T08:23:02.500279Z",
     "start_time": "2022-05-06T08:23:02.447809Z"
    }
   },
   "outputs": [
    {
     "name": "stdout",
     "output_type": "stream",
     "text": [
      "accuracy:  0.8966774996542664\n",
      "precision:  0.8966774996542664\n",
      "recall:  1.0\n",
      "f1-score:  0.9455244761618316\n"
     ]
    }
   ],
   "source": [
    "# check results \n",
    "TP , FP, TN, FN = (cm_results(y_test, y_blind_predictor)[0], cm_results(y_test, y_blind_predictor)[1], \n",
    "                   cm_results(y_test, y_blind_predictor)[2], cm_results(y_test, y_blind_predictor)[3])\n",
    "\n",
    "accuracy = (TP+TN)/(TP+FP+FN+TN)\n",
    "# precision \n",
    "precision = TP/(TP+FP)\n",
    "# recall (or sensitivity)\n",
    "recall = TP/(TP+FN)\n",
    "# f1 score \n",
    "f1_score = 2*(recall * precision) / (recall + precision)\n",
    "\n",
    "print('accuracy: ', accuracy)\n",
    "print('precision: ', precision)\n",
    "print('recall: ', recall)\n",
    "print('f1-score: ', f1_score)"
   ]
  },
  {
   "cell_type": "markdown",
   "id": "a1fb84d2",
   "metadata": {},
   "source": [
    "+ Looking at this it seems that there is not much difference with the previous model and in reality what we are doing is saying all the time that the flight will be delayed. \n",
    "+ What is happening is that the classes we want to predict are not balanced, so in our case we would like to find a model that is well balanced. \n",
    "+ To do this, we can look for a model that has a balance between false positives and false negatives (balance between Type I error and Type II error). \n",
    "+ In our Logistic Regression model we see that the value of False Positives is very high (Type I error) and we would like to improve this (we can try to increase the precision). \n",
    "+ Although the f1 score is like a weighted metric between recall and precision and can allow us to compare different models, we need to take into account more general factors to evaluate our model for the type of data we have (we see that in our blind model the f1 score is 0.945 and we are not really predicting anything!!!). "
   ]
  },
  {
   "cell_type": "markdown",
   "id": "e3876f15",
   "metadata": {},
   "source": [
    "#### Generating metrics with sklearn "
   ]
  },
  {
   "cell_type": "markdown",
   "id": "0b3eb8bf",
   "metadata": {
    "ExecuteTime": {
     "end_time": "2022-05-06T08:35:54.702573Z",
     "start_time": "2022-05-06T08:35:54.684049Z"
    }
   },
   "source": [
    "We have done the calculations by hand to better understand how the metrics work but sklearn does it for us: "
   ]
  },
  {
   "cell_type": "code",
   "execution_count": 33,
   "id": "5599cc05",
   "metadata": {
    "ExecuteTime": {
     "end_time": "2022-05-05T07:07:07.760148Z",
     "start_time": "2022-05-05T07:07:07.748124Z"
    }
   },
   "outputs": [],
   "source": [
    "# generate a function to print and get results \n",
    "\n",
    "# make a function to print different metrics \n",
    "def print_results(true, predicted): \n",
    "    accuracy = accuracy_score(true, predicted)\n",
    "    recall = recall_score(true, predicted)\n",
    "    precision = metrics.precision_score(true, predicted)\n",
    "    f1score = f1_score(true, predicted)\n",
    "    \n",
    "    \n",
    "    print('Accuracy : ', accuracy)\n",
    "    print('Recall (or sensitivity): ', recall)\n",
    "    print('Precision : ', precision)\n",
    "    print('F1 score: ', f1score)"
   ]
  },
  {
   "cell_type": "code",
   "execution_count": 34,
   "id": "b2bc5283",
   "metadata": {
    "ExecuteTime": {
     "end_time": "2022-05-05T07:07:09.630935Z",
     "start_time": "2022-05-05T07:07:09.612458Z"
    }
   },
   "outputs": [],
   "source": [
    "# make a function to store results to a dataframe \n",
    "def get_results(true, predicted): \n",
    "    accuracy = accuracy_score(true, predicted)\n",
    "    recall = recall_score(true, predicted)\n",
    "    precision = metrics.precision_score(true, predicted)\n",
    "    f1score = f1_score(true, predicted)\n",
    "    \n",
    "    return accuracy, recall, precision, f1score"
   ]
  },
  {
   "cell_type": "code",
   "execution_count": 40,
   "id": "bdf462c8",
   "metadata": {
    "ExecuteTime": {
     "end_time": "2022-05-04T14:10:40.785076Z",
     "start_time": "2022-05-04T14:10:40.706032Z"
    }
   },
   "outputs": [
    {
     "name": "stdout",
     "output_type": "stream",
     "text": [
      "Accuracy :  0.9059085880237865\n",
      "Recall (or sensitivity):  0.979545410730466\n",
      "Precision :  0.920604435425424\n",
      "F1 score:  0.9491607744972586\n"
     ]
    }
   ],
   "source": [
    "print_results(y_test, lr_pred)"
   ]
  },
  {
   "cell_type": "markdown",
   "id": "9d116cf5",
   "metadata": {},
   "source": [
    "The results are the same as those we have calculated ourselves. "
   ]
  },
  {
   "cell_type": "markdown",
   "id": "780e77b9",
   "metadata": {},
   "source": [
    "We can also draw the ROC/AUC curve and see its result. The ROC curve shows the trade-off between sensitivity/ recall (or TPR) and specificity (1 – FPR). The score is a value between 0.0 and 1.0 for a perfect classifier."
   ]
  },
  {
   "cell_type": "code",
   "execution_count": 43,
   "id": "5df22c8c",
   "metadata": {
    "ExecuteTime": {
     "end_time": "2022-05-04T14:10:41.066997Z",
     "start_time": "2022-05-04T14:10:40.827156Z"
    }
   },
   "outputs": [
    {
     "data": {
      "image/png": "[encoded data removed]",
      "text/plain": [
       "<Figure size 432x288 with 1 Axes>"
      ]
     },
     "metadata": {
      "needs_background": "light"
     },
     "output_type": "display_data"
    }
   ],
   "source": [
    "# let's draw our roc/auc curve\n",
    "lr_pred_proba = lr.predict_proba(X_test)[:,1]\n",
    "fpr, tpr, _ = metrics.roc_curve(y_test,  lr_pred_proba)\n",
    "auc_lr = metrics.roc_auc_score(y_test, lr_pred_proba)\n",
    "plt.plot(fpr,tpr,label=\"Logistic Regression, auc=\"+str(round(auc_lr, 4)))\n",
    "plt.plot([0, 1], [0, 1], linestyle='--')\n",
    "plt.xlabel('False Positive Rate (1 - Specificity)')\n",
    "plt.ylabel('True Positive Rate (Sensitivity)')\n",
    "plt.grid(True)\n",
    "plt.legend(loc=4)\n",
    "plt.title('ROC/AUC curve Logistic Regression '); "
   ]
  },
  {
   "cell_type": "markdown",
   "id": "b6b0e3a3",
   "metadata": {},
   "source": [
    "In our curve we see that the result is not perfect (it does not cover the whole area) but it is a better result than in our blind model (roc auc score is 0.926). "
   ]
  },
  {
   "cell_type": "code",
   "execution_count": 44,
   "id": "e6b47517",
   "metadata": {
    "ExecuteTime": {
     "end_time": "2022-05-04T14:10:41.251696Z",
     "start_time": "2022-05-04T14:10:41.068982Z"
    }
   },
   "outputs": [
    {
     "data": {
      "text/html": [
       "<div>\n",
       "<style scoped>\n",
       "    .dataframe tbody tr th:only-of-type {\n",
       "        vertical-align: middle;\n",
       "    }\n",
       "\n",
       "    .dataframe tbody tr th {\n",
       "        vertical-align: top;\n",
       "    }\n",
       "\n",
       "    .dataframe thead th {\n",
       "        text-align: right;\n",
       "    }\n",
       "</style>\n",
       "<table border=\"1\" class=\"dataframe\">\n",
       "  <thead>\n",
       "    <tr style=\"text-align: right;\">\n",
       "      <th></th>\n",
       "      <th>Model</th>\n",
       "      <th>Accuracy</th>\n",
       "      <th>Recall</th>\n",
       "      <th>Precision</th>\n",
       "      <th>f1-score</th>\n",
       "      <th>ROC AUC Score</th>\n",
       "    </tr>\n",
       "  </thead>\n",
       "  <tbody>\n",
       "    <tr>\n",
       "      <th>0</th>\n",
       "      <td>Logistic Regression</td>\n",
       "      <td>0.905909</td>\n",
       "      <td>0.979545</td>\n",
       "      <td>0.920604</td>\n",
       "      <td>0.949161</td>\n",
       "      <td>0.926043</td>\n",
       "    </tr>\n",
       "  </tbody>\n",
       "</table>\n",
       "</div>"
      ],
      "text/plain": [
       "                 Model  Accuracy    Recall  Precision  f1-score  ROC AUC Score\n",
       "0  Logistic Regression  0.905909  0.979545   0.920604  0.949161       0.926043"
      ]
     },
     "execution_count": 44,
     "metadata": {},
     "output_type": "execute_result"
    }
   ],
   "source": [
    "# store the results \n",
    "results_df = pd.DataFrame(data= [['Logistic Regression',  get_results(y_test, lr_pred)[0],\n",
    "                                  get_results(y_test, lr_pred)[1],  get_results(y_test, lr_pred)[2], \n",
    "                                  get_results(y_test, lr_pred)[3], auc_lr]], columns = ['Model', \n",
    "                                   'Accuracy', 'Recall', 'Precision', 'f1-score', 'ROC AUC Score'])\n",
    "\n",
    "results_df"
   ]
  },
  {
   "cell_type": "markdown",
   "id": "4cc277cc",
   "metadata": {},
   "source": [
    "Altough the model seems to have good results it does not predict class 0 very well (minority class), we can try to balance our dataset and then try the model again."
   ]
  },
  {
   "cell_type": "markdown",
   "id": "29782107",
   "metadata": {},
   "source": [
    "#### Logistic Regression with balanced classes"
   ]
  },
  {
   "cell_type": "markdown",
   "id": "9e93ad05",
   "metadata": {},
   "source": [
    "To try to solve the problem of the low prediction of the minority class (highh Type I Error) we can do a class balancing.  Let's see what is the percentage of each class in the dataset: "
   ]
  },
  {
   "cell_type": "code",
   "execution_count": 47,
   "id": "b9275076",
   "metadata": {
    "ExecuteTime": {
     "end_time": "2022-05-04T14:10:41.363304Z",
     "start_time": "2022-05-04T14:10:41.348644Z"
    }
   },
   "outputs": [
    {
     "data": {
      "text/plain": [
       "1    0.894386\n",
       "0    0.105614\n",
       "Name: Class, dtype: float64"
      ]
     },
     "execution_count": 47,
     "metadata": {},
     "output_type": "execute_result"
    }
   ],
   "source": [
    "data_cleaned.Class.value_counts(normalize= True)"
   ]
  },
  {
   "cell_type": "markdown",
   "id": "cddcef52",
   "metadata": {},
   "source": [
    "We got a disimbalanced dataset, 89 % of the flights are on delay and only 11 % are on time."
   ]
  },
  {
   "cell_type": "code",
   "execution_count": 48,
   "id": "3f9bac13",
   "metadata": {
    "ExecuteTime": {
     "end_time": "2022-05-04T14:10:41.581302Z",
     "start_time": "2022-05-04T14:10:41.366185Z"
    }
   },
   "outputs": [
    {
     "data": {
      "image/png": "[encoded data removed]",
      "text/plain": [
       "<Figure size 432x288 with 1 Axes>"
      ]
     },
     "metadata": {
      "needs_background": "light"
     },
     "output_type": "display_data"
    }
   ],
   "source": [
    "# plot this result \n",
    "ax = data_cleaned.Class.value_counts().plot(kind = 'bar', figsize = (6,4), color = ['#6a1b49','#21bbd0'])\n",
    "ax.set_title('Arrival time of flights (On Time vs Delayed)', fontsize = 12)\n",
    "ax.set_ylabel('Number of flights', fontsize = 10)\n",
    "ax.spines['right'].set_visible(False)\n",
    "ax.spines['top'].set_visible(False)\n",
    "xlabels = ['Delayed', 'On Time']\n",
    "ax.set_xticklabels(xlabels, rotation=45, ha='right')\n",
    "for i in ax.patches: \n",
    "    ax.text(i.get_x()+0.15, i.get_height() + 700, str(round(i.get_height(), 2 )), fontsize = 12)"
   ]
  },
  {
   "cell_type": "markdown",
   "id": "8ea0b68b",
   "metadata": {},
   "source": [
    "If we want our model to make better predicitions for the minority class, we can try to balance the classes. To avoid causing a major distorsion on the data we can use a double approach: \n",
    "\n",
    "+ First we will use SMOTE to oversample our minority class\n",
    "+ Then we will undersample our majority class using RandomUnderSampler\n",
    "\n",
    "This resamplings will only apply to the train subset: "
   ]
  },
  {
   "cell_type": "code",
   "execution_count": 49,
   "id": "386d7c50",
   "metadata": {
    "ExecuteTime": {
     "end_time": "2022-05-04T14:10:46.359232Z",
     "start_time": "2022-05-04T14:10:41.581302Z"
    }
   },
   "outputs": [],
   "source": [
    "# do all the steps through a pipeline \n",
    "from imblearn.over_sampling import SMOTE\n",
    "from imblearn.under_sampling import RandomUnderSampler\n",
    "from imblearn.pipeline import Pipeline\n",
    "\n",
    " # we increase minority class from 10% to 20% \n",
    "over = SMOTE(sampling_strategy= 0.20)\n",
    "# we accept the minoriyty class to be 70 % of the majority, i f we use  a larger percentage, we will be \n",
    "# missing a lot of data\n",
    "under = RandomUnderSampler(sampling_strategy= 0.70) \n",
    "\n",
    "steps = [('o', over), ('u', under)]\n",
    "pipeline = Pipeline(steps = steps)\n",
    "\n",
    "# we will only apply this to our train set\n",
    "X_train_sm ,y_train_sm = pipeline.fit_resample(X_train, y_train)"
   ]
  },
  {
   "cell_type": "code",
   "execution_count": 50,
   "id": "6dd07e09",
   "metadata": {
    "ExecuteTime": {
     "end_time": "2022-05-04T14:10:46.374651Z",
     "start_time": "2022-05-04T14:10:46.361235Z"
    }
   },
   "outputs": [
    {
     "data": {
      "text/plain": [
       "1    34452\n",
       "0    24117\n",
       "Name: Class, dtype: int64"
      ]
     },
     "execution_count": 50,
     "metadata": {},
     "output_type": "execute_result"
    }
   ],
   "source": [
    "y_train_sm.value_counts()"
   ]
  },
  {
   "cell_type": "code",
   "execution_count": 51,
   "id": "b48bcc63",
   "metadata": {
    "ExecuteTime": {
     "end_time": "2022-05-04T14:10:46.390220Z",
     "start_time": "2022-05-04T14:10:46.377637Z"
    }
   },
   "outputs": [
    {
     "data": {
      "text/plain": [
       "1    0.588229\n",
       "0    0.411771\n",
       "Name: Class, dtype: float64"
      ]
     },
     "execution_count": 51,
     "metadata": {},
     "output_type": "execute_result"
    }
   ],
   "source": [
    "y_train_sm.value_counts(normalize = True)"
   ]
  },
  {
   "cell_type": "markdown",
   "id": "93f155d5",
   "metadata": {},
   "source": [
    "Now we have 59% of observations for class 1 (Delayed Flights) and 41% of observations for Class 0 (Flights on Time). "
   ]
  },
  {
   "cell_type": "code",
   "execution_count": 52,
   "id": "1c5fac4c",
   "metadata": {
    "ExecuteTime": {
     "end_time": "2022-05-04T14:10:46.528393Z",
     "start_time": "2022-05-04T14:10:46.391217Z"
    }
   },
   "outputs": [
    {
     "data": {
      "image/png": "[encoded data removed]",
      "text/plain": [
       "<Figure size 432x288 with 1 Axes>"
      ]
     },
     "metadata": {
      "needs_background": "light"
     },
     "output_type": "display_data"
    }
   ],
   "source": [
    "# plot this result \n",
    "ax = y_train_sm.value_counts().plot(kind = 'bar', figsize = (6,4), color = ['#6a1b49','#21bbd0'])\n",
    "ax.set_title('Arrival time of flights (after undersampling and oversampling)', fontsize = 12)\n",
    "ax.set_ylabel('Number of flights', fontsize = 10)\n",
    "ax.spines['right'].set_visible(False)\n",
    "ax.spines['top'].set_visible(False)\n",
    "xlabels = ['Delayed', 'On Time']\n",
    "ax.set_xticklabels(xlabels, rotation=45, ha='right')\n",
    "\n",
    "for i in ax.patches: \n",
    "    ax.text(i.get_x()+0.15, i.get_height() + 700, str(round(i.get_height(), 2 )), fontsize = 12)\n",
    "plt.tight_layout(); "
   ]
  },
  {
   "cell_type": "markdown",
   "id": "d57091c6",
   "metadata": {},
   "source": [
    "Now our dataset doesn't look so disimbalanced, we will do again our Logistic Regression model using our resampled train subset. "
   ]
  },
  {
   "cell_type": "code",
   "execution_count": 53,
   "id": "4d454680",
   "metadata": {
    "ExecuteTime": {
     "end_time": "2022-05-04T14:10:47.062282Z",
     "start_time": "2022-05-04T14:10:46.529390Z"
    }
   },
   "outputs": [
    {
     "data": {
      "text/plain": [
       "LogisticRegression(random_state=12)"
      ]
     },
     "execution_count": 53,
     "metadata": {},
     "output_type": "execute_result"
    }
   ],
   "source": [
    "lr_sm = LogisticRegression(random_state=12)\n",
    "lr_sm.fit(X_train_sm, y_train_sm)"
   ]
  },
  {
   "cell_type": "code",
   "execution_count": 54,
   "id": "bdc61611",
   "metadata": {
    "ExecuteTime": {
     "end_time": "2022-05-04T14:10:47.141795Z",
     "start_time": "2022-05-04T14:10:47.064231Z"
    }
   },
   "outputs": [
    {
     "name": "stdout",
     "output_type": "stream",
     "text": [
      "Accuracy :  0.823139952980224\n",
      "Recall (or sensitivity):  0.8137494939368819\n",
      "Precision :  0.9866760168302945\n",
      "F1 score:  0.8919081679010259\n"
     ]
    }
   ],
   "source": [
    "# predictions on test set: \n",
    "lr_sm_pred = lr_sm.predict(X_test)\n",
    "\n",
    "print_results(y_test, lr_sm_pred)"
   ]
  },
  {
   "cell_type": "code",
   "execution_count": 55,
   "id": "3e390df0",
   "metadata": {
    "ExecuteTime": {
     "end_time": "2022-05-04T14:10:47.172243Z",
     "start_time": "2022-05-04T14:10:47.142792Z"
    }
   },
   "outputs": [
    {
     "data": {
      "text/plain": [
       "array([[ 5407,   570],\n",
       "       [ 9661, 42210]], dtype=int64)"
      ]
     },
     "execution_count": 55,
     "metadata": {},
     "output_type": "execute_result"
    }
   ],
   "source": [
    "# ceck confusion matrix \n",
    "cm_lr_sm = confusion_matrix(y_test, lr_sm_pred)\n",
    "cm_lr_sm"
   ]
  },
  {
   "cell_type": "markdown",
   "id": "52b1b482",
   "metadata": {},
   "source": [
    "+ We have reduced the Type I Error (false positives) \n",
    "\n",
    "\n",
    "+ Out of 5977 flights on time we have correctly predicted 5407\n",
    "\n",
    "\n",
    "+ In the case of delayed flights, we have predicted correctly 42210 (out of 51871)\n",
    "\n",
    "\n",
    "+ The cost of improving the predictions for the minority class (Class 0) has been that False Positives have increased considerably. It seems that by taking more into account the minority class we have lost predictive power in Class 1 (Type II error has increased). "
   ]
  },
  {
   "cell_type": "code",
   "execution_count": 57,
   "id": "feb0eadb",
   "metadata": {
    "ExecuteTime": {
     "end_time": "2022-05-04T14:10:47.361332Z",
     "start_time": "2022-05-04T14:10:47.190154Z"
    }
   },
   "outputs": [
    {
     "data": {
      "image/png": "[encoded data removed]",
      "text/plain": [
       "<Figure size 432x288 with 1 Axes>"
      ]
     },
     "metadata": {
      "needs_background": "light"
     },
     "output_type": "display_data"
    }
   ],
   "source": [
    "# let's draw our roc/auc curve\n",
    "lr_sm_pred_proba = lr_sm.predict_proba(X_test)[:,1]\n",
    "fpr, tpr, _ = metrics.roc_curve(y_test,  lr_sm_pred_proba)\n",
    "auc_lr_sm = metrics.roc_auc_score(y_test, lr_sm_pred_proba)\n",
    "plt.plot(fpr,tpr,label=\"Logistic Regression, auc=\"+str(round(auc_lr_sm, 4)))\n",
    "plt.plot([0, 1], [0, 1], linestyle='--')\n",
    "plt.xlabel('False Positive Rate (1 - Specificity)')\n",
    "plt.ylabel('True Positive Rate (Sensitivity)')\n",
    "plt.grid(True)\n",
    "plt.legend(loc=4)\n",
    "plt.title('ROC/AUC curve Logistic Regression (Balanced) '); "
   ]
  },
  {
   "cell_type": "markdown",
   "id": "50c7bc68",
   "metadata": {},
   "source": [
    "The ROC AUC score has decreased a little compared to our last model but the difference is very small. "
   ]
  },
  {
   "cell_type": "code",
   "execution_count": 58,
   "id": "99a7fee9",
   "metadata": {
    "ExecuteTime": {
     "end_time": "2022-05-04T14:10:47.589315Z",
     "start_time": "2022-05-04T14:10:47.364309Z"
    }
   },
   "outputs": [
    {
     "data": {
      "text/html": [
       "<div>\n",
       "<style scoped>\n",
       "    .dataframe tbody tr th:only-of-type {\n",
       "        vertical-align: middle;\n",
       "    }\n",
       "\n",
       "    .dataframe tbody tr th {\n",
       "        vertical-align: top;\n",
       "    }\n",
       "\n",
       "    .dataframe thead th {\n",
       "        text-align: right;\n",
       "    }\n",
       "</style>\n",
       "<table border=\"1\" class=\"dataframe\">\n",
       "  <thead>\n",
       "    <tr style=\"text-align: right;\">\n",
       "      <th></th>\n",
       "      <th>Model</th>\n",
       "      <th>Accuracy</th>\n",
       "      <th>Recall</th>\n",
       "      <th>Precision</th>\n",
       "      <th>f1-score</th>\n",
       "      <th>ROC AUC Score</th>\n",
       "    </tr>\n",
       "  </thead>\n",
       "  <tbody>\n",
       "    <tr>\n",
       "      <th>0</th>\n",
       "      <td>Logistic Regression</td>\n",
       "      <td>0.905909</td>\n",
       "      <td>0.979545</td>\n",
       "      <td>0.920604</td>\n",
       "      <td>0.949161</td>\n",
       "      <td>0.926043</td>\n",
       "    </tr>\n",
       "    <tr>\n",
       "      <th>0</th>\n",
       "      <td>Logistic Regression (Balanced)</td>\n",
       "      <td>0.823140</td>\n",
       "      <td>0.813749</td>\n",
       "      <td>0.986676</td>\n",
       "      <td>0.891908</td>\n",
       "      <td>0.921749</td>\n",
       "    </tr>\n",
       "  </tbody>\n",
       "</table>\n",
       "</div>"
      ],
      "text/plain": [
       "                            Model  Accuracy    Recall  Precision  f1-score  \\\n",
       "0             Logistic Regression  0.905909  0.979545   0.920604  0.949161   \n",
       "0  Logistic Regression (Balanced)  0.823140  0.813749   0.986676  0.891908   \n",
       "\n",
       "   ROC AUC Score  \n",
       "0       0.926043  \n",
       "0       0.921749  "
      ]
     },
     "execution_count": 58,
     "metadata": {},
     "output_type": "execute_result"
    }
   ],
   "source": [
    "# store the results \n",
    "lr_sm_results = pd.DataFrame(data = [['Logistic Regression (Balanced)', get_results(y_test, lr_sm_pred)[0], \n",
    "                                     get_results(y_test, lr_sm_pred)[1], get_results(y_test, lr_sm_pred)[2], \n",
    "                                     get_results(y_test, lr_sm_pred)[3], auc_lr_sm]], columns = ['Model', \n",
    "                                   'Accuracy', 'Recall', 'Precision', 'f1-score', 'ROC AUC Score'])\n",
    "results_df = pd.concat([results_df, lr_sm_results])\n",
    "results_df"
   ]
  },
  {
   "cell_type": "markdown",
   "id": "80852f2e",
   "metadata": {},
   "source": [
    "+ We have increased our Precision: out of all the flights we have predicted delay, how many predicitions are true. \n",
    "+ The Recall has decreased: of all of the flights with delay, how many of them did we correctly predict. \n",
    "+ Accuracy has decreased a lot, but we cannot rely on Accuracy only because it does not say very much about the power of prediction of our model (if we only predict class 1 we would be right 89 % of the times)\n",
    "+ We can compare the models usinf F1 score and ROC AUC score, in our balanced model they have dicreased a little, we would have to evaluate if we are more interested in maximixing Recall or Precision for our predictions. "
   ]
  },
  {
   "cell_type": "markdown",
   "id": "6d4c35e8",
   "metadata": {},
   "source": [
    "#### Model 2: AdaBoost using our balanced classes "
   ]
  },
  {
   "cell_type": "markdown",
   "id": "f75250ff",
   "metadata": {},
   "source": [
    "We have used SMOTE and RandomUndersampler to balance our data. Now we can apply our balanced dataset to AdaBoost model: "
   ]
  },
  {
   "cell_type": "code",
   "execution_count": 60,
   "id": "6e40410c",
   "metadata": {
    "ExecuteTime": {
     "end_time": "2022-05-04T14:10:49.994739Z",
     "start_time": "2022-05-04T14:10:47.661378Z"
    }
   },
   "outputs": [
    {
     "data": {
      "text/plain": [
       "AdaBoostClassifier(random_state=0)"
      ]
     },
     "execution_count": 60,
     "metadata": {},
     "output_type": "execute_result"
    }
   ],
   "source": [
    "from sklearn.ensemble import AdaBoostClassifier\n",
    "\n",
    "ada_sm = AdaBoostClassifier(random_state=0)\n",
    "\n",
    "ada_sm.fit(X_train_sm, y_train_sm)"
   ]
  },
  {
   "cell_type": "code",
   "execution_count": 61,
   "id": "a37080f4",
   "metadata": {
    "ExecuteTime": {
     "end_time": "2022-05-04T14:10:50.605158Z",
     "start_time": "2022-05-04T14:10:49.996058Z"
    }
   },
   "outputs": [
    {
     "name": "stdout",
     "output_type": "stream",
     "text": [
      "Accuracy :  0.8453187664223483\n",
      "Recall (or sensitivity):  0.8427637793757591\n",
      "Precision :  0.982205046397196\n",
      "F1 score:  0.9071572350536429\n"
     ]
    }
   ],
   "source": [
    "ada_sm_pred = ada_sm.predict(X_test)\n",
    "\n",
    "print_results(y_test, ada_sm_pred)"
   ]
  },
  {
   "cell_type": "code",
   "execution_count": 62,
   "id": "1c606f75",
   "metadata": {
    "ExecuteTime": {
     "end_time": "2022-05-04T14:10:50.620518Z",
     "start_time": "2022-05-04T14:10:50.605912Z"
    }
   },
   "outputs": [
    {
     "data": {
      "text/plain": [
       "array([[ 5185,   792],\n",
       "       [ 8156, 43715]], dtype=int64)"
      ]
     },
     "execution_count": 62,
     "metadata": {},
     "output_type": "execute_result"
    }
   ],
   "source": [
    "# confusion matrix \n",
    "cm_ada_sm = confusion_matrix(y_test, ada_sm_pred)\n",
    "cm_ada_sm"
   ]
  },
  {
   "cell_type": "markdown",
   "id": "0be686d7",
   "metadata": {},
   "source": [
    "+ In this model we have improved f1 score a little\n",
    "+ False negatives have dicreased a little but they are still very high.\n",
    "+ False positives : 792\n",
    "+ False negatives : 8156"
   ]
  },
  {
   "cell_type": "code",
   "execution_count": 63,
   "id": "dfe9a7d1",
   "metadata": {
    "ExecuteTime": {
     "end_time": "2022-05-04T14:10:51.219054Z",
     "start_time": "2022-05-04T14:10:50.621014Z"
    }
   },
   "outputs": [
    {
     "data": {
      "image/png": "[encoded data removed]",
      "text/plain": [
       "<Figure size 432x288 with 1 Axes>"
      ]
     },
     "metadata": {
      "needs_background": "light"
     },
     "output_type": "display_data"
    }
   ],
   "source": [
    "# let's draw our roc/auc curve\n",
    "ada_sm_pred_proba = ada_sm.predict_proba(X_test)[:,1]\n",
    "fpr, tpr, _ = metrics.roc_curve(y_test,  ada_sm_pred_proba)\n",
    "auc_ada_sm = metrics.roc_auc_score(y_test, ada_sm_pred_proba)\n",
    "plt.plot(fpr,tpr,label=\"AdaBoost (Balanced), auc=\"+str(round(auc_ada_sm, 4)))\n",
    "plt.plot([0, 1], [0, 1], linestyle='--')\n",
    "plt.xlabel('False Positive Rate (1 - Specificity)')\n",
    "plt.ylabel('True Positive Rate (Sensitivity)')\n",
    "plt.grid(True)\n",
    "plt.legend(loc=4)\n",
    "plt.title('ROC/AUC curve AdaBoost (Balanced) '); "
   ]
  },
  {
   "cell_type": "markdown",
   "id": "4c204f76",
   "metadata": {},
   "source": [
    "ROC AUC score has increased a little and now is higher than in our previous models."
   ]
  },
  {
   "cell_type": "code",
   "execution_count": 64,
   "id": "3dafe784",
   "metadata": {
    "ExecuteTime": {
     "end_time": "2022-05-04T14:10:51.445616Z",
     "start_time": "2022-05-04T14:10:51.219054Z"
    }
   },
   "outputs": [
    {
     "data": {
      "text/html": [
       "<div>\n",
       "<style scoped>\n",
       "    .dataframe tbody tr th:only-of-type {\n",
       "        vertical-align: middle;\n",
       "    }\n",
       "\n",
       "    .dataframe tbody tr th {\n",
       "        vertical-align: top;\n",
       "    }\n",
       "\n",
       "    .dataframe thead th {\n",
       "        text-align: right;\n",
       "    }\n",
       "</style>\n",
       "<table border=\"1\" class=\"dataframe\">\n",
       "  <thead>\n",
       "    <tr style=\"text-align: right;\">\n",
       "      <th></th>\n",
       "      <th>Model</th>\n",
       "      <th>Accuracy</th>\n",
       "      <th>Recall</th>\n",
       "      <th>Precision</th>\n",
       "      <th>f1-score</th>\n",
       "      <th>ROC AUC Score</th>\n",
       "    </tr>\n",
       "  </thead>\n",
       "  <tbody>\n",
       "    <tr>\n",
       "      <th>0</th>\n",
       "      <td>Logistic Regression</td>\n",
       "      <td>0.905909</td>\n",
       "      <td>0.979545</td>\n",
       "      <td>0.920604</td>\n",
       "      <td>0.949161</td>\n",
       "      <td>0.926043</td>\n",
       "    </tr>\n",
       "    <tr>\n",
       "      <th>0</th>\n",
       "      <td>Logistic Regression (Balanced)</td>\n",
       "      <td>0.823140</td>\n",
       "      <td>0.813749</td>\n",
       "      <td>0.986676</td>\n",
       "      <td>0.891908</td>\n",
       "      <td>0.921749</td>\n",
       "    </tr>\n",
       "    <tr>\n",
       "      <th>0</th>\n",
       "      <td>AdaBoost (Balanced)</td>\n",
       "      <td>0.845319</td>\n",
       "      <td>0.842764</td>\n",
       "      <td>0.982205</td>\n",
       "      <td>0.907157</td>\n",
       "      <td>0.926512</td>\n",
       "    </tr>\n",
       "  </tbody>\n",
       "</table>\n",
       "</div>"
      ],
      "text/plain": [
       "                            Model  Accuracy    Recall  Precision  f1-score  \\\n",
       "0             Logistic Regression  0.905909  0.979545   0.920604  0.949161   \n",
       "0  Logistic Regression (Balanced)  0.823140  0.813749   0.986676  0.891908   \n",
       "0             AdaBoost (Balanced)  0.845319  0.842764   0.982205  0.907157   \n",
       "\n",
       "   ROC AUC Score  \n",
       "0       0.926043  \n",
       "0       0.921749  \n",
       "0       0.926512  "
      ]
     },
     "execution_count": 64,
     "metadata": {},
     "output_type": "execute_result"
    }
   ],
   "source": [
    "# store the results \n",
    "ada_results = pd.DataFrame(data = [['AdaBoost (Balanced)', get_results(y_test, ada_sm_pred)[0], \n",
    "                                   get_results(y_test, ada_sm_pred)[1], get_results(y_test, ada_sm_pred)[2], \n",
    "                                   get_results(y_test, ada_sm_pred)[3], auc_ada_sm]], columns = ['Model', \n",
    "                                   'Accuracy', 'Recall', 'Precision', 'f1-score', 'ROC AUC Score'])\n",
    "results_df = pd.concat([results_df, ada_results])\n",
    "results_df"
   ]
  },
  {
   "cell_type": "markdown",
   "id": "c2d62695",
   "metadata": {},
   "source": [
    "Since we have balanced the classes our accuracy has increased but at the cost of lowering recall considerably. Also the f1 score is still a bit low compared to our first unbalanced model."
   ]
  },
  {
   "cell_type": "markdown",
   "id": "fae8e87b",
   "metadata": {},
   "source": [
    "#### Model 3:  BalancedBaggingClassifier using Random Forest \n",
    "\n",
    "To fix the imbalance of the classes we can also use: BalancedBaggingClassifier from imblearn library. It allows the resampling of each subset of the dataset before training each estimator of the ensemble. In this case we will use Randon Forest as an estimator. \n",
    "\n",
    "In this model we will use X_train and y_train without being balanced, BalancedBagginClassifier does the balance automatically. "
   ]
  },
  {
   "cell_type": "code",
   "execution_count": 66,
   "id": "651d005f",
   "metadata": {
    "ExecuteTime": {
     "end_time": "2022-05-04T14:11:19.359817Z",
     "start_time": "2022-05-04T14:10:51.523731Z"
    }
   },
   "outputs": [
    {
     "data": {
      "text/plain": [
       "BalancedBaggingClassifier(base_estimator=RandomForestClassifier(random_state=0),\n",
       "                          random_state=0)"
      ]
     },
     "execution_count": 66,
     "metadata": {},
     "output_type": "execute_result"
    }
   ],
   "source": [
    "from imblearn.ensemble import BalancedBaggingClassifier\n",
    "from sklearn.ensemble import RandomForestClassifier\n",
    "\n",
    "balanced = BalancedBaggingClassifier(base_estimator= RandomForestClassifier(random_state=0), sampling_strategy= 'auto', \n",
    "                                    replacement= False, random_state=0)\n",
    "# fit model on X_train and y_train\n",
    "balanced.fit(X_train, y_train)"
   ]
  },
  {
   "cell_type": "code",
   "execution_count": 67,
   "id": "4fed060a",
   "metadata": {
    "ExecuteTime": {
     "end_time": "2022-05-04T14:11:28.004711Z",
     "start_time": "2022-05-04T14:11:19.359817Z"
    }
   },
   "outputs": [
    {
     "name": "stdout",
     "output_type": "stream",
     "text": [
      "Accuracy :  0.8291557184345181\n",
      "Recall (or sensitivity):  0.8173931483873456\n",
      "Precision :  0.9903994393833216\n",
      "F1 score:  0.8956179170055237\n"
     ]
    }
   ],
   "source": [
    "balanced_pred = balanced.predict(X_test)\n",
    "print_results(y_test, balanced_pred)"
   ]
  },
  {
   "cell_type": "code",
   "execution_count": 68,
   "id": "ffd15095",
   "metadata": {
    "ExecuteTime": {
     "end_time": "2022-05-04T14:11:28.044395Z",
     "start_time": "2022-05-04T14:11:28.006625Z"
    }
   },
   "outputs": [
    {
     "data": {
      "text/plain": [
       "array([[ 5566,   411],\n",
       "       [ 9472, 42399]], dtype=int64)"
      ]
     },
     "execution_count": 68,
     "metadata": {},
     "output_type": "execute_result"
    }
   ],
   "source": [
    "# confusion matrix \n",
    "cm_balanced = confusion_matrix(y_test, balanced_pred)\n",
    "cm_balanced"
   ]
  },
  {
   "cell_type": "markdown",
   "id": "8a64276d",
   "metadata": {},
   "source": [
    "+ We observe that precision has increased compared to our Logistic Regression model with the balanced classes and recall has worsened a little. \n",
    "+ False positives are now the lowest\n",
    "+ On the other hand, false negatives have risen considerably"
   ]
  },
  {
   "cell_type": "code",
   "execution_count": 69,
   "id": "190d2cce",
   "metadata": {
    "ExecuteTime": {
     "end_time": "2022-05-04T14:11:40.402763Z",
     "start_time": "2022-05-04T14:11:28.046388Z"
    }
   },
   "outputs": [
    {
     "data": {
      "image/png": "[encoded data removed]",
      "text/plain": [
       "<Figure size 432x288 with 1 Axes>"
      ]
     },
     "metadata": {
      "needs_background": "light"
     },
     "output_type": "display_data"
    }
   ],
   "source": [
    "# let's draw our roc/auc curve\n",
    "balanced_pred_proba = balanced.predict_proba(X_test)[:,1]\n",
    "fpr, tpr, _ = metrics.roc_curve(y_test,  balanced_pred_proba)\n",
    "auc_balanced = metrics.roc_auc_score(y_test, balanced_pred_proba)\n",
    "plt.plot(fpr,tpr,label=\"Balanced Bagging Classifier, auc=\"+str(round(auc_balanced, 4)))\n",
    "plt.plot([0, 1], [0, 1], linestyle='--')\n",
    "plt.xlabel('False Positive Rate (1 - Specificity)')\n",
    "plt.ylabel('True Positive Rate (Sensitivity)')\n",
    "plt.grid(True)\n",
    "plt.legend(loc=4)\n",
    "plt.title('ROC/AUC curve Balanced Bagging Classifier'); "
   ]
  },
  {
   "cell_type": "markdown",
   "id": "939533d0",
   "metadata": {},
   "source": [
    "ROC AUC score result is the highest one we have seen so far. "
   ]
  },
  {
   "cell_type": "code",
   "execution_count": 70,
   "id": "67407f56",
   "metadata": {
    "ExecuteTime": {
     "end_time": "2022-05-04T14:11:40.926637Z",
     "start_time": "2022-05-04T14:11:40.404396Z"
    }
   },
   "outputs": [
    {
     "data": {
      "text/html": [
       "<div>\n",
       "<style scoped>\n",
       "    .dataframe tbody tr th:only-of-type {\n",
       "        vertical-align: middle;\n",
       "    }\n",
       "\n",
       "    .dataframe tbody tr th {\n",
       "        vertical-align: top;\n",
       "    }\n",
       "\n",
       "    .dataframe thead th {\n",
       "        text-align: right;\n",
       "    }\n",
       "</style>\n",
       "<table border=\"1\" class=\"dataframe\">\n",
       "  <thead>\n",
       "    <tr style=\"text-align: right;\">\n",
       "      <th></th>\n",
       "      <th>Model</th>\n",
       "      <th>Accuracy</th>\n",
       "      <th>Recall</th>\n",
       "      <th>Precision</th>\n",
       "      <th>f1-score</th>\n",
       "      <th>ROC AUC Score</th>\n",
       "    </tr>\n",
       "  </thead>\n",
       "  <tbody>\n",
       "    <tr>\n",
       "      <th>0</th>\n",
       "      <td>Logistic Regression</td>\n",
       "      <td>0.905909</td>\n",
       "      <td>0.979545</td>\n",
       "      <td>0.920604</td>\n",
       "      <td>0.949161</td>\n",
       "      <td>0.926043</td>\n",
       "    </tr>\n",
       "    <tr>\n",
       "      <th>0</th>\n",
       "      <td>Logistic Regression (Balanced)</td>\n",
       "      <td>0.823140</td>\n",
       "      <td>0.813749</td>\n",
       "      <td>0.986676</td>\n",
       "      <td>0.891908</td>\n",
       "      <td>0.921749</td>\n",
       "    </tr>\n",
       "    <tr>\n",
       "      <th>0</th>\n",
       "      <td>AdaBoost (Balanced)</td>\n",
       "      <td>0.845319</td>\n",
       "      <td>0.842764</td>\n",
       "      <td>0.982205</td>\n",
       "      <td>0.907157</td>\n",
       "      <td>0.926512</td>\n",
       "    </tr>\n",
       "    <tr>\n",
       "      <th>0</th>\n",
       "      <td>Balanced Bagging Classifier</td>\n",
       "      <td>0.829156</td>\n",
       "      <td>0.817393</td>\n",
       "      <td>0.990399</td>\n",
       "      <td>0.895618</td>\n",
       "      <td>0.933588</td>\n",
       "    </tr>\n",
       "  </tbody>\n",
       "</table>\n",
       "</div>"
      ],
      "text/plain": [
       "                            Model  Accuracy    Recall  Precision  f1-score  \\\n",
       "0             Logistic Regression  0.905909  0.979545   0.920604  0.949161   \n",
       "0  Logistic Regression (Balanced)  0.823140  0.813749   0.986676  0.891908   \n",
       "0             AdaBoost (Balanced)  0.845319  0.842764   0.982205  0.907157   \n",
       "0     Balanced Bagging Classifier  0.829156  0.817393   0.990399  0.895618   \n",
       "\n",
       "   ROC AUC Score  \n",
       "0       0.926043  \n",
       "0       0.921749  \n",
       "0       0.926512  \n",
       "0       0.933588  "
      ]
     },
     "execution_count": 70,
     "metadata": {},
     "output_type": "execute_result"
    }
   ],
   "source": [
    "# store the results \n",
    "balanced_results = pd.DataFrame(data = [['Balanced Bagging Classifier', get_results(y_test, balanced_pred)[0], \n",
    "                                        get_results(y_test, balanced_pred)[1], get_results(y_test, balanced_pred)[2], \n",
    "                                        get_results(y_test, balanced_pred)[3], auc_balanced]], columns = ['Model', \n",
    "                                        'Accuracy', 'Recall', 'Precision', 'f1-score', 'ROC AUC Score'])\n",
    "results_df = pd.concat([results_df, balanced_results])\n",
    "results_df"
   ]
  },
  {
   "cell_type": "markdown",
   "id": "12606e8a",
   "metadata": {},
   "source": [
    "+ With this classifier, our precision has increased an Recall has dicreased. \n",
    "+ The f1 score is still low (compared with Logistic Regression). \n",
    "+ When balancing the classes, either manually or directly through the model, the precision goes up and the recall goes down, but the overall model output (f1 score) is impaired.\n"
   ]
  },
  {
   "cell_type": "markdown",
   "id": "0cdd4e61",
   "metadata": {},
   "source": [
    "### - Exercici 2\n",
    "\n",
    "Compara els models de classificació utilitzant la precisió (accuracy), una matriu de confiança i d’altres mètriques més avançades."
   ]
  },
  {
   "cell_type": "markdown",
   "id": "050b4962",
   "metadata": {
    "ExecuteTime": {
     "end_time": "2022-05-02T18:24:12.772521Z",
     "start_time": "2022-05-02T18:24:12.764532Z"
    }
   },
   "source": [
    "With the results_df we have created we can plot the results to compare different metrics for the different models: "
   ]
  },
  {
   "cell_type": "code",
   "execution_count": 72,
   "id": "18e1a1b6",
   "metadata": {
    "ExecuteTime": {
     "end_time": "2022-05-04T14:11:41.111671Z",
     "start_time": "2022-05-04T14:11:41.083295Z"
    }
   },
   "outputs": [
    {
     "data": {
      "text/html": [
       "<div>\n",
       "<style scoped>\n",
       "    .dataframe tbody tr th:only-of-type {\n",
       "        vertical-align: middle;\n",
       "    }\n",
       "\n",
       "    .dataframe tbody tr th {\n",
       "        vertical-align: top;\n",
       "    }\n",
       "\n",
       "    .dataframe thead th {\n",
       "        text-align: right;\n",
       "    }\n",
       "</style>\n",
       "<table border=\"1\" class=\"dataframe\">\n",
       "  <thead>\n",
       "    <tr style=\"text-align: right;\">\n",
       "      <th></th>\n",
       "      <th>Accuracy</th>\n",
       "      <th>Recall</th>\n",
       "      <th>Precision</th>\n",
       "      <th>f1-score</th>\n",
       "      <th>ROC AUC Score</th>\n",
       "    </tr>\n",
       "    <tr>\n",
       "      <th>Model</th>\n",
       "      <th></th>\n",
       "      <th></th>\n",
       "      <th></th>\n",
       "      <th></th>\n",
       "      <th></th>\n",
       "    </tr>\n",
       "  </thead>\n",
       "  <tbody>\n",
       "    <tr>\n",
       "      <th>Logistic Regression</th>\n",
       "      <td>0.905909</td>\n",
       "      <td>0.979545</td>\n",
       "      <td>0.920604</td>\n",
       "      <td>0.949161</td>\n",
       "      <td>0.926043</td>\n",
       "    </tr>\n",
       "    <tr>\n",
       "      <th>Logistic Regression (Balanced)</th>\n",
       "      <td>0.823140</td>\n",
       "      <td>0.813749</td>\n",
       "      <td>0.986676</td>\n",
       "      <td>0.891908</td>\n",
       "      <td>0.921749</td>\n",
       "    </tr>\n",
       "    <tr>\n",
       "      <th>AdaBoost (Balanced)</th>\n",
       "      <td>0.845319</td>\n",
       "      <td>0.842764</td>\n",
       "      <td>0.982205</td>\n",
       "      <td>0.907157</td>\n",
       "      <td>0.926512</td>\n",
       "    </tr>\n",
       "    <tr>\n",
       "      <th>Balanced Bagging Classifier</th>\n",
       "      <td>0.829156</td>\n",
       "      <td>0.817393</td>\n",
       "      <td>0.990399</td>\n",
       "      <td>0.895618</td>\n",
       "      <td>0.933588</td>\n",
       "    </tr>\n",
       "  </tbody>\n",
       "</table>\n",
       "</div>"
      ],
      "text/plain": [
       "                                Accuracy    Recall  Precision  f1-score  \\\n",
       "Model                                                                     \n",
       "Logistic Regression             0.905909  0.979545   0.920604  0.949161   \n",
       "Logistic Regression (Balanced)  0.823140  0.813749   0.986676  0.891908   \n",
       "AdaBoost (Balanced)             0.845319  0.842764   0.982205  0.907157   \n",
       "Balanced Bagging Classifier     0.829156  0.817393   0.990399  0.895618   \n",
       "\n",
       "                                ROC AUC Score  \n",
       "Model                                          \n",
       "Logistic Regression                  0.926043  \n",
       "Logistic Regression (Balanced)       0.921749  \n",
       "AdaBoost (Balanced)                  0.926512  \n",
       "Balanced Bagging Classifier          0.933588  "
      ]
     },
     "execution_count": 72,
     "metadata": {},
     "output_type": "execute_result"
    }
   ],
   "source": [
    "plot_results = results_df.set_index('Model')\n",
    "plot_results"
   ]
  },
  {
   "cell_type": "code",
   "execution_count": 74,
   "id": "bcbbe4fa",
   "metadata": {
    "ExecuteTime": {
     "end_time": "2022-05-04T14:11:41.514216Z",
     "start_time": "2022-05-04T14:11:41.147278Z"
    }
   },
   "outputs": [
    {
     "data": {
      "image/png": "[encoded data removed]",
      "text/plain": [
       "<Figure size 864x576 with 1 Axes>"
      ]
     },
     "metadata": {
      "needs_background": "light"
     },
     "output_type": "display_data"
    }
   ],
   "source": [
    "ax = plot_results[['Accuracy', 'Recall', 'Precision', 'f1-score', 'ROC AUC Score']].plot(kind='barh', figsize=(12, 8))\n",
    "ax.set_title('Comparison of different metrics accross different models', fontsize = 14)\n",
    "ax.set_ylabel('')\n",
    "ax.set_xlim([0.5, 1.05])\n",
    "handles, labels = ax.get_legend_handles_labels()\n",
    "ax.legend(reversed(handles), reversed(labels), loc='upper left', bbox_to_anchor=(1, 1.02)); "
   ]
  },
  {
   "cell_type": "markdown",
   "id": "ed585d93",
   "metadata": {},
   "source": [
    "+ Logistic Regression is the model that has by far the highest F1 score, but at the cost of having a very low precision compared to other models. \n",
    "\n",
    "+ The rest of the models in which we have either balanced classes using balancing techniques or using algorithms that deal with unbalancing give worse F1 results but improve precision. "
   ]
  },
  {
   "cell_type": "markdown",
   "id": "fef539c5",
   "metadata": {},
   "source": [
    "We can also plot confusion matrix next to each other to see their differences: "
   ]
  },
  {
   "cell_type": "code",
   "execution_count": 75,
   "id": "6bf7aa18",
   "metadata": {
    "ExecuteTime": {
     "end_time": "2022-05-04T14:11:42.247201Z",
     "start_time": "2022-05-04T14:11:41.516404Z"
    }
   },
   "outputs": [
    {
     "data": {
      "image/png": "[encoded data removed]",
      "text/plain": [
       "<Figure size 648x648 with 4 Axes>"
      ]
     },
     "metadata": {
      "needs_background": "light"
     },
     "output_type": "display_data"
    }
   ],
   "source": [
    "plt.figure(figsize = (9, 9))\n",
    "plt.suptitle('Confusion Matrix for different models', fontsize = 16)\n",
    "labels = ['On Time', 'Delayed']\n",
    "\n",
    "plt.subplot(2,2,1)\n",
    "sns.heatmap(pd.DataFrame(cm_lr), annot = True ,fmt='g', cbar = False, cmap=\"YlGnBu\", xticklabels= labels, \n",
    "            yticklabels= labels)\n",
    "plt.title('Logistic Rregression', fontsize = 14)\n",
    "plt.ylabel('Actual label',fontsize = 12 )\n",
    "plt.xlabel('Predicted label', fontsize = 12);\n",
    "\n",
    "plt.subplot(2,2,2)\n",
    "sns.heatmap(pd.DataFrame(cm_lr_sm), annot = True ,fmt='g', cbar = False,  cmap=\"YlGnBu\", xticklabels= labels, \n",
    "            yticklabels= labels)\n",
    "plt.title('Logistic Regression (Balanced Classes)',  fontsize = 14)\n",
    "plt.ylabel('Actual Label', fontsize = 12)\n",
    "plt.xlabel('Predicted label', fontsize = 12);\n",
    "\n",
    "plt.subplot(2,2,3)\n",
    "sns.heatmap(pd.DataFrame(cm_ada_sm), annot = True, fmt='g', cbar = False,  cmap=\"YlGnBu\" , xticklabels= labels, \n",
    "            yticklabels= labels)\n",
    "plt.title('AdaBoost (Balanced Classes)', fontsize = 14)\n",
    "plt.ylabel('Actual Label', fontsize = 12)\n",
    "plt.xlabel('Predicted label', fontsize = 12);\n",
    "\n",
    "plt.subplot(2,2,4)\n",
    "sns.heatmap(pd.DataFrame(cm_balanced), annot = True, fmt='g', cbar = False, cmap=\"YlGnBu\", xticklabels= labels, \n",
    "            yticklabels= labels)\n",
    "plt.title('Balanced Bagging Classifier', fontsize = 14)\n",
    "plt.ylabel('Actual Label', fontsize = 12)\n",
    "plt.xlabel('Predicted label', fontsize = 12);\n",
    "\n",
    "plt.tight_layout()"
   ]
  },
  {
   "cell_type": "markdown",
   "id": "3f96c2b0",
   "metadata": {},
   "source": [
    "+ We have already seen that our first Logistic Regression model (unbalanced) has the best F1 score result, but at the cost of giving very poor results for flights arriving on time: out of 5977 flights arriving on time it only correctly predicts 1595. \n",
    "\n",
    "+ The other models perform better in this respect (they have fewer False Positives) but predict much worse for delayed flights: they have much more False Negatives. "
   ]
  },
  {
   "cell_type": "markdown",
   "id": "b1a80338",
   "metadata": {},
   "source": [
    "### - Exercici 3\n",
    "\n",
    "Entrena’ls utilitzant els diferents paràmetres que admeten."
   ]
  },
  {
   "cell_type": "markdown",
   "id": "9311564f",
   "metadata": {},
   "source": [
    "#### Logistic Regression (no balanced classes)"
   ]
  },
  {
   "cell_type": "markdown",
   "id": "3bcea15a",
   "metadata": {
    "ExecuteTime": {
     "end_time": "2022-05-02T18:45:24.163287Z",
     "start_time": "2022-05-02T18:45:24.142117Z"
    }
   },
   "source": [
    "Firstly, we check our default parameters: "
   ]
  },
  {
   "cell_type": "code",
   "execution_count": 76,
   "id": "b7738738",
   "metadata": {
    "ExecuteTime": {
     "end_time": "2022-05-04T14:11:42.262805Z",
     "start_time": "2022-05-04T14:11:42.249194Z"
    }
   },
   "outputs": [
    {
     "data": {
      "text/plain": [
       "{'C': 1.0,\n",
       " 'class_weight': None,\n",
       " 'dual': False,\n",
       " 'fit_intercept': True,\n",
       " 'intercept_scaling': 1,\n",
       " 'l1_ratio': None,\n",
       " 'max_iter': 100,\n",
       " 'multi_class': 'auto',\n",
       " 'n_jobs': None,\n",
       " 'penalty': 'l2',\n",
       " 'random_state': 12,\n",
       " 'solver': 'lbfgs',\n",
       " 'tol': 0.0001,\n",
       " 'verbose': 0,\n",
       " 'warm_start': False}"
      ]
     },
     "execution_count": 76,
     "metadata": {},
     "output_type": "execute_result"
    }
   ],
   "source": [
    "lr.get_params()"
   ]
  },
  {
   "cell_type": "markdown",
   "id": "ae788f47",
   "metadata": {},
   "source": [
    "Logistic Regression has a parameter that is useful for datasets that have unbalanced classes: class_weight. We will use GridSearch to look for the best parameter, in this case we are searching for the parameters that maximize ROC AUC score: "
   ]
  },
  {
   "cell_type": "code",
   "execution_count": 77,
   "id": "68042bb5",
   "metadata": {
    "ExecuteTime": {
     "end_time": "2022-05-04T14:11:42.279472Z",
     "start_time": "2022-05-04T14:11:42.263798Z"
    }
   },
   "outputs": [],
   "source": [
    "# define weight hyperparameter\n",
    "w = [{0:0.9,1:.01},{0:0.8,1:.2}, {0:.7,1:.3}, \n",
    "     {0:.6,1:0.4}, {0:5,1:.5}, {0:.4,1:.6}, {0:0.3,1:.7}, \n",
    "     {0:.2,1:.8}, {0:.1,1:.9}, {0:10000,1:10000},{0:7500,1:10000},\n",
    "     {0:5000,1:5000}, 'balanced' , 'auto', None]\n",
    "hyperparam_grid = {\"class_weight\": w }"
   ]
  },
  {
   "cell_type": "code",
   "execution_count": 78,
   "id": "56143dfa",
   "metadata": {
    "ExecuteTime": {
     "end_time": "2022-05-04T14:12:51.430934Z",
     "start_time": "2022-05-04T14:11:42.284897Z"
    }
   },
   "outputs": [
    {
     "name": "stdout",
     "output_type": "stream",
     "text": [
      "Best score: 0.9262298620738608 with param: {'class_weight': {0: 7500, 1: 10000}}\n"
     ]
    }
   ],
   "source": [
    "from sklearn.model_selection import train_test_split, GridSearchCV, cross_val_score, RepeatedStratifiedKFold, StratifiedKFold\n",
    "\n",
    "lr_grid = LogisticRegression(random_state= 12)\n",
    "\n",
    "grid = GridSearchCV(lr_grid, hyperparam_grid, scoring = 'roc_auc', cv =5, n_jobs = -1, refit= True)\n",
    "\n",
    "grid.fit(X, y)\n",
    "\n",
    "print(f'Best score: {grid.best_score_} with param: {grid.best_params_}')"
   ]
  },
  {
   "cell_type": "markdown",
   "id": "079537d7",
   "metadata": {},
   "source": [
    "Now we can apply this parameter to our model: "
   ]
  },
  {
   "cell_type": "code",
   "execution_count": 79,
   "id": "7ef1a825",
   "metadata": {
    "ExecuteTime": {
     "end_time": "2022-05-04T14:12:54.194618Z",
     "start_time": "2022-05-04T14:12:51.434727Z"
    }
   },
   "outputs": [
    {
     "data": {
      "text/plain": [
       "LogisticRegression(class_weight={0: 7500, 1: 10000}, random_state=12)"
      ]
     },
     "execution_count": 79,
     "metadata": {},
     "output_type": "execute_result"
    }
   ],
   "source": [
    "lr_tuned = LogisticRegression(class_weight= {0: 7500, 1: 10000}, random_state= 12)\n",
    "\n",
    "lr_tuned.fit(X_train, y_train)"
   ]
  },
  {
   "cell_type": "code",
   "execution_count": 80,
   "id": "bf74e4db",
   "metadata": {
    "ExecuteTime": {
     "end_time": "2022-05-04T14:12:54.319564Z",
     "start_time": "2022-05-04T14:12:54.197351Z"
    }
   },
   "outputs": [
    {
     "name": "stdout",
     "output_type": "stream",
     "text": [
      "Accuracy :  0.9035748859078966\n",
      "Recall (or sensitivity):  0.988837693508897\n",
      "Precision :  0.9111936188733545\n",
      "F1 score:  0.9484292080397922\n"
     ]
    }
   ],
   "source": [
    "lr_tuned_pred = lr_tuned.predict(X_test)\n",
    "\n",
    "print_results(y_test, lr_tuned_pred)"
   ]
  },
  {
   "cell_type": "code",
   "execution_count": 81,
   "id": "695c59c6",
   "metadata": {
    "ExecuteTime": {
     "end_time": "2022-05-04T14:12:54.350247Z",
     "start_time": "2022-05-04T14:12:54.321558Z"
    }
   },
   "outputs": [
    {
     "data": {
      "text/plain": [
       "array([[  978,  4999],\n",
       "       [  579, 51292]], dtype=int64)"
      ]
     },
     "execution_count": 81,
     "metadata": {},
     "output_type": "execute_result"
    }
   ],
   "source": [
    "# cm \n",
    "cm_lr_tuned = confusion_matrix(y_test, lr_tuned_pred)\n",
    "cm_lr_tuned"
   ]
  },
  {
   "cell_type": "markdown",
   "id": "b005300d",
   "metadata": {},
   "source": [
    "Since have choosen to maximize ROC AUC score, now we have increased false positives (but false negatives have decreased drastically!!)"
   ]
  },
  {
   "cell_type": "code",
   "execution_count": 82,
   "id": "f76e10ba",
   "metadata": {
    "ExecuteTime": {
     "end_time": "2022-05-04T14:12:54.489083Z",
     "start_time": "2022-05-04T14:12:54.358434Z"
    }
   },
   "outputs": [
    {
     "data": {
      "image/png": "[encoded data removed]",
      "text/plain": [
       "<Figure size 432x288 with 1 Axes>"
      ]
     },
     "metadata": {
      "needs_background": "light"
     },
     "output_type": "display_data"
    }
   ],
   "source": [
    "sns.heatmap(pd.DataFrame(cm_lr_tuned), annot = True, fmt='g', cbar = False, cmap=\"YlGnBu\", xticklabels= labels, \n",
    "            yticklabels= labels)\n",
    "plt.title('Logistic Regression (tuned parameters)', fontsize = 14)\n",
    "plt.ylabel('Actual Label', fontsize = 12)\n",
    "plt.xlabel('Predicted label', fontsize = 12);\n"
   ]
  },
  {
   "cell_type": "markdown",
   "id": "6d605233",
   "metadata": {},
   "source": [
    "We still have a lot of False Positives but False Negatives have decreased quite a lot (almost half of what they were before)"
   ]
  },
  {
   "cell_type": "code",
   "execution_count": 83,
   "id": "7521c2df",
   "metadata": {
    "ExecuteTime": {
     "end_time": "2022-05-04T14:12:55.000015Z",
     "start_time": "2022-05-04T14:12:54.490079Z"
    }
   },
   "outputs": [
    {
     "data": {
      "image/png": "[encoded data removed]",
      "text/plain": [
       "<Figure size 432x288 with 1 Axes>"
      ]
     },
     "metadata": {
      "needs_background": "light"
     },
     "output_type": "display_data"
    }
   ],
   "source": [
    "# let's draw our roc/auc curve\n",
    "lr_tuned_pred_proba = lr_tuned.predict_proba(X_test)[:,1]\n",
    "fpr, tpr, _ = metrics.roc_curve(y_test,  lr_tuned_pred_proba)\n",
    "auc_lr_tuned = metrics.roc_auc_score(y_test, lr_tuned_pred_proba)\n",
    "plt.plot(fpr,tpr,label=\"Logistic Regression (tuned), auc=\"+str(round(auc_lr_tuned, 4)))\n",
    "plt.plot([0, 1], [0, 1], linestyle='--')\n",
    "plt.xlabel('False Positive Rate (1 - Specificity)')\n",
    "plt.ylabel('True Positive Rate (Sensitivity)')\n",
    "plt.grid(True)\n",
    "plt.legend(loc=4)\n",
    "plt.title('ROC/AUC curve Logistic Regression (tuned parameters)'); "
   ]
  },
  {
   "cell_type": "markdown",
   "id": "ac7bc4b1",
   "metadata": {},
   "source": [
    "ROC AUC score has improved compared with the original model (this is the measure we have chosen to maximize in GridSearch)."
   ]
  },
  {
   "cell_type": "code",
   "execution_count": 84,
   "id": "46fa12da",
   "metadata": {
    "ExecuteTime": {
     "end_time": "2022-05-04T14:12:55.468227Z",
     "start_time": "2022-05-04T14:12:55.002495Z"
    }
   },
   "outputs": [
    {
     "data": {
      "text/html": [
       "<div>\n",
       "<style scoped>\n",
       "    .dataframe tbody tr th:only-of-type {\n",
       "        vertical-align: middle;\n",
       "    }\n",
       "\n",
       "    .dataframe tbody tr th {\n",
       "        vertical-align: top;\n",
       "    }\n",
       "\n",
       "    .dataframe thead th {\n",
       "        text-align: right;\n",
       "    }\n",
       "</style>\n",
       "<table border=\"1\" class=\"dataframe\">\n",
       "  <thead>\n",
       "    <tr style=\"text-align: right;\">\n",
       "      <th></th>\n",
       "      <th>Model</th>\n",
       "      <th>Accuracy</th>\n",
       "      <th>Recall</th>\n",
       "      <th>Precision</th>\n",
       "      <th>f1-score</th>\n",
       "      <th>ROC AUC Score</th>\n",
       "    </tr>\n",
       "  </thead>\n",
       "  <tbody>\n",
       "    <tr>\n",
       "      <th>0</th>\n",
       "      <td>Logistic Regression</td>\n",
       "      <td>0.905909</td>\n",
       "      <td>0.979545</td>\n",
       "      <td>0.920604</td>\n",
       "      <td>0.949161</td>\n",
       "      <td>0.926043</td>\n",
       "    </tr>\n",
       "    <tr>\n",
       "      <th>0</th>\n",
       "      <td>Logistic Regression (Balanced)</td>\n",
       "      <td>0.823140</td>\n",
       "      <td>0.813749</td>\n",
       "      <td>0.986676</td>\n",
       "      <td>0.891908</td>\n",
       "      <td>0.921749</td>\n",
       "    </tr>\n",
       "    <tr>\n",
       "      <th>0</th>\n",
       "      <td>AdaBoost (Balanced)</td>\n",
       "      <td>0.845319</td>\n",
       "      <td>0.842764</td>\n",
       "      <td>0.982205</td>\n",
       "      <td>0.907157</td>\n",
       "      <td>0.926512</td>\n",
       "    </tr>\n",
       "    <tr>\n",
       "      <th>0</th>\n",
       "      <td>Balanced Bagging Classifier</td>\n",
       "      <td>0.829156</td>\n",
       "      <td>0.817393</td>\n",
       "      <td>0.990399</td>\n",
       "      <td>0.895618</td>\n",
       "      <td>0.933588</td>\n",
       "    </tr>\n",
       "    <tr>\n",
       "      <th>0</th>\n",
       "      <td>Logistic Regression (tuned parameters)</td>\n",
       "      <td>0.903575</td>\n",
       "      <td>0.988838</td>\n",
       "      <td>0.911194</td>\n",
       "      <td>0.948429</td>\n",
       "      <td>0.926217</td>\n",
       "    </tr>\n",
       "  </tbody>\n",
       "</table>\n",
       "</div>"
      ],
      "text/plain": [
       "                                    Model  Accuracy    Recall  Precision  \\\n",
       "0                     Logistic Regression  0.905909  0.979545   0.920604   \n",
       "0          Logistic Regression (Balanced)  0.823140  0.813749   0.986676   \n",
       "0                     AdaBoost (Balanced)  0.845319  0.842764   0.982205   \n",
       "0             Balanced Bagging Classifier  0.829156  0.817393   0.990399   \n",
       "0  Logistic Regression (tuned parameters)  0.903575  0.988838   0.911194   \n",
       "\n",
       "   f1-score  ROC AUC Score  \n",
       "0  0.949161       0.926043  \n",
       "0  0.891908       0.921749  \n",
       "0  0.907157       0.926512  \n",
       "0  0.895618       0.933588  \n",
       "0  0.948429       0.926217  "
      ]
     },
     "execution_count": 84,
     "metadata": {},
     "output_type": "execute_result"
    }
   ],
   "source": [
    "# store the results\n",
    "lr_tuned_results = pd.DataFrame(data = [['Logistic Regression (tuned parameters)', get_results(y_test, lr_tuned_pred)[0],\n",
    "                                        get_results(y_test, lr_tuned_pred)[1], get_results(y_test, lr_tuned_pred)[2], \n",
    "                                        get_results(y_test, lr_tuned_pred)[3], auc_lr_tuned]], columns = ['Model', \n",
    "                                        'Accuracy', 'Recall', 'Precision', 'f1-score', 'ROC AUC Score'])\n",
    "results_df = pd.concat([results_df, lr_tuned_results])\n",
    "\n",
    "results_df"
   ]
  },
  {
   "cell_type": "markdown",
   "id": "3915df38",
   "metadata": {},
   "source": [
    "Compared with our original Logistic Regression Model, we have improve Recall and ROC AUC score but the precision has decreased (we have increased false positives: we predicted delay for a lot of flights that actualliy were on time)"
   ]
  },
  {
   "cell_type": "markdown",
   "id": "fd2a853e",
   "metadata": {},
   "source": [
    "#### Logistic Regression with balanced classes"
   ]
  },
  {
   "cell_type": "markdown",
   "id": "44895623",
   "metadata": {},
   "source": [
    "Let´s remember the parameters used in our first model with balanced classes: "
   ]
  },
  {
   "cell_type": "code",
   "execution_count": 85,
   "id": "81673286",
   "metadata": {
    "ExecuteTime": {
     "end_time": "2022-05-04T14:12:55.484164Z",
     "start_time": "2022-05-04T14:12:55.470638Z"
    }
   },
   "outputs": [
    {
     "data": {
      "text/plain": [
       "{'C': 1.0,\n",
       " 'class_weight': None,\n",
       " 'dual': False,\n",
       " 'fit_intercept': True,\n",
       " 'intercept_scaling': 1,\n",
       " 'l1_ratio': None,\n",
       " 'max_iter': 100,\n",
       " 'multi_class': 'auto',\n",
       " 'n_jobs': None,\n",
       " 'penalty': 'l2',\n",
       " 'random_state': 12,\n",
       " 'solver': 'lbfgs',\n",
       " 'tol': 0.0001,\n",
       " 'verbose': 0,\n",
       " 'warm_start': False}"
      ]
     },
     "execution_count": 85,
     "metadata": {},
     "output_type": "execute_result"
    }
   ],
   "source": [
    "lr_sm.get_params()"
   ]
  },
  {
   "cell_type": "markdown",
   "id": "cf222bf7",
   "metadata": {
    "ExecuteTime": {
     "end_time": "2022-05-06T10:44:19.907994Z",
     "start_time": "2022-05-06T10:44:19.888784Z"
    }
   },
   "source": [
    "This time we will search again to maximize ROC AUC score, we are choosing as tuning parameters solvers and c_values: "
   ]
  },
  {
   "cell_type": "code",
   "execution_count": 86,
   "id": "1d184031",
   "metadata": {
    "ExecuteTime": {
     "end_time": "2022-05-04T14:12:55.499329Z",
     "start_time": "2022-05-04T14:12:55.487226Z"
    }
   },
   "outputs": [],
   "source": [
    "# define models and parameters\n",
    "\n",
    "model = LogisticRegression(random_state=12)\n",
    "solvers = ['newton-cg', 'lbfgs', 'liblinear']\n",
    "c_values = [10, 20]\n",
    "penalty = ['l1']\n",
    "\n",
    "# define grid search\n",
    "grid = dict(solver=solvers,penalty=penalty,C=c_values)\n",
    "cv = RepeatedStratifiedKFold(n_splits=10, n_repeats=3, random_state=12)\n",
    "grid_search = GridSearchCV(estimator=model, param_grid=grid, cv=cv, scoring='roc_auc',error_score=0)\n",
    "grid_result = grid_search.fit(X_train_sm, y_train_sm)\n",
    "\n",
    "# summarize results\n",
    "print(\"Best: %f using %s\" % (grid_result.best_score_, grid_result.best_params_))\n"
   ]
  },
  {
   "cell_type": "code",
   "execution_count": 87,
   "id": "33c07736",
   "metadata": {
    "ExecuteTime": {
     "end_time": "2022-05-04T14:12:55.514109Z",
     "start_time": "2022-05-04T14:12:55.502319Z"
    }
   },
   "outputs": [],
   "source": [
    "results Best: 0.944532 using {'C': 10, 'penalty': 'l1', 'solver': 'liblinear'}"
   ]
  },
  {
   "cell_type": "markdown",
   "id": "a1c1cb2c",
   "metadata": {},
   "source": [
    "Wev have improved ROC AUC score, now let's try the model using these parameters: "
   ]
  },
  {
   "cell_type": "code",
   "execution_count": 88,
   "id": "e12ab326",
   "metadata": {
    "ExecuteTime": {
     "end_time": "2022-05-04T14:15:25.027052Z",
     "start_time": "2022-05-04T14:12:55.516103Z"
    }
   },
   "outputs": [
    {
     "data": {
      "text/plain": [
       "LogisticRegression(C=10, penalty='l1', random_state=12, solver='liblinear')"
      ]
     },
     "execution_count": 88,
     "metadata": {},
     "output_type": "execute_result"
    }
   ],
   "source": [
    "lr_sm_tuned = LogisticRegression(random_state= 12, C =10, penalty = 'l1', solver = 'liblinear')\n",
    "\n",
    "lr_sm_tuned.fit(X_train_sm, y_train_sm)"
   ]
  },
  {
   "cell_type": "code",
   "execution_count": 89,
   "id": "cf349b21",
   "metadata": {
    "ExecuteTime": {
     "end_time": "2022-05-04T14:15:25.225133Z",
     "start_time": "2022-05-04T14:15:25.030185Z"
    }
   },
   "outputs": [
    {
     "name": "stdout",
     "output_type": "stream",
     "text": [
      "Accuracy :  0.8482575024201355\n",
      "Recall (or sensitivity):  0.8470436274604307\n",
      "Precision :  0.9811527210200754\n",
      "F1 score:  0.909179323759467\n"
     ]
    }
   ],
   "source": [
    "lr_sm_tuned_pred = lr_sm_tuned.predict(X_test)\n",
    "\n",
    "print_results(y_test, lr_sm_tuned_pred)"
   ]
  },
  {
   "cell_type": "code",
   "execution_count": 90,
   "id": "16ade242",
   "metadata": {
    "ExecuteTime": {
     "end_time": "2022-05-04T14:15:25.255712Z",
     "start_time": "2022-05-04T14:15:25.227119Z"
    }
   },
   "outputs": [
    {
     "data": {
      "text/plain": [
       "array([[ 5133,   844],\n",
       "       [ 7934, 43937]], dtype=int64)"
      ]
     },
     "execution_count": 90,
     "metadata": {},
     "output_type": "execute_result"
    }
   ],
   "source": [
    "# check confucion matrix\n",
    "cm_lr_sm_tuned = confusion_matrix(y_test, lr_sm_tuned_pred)\n",
    "cm_lr_sm_tuned"
   ]
  },
  {
   "cell_type": "code",
   "execution_count": 109,
   "id": "72f01edf",
   "metadata": {
    "ExecuteTime": {
     "end_time": "2022-05-04T15:10:53.648064Z",
     "start_time": "2022-05-04T15:10:53.557592Z"
    }
   },
   "outputs": [
    {
     "data": {
      "image/png": "[encoded data removed]",
      "text/plain": [
       "<Figure size 432x288 with 1 Axes>"
      ]
     },
     "metadata": {
      "needs_background": "light"
     },
     "output_type": "display_data"
    }
   ],
   "source": [
    "sns.heatmap(pd.DataFrame(cm_lr_sm_tuned), annot = True, fmt='g', cbar = False,  cmap=\"YlGnBu\" , xticklabels= labels, \n",
    "            yticklabels= labels)\n",
    "plt.title('Logistic Regression tuned (Balanced Classes)', fontsize = 14)\n",
    "plt.ylabel('Actual Label', fontsize = 12)\n",
    "plt.xlabel('Predicted label', fontsize = 12);"
   ]
  },
  {
   "cell_type": "markdown",
   "id": "9077e779",
   "metadata": {},
   "source": [
    "Maximizing the ROC AUC score has increased the false positives a little, but the false negatives have decreased even more, so that overall the model has been improved."
   ]
  },
  {
   "cell_type": "code",
   "execution_count": 96,
   "id": "0199b7f6",
   "metadata": {
    "ExecuteTime": {
     "end_time": "2022-05-04T14:15:25.908048Z",
     "start_time": "2022-05-04T14:15:25.598926Z"
    }
   },
   "outputs": [
    {
     "data": {
      "image/png": "[encoded data removed]",
      "text/plain": [
       "<Figure size 432x288 with 1 Axes>"
      ]
     },
     "metadata": {
      "needs_background": "light"
     },
     "output_type": "display_data"
    }
   ],
   "source": [
    "# let's draw our roc/auc curve\n",
    "lr_sm_tuned_pred_proba = lr_sm_tuned.predict_proba(X_test)[:,1]\n",
    "fpr, tpr, _ = metrics.roc_curve(y_test,  lr_sm_tuned_pred_proba)\n",
    "auc_lr_sm_tuned = metrics.roc_auc_score(y_test, lr_sm_tuned_pred_proba)\n",
    "plt.plot(fpr,tpr,label=\"Logistic Regression (Balanced and Tuned Parameters, auc=\"+str(round(auc_lr_sm_tuned, 4)))\n",
    "plt.plot([0, 1], [0, 1], linestyle='--')\n",
    "plt.xlabel('False Positive Rate (1 - Specificity)')\n",
    "plt.ylabel('True Positive Rate (Sensitivity)')\n",
    "plt.grid(True)\n",
    "plt.legend(loc=4)\n",
    "plt.title('ROC/AUC curve Logistic Regression (Balanced and Tuned parameters) '); "
   ]
  },
  {
   "cell_type": "markdown",
   "id": "cfc3a682",
   "metadata": {},
   "source": [
    "ROC AUC score has increased from 0.9218 to 0.9235. "
   ]
  },
  {
   "cell_type": "code",
   "execution_count": 97,
   "id": "ab5c1f39",
   "metadata": {
    "ExecuteTime": {
     "end_time": "2022-05-04T14:15:26.408373Z",
     "start_time": "2022-05-04T14:15:25.911136Z"
    }
   },
   "outputs": [
    {
     "data": {
      "text/html": [
       "<div>\n",
       "<style scoped>\n",
       "    .dataframe tbody tr th:only-of-type {\n",
       "        vertical-align: middle;\n",
       "    }\n",
       "\n",
       "    .dataframe tbody tr th {\n",
       "        vertical-align: top;\n",
       "    }\n",
       "\n",
       "    .dataframe thead th {\n",
       "        text-align: right;\n",
       "    }\n",
       "</style>\n",
       "<table border=\"1\" class=\"dataframe\">\n",
       "  <thead>\n",
       "    <tr style=\"text-align: right;\">\n",
       "      <th></th>\n",
       "      <th>Model</th>\n",
       "      <th>Accuracy</th>\n",
       "      <th>Recall</th>\n",
       "      <th>Precision</th>\n",
       "      <th>f1-score</th>\n",
       "      <th>ROC AUC Score</th>\n",
       "    </tr>\n",
       "  </thead>\n",
       "  <tbody>\n",
       "    <tr>\n",
       "      <th>0</th>\n",
       "      <td>Logistic Regression</td>\n",
       "      <td>0.905909</td>\n",
       "      <td>0.979545</td>\n",
       "      <td>0.920604</td>\n",
       "      <td>0.949161</td>\n",
       "      <td>0.926043</td>\n",
       "    </tr>\n",
       "    <tr>\n",
       "      <th>0</th>\n",
       "      <td>Logistic Regression (Balanced)</td>\n",
       "      <td>0.823140</td>\n",
       "      <td>0.813749</td>\n",
       "      <td>0.986676</td>\n",
       "      <td>0.891908</td>\n",
       "      <td>0.921749</td>\n",
       "    </tr>\n",
       "    <tr>\n",
       "      <th>0</th>\n",
       "      <td>AdaBoost (Balanced)</td>\n",
       "      <td>0.845319</td>\n",
       "      <td>0.842764</td>\n",
       "      <td>0.982205</td>\n",
       "      <td>0.907157</td>\n",
       "      <td>0.926512</td>\n",
       "    </tr>\n",
       "    <tr>\n",
       "      <th>0</th>\n",
       "      <td>Balanced Bagging Classifier</td>\n",
       "      <td>0.829156</td>\n",
       "      <td>0.817393</td>\n",
       "      <td>0.990399</td>\n",
       "      <td>0.895618</td>\n",
       "      <td>0.933588</td>\n",
       "    </tr>\n",
       "    <tr>\n",
       "      <th>0</th>\n",
       "      <td>Logistic Regression (tuned parameters)</td>\n",
       "      <td>0.903575</td>\n",
       "      <td>0.988838</td>\n",
       "      <td>0.911194</td>\n",
       "      <td>0.948429</td>\n",
       "      <td>0.926217</td>\n",
       "    </tr>\n",
       "    <tr>\n",
       "      <th>0</th>\n",
       "      <td>Logistic Regression (Balanced and tuned parame...</td>\n",
       "      <td>0.848258</td>\n",
       "      <td>0.847044</td>\n",
       "      <td>0.981153</td>\n",
       "      <td>0.909179</td>\n",
       "      <td>0.923453</td>\n",
       "    </tr>\n",
       "  </tbody>\n",
       "</table>\n",
       "</div>"
      ],
      "text/plain": [
       "                                               Model  Accuracy    Recall  \\\n",
       "0                                Logistic Regression  0.905909  0.979545   \n",
       "0                     Logistic Regression (Balanced)  0.823140  0.813749   \n",
       "0                                AdaBoost (Balanced)  0.845319  0.842764   \n",
       "0                        Balanced Bagging Classifier  0.829156  0.817393   \n",
       "0             Logistic Regression (tuned parameters)  0.903575  0.988838   \n",
       "0  Logistic Regression (Balanced and tuned parame...  0.848258  0.847044   \n",
       "\n",
       "   Precision  f1-score  ROC AUC Score  \n",
       "0   0.920604  0.949161       0.926043  \n",
       "0   0.986676  0.891908       0.921749  \n",
       "0   0.982205  0.907157       0.926512  \n",
       "0   0.990399  0.895618       0.933588  \n",
       "0   0.911194  0.948429       0.926217  \n",
       "0   0.981153  0.909179       0.923453  "
      ]
     },
     "execution_count": 97,
     "metadata": {},
     "output_type": "execute_result"
    }
   ],
   "source": [
    "# store the results\n",
    "lr_sm_tuned_results = pd.DataFrame(data=[['Logistic Regression (Balanced and tuned parameters)', \n",
    "                                         get_results(y_test, lr_sm_tuned_pred)[0], get_results(y_test, lr_sm_tuned_pred)[1], \n",
    "                                         get_results(y_test, lr_sm_tuned_pred)[2], get_results(y_test, lr_sm_tuned_pred)[3], \n",
    "                                         auc_lr_sm_tuned]] , columns = ['Model', 'Accuracy', 'Recall', 'Precision', \n",
    "                                        'f1-score', 'ROC AUC Score'])\n",
    "\n",
    "results_df = pd.concat([results_df, lr_sm_tuned_results])\n",
    "results_df"
   ]
  },
  {
   "cell_type": "markdown",
   "id": "6f2977d1",
   "metadata": {},
   "source": [
    "Compared with our original Logistic Regression (Balanced) model:  \n",
    "\n",
    "+ ROC AUC score has improved\n",
    "+ f1 score and recall have improved too\n",
    "+ precision has decreased a little \n",
    "    "
   ]
  },
  {
   "cell_type": "markdown",
   "id": "e3461d91",
   "metadata": {},
   "source": [
    "#### Adaboost with Balanced classes"
   ]
  },
  {
   "cell_type": "code",
   "execution_count": 98,
   "id": "7a7f1ed8",
   "metadata": {
    "ExecuteTime": {
     "end_time": "2022-05-04T14:15:26.423951Z",
     "start_time": "2022-05-04T14:15:26.412129Z"
    }
   },
   "outputs": [
    {
     "data": {
      "text/plain": [
       "{'algorithm': 'SAMME.R',\n",
       " 'base_estimator': None,\n",
       " 'learning_rate': 1.0,\n",
       " 'n_estimators': 50,\n",
       " 'random_state': 0}"
      ]
     },
     "execution_count": 98,
     "metadata": {},
     "output_type": "execute_result"
    }
   ],
   "source": [
    "# check previously used params \n",
    "ada_sm.get_params()"
   ]
  },
  {
   "cell_type": "markdown",
   "id": "9aefcda7",
   "metadata": {},
   "source": [
    "We will try to change the number of estimators to see if we can improve the model, we will use GridSearch to look for the best parameters, this time we look to maximize F1 score: "
   ]
  },
  {
   "cell_type": "code",
   "execution_count": 99,
   "id": "f995bff5",
   "metadata": {
    "ExecuteTime": {
     "end_time": "2022-05-04T15:00:03.898281Z",
     "start_time": "2022-05-04T14:15:26.427490Z"
    }
   },
   "outputs": [
    {
     "name": "stdout",
     "output_type": "stream",
     "text": [
      "Best: 0.893877 using {'n_estimators': 1000}\n"
     ]
    }
   ],
   "source": [
    "model2 = AdaBoostClassifier(random_state=0)\n",
    "estimators = [100, 200, 1000]\n",
    "grid = dict(n_estimators = estimators)\n",
    "cv = RepeatedStratifiedKFold(n_splits = 10, n_repeats= 3, random_state=0)\n",
    "grid_search = GridSearchCV(estimator = model2, param_grid=grid, cv = cv, scoring = 'f1', error_score=0 )\n",
    "grid_result_ada = grid_search.fit(X_train_sm, y_train_sm)\n",
    "\n",
    "# summarize results\n",
    "print(\"Best: %f using %s\" % (grid_result_ada.best_score_, grid_result_ada.best_params_))"
   ]
  },
  {
   "cell_type": "markdown",
   "id": "405f9a7f",
   "metadata": {
    "ExecuteTime": {
     "end_time": "2022-05-04T10:49:30.826510Z",
     "start_time": "2022-05-04T10:49:30.816660Z"
    }
   },
   "source": [
    "Now we can apply this new parameter to our model: "
   ]
  },
  {
   "cell_type": "code",
   "execution_count": 100,
   "id": "4d342bf8",
   "metadata": {
    "ExecuteTime": {
     "end_time": "2022-05-04T15:01:08.650007Z",
     "start_time": "2022-05-04T15:00:03.912267Z"
    }
   },
   "outputs": [
    {
     "data": {
      "text/plain": [
       "AdaBoostClassifier(n_estimators=1000, random_state=0)"
      ]
     },
     "execution_count": 100,
     "metadata": {},
     "output_type": "execute_result"
    }
   ],
   "source": [
    "ada_sm_tuned = AdaBoostClassifier(n_estimators=1000, random_state=0)\n",
    "\n",
    "ada_sm_tuned.fit(X_train_sm, y_train_sm)"
   ]
  },
  {
   "cell_type": "code",
   "execution_count": 101,
   "id": "7fabbcb9",
   "metadata": {
    "ExecuteTime": {
     "end_time": "2022-05-04T15:01:23.558649Z",
     "start_time": "2022-05-04T15:01:08.662976Z"
    }
   },
   "outputs": [
    {
     "name": "stdout",
     "output_type": "stream",
     "text": [
      "Accuracy :  0.862968469091412\n",
      "Recall (or sensitivity):  0.8671512020203967\n",
      "Precision :  0.9774860917941586\n",
      "F1 score:  0.9190188686955367\n"
     ]
    }
   ],
   "source": [
    "ada_sm_tuned_pred = ada_sm_tuned.predict(X_test)\n",
    "\n",
    "print_results(y_test, ada_sm_tuned_pred)"
   ]
  },
  {
   "cell_type": "code",
   "execution_count": 110,
   "id": "b5de7cb1",
   "metadata": {
    "ExecuteTime": {
     "end_time": "2022-05-04T15:11:57.718206Z",
     "start_time": "2022-05-04T15:11:57.634969Z"
    }
   },
   "outputs": [
    {
     "data": {
      "image/png": "[encoded data removed]",
      "text/plain": [
       "<Figure size 432x288 with 1 Axes>"
      ]
     },
     "metadata": {
      "needs_background": "light"
     },
     "output_type": "display_data"
    }
   ],
   "source": [
    "# cm \n",
    "cm_ada_sm_tuned = confusion_matrix(y_test, ada_sm_tuned_pred)\n",
    "\n",
    "sns.heatmap(pd.DataFrame(cm_ada_sm_tuned), annot = True, fmt='g', cbar = False, cmap=\"YlGnBu\", xticklabels= labels, \n",
    "            yticklabels= labels)\n",
    "plt.title('AdaBoost tuned (Balanced Classes)', fontsize = 14)\n",
    "plt.ylabel('Actual Label', fontsize = 12)\n",
    "plt.xlabel('Predicted label', fontsize = 12);"
   ]
  },
  {
   "cell_type": "markdown",
   "id": "aee19e17",
   "metadata": {},
   "source": [
    "Compared to the original model : \n",
    "\n",
    "+ False positives have increased by 244 observations. \n",
    "+ False negatives have been reduced by 1265 observations. "
   ]
  },
  {
   "cell_type": "code",
   "execution_count": 111,
   "id": "c6ef632f",
   "metadata": {
    "ExecuteTime": {
     "end_time": "2022-05-04T15:13:54.506033Z",
     "start_time": "2022-05-04T15:13:42.968597Z"
    }
   },
   "outputs": [
    {
     "data": {
      "image/png": "[encoded data removed]",
      "text/plain": [
       "<Figure size 432x288 with 1 Axes>"
      ]
     },
     "metadata": {
      "needs_background": "light"
     },
     "output_type": "display_data"
    }
   ],
   "source": [
    "# let's draw our roc/auc curve\n",
    "ada_sm_tuned_pred_proba = ada_sm_tuned.predict_proba(X_test)[:,1]\n",
    "fpr, tpr, _ = metrics.roc_curve(y_test,  ada_sm_tuned_pred_proba)\n",
    "auc_ada_sm_tuned = metrics.roc_auc_score(y_test, ada_sm_tuned_pred_proba)\n",
    "plt.plot(fpr,tpr,label=\"AdaBoost (Balanced and Tuned Parameters), auc=\"+str(round(auc_ada_sm_tuned, 4)))\n",
    "plt.plot([0, 1], [0, 1], linestyle='--')\n",
    "plt.xlabel('False Positive Rate (1 - Specificity)')\n",
    "plt.ylabel('True Positive Rate (Sensitivity)')\n",
    "plt.grid(True)\n",
    "plt.legend(loc=4)\n",
    "plt.title('ROC/AUC curve AdaBoost (Balanced and Tuned parameters) '); "
   ]
  },
  {
   "cell_type": "code",
   "execution_count": 112,
   "id": "dd1e46cd",
   "metadata": {
    "ExecuteTime": {
     "end_time": "2022-05-04T15:17:43.016277Z",
     "start_time": "2022-05-04T15:17:42.781796Z"
    }
   },
   "outputs": [
    {
     "data": {
      "text/html": [
       "<div>\n",
       "<style scoped>\n",
       "    .dataframe tbody tr th:only-of-type {\n",
       "        vertical-align: middle;\n",
       "    }\n",
       "\n",
       "    .dataframe tbody tr th {\n",
       "        vertical-align: top;\n",
       "    }\n",
       "\n",
       "    .dataframe thead th {\n",
       "        text-align: right;\n",
       "    }\n",
       "</style>\n",
       "<table border=\"1\" class=\"dataframe\">\n",
       "  <thead>\n",
       "    <tr style=\"text-align: right;\">\n",
       "      <th></th>\n",
       "      <th>Model</th>\n",
       "      <th>Accuracy</th>\n",
       "      <th>Recall</th>\n",
       "      <th>Precision</th>\n",
       "      <th>f1-score</th>\n",
       "      <th>ROC AUC Score</th>\n",
       "    </tr>\n",
       "  </thead>\n",
       "  <tbody>\n",
       "    <tr>\n",
       "      <th>0</th>\n",
       "      <td>Logistic Regression</td>\n",
       "      <td>0.905909</td>\n",
       "      <td>0.979545</td>\n",
       "      <td>0.920604</td>\n",
       "      <td>0.949161</td>\n",
       "      <td>0.926043</td>\n",
       "    </tr>\n",
       "    <tr>\n",
       "      <th>0</th>\n",
       "      <td>Logistic Regression (Balanced)</td>\n",
       "      <td>0.823140</td>\n",
       "      <td>0.813749</td>\n",
       "      <td>0.986676</td>\n",
       "      <td>0.891908</td>\n",
       "      <td>0.921749</td>\n",
       "    </tr>\n",
       "    <tr>\n",
       "      <th>0</th>\n",
       "      <td>AdaBoost (Balanced)</td>\n",
       "      <td>0.845319</td>\n",
       "      <td>0.842764</td>\n",
       "      <td>0.982205</td>\n",
       "      <td>0.907157</td>\n",
       "      <td>0.926512</td>\n",
       "    </tr>\n",
       "    <tr>\n",
       "      <th>0</th>\n",
       "      <td>Balanced Bagging Classifier</td>\n",
       "      <td>0.829156</td>\n",
       "      <td>0.817393</td>\n",
       "      <td>0.990399</td>\n",
       "      <td>0.895618</td>\n",
       "      <td>0.933588</td>\n",
       "    </tr>\n",
       "    <tr>\n",
       "      <th>0</th>\n",
       "      <td>Logistic Regression (tuned parameters)</td>\n",
       "      <td>0.903575</td>\n",
       "      <td>0.988838</td>\n",
       "      <td>0.911194</td>\n",
       "      <td>0.948429</td>\n",
       "      <td>0.926217</td>\n",
       "    </tr>\n",
       "    <tr>\n",
       "      <th>0</th>\n",
       "      <td>Logistic Regression (Balanced and tuned parame...</td>\n",
       "      <td>0.848258</td>\n",
       "      <td>0.847044</td>\n",
       "      <td>0.981153</td>\n",
       "      <td>0.909179</td>\n",
       "      <td>0.923453</td>\n",
       "    </tr>\n",
       "    <tr>\n",
       "      <th>0</th>\n",
       "      <td>AdaBoost (Balanced and tuned parameters)</td>\n",
       "      <td>0.862968</td>\n",
       "      <td>0.867151</td>\n",
       "      <td>0.977486</td>\n",
       "      <td>0.919019</td>\n",
       "      <td>0.929833</td>\n",
       "    </tr>\n",
       "  </tbody>\n",
       "</table>\n",
       "</div>"
      ],
      "text/plain": [
       "                                               Model  Accuracy    Recall  \\\n",
       "0                                Logistic Regression  0.905909  0.979545   \n",
       "0                     Logistic Regression (Balanced)  0.823140  0.813749   \n",
       "0                                AdaBoost (Balanced)  0.845319  0.842764   \n",
       "0                        Balanced Bagging Classifier  0.829156  0.817393   \n",
       "0             Logistic Regression (tuned parameters)  0.903575  0.988838   \n",
       "0  Logistic Regression (Balanced and tuned parame...  0.848258  0.847044   \n",
       "0           AdaBoost (Balanced and tuned parameters)  0.862968  0.867151   \n",
       "\n",
       "   Precision  f1-score  ROC AUC Score  \n",
       "0   0.920604  0.949161       0.926043  \n",
       "0   0.986676  0.891908       0.921749  \n",
       "0   0.982205  0.907157       0.926512  \n",
       "0   0.990399  0.895618       0.933588  \n",
       "0   0.911194  0.948429       0.926217  \n",
       "0   0.981153  0.909179       0.923453  \n",
       "0   0.977486  0.919019       0.929833  "
      ]
     },
     "execution_count": 112,
     "metadata": {},
     "output_type": "execute_result"
    }
   ],
   "source": [
    "# store the results \n",
    "ada_tuned_results = pd.DataFrame(data = [['AdaBoost (Balanced and tuned parameters)', \n",
    "                                         get_results(y_test, ada_sm_tuned_pred)[0],\n",
    "                                         get_results(y_test, ada_sm_tuned_pred)[1], \n",
    "                                         get_results(y_test, ada_sm_tuned_pred)[2], \n",
    "                                         get_results(y_test, ada_sm_tuned_pred)[3], \n",
    "                                         auc_ada_sm_tuned]], columns = ['Model', 'Accuracy', \n",
    "                                         'Recall', 'Precision', 'f1-score', 'ROC AUC Score'])\n",
    "\n",
    "results_df = pd.concat([results_df, ada_tuned_results])\n",
    "results_df"
   ]
  },
  {
   "cell_type": "markdown",
   "id": "f986667b",
   "metadata": {
    "ExecuteTime": {
     "end_time": "2022-05-04T15:01:23.574292Z",
     "start_time": "2022-05-04T15:01:23.560572Z"
    }
   },
   "source": [
    "Compare with previous results: "
   ]
  },
  {
   "cell_type": "code",
   "execution_count": 117,
   "id": "fd67033c",
   "metadata": {
    "ExecuteTime": {
     "end_time": "2022-05-04T15:28:07.197002Z",
     "start_time": "2022-05-04T15:28:07.167351Z"
    }
   },
   "outputs": [
    {
     "data": {
      "text/html": [
       "<div>\n",
       "<style scoped>\n",
       "    .dataframe tbody tr th:only-of-type {\n",
       "        vertical-align: middle;\n",
       "    }\n",
       "\n",
       "    .dataframe tbody tr th {\n",
       "        vertical-align: top;\n",
       "    }\n",
       "\n",
       "    .dataframe thead th {\n",
       "        text-align: right;\n",
       "    }\n",
       "</style>\n",
       "<table border=\"1\" class=\"dataframe\">\n",
       "  <thead>\n",
       "    <tr style=\"text-align: right;\">\n",
       "      <th></th>\n",
       "      <th>Model</th>\n",
       "      <th>Accuracy</th>\n",
       "      <th>Recall</th>\n",
       "      <th>Precision</th>\n",
       "      <th>f1-score</th>\n",
       "      <th>ROC AUC Score</th>\n",
       "    </tr>\n",
       "  </thead>\n",
       "  <tbody>\n",
       "    <tr>\n",
       "      <th>0</th>\n",
       "      <td>AdaBoost (Balanced)</td>\n",
       "      <td>0.845319</td>\n",
       "      <td>0.842764</td>\n",
       "      <td>0.982205</td>\n",
       "      <td>0.907157</td>\n",
       "      <td>0.926512</td>\n",
       "    </tr>\n",
       "    <tr>\n",
       "      <th>0</th>\n",
       "      <td>AdaBoost (Balanced and tuned parameters)</td>\n",
       "      <td>0.862968</td>\n",
       "      <td>0.867151</td>\n",
       "      <td>0.977486</td>\n",
       "      <td>0.919019</td>\n",
       "      <td>0.929833</td>\n",
       "    </tr>\n",
       "  </tbody>\n",
       "</table>\n",
       "</div>"
      ],
      "text/plain": [
       "                                      Model  Accuracy    Recall  Precision  \\\n",
       "0                       AdaBoost (Balanced)  0.845319  0.842764   0.982205   \n",
       "0  AdaBoost (Balanced and tuned parameters)  0.862968  0.867151   0.977486   \n",
       "\n",
       "   f1-score  ROC AUC Score  \n",
       "0  0.907157       0.926512  \n",
       "0  0.919019       0.929833  "
      ]
     },
     "execution_count": 117,
     "metadata": {},
     "output_type": "execute_result"
    }
   ],
   "source": [
    "results_df[results_df['Model'].str.contains('AdaBoost')]"
   ]
  },
  {
   "cell_type": "markdown",
   "id": "a51076af",
   "metadata": {},
   "source": [
    "+ All parameters except precision have improved \n",
    "+ F1 score and ROC AUC score has improved so overall we have a better model now. "
   ]
  },
  {
   "cell_type": "markdown",
   "id": "3f48e0a1",
   "metadata": {},
   "source": [
    "#### Balanced Bagging Classifier "
   ]
  },
  {
   "cell_type": "markdown",
   "id": "5e537d19",
   "metadata": {},
   "source": [
    "For this algorithm we will try to maximize the f1 score, let´s check the default parameters: "
   ]
  },
  {
   "cell_type": "code",
   "execution_count": 103,
   "id": "df226b17",
   "metadata": {
    "ExecuteTime": {
     "end_time": "2022-05-04T15:01:23.590097Z",
     "start_time": "2022-05-04T15:01:23.575890Z"
    }
   },
   "outputs": [
    {
     "data": {
      "text/plain": [
       "{'base_estimator__bootstrap': True,\n",
       " 'base_estimator__ccp_alpha': 0.0,\n",
       " 'base_estimator__class_weight': None,\n",
       " 'base_estimator__criterion': 'gini',\n",
       " 'base_estimator__max_depth': None,\n",
       " 'base_estimator__max_features': 'auto',\n",
       " 'base_estimator__max_leaf_nodes': None,\n",
       " 'base_estimator__max_samples': None,\n",
       " 'base_estimator__min_impurity_decrease': 0.0,\n",
       " 'base_estimator__min_samples_leaf': 1,\n",
       " 'base_estimator__min_samples_split': 2,\n",
       " 'base_estimator__min_weight_fraction_leaf': 0.0,\n",
       " 'base_estimator__n_estimators': 100,\n",
       " 'base_estimator__n_jobs': None,\n",
       " 'base_estimator__oob_score': False,\n",
       " 'base_estimator__random_state': 0,\n",
       " 'base_estimator__verbose': 0,\n",
       " 'base_estimator__warm_start': False,\n",
       " 'base_estimator': RandomForestClassifier(random_state=0),\n",
       " 'bootstrap': True,\n",
       " 'bootstrap_features': False,\n",
       " 'max_features': 1.0,\n",
       " 'max_samples': 1.0,\n",
       " 'n_estimators': 10,\n",
       " 'n_jobs': None,\n",
       " 'oob_score': False,\n",
       " 'random_state': 0,\n",
       " 'replacement': False,\n",
       " 'sampler': None,\n",
       " 'sampling_strategy': 'auto',\n",
       " 'verbose': 0,\n",
       " 'warm_start': False}"
      ]
     },
     "execution_count": 103,
     "metadata": {},
     "output_type": "execute_result"
    }
   ],
   "source": [
    "balanced.get_params()"
   ]
  },
  {
   "cell_type": "markdown",
   "id": "99ba85fa",
   "metadata": {},
   "source": [
    "Since computing time is very slow with this algorithm, this time we will cange this parameters manually and check if our results are improved. We will select the most important parameters:  \n",
    "\n",
    "+ Inside RandomForest estimator we will choose max_features : 30\n",
    "+ In BalancedBaggingClassifier we will use n_estimators : 50"
   ]
  },
  {
   "cell_type": "code",
   "execution_count": 21,
   "id": "a0d61640",
   "metadata": {
    "ExecuteTime": {
     "end_time": "2022-05-07T10:11:05.040998Z",
     "start_time": "2022-05-07T09:52:32.188347Z"
    }
   },
   "outputs": [
    {
     "data": {
      "text/plain": [
       "BalancedBaggingClassifier(base_estimator=RandomForestClassifier(max_features=30,\n",
       "                                                                random_state=0),\n",
       "                          n_estimators=100, random_state=0)"
      ]
     },
     "execution_count": 21,
     "metadata": {},
     "output_type": "execute_result"
    }
   ],
   "source": [
    "from imblearn.ensemble import BalancedBaggingClassifier\n",
    "from sklearn.ensemble import RandomForestClassifier\n",
    "\n",
    "balanced_tuned = BalancedBaggingClassifier(base_estimator= RandomForestClassifier(random_state=0, max_features=30), \n",
    "                              sampling_strategy='auto', replacement= False, random_state=0, n_estimators = 100)\n",
    "\n",
    "balanced_tuned.fit(X_train, y_train)   "
   ]
  },
  {
   "cell_type": "code",
   "execution_count": 22,
   "id": "9808fed5",
   "metadata": {
    "ExecuteTime": {
     "end_time": "2022-05-07T10:13:40.721384Z",
     "start_time": "2022-05-07T10:12:15.664979Z"
    }
   },
   "outputs": [],
   "source": [
    "balanced_tuned_pred = balanced_tuned.predict(X_test)"
   ]
  },
  {
   "cell_type": "code",
   "execution_count": 125,
   "id": "672f38ae",
   "metadata": {
    "ExecuteTime": {
     "end_time": "2022-05-04T18:02:21.082540Z",
     "start_time": "2022-05-04T18:00:35.180945Z"
    }
   },
   "outputs": [
    {
     "name": "stdout",
     "output_type": "stream",
     "text": [
      "Accuracy :  0.8329069285022819\n",
      "Recall (or sensitivity):  0.8223670258911531\n",
      "Precision :  0.9895149504743789\n",
      "F1 score:  0.898231206569804\n"
     ]
    }
   ],
   "source": [
    "print_results(y_test, balanced_tuned_pred)"
   ]
  },
  {
   "cell_type": "code",
   "execution_count": 122,
   "id": "ac2bb0ef",
   "metadata": {
    "ExecuteTime": {
     "end_time": "2022-05-04T17:28:27.739699Z",
     "start_time": "2022-05-04T17:28:27.710271Z"
    }
   },
   "outputs": [
    {
     "data": {
      "text/html": [
       "<div>\n",
       "<style scoped>\n",
       "    .dataframe tbody tr th:only-of-type {\n",
       "        vertical-align: middle;\n",
       "    }\n",
       "\n",
       "    .dataframe tbody tr th {\n",
       "        vertical-align: top;\n",
       "    }\n",
       "\n",
       "    .dataframe thead th {\n",
       "        text-align: right;\n",
       "    }\n",
       "</style>\n",
       "<table border=\"1\" class=\"dataframe\">\n",
       "  <thead>\n",
       "    <tr style=\"text-align: right;\">\n",
       "      <th></th>\n",
       "      <th>Model</th>\n",
       "      <th>Accuracy</th>\n",
       "      <th>Recall</th>\n",
       "      <th>Precision</th>\n",
       "      <th>f1-score</th>\n",
       "      <th>ROC AUC Score</th>\n",
       "    </tr>\n",
       "  </thead>\n",
       "  <tbody>\n",
       "    <tr>\n",
       "      <th>0</th>\n",
       "      <td>Balanced Bagging Classifier</td>\n",
       "      <td>0.829156</td>\n",
       "      <td>0.817393</td>\n",
       "      <td>0.990399</td>\n",
       "      <td>0.895618</td>\n",
       "      <td>0.933588</td>\n",
       "    </tr>\n",
       "  </tbody>\n",
       "</table>\n",
       "</div>"
      ],
      "text/plain": [
       "                         Model  Accuracy    Recall  Precision  f1-score  \\\n",
       "0  Balanced Bagging Classifier  0.829156  0.817393   0.990399  0.895618   \n",
       "\n",
       "   ROC AUC Score  \n",
       "0       0.933588  "
      ]
     },
     "execution_count": 122,
     "metadata": {},
     "output_type": "execute_result"
    }
   ],
   "source": [
    "# see previous results\n",
    "results_df[3:4]"
   ]
  },
  {
   "cell_type": "markdown",
   "id": "013f0765",
   "metadata": {},
   "source": [
    "All metrics except for Precision have improved a little!!"
   ]
  },
  {
   "cell_type": "code",
   "execution_count": 25,
   "id": "c1873934",
   "metadata": {
    "ExecuteTime": {
     "end_time": "2022-05-07T10:18:16.919522Z",
     "start_time": "2022-05-07T10:18:16.815959Z"
    }
   },
   "outputs": [
    {
     "data": {
      "image/png": "[encoded data removed]",
      "text/plain": [
       "<Figure size 432x288 with 1 Axes>"
      ]
     },
     "metadata": {
      "needs_background": "light"
     },
     "output_type": "display_data"
    }
   ],
   "source": [
    "#cm \n",
    "cm_balanced_tuned = confusion_matrix(y_test, balanced_tuned_pred)\n",
    "labels = ['On Time', 'Delayed']\n",
    "sns.heatmap(pd.DataFrame(cm_balanced_tuned), annot = True, fmt='g', cbar = False, cmap=\"YlGnBu\", xticklabels= labels, \n",
    "            yticklabels= labels)\n",
    "plt.title('BalancedBaggingClassifier(tuned params)', fontsize = 14)\n",
    "plt.ylabel('Actual Label', fontsize = 12)\n",
    "plt.xlabel('Predicted label', fontsize = 12);"
   ]
  },
  {
   "cell_type": "markdown",
   "id": "c7a8e8d3",
   "metadata": {},
   "source": [
    "Although we see the metrics have improved a little (except for precision), looking at confusion matrix we realize is more or less very similar as it was before.  "
   ]
  },
  {
   "cell_type": "code",
   "execution_count": 126,
   "id": "a2919654",
   "metadata": {
    "ExecuteTime": {
     "end_time": "2022-05-04T18:11:14.518249Z",
     "start_time": "2022-05-04T18:09:48.321353Z"
    }
   },
   "outputs": [
    {
     "data": {
      "image/png": "[encoded data removed]",
      "text/plain": [
       "<Figure size 432x288 with 1 Axes>"
      ]
     },
     "metadata": {
      "needs_background": "light"
     },
     "output_type": "display_data"
    }
   ],
   "source": [
    "# check roc auc score \n",
    "\n",
    "balanced_tuned_pred_proba = balanced_tuned.predict_proba(X_test)[:,1]\n",
    "fpr, tpr, _ = metrics.roc_curve(y_test,  balanced_tuned_pred_proba)\n",
    "auc_balanced_tuned = metrics.roc_auc_score(y_test, balanced_tuned_pred_proba)\n",
    "plt.plot(fpr,tpr,label=\"BalancedBaggingClassifier (tuned), auc=\"+str(round(auc_balanced_tuned, 4)))\n",
    "plt.plot([0, 1], [0, 1], linestyle='--')\n",
    "plt.xlabel('False Positive Rate (1 - Specificity)')\n",
    "plt.ylabel('True Positive Rate (Sensitivity)')\n",
    "plt.grid(True)\n",
    "plt.legend(loc=4)\n",
    "plt.title('ROC/AUC curve BalancedBaggingClassifier(tuned) '); \n"
   ]
  },
  {
   "cell_type": "code",
   "execution_count": 129,
   "id": "cbec55a3",
   "metadata": {
    "ExecuteTime": {
     "end_time": "2022-05-04T18:24:37.691173Z",
     "start_time": "2022-05-04T18:24:37.245763Z"
    }
   },
   "outputs": [
    {
     "data": {
      "text/html": [
       "<div>\n",
       "<style scoped>\n",
       "    .dataframe tbody tr th:only-of-type {\n",
       "        vertical-align: middle;\n",
       "    }\n",
       "\n",
       "    .dataframe tbody tr th {\n",
       "        vertical-align: top;\n",
       "    }\n",
       "\n",
       "    .dataframe thead th {\n",
       "        text-align: right;\n",
       "    }\n",
       "</style>\n",
       "<table border=\"1\" class=\"dataframe\">\n",
       "  <thead>\n",
       "    <tr style=\"text-align: right;\">\n",
       "      <th></th>\n",
       "      <th>Model</th>\n",
       "      <th>Accuracy</th>\n",
       "      <th>Recall</th>\n",
       "      <th>Precision</th>\n",
       "      <th>f1-score</th>\n",
       "      <th>ROC AUC Score</th>\n",
       "    </tr>\n",
       "  </thead>\n",
       "  <tbody>\n",
       "    <tr>\n",
       "      <th>0</th>\n",
       "      <td>Logistic Regression</td>\n",
       "      <td>0.905909</td>\n",
       "      <td>0.979545</td>\n",
       "      <td>0.920604</td>\n",
       "      <td>0.949161</td>\n",
       "      <td>0.926043</td>\n",
       "    </tr>\n",
       "    <tr>\n",
       "      <th>0</th>\n",
       "      <td>Logistic Regression (Balanced)</td>\n",
       "      <td>0.823140</td>\n",
       "      <td>0.813749</td>\n",
       "      <td>0.986676</td>\n",
       "      <td>0.891908</td>\n",
       "      <td>0.921749</td>\n",
       "    </tr>\n",
       "    <tr>\n",
       "      <th>0</th>\n",
       "      <td>AdaBoost (Balanced)</td>\n",
       "      <td>0.845319</td>\n",
       "      <td>0.842764</td>\n",
       "      <td>0.982205</td>\n",
       "      <td>0.907157</td>\n",
       "      <td>0.926512</td>\n",
       "    </tr>\n",
       "    <tr>\n",
       "      <th>0</th>\n",
       "      <td>Balanced Bagging Classifier</td>\n",
       "      <td>0.829156</td>\n",
       "      <td>0.817393</td>\n",
       "      <td>0.990399</td>\n",
       "      <td>0.895618</td>\n",
       "      <td>0.933588</td>\n",
       "    </tr>\n",
       "    <tr>\n",
       "      <th>0</th>\n",
       "      <td>Logistic Regression (tuned parameters)</td>\n",
       "      <td>0.903575</td>\n",
       "      <td>0.988838</td>\n",
       "      <td>0.911194</td>\n",
       "      <td>0.948429</td>\n",
       "      <td>0.926217</td>\n",
       "    </tr>\n",
       "    <tr>\n",
       "      <th>0</th>\n",
       "      <td>Logistic Regression (Balanced and tuned parame...</td>\n",
       "      <td>0.848258</td>\n",
       "      <td>0.847044</td>\n",
       "      <td>0.981153</td>\n",
       "      <td>0.909179</td>\n",
       "      <td>0.923453</td>\n",
       "    </tr>\n",
       "    <tr>\n",
       "      <th>0</th>\n",
       "      <td>AdaBoost (Balanced and tuned parameters)</td>\n",
       "      <td>0.862968</td>\n",
       "      <td>0.867151</td>\n",
       "      <td>0.977486</td>\n",
       "      <td>0.919019</td>\n",
       "      <td>0.929833</td>\n",
       "    </tr>\n",
       "    <tr>\n",
       "      <th>0</th>\n",
       "      <td>BalancedBaggingClassifier (tuned)</td>\n",
       "      <td>0.832907</td>\n",
       "      <td>0.822367</td>\n",
       "      <td>0.989515</td>\n",
       "      <td>0.898231</td>\n",
       "      <td>0.932421</td>\n",
       "    </tr>\n",
       "  </tbody>\n",
       "</table>\n",
       "</div>"
      ],
      "text/plain": [
       "                                               Model  Accuracy    Recall  \\\n",
       "0                                Logistic Regression  0.905909  0.979545   \n",
       "0                     Logistic Regression (Balanced)  0.823140  0.813749   \n",
       "0                                AdaBoost (Balanced)  0.845319  0.842764   \n",
       "0                        Balanced Bagging Classifier  0.829156  0.817393   \n",
       "0             Logistic Regression (tuned parameters)  0.903575  0.988838   \n",
       "0  Logistic Regression (Balanced and tuned parame...  0.848258  0.847044   \n",
       "0           AdaBoost (Balanced and tuned parameters)  0.862968  0.867151   \n",
       "0                  BalancedBaggingClassifier (tuned)  0.832907  0.822367   \n",
       "\n",
       "   Precision  f1-score  ROC AUC Score  \n",
       "0   0.920604  0.949161       0.926043  \n",
       "0   0.986676  0.891908       0.921749  \n",
       "0   0.982205  0.907157       0.926512  \n",
       "0   0.990399  0.895618       0.933588  \n",
       "0   0.911194  0.948429       0.926217  \n",
       "0   0.981153  0.909179       0.923453  \n",
       "0   0.977486  0.919019       0.929833  \n",
       "0   0.989515  0.898231       0.932421  "
      ]
     },
     "execution_count": 129,
     "metadata": {},
     "output_type": "execute_result"
    }
   ],
   "source": [
    "bal_tuned_results = pd.DataFrame(data = [['BalancedBaggingClassifier (tuned)', \n",
    "                                         get_results(y_test, balanced_tuned_pred)[0], \n",
    "                                         get_results(y_test, balanced_tuned_pred)[1], \n",
    "                                         get_results(y_test, balanced_tuned_pred)[2], \n",
    "                                         get_results(y_test, balanced_tuned_pred)[3], \n",
    "                                         auc_balanced_tuned]], columns = ['Model', \n",
    "                                        'Accuracy', 'Recall', 'Precision', 'f1-score', 'ROC AUC Score'])\n",
    "results_df = pd.concat([results_df, bal_tuned_results])\n",
    "results_df"
   ]
  },
  {
   "cell_type": "markdown",
   "id": "698be504",
   "metadata": {},
   "source": [
    "By tuning the parameters we have managed to slightly improve the models, but we still have the problem that the model is not adequate to make good predictions for both classes: if it predicts well one class it has not so good results in the other class. "
   ]
  },
  {
   "cell_type": "code",
   "execution_count": 130,
   "id": "538c9142",
   "metadata": {
    "ExecuteTime": {
     "end_time": "2022-05-04T18:25:46.384589Z",
     "start_time": "2022-05-04T18:25:46.339058Z"
    }
   },
   "outputs": [],
   "source": [
    "# save df\n",
    "#results_df.to_csv('results_df.csv', index = False)"
   ]
  },
  {
   "cell_type": "markdown",
   "id": "3cca17ab",
   "metadata": {},
   "source": [
    "### - Exercici 4\n",
    "\n",
    "Compara el seu rendiment utilitzant l’aproximació traint/test o cross-validation."
   ]
  },
  {
   "cell_type": "markdown",
   "id": "775b2912",
   "metadata": {},
   "source": [
    "We will do cross validation for the models, we will use the F1 score as being a harmonic mean of the precision and recall, it is a good metric to compare models. "
   ]
  },
  {
   "cell_type": "markdown",
   "id": "a40e5431",
   "metadata": {},
   "source": [
    "#### Model Logistic Regression"
   ]
  },
  {
   "cell_type": "code",
   "execution_count": 137,
   "id": "28261069",
   "metadata": {
    "ExecuteTime": {
     "end_time": "2022-05-04T18:42:42.688202Z",
     "start_time": "2022-05-04T18:40:43.450839Z"
    }
   },
   "outputs": [
    {
     "name": "stdout",
     "output_type": "stream",
     "text": [
      "f1-score: 0.948 (0.001)\n"
     ]
    }
   ],
   "source": [
    "from sklearn.model_selection import RepeatedKFold\n",
    "from sklearn.model_selection import cross_val_score\n",
    "from numpy import mean\n",
    "from numpy import std\n",
    "from sklearn.metrics import f1_score, make_scorer\n",
    "\n",
    "\n",
    "# prepare the cross-validation procedure\n",
    "cv = RepeatedKFold(n_splits=10, n_repeats=5, random_state=12)\n",
    "\n",
    "model =  LogisticRegression()\n",
    "\n",
    "# evaluate model\n",
    "scores1 = cross_val_score(model, X, y, scoring = 'f1', cv=cv)\n",
    "\n",
    "# report performance\n",
    "print('f1-score: %.3f (%.3f)' % (mean(scores1), std(scores1)))"
   ]
  },
  {
   "cell_type": "code",
   "execution_count": 132,
   "id": "5cd978d5",
   "metadata": {
    "ExecuteTime": {
     "end_time": "2022-05-04T18:32:22.242741Z",
     "start_time": "2022-05-04T18:32:22.221257Z"
    }
   },
   "outputs": [
    {
     "data": {
      "text/html": [
       "<div>\n",
       "<style scoped>\n",
       "    .dataframe tbody tr th:only-of-type {\n",
       "        vertical-align: middle;\n",
       "    }\n",
       "\n",
       "    .dataframe tbody tr th {\n",
       "        vertical-align: top;\n",
       "    }\n",
       "\n",
       "    .dataframe thead th {\n",
       "        text-align: right;\n",
       "    }\n",
       "</style>\n",
       "<table border=\"1\" class=\"dataframe\">\n",
       "  <thead>\n",
       "    <tr style=\"text-align: right;\">\n",
       "      <th></th>\n",
       "      <th>Model</th>\n",
       "      <th>Accuracy</th>\n",
       "      <th>Recall</th>\n",
       "      <th>Precision</th>\n",
       "      <th>f1-score</th>\n",
       "      <th>ROC AUC Score</th>\n",
       "    </tr>\n",
       "  </thead>\n",
       "  <tbody>\n",
       "    <tr>\n",
       "      <th>0</th>\n",
       "      <td>Logistic Regression</td>\n",
       "      <td>0.905909</td>\n",
       "      <td>0.979545</td>\n",
       "      <td>0.920604</td>\n",
       "      <td>0.949161</td>\n",
       "      <td>0.926043</td>\n",
       "    </tr>\n",
       "  </tbody>\n",
       "</table>\n",
       "</div>"
      ],
      "text/plain": [
       "                 Model  Accuracy    Recall  Precision  f1-score  ROC AUC Score\n",
       "0  Logistic Regression  0.905909  0.979545   0.920604  0.949161       0.926043"
      ]
     },
     "execution_count": 132,
     "metadata": {},
     "output_type": "execute_result"
    }
   ],
   "source": [
    "results_df[0:1]"
   ]
  },
  {
   "cell_type": "markdown",
   "id": "f5833b08",
   "metadata": {},
   "source": [
    "Doing Cross Validation we got a f1-score of 0.948, so the result is very good (the sta deviation of the result is 0.001, so the variation is very small). The result is very similar to our original model so our model doesn' t suffer from overfitting"
   ]
  },
  {
   "cell_type": "code",
   "execution_count": 139,
   "id": "41d82a8d",
   "metadata": {
    "ExecuteTime": {
     "end_time": "2022-05-04T18:42:58.330593Z",
     "start_time": "2022-05-04T18:42:58.321966Z"
    }
   },
   "outputs": [
    {
     "data": {
      "text/plain": [
       "0.9479259261019816"
      ]
     },
     "execution_count": 139,
     "metadata": {},
     "output_type": "execute_result"
    }
   ],
   "source": [
    "cv_lr = mean(scores1)\n",
    "cv_lr"
   ]
  },
  {
   "cell_type": "code",
   "execution_count": 141,
   "id": "84b3e7be",
   "metadata": {
    "ExecuteTime": {
     "end_time": "2022-05-04T18:45:01.094346Z",
     "start_time": "2022-05-04T18:45:01.061859Z"
    }
   },
   "outputs": [
    {
     "data": {
      "text/html": [
       "<div>\n",
       "<style scoped>\n",
       "    .dataframe tbody tr th:only-of-type {\n",
       "        vertical-align: middle;\n",
       "    }\n",
       "\n",
       "    .dataframe tbody tr th {\n",
       "        vertical-align: top;\n",
       "    }\n",
       "\n",
       "    .dataframe thead th {\n",
       "        text-align: right;\n",
       "    }\n",
       "</style>\n",
       "<table border=\"1\" class=\"dataframe\">\n",
       "  <thead>\n",
       "    <tr style=\"text-align: right;\">\n",
       "      <th></th>\n",
       "      <th>Model</th>\n",
       "      <th>f1-score</th>\n",
       "    </tr>\n",
       "  </thead>\n",
       "  <tbody>\n",
       "    <tr>\n",
       "      <th>0</th>\n",
       "      <td>Logistic Regression</td>\n",
       "      <td>0.947926</td>\n",
       "    </tr>\n",
       "  </tbody>\n",
       "</table>\n",
       "</div>"
      ],
      "text/plain": [
       "                 Model  f1-score\n",
       "0  Logistic Regression  0.947926"
      ]
     },
     "execution_count": 141,
     "metadata": {},
     "output_type": "execute_result"
    }
   ],
   "source": [
    "cv_results = pd.DataFrame(data = [['Logistic Regression', cv_lr]], columns = ['Model', 'f1-score'])\n",
    "\n",
    "cv_results"
   ]
  },
  {
   "cell_type": "markdown",
   "id": "c7e2b82d",
   "metadata": {},
   "source": [
    "#### Model Logistic Regression Balanced Classes"
   ]
  },
  {
   "cell_type": "code",
   "execution_count": 142,
   "id": "28d5fabb",
   "metadata": {
    "ExecuteTime": {
     "end_time": "2022-05-04T18:46:09.305759Z",
     "start_time": "2022-05-04T18:45:17.475257Z"
    }
   },
   "outputs": [
    {
     "name": "stdout",
     "output_type": "stream",
     "text": [
      "f1-score: 0.868 (0.005)\n"
     ]
    }
   ],
   "source": [
    "# evaluate model \n",
    "# use the same cv parameters as above\n",
    "scores2 = cross_val_score(lr_sm, X_train_sm, y_train_sm, scoring = 'f1', cv=cv )\n",
    "\n",
    "# report performance\n",
    "print('f1-score: %.3f (%.3f)' % (mean(scores2), std(scores2)))"
   ]
  },
  {
   "cell_type": "code",
   "execution_count": 134,
   "id": "dd8e79ae",
   "metadata": {
    "ExecuteTime": {
     "end_time": "2022-05-04T18:35:55.960338Z",
     "start_time": "2022-05-04T18:35:55.938154Z"
    }
   },
   "outputs": [
    {
     "data": {
      "text/html": [
       "<div>\n",
       "<style scoped>\n",
       "    .dataframe tbody tr th:only-of-type {\n",
       "        vertical-align: middle;\n",
       "    }\n",
       "\n",
       "    .dataframe tbody tr th {\n",
       "        vertical-align: top;\n",
       "    }\n",
       "\n",
       "    .dataframe thead th {\n",
       "        text-align: right;\n",
       "    }\n",
       "</style>\n",
       "<table border=\"1\" class=\"dataframe\">\n",
       "  <thead>\n",
       "    <tr style=\"text-align: right;\">\n",
       "      <th></th>\n",
       "      <th>Model</th>\n",
       "      <th>Accuracy</th>\n",
       "      <th>Recall</th>\n",
       "      <th>Precision</th>\n",
       "      <th>f1-score</th>\n",
       "      <th>ROC AUC Score</th>\n",
       "    </tr>\n",
       "  </thead>\n",
       "  <tbody>\n",
       "    <tr>\n",
       "      <th>0</th>\n",
       "      <td>Logistic Regression (Balanced)</td>\n",
       "      <td>0.82314</td>\n",
       "      <td>0.813749</td>\n",
       "      <td>0.986676</td>\n",
       "      <td>0.891908</td>\n",
       "      <td>0.921749</td>\n",
       "    </tr>\n",
       "  </tbody>\n",
       "</table>\n",
       "</div>"
      ],
      "text/plain": [
       "                            Model  Accuracy    Recall  Precision  f1-score  \\\n",
       "0  Logistic Regression (Balanced)   0.82314  0.813749   0.986676  0.891908   \n",
       "\n",
       "   ROC AUC Score  \n",
       "0       0.921749  "
      ]
     },
     "execution_count": 134,
     "metadata": {},
     "output_type": "execute_result"
    }
   ],
   "source": [
    "results_df[1:2]"
   ]
  },
  {
   "cell_type": "markdown",
   "id": "3606650e",
   "metadata": {},
   "source": [
    "Our Cross Validation f1 score is a little lower but difference is not so significant (0.892 against 0.868). "
   ]
  },
  {
   "cell_type": "code",
   "execution_count": 143,
   "id": "efd1b738",
   "metadata": {
    "ExecuteTime": {
     "end_time": "2022-05-04T18:46:16.099914Z",
     "start_time": "2022-05-04T18:46:16.084963Z"
    }
   },
   "outputs": [
    {
     "data": {
      "text/plain": [
       "0.8678508789656105"
      ]
     },
     "execution_count": 143,
     "metadata": {},
     "output_type": "execute_result"
    }
   ],
   "source": [
    "cv_lr_balanced = mean(scores2)\n",
    "cv_lr_balanced"
   ]
  },
  {
   "cell_type": "code",
   "execution_count": 144,
   "id": "7754a759",
   "metadata": {
    "ExecuteTime": {
     "end_time": "2022-05-04T18:47:38.770641Z",
     "start_time": "2022-05-04T18:47:38.737118Z"
    }
   },
   "outputs": [
    {
     "data": {
      "text/html": [
       "<div>\n",
       "<style scoped>\n",
       "    .dataframe tbody tr th:only-of-type {\n",
       "        vertical-align: middle;\n",
       "    }\n",
       "\n",
       "    .dataframe tbody tr th {\n",
       "        vertical-align: top;\n",
       "    }\n",
       "\n",
       "    .dataframe thead th {\n",
       "        text-align: right;\n",
       "    }\n",
       "</style>\n",
       "<table border=\"1\" class=\"dataframe\">\n",
       "  <thead>\n",
       "    <tr style=\"text-align: right;\">\n",
       "      <th></th>\n",
       "      <th>Model</th>\n",
       "      <th>f1-score</th>\n",
       "    </tr>\n",
       "  </thead>\n",
       "  <tbody>\n",
       "    <tr>\n",
       "      <th>0</th>\n",
       "      <td>Logistic Regression</td>\n",
       "      <td>0.947926</td>\n",
       "    </tr>\n",
       "    <tr>\n",
       "      <th>0</th>\n",
       "      <td>Logistic Regression (Balanced)</td>\n",
       "      <td>0.867851</td>\n",
       "    </tr>\n",
       "  </tbody>\n",
       "</table>\n",
       "</div>"
      ],
      "text/plain": [
       "                            Model  f1-score\n",
       "0             Logistic Regression  0.947926\n",
       "0  Logistic Regression (Balanced)  0.867851"
      ]
     },
     "execution_count": 144,
     "metadata": {},
     "output_type": "execute_result"
    }
   ],
   "source": [
    "#store results\n",
    "cv_results2 = pd.DataFrame(data = [['Logistic Regression (Balanced)', cv_lr_balanced]], columns = ['Model', 'f1-score'])\n",
    "\n",
    "cv_results = pd.concat([cv_results, cv_results2])\n",
    "\n",
    "cv_results"
   ]
  },
  {
   "cell_type": "markdown",
   "id": "497f04c7",
   "metadata": {},
   "source": [
    "#### Model AdaBoostClassifier"
   ]
  },
  {
   "cell_type": "code",
   "execution_count": 145,
   "id": "e5dd8abd",
   "metadata": {
    "ExecuteTime": {
     "end_time": "2022-05-04T18:51:48.874292Z",
     "start_time": "2022-05-04T18:48:50.721519Z"
    }
   },
   "outputs": [
    {
     "name": "stdout",
     "output_type": "stream",
     "text": [
      "f1-score: 0.884 (0.004)\n"
     ]
    }
   ],
   "source": [
    "scores3 = cross_val_score(ada_sm, X_train_sm, y_train_sm, scoring = 'f1', cv=cv )\n",
    "\n",
    "# report performance\n",
    "print('f1-score: %.3f (%.3f)' % (mean(scores3), std(scores3)))"
   ]
  },
  {
   "cell_type": "code",
   "execution_count": 146,
   "id": "d405ca00",
   "metadata": {
    "ExecuteTime": {
     "end_time": "2022-05-04T18:52:31.889911Z",
     "start_time": "2022-05-04T18:52:31.862187Z"
    }
   },
   "outputs": [
    {
     "data": {
      "text/html": [
       "<div>\n",
       "<style scoped>\n",
       "    .dataframe tbody tr th:only-of-type {\n",
       "        vertical-align: middle;\n",
       "    }\n",
       "\n",
       "    .dataframe tbody tr th {\n",
       "        vertical-align: top;\n",
       "    }\n",
       "\n",
       "    .dataframe thead th {\n",
       "        text-align: right;\n",
       "    }\n",
       "</style>\n",
       "<table border=\"1\" class=\"dataframe\">\n",
       "  <thead>\n",
       "    <tr style=\"text-align: right;\">\n",
       "      <th></th>\n",
       "      <th>Model</th>\n",
       "      <th>Accuracy</th>\n",
       "      <th>Recall</th>\n",
       "      <th>Precision</th>\n",
       "      <th>f1-score</th>\n",
       "      <th>ROC AUC Score</th>\n",
       "    </tr>\n",
       "  </thead>\n",
       "  <tbody>\n",
       "    <tr>\n",
       "      <th>0</th>\n",
       "      <td>AdaBoost (Balanced)</td>\n",
       "      <td>0.845319</td>\n",
       "      <td>0.842764</td>\n",
       "      <td>0.982205</td>\n",
       "      <td>0.907157</td>\n",
       "      <td>0.926512</td>\n",
       "    </tr>\n",
       "  </tbody>\n",
       "</table>\n",
       "</div>"
      ],
      "text/plain": [
       "                 Model  Accuracy    Recall  Precision  f1-score  ROC AUC Score\n",
       "0  AdaBoost (Balanced)  0.845319  0.842764   0.982205  0.907157       0.926512"
      ]
     },
     "execution_count": 146,
     "metadata": {},
     "output_type": "execute_result"
    }
   ],
   "source": [
    "results_df[2:3]"
   ]
  },
  {
   "cell_type": "markdown",
   "id": "ac9602ed",
   "metadata": {},
   "source": [
    "F1 score in Cross Validation drops a little but the difference is not very significant: \n",
    "\n",
    "+ Model F1 score : 0.907\n",
    "+ CV F1 score : 0.884"
   ]
  },
  {
   "cell_type": "code",
   "execution_count": 147,
   "id": "f2057ac7",
   "metadata": {
    "ExecuteTime": {
     "end_time": "2022-05-04T18:52:56.475349Z",
     "start_time": "2022-05-04T18:52:56.469347Z"
    }
   },
   "outputs": [],
   "source": [
    "cv_ada = mean(scores3)"
   ]
  },
  {
   "cell_type": "code",
   "execution_count": 148,
   "id": "b784039a",
   "metadata": {
    "ExecuteTime": {
     "end_time": "2022-05-04T18:54:18.800633Z",
     "start_time": "2022-05-04T18:54:18.773748Z"
    }
   },
   "outputs": [
    {
     "data": {
      "text/html": [
       "<div>\n",
       "<style scoped>\n",
       "    .dataframe tbody tr th:only-of-type {\n",
       "        vertical-align: middle;\n",
       "    }\n",
       "\n",
       "    .dataframe tbody tr th {\n",
       "        vertical-align: top;\n",
       "    }\n",
       "\n",
       "    .dataframe thead th {\n",
       "        text-align: right;\n",
       "    }\n",
       "</style>\n",
       "<table border=\"1\" class=\"dataframe\">\n",
       "  <thead>\n",
       "    <tr style=\"text-align: right;\">\n",
       "      <th></th>\n",
       "      <th>Model</th>\n",
       "      <th>f1-score</th>\n",
       "    </tr>\n",
       "  </thead>\n",
       "  <tbody>\n",
       "    <tr>\n",
       "      <th>0</th>\n",
       "      <td>Logistic Regression</td>\n",
       "      <td>0.947926</td>\n",
       "    </tr>\n",
       "    <tr>\n",
       "      <th>0</th>\n",
       "      <td>Logistic Regression (Balanced)</td>\n",
       "      <td>0.867851</td>\n",
       "    </tr>\n",
       "    <tr>\n",
       "      <th>0</th>\n",
       "      <td>AdaBoost (Balanced)</td>\n",
       "      <td>0.884239</td>\n",
       "    </tr>\n",
       "  </tbody>\n",
       "</table>\n",
       "</div>"
      ],
      "text/plain": [
       "                            Model  f1-score\n",
       "0             Logistic Regression  0.947926\n",
       "0  Logistic Regression (Balanced)  0.867851\n",
       "0             AdaBoost (Balanced)  0.884239"
      ]
     },
     "execution_count": 148,
     "metadata": {},
     "output_type": "execute_result"
    }
   ],
   "source": [
    "cv_results3 = pd.DataFrame(data = [['AdaBoost (Balanced)', cv_ada]], columns = ['Model', 'f1-score'])\n",
    "\n",
    "cv_results = pd.concat([cv_results, cv_results3])\n",
    "cv_results"
   ]
  },
  {
   "cell_type": "markdown",
   "id": "3a4cc348",
   "metadata": {},
   "source": [
    "#### Model Decision Tree Classifier using BalancedBaggingClassifier"
   ]
  },
  {
   "cell_type": "code",
   "execution_count": 149,
   "id": "9a7c0bb6",
   "metadata": {
    "ExecuteTime": {
     "end_time": "2022-05-04T20:05:11.256219Z",
     "start_time": "2022-05-04T18:55:25.966727Z"
    }
   },
   "outputs": [
    {
     "name": "stdout",
     "output_type": "stream",
     "text": [
      "f1-score: 0.896 (0.002)\n"
     ]
    }
   ],
   "source": [
    "# use the same cross validation parameters as above \n",
    "scores4 = cross_val_score(balanced, X, y, scoring = 'f1', cv=cv )\n",
    "\n",
    "# report performance\n",
    "print('f1-score: %.3f (%.3f)' % (mean(scores4), std(scores4)))"
   ]
  },
  {
   "cell_type": "code",
   "execution_count": 151,
   "id": "2de73a8f",
   "metadata": {
    "ExecuteTime": {
     "end_time": "2022-05-04T20:13:32.704158Z",
     "start_time": "2022-05-04T20:13:32.689324Z"
    }
   },
   "outputs": [
    {
     "data": {
      "text/plain": [
       "0.8956948980291399"
      ]
     },
     "execution_count": 151,
     "metadata": {},
     "output_type": "execute_result"
    }
   ],
   "source": [
    "cv_balanced = mean(scores4)\n",
    "cv_balanced"
   ]
  },
  {
   "cell_type": "code",
   "execution_count": 152,
   "id": "d08da541",
   "metadata": {
    "ExecuteTime": {
     "end_time": "2022-05-04T20:13:46.029899Z",
     "start_time": "2022-05-04T20:13:46.014254Z"
    }
   },
   "outputs": [
    {
     "data": {
      "text/html": [
       "<div>\n",
       "<style scoped>\n",
       "    .dataframe tbody tr th:only-of-type {\n",
       "        vertical-align: middle;\n",
       "    }\n",
       "\n",
       "    .dataframe tbody tr th {\n",
       "        vertical-align: top;\n",
       "    }\n",
       "\n",
       "    .dataframe thead th {\n",
       "        text-align: right;\n",
       "    }\n",
       "</style>\n",
       "<table border=\"1\" class=\"dataframe\">\n",
       "  <thead>\n",
       "    <tr style=\"text-align: right;\">\n",
       "      <th></th>\n",
       "      <th>Model</th>\n",
       "      <th>Accuracy</th>\n",
       "      <th>Recall</th>\n",
       "      <th>Precision</th>\n",
       "      <th>f1-score</th>\n",
       "      <th>ROC AUC Score</th>\n",
       "    </tr>\n",
       "  </thead>\n",
       "  <tbody>\n",
       "    <tr>\n",
       "      <th>0</th>\n",
       "      <td>Balanced Bagging Classifier</td>\n",
       "      <td>0.829156</td>\n",
       "      <td>0.817393</td>\n",
       "      <td>0.990399</td>\n",
       "      <td>0.895618</td>\n",
       "      <td>0.933588</td>\n",
       "    </tr>\n",
       "  </tbody>\n",
       "</table>\n",
       "</div>"
      ],
      "text/plain": [
       "                         Model  Accuracy    Recall  Precision  f1-score  \\\n",
       "0  Balanced Bagging Classifier  0.829156  0.817393   0.990399  0.895618   \n",
       "\n",
       "   ROC AUC Score  \n",
       "0       0.933588  "
      ]
     },
     "execution_count": 152,
     "metadata": {},
     "output_type": "execute_result"
    }
   ],
   "source": [
    "results_df[3:4]"
   ]
  },
  {
   "cell_type": "markdown",
   "id": "409654a2",
   "metadata": {},
   "source": [
    "In this case F1 score in Cross Validation and in the model is the same. "
   ]
  },
  {
   "cell_type": "code",
   "execution_count": 153,
   "id": "08210e93",
   "metadata": {
    "ExecuteTime": {
     "end_time": "2022-05-04T20:15:32.118936Z",
     "start_time": "2022-05-04T20:15:32.080940Z"
    }
   },
   "outputs": [
    {
     "data": {
      "text/html": [
       "<div>\n",
       "<style scoped>\n",
       "    .dataframe tbody tr th:only-of-type {\n",
       "        vertical-align: middle;\n",
       "    }\n",
       "\n",
       "    .dataframe tbody tr th {\n",
       "        vertical-align: top;\n",
       "    }\n",
       "\n",
       "    .dataframe thead th {\n",
       "        text-align: right;\n",
       "    }\n",
       "</style>\n",
       "<table border=\"1\" class=\"dataframe\">\n",
       "  <thead>\n",
       "    <tr style=\"text-align: right;\">\n",
       "      <th></th>\n",
       "      <th>Model</th>\n",
       "      <th>f1-score</th>\n",
       "    </tr>\n",
       "  </thead>\n",
       "  <tbody>\n",
       "    <tr>\n",
       "      <th>0</th>\n",
       "      <td>Logistic Regression</td>\n",
       "      <td>0.947926</td>\n",
       "    </tr>\n",
       "    <tr>\n",
       "      <th>0</th>\n",
       "      <td>Logistic Regression (Balanced)</td>\n",
       "      <td>0.867851</td>\n",
       "    </tr>\n",
       "    <tr>\n",
       "      <th>0</th>\n",
       "      <td>AdaBoost (Balanced)</td>\n",
       "      <td>0.884239</td>\n",
       "    </tr>\n",
       "    <tr>\n",
       "      <th>0</th>\n",
       "      <td>Balanced Bagging Classifier</td>\n",
       "      <td>0.895695</td>\n",
       "    </tr>\n",
       "  </tbody>\n",
       "</table>\n",
       "</div>"
      ],
      "text/plain": [
       "                            Model  f1-score\n",
       "0             Logistic Regression  0.947926\n",
       "0  Logistic Regression (Balanced)  0.867851\n",
       "0             AdaBoost (Balanced)  0.884239\n",
       "0     Balanced Bagging Classifier  0.895695"
      ]
     },
     "execution_count": 153,
     "metadata": {},
     "output_type": "execute_result"
    }
   ],
   "source": [
    "cv_results4 = pd.DataFrame(data = [['Balanced Bagging Classifier', cv_balanced]], columns = ['Model', 'f1-score'])\n",
    "\n",
    "cv_results = pd.concat([cv_results, cv_results4])\n",
    "cv_results"
   ]
  },
  {
   "cell_type": "markdown",
   "id": "fbec9ac8",
   "metadata": {},
   "source": [
    "#### Plotting these results \n",
    "\n",
    "Now we will do a plot with the comparison between F1 score in Cross Validation and in the different models: "
   ]
  },
  {
   "cell_type": "code",
   "execution_count": 155,
   "id": "e2fb8455",
   "metadata": {
    "ExecuteTime": {
     "end_time": "2022-05-04T20:16:42.543563Z",
     "start_time": "2022-05-04T20:16:42.527231Z"
    }
   },
   "outputs": [],
   "source": [
    "# save df\n",
    "#cv_results.to_csv('cv_results.csv', index = False)"
   ]
  },
  {
   "cell_type": "code",
   "execution_count": 42,
   "id": "e5e7eb1e",
   "metadata": {
    "ExecuteTime": {
     "end_time": "2022-05-05T07:20:46.665153Z",
     "start_time": "2022-05-05T07:20:46.644447Z"
    }
   },
   "outputs": [
    {
     "data": {
      "text/html": [
       "<div>\n",
       "<style scoped>\n",
       "    .dataframe tbody tr th:only-of-type {\n",
       "        vertical-align: middle;\n",
       "    }\n",
       "\n",
       "    .dataframe tbody tr th {\n",
       "        vertical-align: top;\n",
       "    }\n",
       "\n",
       "    .dataframe thead th {\n",
       "        text-align: right;\n",
       "    }\n",
       "</style>\n",
       "<table border=\"1\" class=\"dataframe\">\n",
       "  <thead>\n",
       "    <tr style=\"text-align: right;\">\n",
       "      <th></th>\n",
       "      <th>Model</th>\n",
       "      <th>f1-score</th>\n",
       "    </tr>\n",
       "  </thead>\n",
       "  <tbody>\n",
       "    <tr>\n",
       "      <th>0</th>\n",
       "      <td>Logistic Regression</td>\n",
       "      <td>0.947926</td>\n",
       "    </tr>\n",
       "    <tr>\n",
       "      <th>1</th>\n",
       "      <td>Logistic Regression (Balanced)</td>\n",
       "      <td>0.867851</td>\n",
       "    </tr>\n",
       "    <tr>\n",
       "      <th>2</th>\n",
       "      <td>AdaBoost (Balanced)</td>\n",
       "      <td>0.884239</td>\n",
       "    </tr>\n",
       "    <tr>\n",
       "      <th>3</th>\n",
       "      <td>Balanced Bagging Classifier</td>\n",
       "      <td>0.895695</td>\n",
       "    </tr>\n",
       "  </tbody>\n",
       "</table>\n",
       "</div>"
      ],
      "text/plain": [
       "                            Model  f1-score\n",
       "0             Logistic Regression  0.947926\n",
       "1  Logistic Regression (Balanced)  0.867851\n",
       "2             AdaBoost (Balanced)  0.884239\n",
       "3     Balanced Bagging Classifier  0.895695"
      ]
     },
     "execution_count": 42,
     "metadata": {},
     "output_type": "execute_result"
    }
   ],
   "source": [
    "# open dataframe with cross validation results\n",
    "cv_results = pd.read_csv('cv_results.csv')\n",
    "cv_results"
   ]
  },
  {
   "cell_type": "code",
   "execution_count": 43,
   "id": "718aef4b",
   "metadata": {
    "ExecuteTime": {
     "end_time": "2022-05-05T07:20:49.180393Z",
     "start_time": "2022-05-05T07:20:49.169373Z"
    }
   },
   "outputs": [
    {
     "data": {
      "text/html": [
       "<div>\n",
       "<style scoped>\n",
       "    .dataframe tbody tr th:only-of-type {\n",
       "        vertical-align: middle;\n",
       "    }\n",
       "\n",
       "    .dataframe tbody tr th {\n",
       "        vertical-align: top;\n",
       "    }\n",
       "\n",
       "    .dataframe thead th {\n",
       "        text-align: right;\n",
       "    }\n",
       "</style>\n",
       "<table border=\"1\" class=\"dataframe\">\n",
       "  <thead>\n",
       "    <tr style=\"text-align: right;\">\n",
       "      <th></th>\n",
       "      <th>CV Model</th>\n",
       "      <th>CV f1-score</th>\n",
       "    </tr>\n",
       "  </thead>\n",
       "  <tbody>\n",
       "    <tr>\n",
       "      <th>0</th>\n",
       "      <td>Logistic Regression</td>\n",
       "      <td>0.947926</td>\n",
       "    </tr>\n",
       "    <tr>\n",
       "      <th>1</th>\n",
       "      <td>Logistic Regression (Balanced)</td>\n",
       "      <td>0.867851</td>\n",
       "    </tr>\n",
       "    <tr>\n",
       "      <th>2</th>\n",
       "      <td>AdaBoost (Balanced)</td>\n",
       "      <td>0.884239</td>\n",
       "    </tr>\n",
       "    <tr>\n",
       "      <th>3</th>\n",
       "      <td>Balanced Bagging Classifier</td>\n",
       "      <td>0.895695</td>\n",
       "    </tr>\n",
       "  </tbody>\n",
       "</table>\n",
       "</div>"
      ],
      "text/plain": [
       "                         CV Model  CV f1-score\n",
       "0             Logistic Regression     0.947926\n",
       "1  Logistic Regression (Balanced)     0.867851\n",
       "2             AdaBoost (Balanced)     0.884239\n",
       "3     Balanced Bagging Classifier     0.895695"
      ]
     },
     "execution_count": 43,
     "metadata": {},
     "output_type": "execute_result"
    }
   ],
   "source": [
    "# change name of the column \n",
    "cv_results.rename(columns = {'f1-score': 'CV f1-score', 'Model': 'CV Model'}, inplace = True)\n",
    "cv_results"
   ]
  },
  {
   "cell_type": "code",
   "execution_count": 44,
   "id": "f0e8e574",
   "metadata": {
    "ExecuteTime": {
     "end_time": "2022-05-05T07:20:56.896381Z",
     "start_time": "2022-05-05T07:20:56.883424Z"
    }
   },
   "outputs": [
    {
     "data": {
      "text/html": [
       "<div>\n",
       "<style scoped>\n",
       "    .dataframe tbody tr th:only-of-type {\n",
       "        vertical-align: middle;\n",
       "    }\n",
       "\n",
       "    .dataframe tbody tr th {\n",
       "        vertical-align: top;\n",
       "    }\n",
       "\n",
       "    .dataframe thead th {\n",
       "        text-align: right;\n",
       "    }\n",
       "</style>\n",
       "<table border=\"1\" class=\"dataframe\">\n",
       "  <thead>\n",
       "    <tr style=\"text-align: right;\">\n",
       "      <th></th>\n",
       "      <th>Model</th>\n",
       "      <th>Accuracy</th>\n",
       "      <th>Recall</th>\n",
       "      <th>Precision</th>\n",
       "      <th>f1-score</th>\n",
       "      <th>ROC AUC Score</th>\n",
       "    </tr>\n",
       "  </thead>\n",
       "  <tbody>\n",
       "    <tr>\n",
       "      <th>0</th>\n",
       "      <td>Logistic Regression</td>\n",
       "      <td>0.905909</td>\n",
       "      <td>0.979545</td>\n",
       "      <td>0.920604</td>\n",
       "      <td>0.949161</td>\n",
       "      <td>0.926043</td>\n",
       "    </tr>\n",
       "    <tr>\n",
       "      <th>1</th>\n",
       "      <td>Logistic Regression (Balanced)</td>\n",
       "      <td>0.823140</td>\n",
       "      <td>0.813749</td>\n",
       "      <td>0.986676</td>\n",
       "      <td>0.891908</td>\n",
       "      <td>0.921749</td>\n",
       "    </tr>\n",
       "    <tr>\n",
       "      <th>2</th>\n",
       "      <td>AdaBoost (Balanced)</td>\n",
       "      <td>0.845319</td>\n",
       "      <td>0.842764</td>\n",
       "      <td>0.982205</td>\n",
       "      <td>0.907157</td>\n",
       "      <td>0.926512</td>\n",
       "    </tr>\n",
       "    <tr>\n",
       "      <th>3</th>\n",
       "      <td>Balanced Bagging Classifier</td>\n",
       "      <td>0.829156</td>\n",
       "      <td>0.817393</td>\n",
       "      <td>0.990399</td>\n",
       "      <td>0.895618</td>\n",
       "      <td>0.933588</td>\n",
       "    </tr>\n",
       "    <tr>\n",
       "      <th>4</th>\n",
       "      <td>Logistic Regression (tuned parameters)</td>\n",
       "      <td>0.903575</td>\n",
       "      <td>0.988838</td>\n",
       "      <td>0.911194</td>\n",
       "      <td>0.948429</td>\n",
       "      <td>0.926217</td>\n",
       "    </tr>\n",
       "    <tr>\n",
       "      <th>5</th>\n",
       "      <td>Logistic Regression (Balanced and tuned parame...</td>\n",
       "      <td>0.848258</td>\n",
       "      <td>0.847044</td>\n",
       "      <td>0.981153</td>\n",
       "      <td>0.909179</td>\n",
       "      <td>0.923453</td>\n",
       "    </tr>\n",
       "    <tr>\n",
       "      <th>6</th>\n",
       "      <td>AdaBoost (Balanced and tuned parameters)</td>\n",
       "      <td>0.862968</td>\n",
       "      <td>0.867151</td>\n",
       "      <td>0.977486</td>\n",
       "      <td>0.919019</td>\n",
       "      <td>0.929833</td>\n",
       "    </tr>\n",
       "    <tr>\n",
       "      <th>7</th>\n",
       "      <td>BalancedBaggingClassifier (tuned)</td>\n",
       "      <td>0.832907</td>\n",
       "      <td>0.822367</td>\n",
       "      <td>0.989515</td>\n",
       "      <td>0.898231</td>\n",
       "      <td>0.932421</td>\n",
       "    </tr>\n",
       "  </tbody>\n",
       "</table>\n",
       "</div>"
      ],
      "text/plain": [
       "                                               Model  Accuracy    Recall  \\\n",
       "0                                Logistic Regression  0.905909  0.979545   \n",
       "1                     Logistic Regression (Balanced)  0.823140  0.813749   \n",
       "2                                AdaBoost (Balanced)  0.845319  0.842764   \n",
       "3                        Balanced Bagging Classifier  0.829156  0.817393   \n",
       "4             Logistic Regression (tuned parameters)  0.903575  0.988838   \n",
       "5  Logistic Regression (Balanced and tuned parame...  0.848258  0.847044   \n",
       "6           AdaBoost (Balanced and tuned parameters)  0.862968  0.867151   \n",
       "7                  BalancedBaggingClassifier (tuned)  0.832907  0.822367   \n",
       "\n",
       "   Precision  f1-score  ROC AUC Score  \n",
       "0   0.920604  0.949161       0.926043  \n",
       "1   0.986676  0.891908       0.921749  \n",
       "2   0.982205  0.907157       0.926512  \n",
       "3   0.990399  0.895618       0.933588  \n",
       "4   0.911194  0.948429       0.926217  \n",
       "5   0.981153  0.909179       0.923453  \n",
       "6   0.977486  0.919019       0.929833  \n",
       "7   0.989515  0.898231       0.932421  "
      ]
     },
     "execution_count": 44,
     "metadata": {},
     "output_type": "execute_result"
    }
   ],
   "source": [
    "# we will merge our CV results with our results from the model \n",
    "# open results df\n",
    "results_df = pd.read_csv('results_df.csv')\n",
    "results_df"
   ]
  },
  {
   "cell_type": "code",
   "execution_count": 45,
   "id": "4e4256cf",
   "metadata": {
    "ExecuteTime": {
     "end_time": "2022-05-05T07:20:59.244050Z",
     "start_time": "2022-05-05T07:20:59.226523Z"
    }
   },
   "outputs": [],
   "source": [
    "results = results_df[0:4]"
   ]
  },
  {
   "cell_type": "code",
   "execution_count": 48,
   "id": "cec7dad9",
   "metadata": {
    "ExecuteTime": {
     "end_time": "2022-05-05T07:21:11.745423Z",
     "start_time": "2022-05-05T07:21:11.724863Z"
    }
   },
   "outputs": [
    {
     "data": {
      "text/html": [
       "<div>\n",
       "<style scoped>\n",
       "    .dataframe tbody tr th:only-of-type {\n",
       "        vertical-align: middle;\n",
       "    }\n",
       "\n",
       "    .dataframe tbody tr th {\n",
       "        vertical-align: top;\n",
       "    }\n",
       "\n",
       "    .dataframe thead th {\n",
       "        text-align: right;\n",
       "    }\n",
       "</style>\n",
       "<table border=\"1\" class=\"dataframe\">\n",
       "  <thead>\n",
       "    <tr style=\"text-align: right;\">\n",
       "      <th></th>\n",
       "      <th>Model</th>\n",
       "      <th>Accuracy</th>\n",
       "      <th>Recall</th>\n",
       "      <th>Precision</th>\n",
       "      <th>f1-score</th>\n",
       "      <th>ROC AUC Score</th>\n",
       "      <th>CV Model</th>\n",
       "      <th>CV f1-score</th>\n",
       "    </tr>\n",
       "  </thead>\n",
       "  <tbody>\n",
       "    <tr>\n",
       "      <th>0</th>\n",
       "      <td>Logistic Regression</td>\n",
       "      <td>0.905909</td>\n",
       "      <td>0.979545</td>\n",
       "      <td>0.920604</td>\n",
       "      <td>0.949161</td>\n",
       "      <td>0.926043</td>\n",
       "      <td>Logistic Regression</td>\n",
       "      <td>0.947926</td>\n",
       "    </tr>\n",
       "    <tr>\n",
       "      <th>1</th>\n",
       "      <td>Logistic Regression (Balanced)</td>\n",
       "      <td>0.823140</td>\n",
       "      <td>0.813749</td>\n",
       "      <td>0.986676</td>\n",
       "      <td>0.891908</td>\n",
       "      <td>0.921749</td>\n",
       "      <td>Logistic Regression (Balanced)</td>\n",
       "      <td>0.867851</td>\n",
       "    </tr>\n",
       "    <tr>\n",
       "      <th>2</th>\n",
       "      <td>AdaBoost (Balanced)</td>\n",
       "      <td>0.845319</td>\n",
       "      <td>0.842764</td>\n",
       "      <td>0.982205</td>\n",
       "      <td>0.907157</td>\n",
       "      <td>0.926512</td>\n",
       "      <td>AdaBoost (Balanced)</td>\n",
       "      <td>0.884239</td>\n",
       "    </tr>\n",
       "    <tr>\n",
       "      <th>3</th>\n",
       "      <td>Balanced Bagging Classifier</td>\n",
       "      <td>0.829156</td>\n",
       "      <td>0.817393</td>\n",
       "      <td>0.990399</td>\n",
       "      <td>0.895618</td>\n",
       "      <td>0.933588</td>\n",
       "      <td>Balanced Bagging Classifier</td>\n",
       "      <td>0.895695</td>\n",
       "    </tr>\n",
       "  </tbody>\n",
       "</table>\n",
       "</div>"
      ],
      "text/plain": [
       "                            Model  Accuracy    Recall  Precision  f1-score  \\\n",
       "0             Logistic Regression  0.905909  0.979545   0.920604  0.949161   \n",
       "1  Logistic Regression (Balanced)  0.823140  0.813749   0.986676  0.891908   \n",
       "2             AdaBoost (Balanced)  0.845319  0.842764   0.982205  0.907157   \n",
       "3     Balanced Bagging Classifier  0.829156  0.817393   0.990399  0.895618   \n",
       "\n",
       "   ROC AUC Score                        CV Model  CV f1-score  \n",
       "0       0.926043             Logistic Regression     0.947926  \n",
       "1       0.921749  Logistic Regression (Balanced)     0.867851  \n",
       "2       0.926512             AdaBoost (Balanced)     0.884239  \n",
       "3       0.933588     Balanced Bagging Classifier     0.895695  "
      ]
     },
     "execution_count": 48,
     "metadata": {},
     "output_type": "execute_result"
    }
   ],
   "source": [
    "compare_df = pd.concat([results, cv_results], axis = 1)\n",
    "compare_df"
   ]
  },
  {
   "cell_type": "code",
   "execution_count": 49,
   "id": "6a0fb8d8",
   "metadata": {
    "ExecuteTime": {
     "end_time": "2022-05-05T07:24:22.345028Z",
     "start_time": "2022-05-05T07:24:22.335400Z"
    }
   },
   "outputs": [
    {
     "data": {
      "text/html": [
       "<div>\n",
       "<style scoped>\n",
       "    .dataframe tbody tr th:only-of-type {\n",
       "        vertical-align: middle;\n",
       "    }\n",
       "\n",
       "    .dataframe tbody tr th {\n",
       "        vertical-align: top;\n",
       "    }\n",
       "\n",
       "    .dataframe thead th {\n",
       "        text-align: right;\n",
       "    }\n",
       "</style>\n",
       "<table border=\"1\" class=\"dataframe\">\n",
       "  <thead>\n",
       "    <tr style=\"text-align: right;\">\n",
       "      <th></th>\n",
       "      <th>Accuracy</th>\n",
       "      <th>Recall</th>\n",
       "      <th>Precision</th>\n",
       "      <th>f1-score</th>\n",
       "      <th>ROC AUC Score</th>\n",
       "      <th>CV Model</th>\n",
       "      <th>CV f1-score</th>\n",
       "    </tr>\n",
       "    <tr>\n",
       "      <th>Model</th>\n",
       "      <th></th>\n",
       "      <th></th>\n",
       "      <th></th>\n",
       "      <th></th>\n",
       "      <th></th>\n",
       "      <th></th>\n",
       "      <th></th>\n",
       "    </tr>\n",
       "  </thead>\n",
       "  <tbody>\n",
       "    <tr>\n",
       "      <th>Logistic Regression</th>\n",
       "      <td>0.905909</td>\n",
       "      <td>0.979545</td>\n",
       "      <td>0.920604</td>\n",
       "      <td>0.949161</td>\n",
       "      <td>0.926043</td>\n",
       "      <td>Logistic Regression</td>\n",
       "      <td>0.947926</td>\n",
       "    </tr>\n",
       "    <tr>\n",
       "      <th>Logistic Regression (Balanced)</th>\n",
       "      <td>0.823140</td>\n",
       "      <td>0.813749</td>\n",
       "      <td>0.986676</td>\n",
       "      <td>0.891908</td>\n",
       "      <td>0.921749</td>\n",
       "      <td>Logistic Regression (Balanced)</td>\n",
       "      <td>0.867851</td>\n",
       "    </tr>\n",
       "    <tr>\n",
       "      <th>AdaBoost (Balanced)</th>\n",
       "      <td>0.845319</td>\n",
       "      <td>0.842764</td>\n",
       "      <td>0.982205</td>\n",
       "      <td>0.907157</td>\n",
       "      <td>0.926512</td>\n",
       "      <td>AdaBoost (Balanced)</td>\n",
       "      <td>0.884239</td>\n",
       "    </tr>\n",
       "    <tr>\n",
       "      <th>Balanced Bagging Classifier</th>\n",
       "      <td>0.829156</td>\n",
       "      <td>0.817393</td>\n",
       "      <td>0.990399</td>\n",
       "      <td>0.895618</td>\n",
       "      <td>0.933588</td>\n",
       "      <td>Balanced Bagging Classifier</td>\n",
       "      <td>0.895695</td>\n",
       "    </tr>\n",
       "  </tbody>\n",
       "</table>\n",
       "</div>"
      ],
      "text/plain": [
       "                                Accuracy    Recall  Precision  f1-score  \\\n",
       "Model                                                                     \n",
       "Logistic Regression             0.905909  0.979545   0.920604  0.949161   \n",
       "Logistic Regression (Balanced)  0.823140  0.813749   0.986676  0.891908   \n",
       "AdaBoost (Balanced)             0.845319  0.842764   0.982205  0.907157   \n",
       "Balanced Bagging Classifier     0.829156  0.817393   0.990399  0.895618   \n",
       "\n",
       "                                ROC AUC Score                        CV Model  \\\n",
       "Model                                                                           \n",
       "Logistic Regression                  0.926043             Logistic Regression   \n",
       "Logistic Regression (Balanced)       0.921749  Logistic Regression (Balanced)   \n",
       "AdaBoost (Balanced)                  0.926512             AdaBoost (Balanced)   \n",
       "Balanced Bagging Classifier          0.933588     Balanced Bagging Classifier   \n",
       "\n",
       "                                CV f1-score  \n",
       "Model                                        \n",
       "Logistic Regression                0.947926  \n",
       "Logistic Regression (Balanced)     0.867851  \n",
       "AdaBoost (Balanced)                0.884239  \n",
       "Balanced Bagging Classifier        0.895695  "
      ]
     },
     "execution_count": 49,
     "metadata": {},
     "output_type": "execute_result"
    }
   ],
   "source": [
    "# plot comparison between f1 score on models and f1 score on cross-validation \n",
    "plot_results2 = compare_df.set_index('Model')\n",
    "plot_results2"
   ]
  },
  {
   "cell_type": "code",
   "execution_count": 60,
   "id": "18c19c6b",
   "metadata": {
    "ExecuteTime": {
     "end_time": "2022-05-05T07:46:48.600545Z",
     "start_time": "2022-05-05T07:46:48.444937Z"
    }
   },
   "outputs": [
    {
     "data": {
      "image/png": "[encoded data removed]",
      "text/plain": [
       "<Figure size 720x504 with 1 Axes>"
      ]
     },
     "metadata": {
      "needs_background": "light"
     },
     "output_type": "display_data"
    }
   ],
   "source": [
    "ax = plot_results2[['f1-score', 'CV f1-score']].plot(kind = 'barh', figsize = (10,7), color = ['#e05b66', '#3b27c6'])\n",
    "ax.set_title('Comparison on F1 score in Models and in Cross Validation ')\n",
    "ax.set_ylabel('')\n",
    "handles, labels = ax.get_legend_handles_labels()\n",
    "ax.legend(reversed(handles), reversed(labels), loc='upper left', bbox_to_anchor=(1, 1.02), prop={'size': 13}); "
   ]
  },
  {
   "cell_type": "markdown",
   "id": "720c28de",
   "metadata": {},
   "source": [
    "+ We observe that for most models Cross Validation f1 score is a litlle lower than X_test f1-score. \n",
    "+ This diference is not significant, so we can state that our models does'nt suffer from overfitting. "
   ]
  },
  {
   "cell_type": "markdown",
   "id": "9eba5339",
   "metadata": {},
   "source": [
    "#### This exercise is continued on another Notebook in the same Github repository"
   ]
  }
 ],
 "metadata": {
  "kernelspec": {
   "display_name": "Python 3 (ipykernel)",
   "language": "python",
   "name": "python3"
  },
  "language_info": {
   "codemirror_mode": {
    "name": "ipython",
    "version": 3
   },
   "file_extension": ".py",
   "mimetype": "text/x-python",
   "name": "python",
   "nbconvert_exporter": "python",
   "pygments_lexer": "ipython3",
   "version": "3.9.7"
  }
 },
 "nbformat": 4,
 "nbformat_minor": 5
}
