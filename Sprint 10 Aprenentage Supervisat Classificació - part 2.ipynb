{
 "cells": [
  {
   "cell_type": "markdown",
   "id": "cecdc627",
   "metadata": {},
   "source": [
    "### Sprint 10 Aprenentage Supervisat Classificació - part 2\n"
   ]
  },
  {
   "cell_type": "code",
   "execution_count": 67,
   "id": "7a0774a5",
   "metadata": {
    "ExecuteTime": {
     "end_time": "2022-05-07T09:55:44.570408Z",
     "start_time": "2022-05-07T09:55:44.556530Z"
    }
   },
   "outputs": [],
   "source": [
    "import pandas as pd \n",
    "import numpy as np \n",
    "import matplotlib.pyplot as plt \n",
    "%matplotlib inline\n",
    "import seaborn as sns\n",
    "pd.set_option('display.max_columns', None)\n",
    "import warnings\n",
    "warnings.filterwarnings('ignore')\n",
    "\n",
    "from sklearn.model_selection import train_test_split\n",
    "from sklearn.metrics import accuracy_score, f1_score, confusion_matrix, recall_score\n",
    "from sklearn.metrics import classification_report\n",
    "from sklearn import metrics"
   ]
  },
  {
   "cell_type": "markdown",
   "id": "71b9653f",
   "metadata": {},
   "source": [
    "First, we will open a file that has already data cleaned and sampled from previous exercise"
   ]
  },
  {
   "cell_type": "code",
   "execution_count": 68,
   "id": "fa99dadf",
   "metadata": {
    "ExecuteTime": {
     "end_time": "2022-05-07T09:55:45.106770Z",
     "start_time": "2022-05-07T09:55:44.572399Z"
    }
   },
   "outputs": [
    {
     "data": {
      "text/html": [
       "<div>\n",
       "<style scoped>\n",
       "    .dataframe tbody tr th:only-of-type {\n",
       "        vertical-align: middle;\n",
       "    }\n",
       "\n",
       "    .dataframe tbody tr th {\n",
       "        vertical-align: top;\n",
       "    }\n",
       "\n",
       "    .dataframe thead th {\n",
       "        text-align: right;\n",
       "    }\n",
       "</style>\n",
       "<table border=\"1\" class=\"dataframe\">\n",
       "  <thead>\n",
       "    <tr style=\"text-align: right;\">\n",
       "      <th></th>\n",
       "      <th>Class</th>\n",
       "      <th>ActualElapsedTime</th>\n",
       "      <th>CRSElapsedTime</th>\n",
       "      <th>AirTime</th>\n",
       "      <th>DepDelay</th>\n",
       "      <th>Distance</th>\n",
       "      <th>Speed</th>\n",
       "      <th>TaxiIn</th>\n",
       "      <th>TaxiOut</th>\n",
       "      <th>CarrierDelay</th>\n",
       "      <th>WeatherDelay</th>\n",
       "      <th>NASDelay</th>\n",
       "      <th>SecurityDelay</th>\n",
       "      <th>LateAircraftDelay</th>\n",
       "      <th>DepTime</th>\n",
       "      <th>CRSDepTime</th>\n",
       "      <th>ArrTime</th>\n",
       "      <th>CRSArrTime</th>\n",
       "      <th>Month</th>\n",
       "      <th>DayofMonth</th>\n",
       "      <th>DayOfWeek</th>\n",
       "      <th>UniqueCarrier</th>\n",
       "    </tr>\n",
       "  </thead>\n",
       "  <tbody>\n",
       "    <tr>\n",
       "      <th>0</th>\n",
       "      <td>1</td>\n",
       "      <td>95.0</td>\n",
       "      <td>88.0</td>\n",
       "      <td>63.0</td>\n",
       "      <td>14.0</td>\n",
       "      <td>364</td>\n",
       "      <td>346.67</td>\n",
       "      <td>11.0</td>\n",
       "      <td>21.0</td>\n",
       "      <td>14.0</td>\n",
       "      <td>0.0</td>\n",
       "      <td>7.0</td>\n",
       "      <td>0.0</td>\n",
       "      <td>0.0</td>\n",
       "      <td>1711.0</td>\n",
       "      <td>1657</td>\n",
       "      <td>1746.0</td>\n",
       "      <td>1725</td>\n",
       "      <td>1</td>\n",
       "      <td>18</td>\n",
       "      <td>5</td>\n",
       "      <td>9E</td>\n",
       "    </tr>\n",
       "    <tr>\n",
       "      <th>1</th>\n",
       "      <td>1</td>\n",
       "      <td>139.0</td>\n",
       "      <td>126.0</td>\n",
       "      <td>105.0</td>\n",
       "      <td>11.0</td>\n",
       "      <td>813</td>\n",
       "      <td>464.57</td>\n",
       "      <td>18.0</td>\n",
       "      <td>16.0</td>\n",
       "      <td>0.0</td>\n",
       "      <td>0.0</td>\n",
       "      <td>13.0</td>\n",
       "      <td>0.0</td>\n",
       "      <td>11.0</td>\n",
       "      <td>1100.0</td>\n",
       "      <td>1049</td>\n",
       "      <td>1419.0</td>\n",
       "      <td>1355</td>\n",
       "      <td>12</td>\n",
       "      <td>5</td>\n",
       "      <td>5</td>\n",
       "      <td>9E</td>\n",
       "    </tr>\n",
       "    <tr>\n",
       "      <th>2</th>\n",
       "      <td>1</td>\n",
       "      <td>86.0</td>\n",
       "      <td>102.0</td>\n",
       "      <td>65.0</td>\n",
       "      <td>18.0</td>\n",
       "      <td>490</td>\n",
       "      <td>452.31</td>\n",
       "      <td>9.0</td>\n",
       "      <td>12.0</td>\n",
       "      <td>0.0</td>\n",
       "      <td>0.0</td>\n",
       "      <td>0.0</td>\n",
       "      <td>0.0</td>\n",
       "      <td>0.0</td>\n",
       "      <td>943.0</td>\n",
       "      <td>925</td>\n",
       "      <td>1209.0</td>\n",
       "      <td>1207</td>\n",
       "      <td>12</td>\n",
       "      <td>22</td>\n",
       "      <td>1</td>\n",
       "      <td>9E</td>\n",
       "    </tr>\n",
       "    <tr>\n",
       "      <th>3</th>\n",
       "      <td>1</td>\n",
       "      <td>114.0</td>\n",
       "      <td>90.0</td>\n",
       "      <td>87.0</td>\n",
       "      <td>13.0</td>\n",
       "      <td>442</td>\n",
       "      <td>304.83</td>\n",
       "      <td>4.0</td>\n",
       "      <td>23.0</td>\n",
       "      <td>13.0</td>\n",
       "      <td>0.0</td>\n",
       "      <td>24.0</td>\n",
       "      <td>0.0</td>\n",
       "      <td>0.0</td>\n",
       "      <td>1908.0</td>\n",
       "      <td>1855</td>\n",
       "      <td>2102.0</td>\n",
       "      <td>2025</td>\n",
       "      <td>6</td>\n",
       "      <td>12</td>\n",
       "      <td>4</td>\n",
       "      <td>9E</td>\n",
       "    </tr>\n",
       "    <tr>\n",
       "      <th>4</th>\n",
       "      <td>1</td>\n",
       "      <td>90.0</td>\n",
       "      <td>88.0</td>\n",
       "      <td>61.0</td>\n",
       "      <td>8.0</td>\n",
       "      <td>382</td>\n",
       "      <td>375.74</td>\n",
       "      <td>7.0</td>\n",
       "      <td>22.0</td>\n",
       "      <td>0.0</td>\n",
       "      <td>0.0</td>\n",
       "      <td>0.0</td>\n",
       "      <td>0.0</td>\n",
       "      <td>0.0</td>\n",
       "      <td>1038.0</td>\n",
       "      <td>1030</td>\n",
       "      <td>1208.0</td>\n",
       "      <td>1158</td>\n",
       "      <td>4</td>\n",
       "      <td>1</td>\n",
       "      <td>2</td>\n",
       "      <td>9E</td>\n",
       "    </tr>\n",
       "  </tbody>\n",
       "</table>\n",
       "</div>"
      ],
      "text/plain": [
       "   Class  ActualElapsedTime  CRSElapsedTime  AirTime  DepDelay  Distance  \\\n",
       "0      1               95.0            88.0     63.0      14.0       364   \n",
       "1      1              139.0           126.0    105.0      11.0       813   \n",
       "2      1               86.0           102.0     65.0      18.0       490   \n",
       "3      1              114.0            90.0     87.0      13.0       442   \n",
       "4      1               90.0            88.0     61.0       8.0       382   \n",
       "\n",
       "    Speed  TaxiIn  TaxiOut  CarrierDelay  WeatherDelay  NASDelay  \\\n",
       "0  346.67    11.0     21.0          14.0           0.0       7.0   \n",
       "1  464.57    18.0     16.0           0.0           0.0      13.0   \n",
       "2  452.31     9.0     12.0           0.0           0.0       0.0   \n",
       "3  304.83     4.0     23.0          13.0           0.0      24.0   \n",
       "4  375.74     7.0     22.0           0.0           0.0       0.0   \n",
       "\n",
       "   SecurityDelay  LateAircraftDelay  DepTime  CRSDepTime  ArrTime  CRSArrTime  \\\n",
       "0            0.0                0.0   1711.0        1657   1746.0        1725   \n",
       "1            0.0               11.0   1100.0        1049   1419.0        1355   \n",
       "2            0.0                0.0    943.0         925   1209.0        1207   \n",
       "3            0.0                0.0   1908.0        1855   2102.0        2025   \n",
       "4            0.0                0.0   1038.0        1030   1208.0        1158   \n",
       "\n",
       "   Month  DayofMonth  DayOfWeek UniqueCarrier  \n",
       "0      1          18          5            9E  \n",
       "1     12           5          5            9E  \n",
       "2     12          22          1            9E  \n",
       "3      6          12          4            9E  \n",
       "4      4           1          2            9E  "
      ]
     },
     "execution_count": 68,
     "metadata": {},
     "output_type": "execute_result"
    }
   ],
   "source": [
    "# open dataset from the previous exercise \n",
    "# this file has data cleaned (we handled missing values and droped non useful columns, explained in oprevious exercise)\n",
    "# this file does not have yet dummy columns, I will generate them later before doing the regressions \n",
    "# we have already droped 'ArrDelay' column and 'Origin' and 'Dest' (already explained in previous exercise)\n",
    "data = pd.read_csv('data_sample.csv')\n",
    "data.head()"
   ]
  },
  {
   "cell_type": "code",
   "execution_count": 69,
   "id": "afc29b22",
   "metadata": {
    "ExecuteTime": {
     "end_time": "2022-05-07T09:55:45.168192Z",
     "start_time": "2022-05-07T09:55:45.107686Z"
    }
   },
   "outputs": [
    {
     "name": "stdout",
     "output_type": "stream",
     "text": [
      "<class 'pandas.core.frame.DataFrame'>\n",
      "RangeIndex: 192825 entries, 0 to 192824\n",
      "Data columns (total 22 columns):\n",
      " #   Column             Non-Null Count   Dtype  \n",
      "---  ------             --------------   -----  \n",
      " 0   Class              192825 non-null  int64  \n",
      " 1   ActualElapsedTime  192825 non-null  float64\n",
      " 2   CRSElapsedTime     192825 non-null  float64\n",
      " 3   AirTime            192825 non-null  float64\n",
      " 4   DepDelay           192825 non-null  float64\n",
      " 5   Distance           192825 non-null  int64  \n",
      " 6   Speed              192825 non-null  float64\n",
      " 7   TaxiIn             192825 non-null  float64\n",
      " 8   TaxiOut            192825 non-null  float64\n",
      " 9   CarrierDelay       192825 non-null  float64\n",
      " 10  WeatherDelay       192825 non-null  float64\n",
      " 11  NASDelay           192825 non-null  float64\n",
      " 12  SecurityDelay      192825 non-null  float64\n",
      " 13  LateAircraftDelay  192825 non-null  float64\n",
      " 14  DepTime            192825 non-null  float64\n",
      " 15  CRSDepTime         192825 non-null  int64  \n",
      " 16  ArrTime            192825 non-null  float64\n",
      " 17  CRSArrTime         192825 non-null  int64  \n",
      " 18  Month              192825 non-null  int64  \n",
      " 19  DayofMonth         192825 non-null  int64  \n",
      " 20  DayOfWeek          192825 non-null  int64  \n",
      " 21  UniqueCarrier      192825 non-null  object \n",
      "dtypes: float64(14), int64(7), object(1)\n",
      "memory usage: 32.4+ MB\n"
     ]
    }
   ],
   "source": [
    "data.info()"
   ]
  },
  {
   "cell_type": "code",
   "execution_count": 70,
   "id": "fab3b989",
   "metadata": {
    "ExecuteTime": {
     "end_time": "2022-05-07T09:55:45.262143Z",
     "start_time": "2022-05-07T09:55:45.170748Z"
    }
   },
   "outputs": [],
   "source": [
    "# generate dummy columns for UniqueCarrier \n",
    "# we´ll use the param drop first = True so we don t have duplicated information \n",
    "\n",
    "data = pd.get_dummies(data = data, columns = ['UniqueCarrier'], \n",
    "                            drop_first= True)"
   ]
  },
  {
   "cell_type": "code",
   "execution_count": 71,
   "id": "d7a45c7f",
   "metadata": {
    "ExecuteTime": {
     "end_time": "2022-05-07T09:55:45.292936Z",
     "start_time": "2022-05-07T09:55:45.263067Z"
    }
   },
   "outputs": [],
   "source": [
    "data_cleaned = data.copy()"
   ]
  },
  {
   "cell_type": "markdown",
   "id": "7c43e486",
   "metadata": {},
   "source": [
    "Now we will drop features that have a strong multicollinearity (analyisis already explained in previous exercise)"
   ]
  },
  {
   "cell_type": "code",
   "execution_count": 72,
   "id": "ab3d72ca",
   "metadata": {
    "ExecuteTime": {
     "end_time": "2022-05-07T09:55:45.323725Z",
     "start_time": "2022-05-07T09:55:45.293861Z"
    }
   },
   "outputs": [
    {
     "data": {
      "text/plain": [
       "(192825, 31)"
      ]
     },
     "execution_count": 72,
     "metadata": {},
     "output_type": "execute_result"
    }
   ],
   "source": [
    "data_cleaned.drop(['ActualElapsedTime', 'TaxiIn', 'LateAircraftDelay', 'CRSElapsedTime', 'CRSDepTime', 'AirTime',\n",
    "                   'CRSArrTime', 'Speed', 'DepTime'], axis = 1, inplace = True)\n",
    "data_cleaned.shape"
   ]
  },
  {
   "cell_type": "markdown",
   "id": "7503f97e",
   "metadata": {},
   "source": [
    "#### - Exercici 5\n",
    "\n",
    "Realitza algun procés d’enginyeria de variables per millorar-ne la predicció"
   ]
  },
  {
   "cell_type": "markdown",
   "id": "d5ed9d67",
   "metadata": {},
   "source": [
    "We will create a new dataframe for the exercise, we will scale some of the features: "
   ]
  },
  {
   "cell_type": "code",
   "execution_count": 73,
   "id": "411e6188",
   "metadata": {
    "ExecuteTime": {
     "end_time": "2022-05-07T09:55:45.353807Z",
     "start_time": "2022-05-07T09:55:45.325621Z"
    }
   },
   "outputs": [],
   "source": [
    "data_scaled = data_cleaned.copy()"
   ]
  },
  {
   "cell_type": "code",
   "execution_count": 74,
   "id": "395d9779",
   "metadata": {
    "ExecuteTime": {
     "end_time": "2022-05-07T09:55:45.605695Z",
     "start_time": "2022-05-07T09:55:45.354803Z"
    }
   },
   "outputs": [
    {
     "data": {
      "text/html": [
       "<div>\n",
       "<style scoped>\n",
       "    .dataframe tbody tr th:only-of-type {\n",
       "        vertical-align: middle;\n",
       "    }\n",
       "\n",
       "    .dataframe tbody tr th {\n",
       "        vertical-align: top;\n",
       "    }\n",
       "\n",
       "    .dataframe thead th {\n",
       "        text-align: right;\n",
       "    }\n",
       "</style>\n",
       "<table border=\"1\" class=\"dataframe\">\n",
       "  <thead>\n",
       "    <tr style=\"text-align: right;\">\n",
       "      <th></th>\n",
       "      <th>Class</th>\n",
       "      <th>DepDelay</th>\n",
       "      <th>Distance</th>\n",
       "      <th>TaxiOut</th>\n",
       "      <th>CarrierDelay</th>\n",
       "      <th>WeatherDelay</th>\n",
       "      <th>NASDelay</th>\n",
       "      <th>SecurityDelay</th>\n",
       "      <th>ArrTime</th>\n",
       "      <th>Month</th>\n",
       "      <th>DayofMonth</th>\n",
       "      <th>DayOfWeek</th>\n",
       "      <th>UniqueCarrier_AA</th>\n",
       "      <th>UniqueCarrier_AQ</th>\n",
       "      <th>UniqueCarrier_AS</th>\n",
       "      <th>UniqueCarrier_B6</th>\n",
       "      <th>UniqueCarrier_CO</th>\n",
       "      <th>UniqueCarrier_DL</th>\n",
       "      <th>UniqueCarrier_EV</th>\n",
       "      <th>UniqueCarrier_F9</th>\n",
       "      <th>UniqueCarrier_FL</th>\n",
       "      <th>UniqueCarrier_HA</th>\n",
       "      <th>UniqueCarrier_MQ</th>\n",
       "      <th>UniqueCarrier_NW</th>\n",
       "      <th>UniqueCarrier_OH</th>\n",
       "      <th>UniqueCarrier_OO</th>\n",
       "      <th>UniqueCarrier_UA</th>\n",
       "      <th>UniqueCarrier_US</th>\n",
       "      <th>UniqueCarrier_WN</th>\n",
       "      <th>UniqueCarrier_XE</th>\n",
       "      <th>UniqueCarrier_YV</th>\n",
       "    </tr>\n",
       "  </thead>\n",
       "  <tbody>\n",
       "    <tr>\n",
       "      <th>count</th>\n",
       "      <td>192825.000000</td>\n",
       "      <td>192825.000000</td>\n",
       "      <td>192825.000000</td>\n",
       "      <td>192825.000000</td>\n",
       "      <td>192825.000000</td>\n",
       "      <td>192825.000000</td>\n",
       "      <td>192825.000000</td>\n",
       "      <td>192825.000000</td>\n",
       "      <td>192825.000000</td>\n",
       "      <td>192825.000000</td>\n",
       "      <td>192825.000000</td>\n",
       "      <td>192825.000000</td>\n",
       "      <td>192825.000000</td>\n",
       "      <td>192825.000000</td>\n",
       "      <td>192825.000000</td>\n",
       "      <td>192825.000000</td>\n",
       "      <td>192825.000000</td>\n",
       "      <td>192825.000000</td>\n",
       "      <td>192825.000000</td>\n",
       "      <td>192825.000000</td>\n",
       "      <td>192825.000000</td>\n",
       "      <td>192825.000000</td>\n",
       "      <td>192825.000000</td>\n",
       "      <td>192825.000000</td>\n",
       "      <td>192825.000000</td>\n",
       "      <td>192825.000000</td>\n",
       "      <td>192825.000000</td>\n",
       "      <td>192825.000000</td>\n",
       "      <td>192825.000000</td>\n",
       "      <td>192825.000000</td>\n",
       "      <td>192825.000000</td>\n",
       "    </tr>\n",
       "    <tr>\n",
       "      <th>mean</th>\n",
       "      <td>0.894386</td>\n",
       "      <td>43.125694</td>\n",
       "      <td>765.282510</td>\n",
       "      <td>18.228560</td>\n",
       "      <td>12.292519</td>\n",
       "      <td>2.391573</td>\n",
       "      <td>9.709151</td>\n",
       "      <td>0.055397</td>\n",
       "      <td>1611.121317</td>\n",
       "      <td>6.116214</td>\n",
       "      <td>15.790318</td>\n",
       "      <td>3.988710</td>\n",
       "      <td>0.099007</td>\n",
       "      <td>0.000384</td>\n",
       "      <td>0.020231</td>\n",
       "      <td>0.028482</td>\n",
       "      <td>0.051720</td>\n",
       "      <td>0.058976</td>\n",
       "      <td>0.042396</td>\n",
       "      <td>0.014635</td>\n",
       "      <td>0.036805</td>\n",
       "      <td>0.003874</td>\n",
       "      <td>0.073237</td>\n",
       "      <td>0.040887</td>\n",
       "      <td>0.027185</td>\n",
       "      <td>0.068331</td>\n",
       "      <td>0.073071</td>\n",
       "      <td>0.050828</td>\n",
       "      <td>0.195094</td>\n",
       "      <td>0.053489</td>\n",
       "      <td>0.034622</td>\n",
       "    </tr>\n",
       "    <tr>\n",
       "      <th>std</th>\n",
       "      <td>0.307344</td>\n",
       "      <td>53.557286</td>\n",
       "      <td>573.939431</td>\n",
       "      <td>14.233786</td>\n",
       "      <td>35.811004</td>\n",
       "      <td>17.896321</td>\n",
       "      <td>28.211221</td>\n",
       "      <td>1.818004</td>\n",
       "      <td>546.359938</td>\n",
       "      <td>3.477732</td>\n",
       "      <td>8.787140</td>\n",
       "      <td>1.995728</td>\n",
       "      <td>0.298672</td>\n",
       "      <td>0.019586</td>\n",
       "      <td>0.140789</td>\n",
       "      <td>0.166345</td>\n",
       "      <td>0.221463</td>\n",
       "      <td>0.235580</td>\n",
       "      <td>0.201491</td>\n",
       "      <td>0.120087</td>\n",
       "      <td>0.188284</td>\n",
       "      <td>0.062121</td>\n",
       "      <td>0.260526</td>\n",
       "      <td>0.198028</td>\n",
       "      <td>0.162623</td>\n",
       "      <td>0.252314</td>\n",
       "      <td>0.260254</td>\n",
       "      <td>0.219648</td>\n",
       "      <td>0.396274</td>\n",
       "      <td>0.225007</td>\n",
       "      <td>0.182821</td>\n",
       "    </tr>\n",
       "    <tr>\n",
       "      <th>min</th>\n",
       "      <td>0.000000</td>\n",
       "      <td>6.000000</td>\n",
       "      <td>31.000000</td>\n",
       "      <td>0.000000</td>\n",
       "      <td>0.000000</td>\n",
       "      <td>0.000000</td>\n",
       "      <td>0.000000</td>\n",
       "      <td>0.000000</td>\n",
       "      <td>1.000000</td>\n",
       "      <td>1.000000</td>\n",
       "      <td>1.000000</td>\n",
       "      <td>1.000000</td>\n",
       "      <td>0.000000</td>\n",
       "      <td>0.000000</td>\n",
       "      <td>0.000000</td>\n",
       "      <td>0.000000</td>\n",
       "      <td>0.000000</td>\n",
       "      <td>0.000000</td>\n",
       "      <td>0.000000</td>\n",
       "      <td>0.000000</td>\n",
       "      <td>0.000000</td>\n",
       "      <td>0.000000</td>\n",
       "      <td>0.000000</td>\n",
       "      <td>0.000000</td>\n",
       "      <td>0.000000</td>\n",
       "      <td>0.000000</td>\n",
       "      <td>0.000000</td>\n",
       "      <td>0.000000</td>\n",
       "      <td>0.000000</td>\n",
       "      <td>0.000000</td>\n",
       "      <td>0.000000</td>\n",
       "    </tr>\n",
       "    <tr>\n",
       "      <th>25%</th>\n",
       "      <td>1.000000</td>\n",
       "      <td>12.000000</td>\n",
       "      <td>338.000000</td>\n",
       "      <td>10.000000</td>\n",
       "      <td>0.000000</td>\n",
       "      <td>0.000000</td>\n",
       "      <td>0.000000</td>\n",
       "      <td>0.000000</td>\n",
       "      <td>1317.000000</td>\n",
       "      <td>3.000000</td>\n",
       "      <td>8.000000</td>\n",
       "      <td>2.000000</td>\n",
       "      <td>0.000000</td>\n",
       "      <td>0.000000</td>\n",
       "      <td>0.000000</td>\n",
       "      <td>0.000000</td>\n",
       "      <td>0.000000</td>\n",
       "      <td>0.000000</td>\n",
       "      <td>0.000000</td>\n",
       "      <td>0.000000</td>\n",
       "      <td>0.000000</td>\n",
       "      <td>0.000000</td>\n",
       "      <td>0.000000</td>\n",
       "      <td>0.000000</td>\n",
       "      <td>0.000000</td>\n",
       "      <td>0.000000</td>\n",
       "      <td>0.000000</td>\n",
       "      <td>0.000000</td>\n",
       "      <td>0.000000</td>\n",
       "      <td>0.000000</td>\n",
       "      <td>0.000000</td>\n",
       "    </tr>\n",
       "    <tr>\n",
       "      <th>50%</th>\n",
       "      <td>1.000000</td>\n",
       "      <td>24.000000</td>\n",
       "      <td>606.000000</td>\n",
       "      <td>14.000000</td>\n",
       "      <td>0.000000</td>\n",
       "      <td>0.000000</td>\n",
       "      <td>0.000000</td>\n",
       "      <td>0.000000</td>\n",
       "      <td>1715.000000</td>\n",
       "      <td>6.000000</td>\n",
       "      <td>16.000000</td>\n",
       "      <td>4.000000</td>\n",
       "      <td>0.000000</td>\n",
       "      <td>0.000000</td>\n",
       "      <td>0.000000</td>\n",
       "      <td>0.000000</td>\n",
       "      <td>0.000000</td>\n",
       "      <td>0.000000</td>\n",
       "      <td>0.000000</td>\n",
       "      <td>0.000000</td>\n",
       "      <td>0.000000</td>\n",
       "      <td>0.000000</td>\n",
       "      <td>0.000000</td>\n",
       "      <td>0.000000</td>\n",
       "      <td>0.000000</td>\n",
       "      <td>0.000000</td>\n",
       "      <td>0.000000</td>\n",
       "      <td>0.000000</td>\n",
       "      <td>0.000000</td>\n",
       "      <td>0.000000</td>\n",
       "      <td>0.000000</td>\n",
       "    </tr>\n",
       "    <tr>\n",
       "      <th>75%</th>\n",
       "      <td>1.000000</td>\n",
       "      <td>53.000000</td>\n",
       "      <td>998.000000</td>\n",
       "      <td>21.000000</td>\n",
       "      <td>10.000000</td>\n",
       "      <td>0.000000</td>\n",
       "      <td>6.000000</td>\n",
       "      <td>0.000000</td>\n",
       "      <td>2030.000000</td>\n",
       "      <td>9.000000</td>\n",
       "      <td>23.000000</td>\n",
       "      <td>6.000000</td>\n",
       "      <td>0.000000</td>\n",
       "      <td>0.000000</td>\n",
       "      <td>0.000000</td>\n",
       "      <td>0.000000</td>\n",
       "      <td>0.000000</td>\n",
       "      <td>0.000000</td>\n",
       "      <td>0.000000</td>\n",
       "      <td>0.000000</td>\n",
       "      <td>0.000000</td>\n",
       "      <td>0.000000</td>\n",
       "      <td>0.000000</td>\n",
       "      <td>0.000000</td>\n",
       "      <td>0.000000</td>\n",
       "      <td>0.000000</td>\n",
       "      <td>0.000000</td>\n",
       "      <td>0.000000</td>\n",
       "      <td>0.000000</td>\n",
       "      <td>0.000000</td>\n",
       "      <td>0.000000</td>\n",
       "    </tr>\n",
       "    <tr>\n",
       "      <th>max</th>\n",
       "      <td>1.000000</td>\n",
       "      <td>1597.000000</td>\n",
       "      <td>4962.000000</td>\n",
       "      <td>356.000000</td>\n",
       "      <td>1312.000000</td>\n",
       "      <td>1148.000000</td>\n",
       "      <td>1289.000000</td>\n",
       "      <td>392.000000</td>\n",
       "      <td>2400.000000</td>\n",
       "      <td>12.000000</td>\n",
       "      <td>31.000000</td>\n",
       "      <td>7.000000</td>\n",
       "      <td>1.000000</td>\n",
       "      <td>1.000000</td>\n",
       "      <td>1.000000</td>\n",
       "      <td>1.000000</td>\n",
       "      <td>1.000000</td>\n",
       "      <td>1.000000</td>\n",
       "      <td>1.000000</td>\n",
       "      <td>1.000000</td>\n",
       "      <td>1.000000</td>\n",
       "      <td>1.000000</td>\n",
       "      <td>1.000000</td>\n",
       "      <td>1.000000</td>\n",
       "      <td>1.000000</td>\n",
       "      <td>1.000000</td>\n",
       "      <td>1.000000</td>\n",
       "      <td>1.000000</td>\n",
       "      <td>1.000000</td>\n",
       "      <td>1.000000</td>\n",
       "      <td>1.000000</td>\n",
       "    </tr>\n",
       "  </tbody>\n",
       "</table>\n",
       "</div>"
      ],
      "text/plain": [
       "               Class       DepDelay       Distance        TaxiOut  \\\n",
       "count  192825.000000  192825.000000  192825.000000  192825.000000   \n",
       "mean        0.894386      43.125694     765.282510      18.228560   \n",
       "std         0.307344      53.557286     573.939431      14.233786   \n",
       "min         0.000000       6.000000      31.000000       0.000000   \n",
       "25%         1.000000      12.000000     338.000000      10.000000   \n",
       "50%         1.000000      24.000000     606.000000      14.000000   \n",
       "75%         1.000000      53.000000     998.000000      21.000000   \n",
       "max         1.000000    1597.000000    4962.000000     356.000000   \n",
       "\n",
       "        CarrierDelay   WeatherDelay       NASDelay  SecurityDelay  \\\n",
       "count  192825.000000  192825.000000  192825.000000  192825.000000   \n",
       "mean       12.292519       2.391573       9.709151       0.055397   \n",
       "std        35.811004      17.896321      28.211221       1.818004   \n",
       "min         0.000000       0.000000       0.000000       0.000000   \n",
       "25%         0.000000       0.000000       0.000000       0.000000   \n",
       "50%         0.000000       0.000000       0.000000       0.000000   \n",
       "75%        10.000000       0.000000       6.000000       0.000000   \n",
       "max      1312.000000    1148.000000    1289.000000     392.000000   \n",
       "\n",
       "             ArrTime          Month     DayofMonth      DayOfWeek  \\\n",
       "count  192825.000000  192825.000000  192825.000000  192825.000000   \n",
       "mean     1611.121317       6.116214      15.790318       3.988710   \n",
       "std       546.359938       3.477732       8.787140       1.995728   \n",
       "min         1.000000       1.000000       1.000000       1.000000   \n",
       "25%      1317.000000       3.000000       8.000000       2.000000   \n",
       "50%      1715.000000       6.000000      16.000000       4.000000   \n",
       "75%      2030.000000       9.000000      23.000000       6.000000   \n",
       "max      2400.000000      12.000000      31.000000       7.000000   \n",
       "\n",
       "       UniqueCarrier_AA  UniqueCarrier_AQ  UniqueCarrier_AS  UniqueCarrier_B6  \\\n",
       "count     192825.000000     192825.000000     192825.000000     192825.000000   \n",
       "mean           0.099007          0.000384          0.020231          0.028482   \n",
       "std            0.298672          0.019586          0.140789          0.166345   \n",
       "min            0.000000          0.000000          0.000000          0.000000   \n",
       "25%            0.000000          0.000000          0.000000          0.000000   \n",
       "50%            0.000000          0.000000          0.000000          0.000000   \n",
       "75%            0.000000          0.000000          0.000000          0.000000   \n",
       "max            1.000000          1.000000          1.000000          1.000000   \n",
       "\n",
       "       UniqueCarrier_CO  UniqueCarrier_DL  UniqueCarrier_EV  UniqueCarrier_F9  \\\n",
       "count     192825.000000     192825.000000     192825.000000     192825.000000   \n",
       "mean           0.051720          0.058976          0.042396          0.014635   \n",
       "std            0.221463          0.235580          0.201491          0.120087   \n",
       "min            0.000000          0.000000          0.000000          0.000000   \n",
       "25%            0.000000          0.000000          0.000000          0.000000   \n",
       "50%            0.000000          0.000000          0.000000          0.000000   \n",
       "75%            0.000000          0.000000          0.000000          0.000000   \n",
       "max            1.000000          1.000000          1.000000          1.000000   \n",
       "\n",
       "       UniqueCarrier_FL  UniqueCarrier_HA  UniqueCarrier_MQ  UniqueCarrier_NW  \\\n",
       "count     192825.000000     192825.000000     192825.000000     192825.000000   \n",
       "mean           0.036805          0.003874          0.073237          0.040887   \n",
       "std            0.188284          0.062121          0.260526          0.198028   \n",
       "min            0.000000          0.000000          0.000000          0.000000   \n",
       "25%            0.000000          0.000000          0.000000          0.000000   \n",
       "50%            0.000000          0.000000          0.000000          0.000000   \n",
       "75%            0.000000          0.000000          0.000000          0.000000   \n",
       "max            1.000000          1.000000          1.000000          1.000000   \n",
       "\n",
       "       UniqueCarrier_OH  UniqueCarrier_OO  UniqueCarrier_UA  UniqueCarrier_US  \\\n",
       "count     192825.000000     192825.000000     192825.000000     192825.000000   \n",
       "mean           0.027185          0.068331          0.073071          0.050828   \n",
       "std            0.162623          0.252314          0.260254          0.219648   \n",
       "min            0.000000          0.000000          0.000000          0.000000   \n",
       "25%            0.000000          0.000000          0.000000          0.000000   \n",
       "50%            0.000000          0.000000          0.000000          0.000000   \n",
       "75%            0.000000          0.000000          0.000000          0.000000   \n",
       "max            1.000000          1.000000          1.000000          1.000000   \n",
       "\n",
       "       UniqueCarrier_WN  UniqueCarrier_XE  UniqueCarrier_YV  \n",
       "count     192825.000000     192825.000000     192825.000000  \n",
       "mean           0.195094          0.053489          0.034622  \n",
       "std            0.396274          0.225007          0.182821  \n",
       "min            0.000000          0.000000          0.000000  \n",
       "25%            0.000000          0.000000          0.000000  \n",
       "50%            0.000000          0.000000          0.000000  \n",
       "75%            0.000000          0.000000          0.000000  \n",
       "max            1.000000          1.000000          1.000000  "
      ]
     },
     "execution_count": 74,
     "metadata": {},
     "output_type": "execute_result"
    }
   ],
   "source": [
    "data_scaled.describe()"
   ]
  },
  {
   "cell_type": "markdown",
   "id": "dd64ee51",
   "metadata": {},
   "source": [
    "One of the most significant things looking at this summary statistics are the maximum values of some columns, which are huge compared to the mean values (in a previous exercise we already analyzed the effect of outliers in this dataset)."
   ]
  },
  {
   "cell_type": "markdown",
   "id": "428635ab",
   "metadata": {},
   "source": [
    "We are going to look at the distribution of the features before doing any transformation, below we are selecting all features except those that refer to the period of time of the flight and dummy columns: "
   ]
  },
  {
   "cell_type": "code",
   "execution_count": 75,
   "id": "174ed7de",
   "metadata": {
    "ExecuteTime": {
     "end_time": "2022-05-07T09:56:32.563737Z",
     "start_time": "2022-05-07T09:55:45.606656Z"
    }
   },
   "outputs": [
    {
     "data": {
      "image/png": "[encoded data removed]",
      "text/plain": [
       "<Figure size 1440x1440 with 49 Axes>"
      ]
     },
     "metadata": {
      "needs_background": "light"
     },
     "output_type": "display_data"
    }
   ],
   "source": [
    "cols = ['DepDelay', 'Distance', 'TaxiOut', 'CarrierDelay',\n",
    "       'WeatherDelay', 'NASDelay', 'SecurityDelay']\n",
    "\n",
    "\n",
    "pd.plotting.scatter_matrix(data_scaled[cols] , figsize= (20,20),  hist_kwds = {'bins': 50}, alpha = 0.7 \n",
    "                           , color = '#1aafd0', s = 60); "
   ]
  },
  {
   "cell_type": "markdown",
   "id": "f65b142b",
   "metadata": {},
   "source": [
    "We observe that the features seem to have a skew distribution, we will perform a log transformation for these features (this kind of transformation makes our features look more normal in cases with skewness): "
   ]
  },
  {
   "cell_type": "code",
   "execution_count": 76,
   "id": "b03ff89c",
   "metadata": {
    "ExecuteTime": {
     "end_time": "2022-05-07T09:56:32.579222Z",
     "start_time": "2022-05-07T09:56:32.566651Z"
    }
   },
   "outputs": [],
   "source": [
    "# log transormation on selected columns \n",
    "log_cols =['DepDelay','Distance','TaxiOut','CarrierDelay','WeatherDelay','NASDelay','SecurityDelay']"
   ]
  },
  {
   "cell_type": "code",
   "execution_count": 77,
   "id": "1caa1fdd",
   "metadata": {
    "ExecuteTime": {
     "end_time": "2022-05-07T09:56:32.640889Z",
     "start_time": "2022-05-07T09:56:32.580227Z"
    }
   },
   "outputs": [],
   "source": [
    "# add 1 to avoid error values \n",
    "data_scaled[log_cols] = np.log(data_scaled[log_cols] + 1 )"
   ]
  },
  {
   "cell_type": "code",
   "execution_count": 78,
   "id": "1f6bfae6",
   "metadata": {
    "ExecuteTime": {
     "end_time": "2022-05-07T09:56:32.908440Z",
     "start_time": "2022-05-07T09:56:32.642882Z"
    },
    "scrolled": true
   },
   "outputs": [
    {
     "data": {
      "text/html": [
       "<div>\n",
       "<style scoped>\n",
       "    .dataframe tbody tr th:only-of-type {\n",
       "        vertical-align: middle;\n",
       "    }\n",
       "\n",
       "    .dataframe tbody tr th {\n",
       "        vertical-align: top;\n",
       "    }\n",
       "\n",
       "    .dataframe thead th {\n",
       "        text-align: right;\n",
       "    }\n",
       "</style>\n",
       "<table border=\"1\" class=\"dataframe\">\n",
       "  <thead>\n",
       "    <tr style=\"text-align: right;\">\n",
       "      <th></th>\n",
       "      <th>Class</th>\n",
       "      <th>DepDelay</th>\n",
       "      <th>Distance</th>\n",
       "      <th>TaxiOut</th>\n",
       "      <th>CarrierDelay</th>\n",
       "      <th>WeatherDelay</th>\n",
       "      <th>NASDelay</th>\n",
       "      <th>SecurityDelay</th>\n",
       "      <th>ArrTime</th>\n",
       "      <th>Month</th>\n",
       "      <th>DayofMonth</th>\n",
       "      <th>DayOfWeek</th>\n",
       "      <th>UniqueCarrier_AA</th>\n",
       "      <th>UniqueCarrier_AQ</th>\n",
       "      <th>UniqueCarrier_AS</th>\n",
       "      <th>UniqueCarrier_B6</th>\n",
       "      <th>UniqueCarrier_CO</th>\n",
       "      <th>UniqueCarrier_DL</th>\n",
       "      <th>UniqueCarrier_EV</th>\n",
       "      <th>UniqueCarrier_F9</th>\n",
       "      <th>UniqueCarrier_FL</th>\n",
       "      <th>UniqueCarrier_HA</th>\n",
       "      <th>UniqueCarrier_MQ</th>\n",
       "      <th>UniqueCarrier_NW</th>\n",
       "      <th>UniqueCarrier_OH</th>\n",
       "      <th>UniqueCarrier_OO</th>\n",
       "      <th>UniqueCarrier_UA</th>\n",
       "      <th>UniqueCarrier_US</th>\n",
       "      <th>UniqueCarrier_WN</th>\n",
       "      <th>UniqueCarrier_XE</th>\n",
       "      <th>UniqueCarrier_YV</th>\n",
       "    </tr>\n",
       "  </thead>\n",
       "  <tbody>\n",
       "    <tr>\n",
       "      <th>count</th>\n",
       "      <td>192825.000000</td>\n",
       "      <td>192825.000000</td>\n",
       "      <td>192825.000000</td>\n",
       "      <td>192825.000000</td>\n",
       "      <td>192825.000000</td>\n",
       "      <td>192825.000000</td>\n",
       "      <td>192825.000000</td>\n",
       "      <td>192825.000000</td>\n",
       "      <td>192825.000000</td>\n",
       "      <td>192825.000000</td>\n",
       "      <td>192825.000000</td>\n",
       "      <td>192825.000000</td>\n",
       "      <td>192825.000000</td>\n",
       "      <td>192825.000000</td>\n",
       "      <td>192825.000000</td>\n",
       "      <td>192825.000000</td>\n",
       "      <td>192825.000000</td>\n",
       "      <td>192825.000000</td>\n",
       "      <td>192825.000000</td>\n",
       "      <td>192825.000000</td>\n",
       "      <td>192825.000000</td>\n",
       "      <td>192825.000000</td>\n",
       "      <td>192825.000000</td>\n",
       "      <td>192825.000000</td>\n",
       "      <td>192825.000000</td>\n",
       "      <td>192825.000000</td>\n",
       "      <td>192825.000000</td>\n",
       "      <td>192825.000000</td>\n",
       "      <td>192825.000000</td>\n",
       "      <td>192825.000000</td>\n",
       "      <td>192825.000000</td>\n",
       "    </tr>\n",
       "    <tr>\n",
       "      <th>mean</th>\n",
       "      <td>0.894386</td>\n",
       "      <td>3.329083</td>\n",
       "      <td>6.374656</td>\n",
       "      <td>2.796957</td>\n",
       "      <td>1.031454</td>\n",
       "      <td>0.169090</td>\n",
       "      <td>0.931242</td>\n",
       "      <td>0.007622</td>\n",
       "      <td>1611.121317</td>\n",
       "      <td>6.116214</td>\n",
       "      <td>15.790318</td>\n",
       "      <td>3.988710</td>\n",
       "      <td>0.099007</td>\n",
       "      <td>0.000384</td>\n",
       "      <td>0.020231</td>\n",
       "      <td>0.028482</td>\n",
       "      <td>0.051720</td>\n",
       "      <td>0.058976</td>\n",
       "      <td>0.042396</td>\n",
       "      <td>0.014635</td>\n",
       "      <td>0.036805</td>\n",
       "      <td>0.003874</td>\n",
       "      <td>0.073237</td>\n",
       "      <td>0.040887</td>\n",
       "      <td>0.027185</td>\n",
       "      <td>0.068331</td>\n",
       "      <td>0.073071</td>\n",
       "      <td>0.050828</td>\n",
       "      <td>0.195094</td>\n",
       "      <td>0.053489</td>\n",
       "      <td>0.034622</td>\n",
       "    </tr>\n",
       "    <tr>\n",
       "      <th>std</th>\n",
       "      <td>0.307344</td>\n",
       "      <td>0.918864</td>\n",
       "      <td>0.755437</td>\n",
       "      <td>0.523571</td>\n",
       "      <td>1.567923</td>\n",
       "      <td>0.766156</td>\n",
       "      <td>1.450971</td>\n",
       "      <td>0.147268</td>\n",
       "      <td>546.359938</td>\n",
       "      <td>3.477732</td>\n",
       "      <td>8.787140</td>\n",
       "      <td>1.995728</td>\n",
       "      <td>0.298672</td>\n",
       "      <td>0.019586</td>\n",
       "      <td>0.140789</td>\n",
       "      <td>0.166345</td>\n",
       "      <td>0.221463</td>\n",
       "      <td>0.235580</td>\n",
       "      <td>0.201491</td>\n",
       "      <td>0.120087</td>\n",
       "      <td>0.188284</td>\n",
       "      <td>0.062121</td>\n",
       "      <td>0.260526</td>\n",
       "      <td>0.198028</td>\n",
       "      <td>0.162623</td>\n",
       "      <td>0.252314</td>\n",
       "      <td>0.260254</td>\n",
       "      <td>0.219648</td>\n",
       "      <td>0.396274</td>\n",
       "      <td>0.225007</td>\n",
       "      <td>0.182821</td>\n",
       "    </tr>\n",
       "    <tr>\n",
       "      <th>min</th>\n",
       "      <td>0.000000</td>\n",
       "      <td>1.945910</td>\n",
       "      <td>3.465736</td>\n",
       "      <td>0.000000</td>\n",
       "      <td>0.000000</td>\n",
       "      <td>0.000000</td>\n",
       "      <td>0.000000</td>\n",
       "      <td>0.000000</td>\n",
       "      <td>1.000000</td>\n",
       "      <td>1.000000</td>\n",
       "      <td>1.000000</td>\n",
       "      <td>1.000000</td>\n",
       "      <td>0.000000</td>\n",
       "      <td>0.000000</td>\n",
       "      <td>0.000000</td>\n",
       "      <td>0.000000</td>\n",
       "      <td>0.000000</td>\n",
       "      <td>0.000000</td>\n",
       "      <td>0.000000</td>\n",
       "      <td>0.000000</td>\n",
       "      <td>0.000000</td>\n",
       "      <td>0.000000</td>\n",
       "      <td>0.000000</td>\n",
       "      <td>0.000000</td>\n",
       "      <td>0.000000</td>\n",
       "      <td>0.000000</td>\n",
       "      <td>0.000000</td>\n",
       "      <td>0.000000</td>\n",
       "      <td>0.000000</td>\n",
       "      <td>0.000000</td>\n",
       "      <td>0.000000</td>\n",
       "    </tr>\n",
       "    <tr>\n",
       "      <th>25%</th>\n",
       "      <td>1.000000</td>\n",
       "      <td>2.564949</td>\n",
       "      <td>5.826000</td>\n",
       "      <td>2.397895</td>\n",
       "      <td>0.000000</td>\n",
       "      <td>0.000000</td>\n",
       "      <td>0.000000</td>\n",
       "      <td>0.000000</td>\n",
       "      <td>1317.000000</td>\n",
       "      <td>3.000000</td>\n",
       "      <td>8.000000</td>\n",
       "      <td>2.000000</td>\n",
       "      <td>0.000000</td>\n",
       "      <td>0.000000</td>\n",
       "      <td>0.000000</td>\n",
       "      <td>0.000000</td>\n",
       "      <td>0.000000</td>\n",
       "      <td>0.000000</td>\n",
       "      <td>0.000000</td>\n",
       "      <td>0.000000</td>\n",
       "      <td>0.000000</td>\n",
       "      <td>0.000000</td>\n",
       "      <td>0.000000</td>\n",
       "      <td>0.000000</td>\n",
       "      <td>0.000000</td>\n",
       "      <td>0.000000</td>\n",
       "      <td>0.000000</td>\n",
       "      <td>0.000000</td>\n",
       "      <td>0.000000</td>\n",
       "      <td>0.000000</td>\n",
       "      <td>0.000000</td>\n",
       "    </tr>\n",
       "    <tr>\n",
       "      <th>50%</th>\n",
       "      <td>1.000000</td>\n",
       "      <td>3.218876</td>\n",
       "      <td>6.408529</td>\n",
       "      <td>2.708050</td>\n",
       "      <td>0.000000</td>\n",
       "      <td>0.000000</td>\n",
       "      <td>0.000000</td>\n",
       "      <td>0.000000</td>\n",
       "      <td>1715.000000</td>\n",
       "      <td>6.000000</td>\n",
       "      <td>16.000000</td>\n",
       "      <td>4.000000</td>\n",
       "      <td>0.000000</td>\n",
       "      <td>0.000000</td>\n",
       "      <td>0.000000</td>\n",
       "      <td>0.000000</td>\n",
       "      <td>0.000000</td>\n",
       "      <td>0.000000</td>\n",
       "      <td>0.000000</td>\n",
       "      <td>0.000000</td>\n",
       "      <td>0.000000</td>\n",
       "      <td>0.000000</td>\n",
       "      <td>0.000000</td>\n",
       "      <td>0.000000</td>\n",
       "      <td>0.000000</td>\n",
       "      <td>0.000000</td>\n",
       "      <td>0.000000</td>\n",
       "      <td>0.000000</td>\n",
       "      <td>0.000000</td>\n",
       "      <td>0.000000</td>\n",
       "      <td>0.000000</td>\n",
       "    </tr>\n",
       "    <tr>\n",
       "      <th>75%</th>\n",
       "      <td>1.000000</td>\n",
       "      <td>3.988984</td>\n",
       "      <td>6.906755</td>\n",
       "      <td>3.091042</td>\n",
       "      <td>2.397895</td>\n",
       "      <td>0.000000</td>\n",
       "      <td>1.945910</td>\n",
       "      <td>0.000000</td>\n",
       "      <td>2030.000000</td>\n",
       "      <td>9.000000</td>\n",
       "      <td>23.000000</td>\n",
       "      <td>6.000000</td>\n",
       "      <td>0.000000</td>\n",
       "      <td>0.000000</td>\n",
       "      <td>0.000000</td>\n",
       "      <td>0.000000</td>\n",
       "      <td>0.000000</td>\n",
       "      <td>0.000000</td>\n",
       "      <td>0.000000</td>\n",
       "      <td>0.000000</td>\n",
       "      <td>0.000000</td>\n",
       "      <td>0.000000</td>\n",
       "      <td>0.000000</td>\n",
       "      <td>0.000000</td>\n",
       "      <td>0.000000</td>\n",
       "      <td>0.000000</td>\n",
       "      <td>0.000000</td>\n",
       "      <td>0.000000</td>\n",
       "      <td>0.000000</td>\n",
       "      <td>0.000000</td>\n",
       "      <td>0.000000</td>\n",
       "    </tr>\n",
       "    <tr>\n",
       "      <th>max</th>\n",
       "      <td>1.000000</td>\n",
       "      <td>7.376508</td>\n",
       "      <td>8.509766</td>\n",
       "      <td>5.877736</td>\n",
       "      <td>7.180070</td>\n",
       "      <td>7.046647</td>\n",
       "      <td>7.162397</td>\n",
       "      <td>5.973810</td>\n",
       "      <td>2400.000000</td>\n",
       "      <td>12.000000</td>\n",
       "      <td>31.000000</td>\n",
       "      <td>7.000000</td>\n",
       "      <td>1.000000</td>\n",
       "      <td>1.000000</td>\n",
       "      <td>1.000000</td>\n",
       "      <td>1.000000</td>\n",
       "      <td>1.000000</td>\n",
       "      <td>1.000000</td>\n",
       "      <td>1.000000</td>\n",
       "      <td>1.000000</td>\n",
       "      <td>1.000000</td>\n",
       "      <td>1.000000</td>\n",
       "      <td>1.000000</td>\n",
       "      <td>1.000000</td>\n",
       "      <td>1.000000</td>\n",
       "      <td>1.000000</td>\n",
       "      <td>1.000000</td>\n",
       "      <td>1.000000</td>\n",
       "      <td>1.000000</td>\n",
       "      <td>1.000000</td>\n",
       "      <td>1.000000</td>\n",
       "    </tr>\n",
       "  </tbody>\n",
       "</table>\n",
       "</div>"
      ],
      "text/plain": [
       "               Class       DepDelay       Distance        TaxiOut  \\\n",
       "count  192825.000000  192825.000000  192825.000000  192825.000000   \n",
       "mean        0.894386       3.329083       6.374656       2.796957   \n",
       "std         0.307344       0.918864       0.755437       0.523571   \n",
       "min         0.000000       1.945910       3.465736       0.000000   \n",
       "25%         1.000000       2.564949       5.826000       2.397895   \n",
       "50%         1.000000       3.218876       6.408529       2.708050   \n",
       "75%         1.000000       3.988984       6.906755       3.091042   \n",
       "max         1.000000       7.376508       8.509766       5.877736   \n",
       "\n",
       "        CarrierDelay   WeatherDelay       NASDelay  SecurityDelay  \\\n",
       "count  192825.000000  192825.000000  192825.000000  192825.000000   \n",
       "mean        1.031454       0.169090       0.931242       0.007622   \n",
       "std         1.567923       0.766156       1.450971       0.147268   \n",
       "min         0.000000       0.000000       0.000000       0.000000   \n",
       "25%         0.000000       0.000000       0.000000       0.000000   \n",
       "50%         0.000000       0.000000       0.000000       0.000000   \n",
       "75%         2.397895       0.000000       1.945910       0.000000   \n",
       "max         7.180070       7.046647       7.162397       5.973810   \n",
       "\n",
       "             ArrTime          Month     DayofMonth      DayOfWeek  \\\n",
       "count  192825.000000  192825.000000  192825.000000  192825.000000   \n",
       "mean     1611.121317       6.116214      15.790318       3.988710   \n",
       "std       546.359938       3.477732       8.787140       1.995728   \n",
       "min         1.000000       1.000000       1.000000       1.000000   \n",
       "25%      1317.000000       3.000000       8.000000       2.000000   \n",
       "50%      1715.000000       6.000000      16.000000       4.000000   \n",
       "75%      2030.000000       9.000000      23.000000       6.000000   \n",
       "max      2400.000000      12.000000      31.000000       7.000000   \n",
       "\n",
       "       UniqueCarrier_AA  UniqueCarrier_AQ  UniqueCarrier_AS  UniqueCarrier_B6  \\\n",
       "count     192825.000000     192825.000000     192825.000000     192825.000000   \n",
       "mean           0.099007          0.000384          0.020231          0.028482   \n",
       "std            0.298672          0.019586          0.140789          0.166345   \n",
       "min            0.000000          0.000000          0.000000          0.000000   \n",
       "25%            0.000000          0.000000          0.000000          0.000000   \n",
       "50%            0.000000          0.000000          0.000000          0.000000   \n",
       "75%            0.000000          0.000000          0.000000          0.000000   \n",
       "max            1.000000          1.000000          1.000000          1.000000   \n",
       "\n",
       "       UniqueCarrier_CO  UniqueCarrier_DL  UniqueCarrier_EV  UniqueCarrier_F9  \\\n",
       "count     192825.000000     192825.000000     192825.000000     192825.000000   \n",
       "mean           0.051720          0.058976          0.042396          0.014635   \n",
       "std            0.221463          0.235580          0.201491          0.120087   \n",
       "min            0.000000          0.000000          0.000000          0.000000   \n",
       "25%            0.000000          0.000000          0.000000          0.000000   \n",
       "50%            0.000000          0.000000          0.000000          0.000000   \n",
       "75%            0.000000          0.000000          0.000000          0.000000   \n",
       "max            1.000000          1.000000          1.000000          1.000000   \n",
       "\n",
       "       UniqueCarrier_FL  UniqueCarrier_HA  UniqueCarrier_MQ  UniqueCarrier_NW  \\\n",
       "count     192825.000000     192825.000000     192825.000000     192825.000000   \n",
       "mean           0.036805          0.003874          0.073237          0.040887   \n",
       "std            0.188284          0.062121          0.260526          0.198028   \n",
       "min            0.000000          0.000000          0.000000          0.000000   \n",
       "25%            0.000000          0.000000          0.000000          0.000000   \n",
       "50%            0.000000          0.000000          0.000000          0.000000   \n",
       "75%            0.000000          0.000000          0.000000          0.000000   \n",
       "max            1.000000          1.000000          1.000000          1.000000   \n",
       "\n",
       "       UniqueCarrier_OH  UniqueCarrier_OO  UniqueCarrier_UA  UniqueCarrier_US  \\\n",
       "count     192825.000000     192825.000000     192825.000000     192825.000000   \n",
       "mean           0.027185          0.068331          0.073071          0.050828   \n",
       "std            0.162623          0.252314          0.260254          0.219648   \n",
       "min            0.000000          0.000000          0.000000          0.000000   \n",
       "25%            0.000000          0.000000          0.000000          0.000000   \n",
       "50%            0.000000          0.000000          0.000000          0.000000   \n",
       "75%            0.000000          0.000000          0.000000          0.000000   \n",
       "max            1.000000          1.000000          1.000000          1.000000   \n",
       "\n",
       "       UniqueCarrier_WN  UniqueCarrier_XE  UniqueCarrier_YV  \n",
       "count     192825.000000     192825.000000     192825.000000  \n",
       "mean           0.195094          0.053489          0.034622  \n",
       "std            0.396274          0.225007          0.182821  \n",
       "min            0.000000          0.000000          0.000000  \n",
       "25%            0.000000          0.000000          0.000000  \n",
       "50%            0.000000          0.000000          0.000000  \n",
       "75%            0.000000          0.000000          0.000000  \n",
       "max            1.000000          1.000000          1.000000  "
      ]
     },
     "execution_count": 78,
     "metadata": {},
     "output_type": "execute_result"
    }
   ],
   "source": [
    "data_scaled.describe()"
   ]
  },
  {
   "cell_type": "markdown",
   "id": "dd283e3e",
   "metadata": {},
   "source": [
    "Now all scaled columns are in the same range  values: we see max values are not so far away from the mean (before we had in these values some big ouliers). "
   ]
  },
  {
   "cell_type": "markdown",
   "id": "06ccd83c",
   "metadata": {},
   "source": [
    "For the rest of the columns that are not dummy we will use MinMaxScaler: this way we will have our columns that refer to the hour and date of the flight between 0 and 1. "
   ]
  },
  {
   "cell_type": "code",
   "execution_count": 79,
   "id": "4a269c70",
   "metadata": {
    "ExecuteTime": {
     "end_time": "2022-05-07T09:56:32.924255Z",
     "start_time": "2022-05-07T09:56:32.909354Z"
    }
   },
   "outputs": [],
   "source": [
    "minmax_cols = ['ArrTime', 'Month','DayofMonth', 'DayOfWeek']"
   ]
  },
  {
   "cell_type": "code",
   "execution_count": 80,
   "id": "0f787120",
   "metadata": {
    "ExecuteTime": {
     "end_time": "2022-05-07T09:56:32.987293Z",
     "start_time": "2022-05-07T09:56:32.926210Z"
    }
   },
   "outputs": [],
   "source": [
    "from sklearn.preprocessing import MinMaxScaler\n",
    "\n",
    "\n",
    "mms = MinMaxScaler()\n",
    "\n",
    "data_scaled[minmax_cols] = mms.fit_transform(data_scaled[minmax_cols].values)"
   ]
  },
  {
   "cell_type": "code",
   "execution_count": 81,
   "id": "8e0ab36b",
   "metadata": {
    "ExecuteTime": {
     "end_time": "2022-05-07T09:56:33.258273Z",
     "start_time": "2022-05-07T09:56:32.989282Z"
    }
   },
   "outputs": [
    {
     "data": {
      "text/html": [
       "<div>\n",
       "<style scoped>\n",
       "    .dataframe tbody tr th:only-of-type {\n",
       "        vertical-align: middle;\n",
       "    }\n",
       "\n",
       "    .dataframe tbody tr th {\n",
       "        vertical-align: top;\n",
       "    }\n",
       "\n",
       "    .dataframe thead th {\n",
       "        text-align: right;\n",
       "    }\n",
       "</style>\n",
       "<table border=\"1\" class=\"dataframe\">\n",
       "  <thead>\n",
       "    <tr style=\"text-align: right;\">\n",
       "      <th></th>\n",
       "      <th>Class</th>\n",
       "      <th>DepDelay</th>\n",
       "      <th>Distance</th>\n",
       "      <th>TaxiOut</th>\n",
       "      <th>CarrierDelay</th>\n",
       "      <th>WeatherDelay</th>\n",
       "      <th>NASDelay</th>\n",
       "      <th>SecurityDelay</th>\n",
       "      <th>ArrTime</th>\n",
       "      <th>Month</th>\n",
       "      <th>DayofMonth</th>\n",
       "      <th>DayOfWeek</th>\n",
       "      <th>UniqueCarrier_AA</th>\n",
       "      <th>UniqueCarrier_AQ</th>\n",
       "      <th>UniqueCarrier_AS</th>\n",
       "      <th>UniqueCarrier_B6</th>\n",
       "      <th>UniqueCarrier_CO</th>\n",
       "      <th>UniqueCarrier_DL</th>\n",
       "      <th>UniqueCarrier_EV</th>\n",
       "      <th>UniqueCarrier_F9</th>\n",
       "      <th>UniqueCarrier_FL</th>\n",
       "      <th>UniqueCarrier_HA</th>\n",
       "      <th>UniqueCarrier_MQ</th>\n",
       "      <th>UniqueCarrier_NW</th>\n",
       "      <th>UniqueCarrier_OH</th>\n",
       "      <th>UniqueCarrier_OO</th>\n",
       "      <th>UniqueCarrier_UA</th>\n",
       "      <th>UniqueCarrier_US</th>\n",
       "      <th>UniqueCarrier_WN</th>\n",
       "      <th>UniqueCarrier_XE</th>\n",
       "      <th>UniqueCarrier_YV</th>\n",
       "    </tr>\n",
       "  </thead>\n",
       "  <tbody>\n",
       "    <tr>\n",
       "      <th>count</th>\n",
       "      <td>192825.00</td>\n",
       "      <td>192825.00</td>\n",
       "      <td>192825.00</td>\n",
       "      <td>192825.00</td>\n",
       "      <td>192825.00</td>\n",
       "      <td>192825.00</td>\n",
       "      <td>192825.00</td>\n",
       "      <td>192825.00</td>\n",
       "      <td>192825.00</td>\n",
       "      <td>192825.00</td>\n",
       "      <td>192825.00</td>\n",
       "      <td>192825.00</td>\n",
       "      <td>192825.0</td>\n",
       "      <td>192825.00</td>\n",
       "      <td>192825.00</td>\n",
       "      <td>192825.00</td>\n",
       "      <td>192825.00</td>\n",
       "      <td>192825.00</td>\n",
       "      <td>192825.00</td>\n",
       "      <td>192825.00</td>\n",
       "      <td>192825.00</td>\n",
       "      <td>192825.00</td>\n",
       "      <td>192825.00</td>\n",
       "      <td>192825.00</td>\n",
       "      <td>192825.00</td>\n",
       "      <td>192825.00</td>\n",
       "      <td>192825.00</td>\n",
       "      <td>192825.00</td>\n",
       "      <td>192825.0</td>\n",
       "      <td>192825.00</td>\n",
       "      <td>192825.00</td>\n",
       "    </tr>\n",
       "    <tr>\n",
       "      <th>mean</th>\n",
       "      <td>0.89</td>\n",
       "      <td>3.33</td>\n",
       "      <td>6.37</td>\n",
       "      <td>2.80</td>\n",
       "      <td>1.03</td>\n",
       "      <td>0.17</td>\n",
       "      <td>0.93</td>\n",
       "      <td>0.01</td>\n",
       "      <td>0.67</td>\n",
       "      <td>0.47</td>\n",
       "      <td>0.49</td>\n",
       "      <td>0.50</td>\n",
       "      <td>0.1</td>\n",
       "      <td>0.00</td>\n",
       "      <td>0.02</td>\n",
       "      <td>0.03</td>\n",
       "      <td>0.05</td>\n",
       "      <td>0.06</td>\n",
       "      <td>0.04</td>\n",
       "      <td>0.01</td>\n",
       "      <td>0.04</td>\n",
       "      <td>0.00</td>\n",
       "      <td>0.07</td>\n",
       "      <td>0.04</td>\n",
       "      <td>0.03</td>\n",
       "      <td>0.07</td>\n",
       "      <td>0.07</td>\n",
       "      <td>0.05</td>\n",
       "      <td>0.2</td>\n",
       "      <td>0.05</td>\n",
       "      <td>0.03</td>\n",
       "    </tr>\n",
       "    <tr>\n",
       "      <th>std</th>\n",
       "      <td>0.31</td>\n",
       "      <td>0.92</td>\n",
       "      <td>0.76</td>\n",
       "      <td>0.52</td>\n",
       "      <td>1.57</td>\n",
       "      <td>0.77</td>\n",
       "      <td>1.45</td>\n",
       "      <td>0.15</td>\n",
       "      <td>0.23</td>\n",
       "      <td>0.32</td>\n",
       "      <td>0.29</td>\n",
       "      <td>0.33</td>\n",
       "      <td>0.3</td>\n",
       "      <td>0.02</td>\n",
       "      <td>0.14</td>\n",
       "      <td>0.17</td>\n",
       "      <td>0.22</td>\n",
       "      <td>0.24</td>\n",
       "      <td>0.20</td>\n",
       "      <td>0.12</td>\n",
       "      <td>0.19</td>\n",
       "      <td>0.06</td>\n",
       "      <td>0.26</td>\n",
       "      <td>0.20</td>\n",
       "      <td>0.16</td>\n",
       "      <td>0.25</td>\n",
       "      <td>0.26</td>\n",
       "      <td>0.22</td>\n",
       "      <td>0.4</td>\n",
       "      <td>0.23</td>\n",
       "      <td>0.18</td>\n",
       "    </tr>\n",
       "    <tr>\n",
       "      <th>min</th>\n",
       "      <td>0.00</td>\n",
       "      <td>1.95</td>\n",
       "      <td>3.47</td>\n",
       "      <td>0.00</td>\n",
       "      <td>0.00</td>\n",
       "      <td>0.00</td>\n",
       "      <td>0.00</td>\n",
       "      <td>0.00</td>\n",
       "      <td>0.00</td>\n",
       "      <td>0.00</td>\n",
       "      <td>0.00</td>\n",
       "      <td>0.00</td>\n",
       "      <td>0.0</td>\n",
       "      <td>0.00</td>\n",
       "      <td>0.00</td>\n",
       "      <td>0.00</td>\n",
       "      <td>0.00</td>\n",
       "      <td>0.00</td>\n",
       "      <td>0.00</td>\n",
       "      <td>0.00</td>\n",
       "      <td>0.00</td>\n",
       "      <td>0.00</td>\n",
       "      <td>0.00</td>\n",
       "      <td>0.00</td>\n",
       "      <td>0.00</td>\n",
       "      <td>0.00</td>\n",
       "      <td>0.00</td>\n",
       "      <td>0.00</td>\n",
       "      <td>0.0</td>\n",
       "      <td>0.00</td>\n",
       "      <td>0.00</td>\n",
       "    </tr>\n",
       "    <tr>\n",
       "      <th>25%</th>\n",
       "      <td>1.00</td>\n",
       "      <td>2.56</td>\n",
       "      <td>5.83</td>\n",
       "      <td>2.40</td>\n",
       "      <td>0.00</td>\n",
       "      <td>0.00</td>\n",
       "      <td>0.00</td>\n",
       "      <td>0.00</td>\n",
       "      <td>0.55</td>\n",
       "      <td>0.18</td>\n",
       "      <td>0.23</td>\n",
       "      <td>0.17</td>\n",
       "      <td>0.0</td>\n",
       "      <td>0.00</td>\n",
       "      <td>0.00</td>\n",
       "      <td>0.00</td>\n",
       "      <td>0.00</td>\n",
       "      <td>0.00</td>\n",
       "      <td>0.00</td>\n",
       "      <td>0.00</td>\n",
       "      <td>0.00</td>\n",
       "      <td>0.00</td>\n",
       "      <td>0.00</td>\n",
       "      <td>0.00</td>\n",
       "      <td>0.00</td>\n",
       "      <td>0.00</td>\n",
       "      <td>0.00</td>\n",
       "      <td>0.00</td>\n",
       "      <td>0.0</td>\n",
       "      <td>0.00</td>\n",
       "      <td>0.00</td>\n",
       "    </tr>\n",
       "    <tr>\n",
       "      <th>50%</th>\n",
       "      <td>1.00</td>\n",
       "      <td>3.22</td>\n",
       "      <td>6.41</td>\n",
       "      <td>2.71</td>\n",
       "      <td>0.00</td>\n",
       "      <td>0.00</td>\n",
       "      <td>0.00</td>\n",
       "      <td>0.00</td>\n",
       "      <td>0.71</td>\n",
       "      <td>0.45</td>\n",
       "      <td>0.50</td>\n",
       "      <td>0.50</td>\n",
       "      <td>0.0</td>\n",
       "      <td>0.00</td>\n",
       "      <td>0.00</td>\n",
       "      <td>0.00</td>\n",
       "      <td>0.00</td>\n",
       "      <td>0.00</td>\n",
       "      <td>0.00</td>\n",
       "      <td>0.00</td>\n",
       "      <td>0.00</td>\n",
       "      <td>0.00</td>\n",
       "      <td>0.00</td>\n",
       "      <td>0.00</td>\n",
       "      <td>0.00</td>\n",
       "      <td>0.00</td>\n",
       "      <td>0.00</td>\n",
       "      <td>0.00</td>\n",
       "      <td>0.0</td>\n",
       "      <td>0.00</td>\n",
       "      <td>0.00</td>\n",
       "    </tr>\n",
       "    <tr>\n",
       "      <th>75%</th>\n",
       "      <td>1.00</td>\n",
       "      <td>3.99</td>\n",
       "      <td>6.91</td>\n",
       "      <td>3.09</td>\n",
       "      <td>2.40</td>\n",
       "      <td>0.00</td>\n",
       "      <td>1.95</td>\n",
       "      <td>0.00</td>\n",
       "      <td>0.85</td>\n",
       "      <td>0.73</td>\n",
       "      <td>0.73</td>\n",
       "      <td>0.83</td>\n",
       "      <td>0.0</td>\n",
       "      <td>0.00</td>\n",
       "      <td>0.00</td>\n",
       "      <td>0.00</td>\n",
       "      <td>0.00</td>\n",
       "      <td>0.00</td>\n",
       "      <td>0.00</td>\n",
       "      <td>0.00</td>\n",
       "      <td>0.00</td>\n",
       "      <td>0.00</td>\n",
       "      <td>0.00</td>\n",
       "      <td>0.00</td>\n",
       "      <td>0.00</td>\n",
       "      <td>0.00</td>\n",
       "      <td>0.00</td>\n",
       "      <td>0.00</td>\n",
       "      <td>0.0</td>\n",
       "      <td>0.00</td>\n",
       "      <td>0.00</td>\n",
       "    </tr>\n",
       "    <tr>\n",
       "      <th>max</th>\n",
       "      <td>1.00</td>\n",
       "      <td>7.38</td>\n",
       "      <td>8.51</td>\n",
       "      <td>5.88</td>\n",
       "      <td>7.18</td>\n",
       "      <td>7.05</td>\n",
       "      <td>7.16</td>\n",
       "      <td>5.97</td>\n",
       "      <td>1.00</td>\n",
       "      <td>1.00</td>\n",
       "      <td>1.00</td>\n",
       "      <td>1.00</td>\n",
       "      <td>1.0</td>\n",
       "      <td>1.00</td>\n",
       "      <td>1.00</td>\n",
       "      <td>1.00</td>\n",
       "      <td>1.00</td>\n",
       "      <td>1.00</td>\n",
       "      <td>1.00</td>\n",
       "      <td>1.00</td>\n",
       "      <td>1.00</td>\n",
       "      <td>1.00</td>\n",
       "      <td>1.00</td>\n",
       "      <td>1.00</td>\n",
       "      <td>1.00</td>\n",
       "      <td>1.00</td>\n",
       "      <td>1.00</td>\n",
       "      <td>1.00</td>\n",
       "      <td>1.0</td>\n",
       "      <td>1.00</td>\n",
       "      <td>1.00</td>\n",
       "    </tr>\n",
       "  </tbody>\n",
       "</table>\n",
       "</div>"
      ],
      "text/plain": [
       "           Class   DepDelay   Distance    TaxiOut  CarrierDelay  WeatherDelay  \\\n",
       "count  192825.00  192825.00  192825.00  192825.00     192825.00     192825.00   \n",
       "mean        0.89       3.33       6.37       2.80          1.03          0.17   \n",
       "std         0.31       0.92       0.76       0.52          1.57          0.77   \n",
       "min         0.00       1.95       3.47       0.00          0.00          0.00   \n",
       "25%         1.00       2.56       5.83       2.40          0.00          0.00   \n",
       "50%         1.00       3.22       6.41       2.71          0.00          0.00   \n",
       "75%         1.00       3.99       6.91       3.09          2.40          0.00   \n",
       "max         1.00       7.38       8.51       5.88          7.18          7.05   \n",
       "\n",
       "        NASDelay  SecurityDelay    ArrTime      Month  DayofMonth  DayOfWeek  \\\n",
       "count  192825.00      192825.00  192825.00  192825.00   192825.00  192825.00   \n",
       "mean        0.93           0.01       0.67       0.47        0.49       0.50   \n",
       "std         1.45           0.15       0.23       0.32        0.29       0.33   \n",
       "min         0.00           0.00       0.00       0.00        0.00       0.00   \n",
       "25%         0.00           0.00       0.55       0.18        0.23       0.17   \n",
       "50%         0.00           0.00       0.71       0.45        0.50       0.50   \n",
       "75%         1.95           0.00       0.85       0.73        0.73       0.83   \n",
       "max         7.16           5.97       1.00       1.00        1.00       1.00   \n",
       "\n",
       "       UniqueCarrier_AA  UniqueCarrier_AQ  UniqueCarrier_AS  UniqueCarrier_B6  \\\n",
       "count          192825.0         192825.00         192825.00         192825.00   \n",
       "mean                0.1              0.00              0.02              0.03   \n",
       "std                 0.3              0.02              0.14              0.17   \n",
       "min                 0.0              0.00              0.00              0.00   \n",
       "25%                 0.0              0.00              0.00              0.00   \n",
       "50%                 0.0              0.00              0.00              0.00   \n",
       "75%                 0.0              0.00              0.00              0.00   \n",
       "max                 1.0              1.00              1.00              1.00   \n",
       "\n",
       "       UniqueCarrier_CO  UniqueCarrier_DL  UniqueCarrier_EV  UniqueCarrier_F9  \\\n",
       "count         192825.00         192825.00         192825.00         192825.00   \n",
       "mean               0.05              0.06              0.04              0.01   \n",
       "std                0.22              0.24              0.20              0.12   \n",
       "min                0.00              0.00              0.00              0.00   \n",
       "25%                0.00              0.00              0.00              0.00   \n",
       "50%                0.00              0.00              0.00              0.00   \n",
       "75%                0.00              0.00              0.00              0.00   \n",
       "max                1.00              1.00              1.00              1.00   \n",
       "\n",
       "       UniqueCarrier_FL  UniqueCarrier_HA  UniqueCarrier_MQ  UniqueCarrier_NW  \\\n",
       "count         192825.00         192825.00         192825.00         192825.00   \n",
       "mean               0.04              0.00              0.07              0.04   \n",
       "std                0.19              0.06              0.26              0.20   \n",
       "min                0.00              0.00              0.00              0.00   \n",
       "25%                0.00              0.00              0.00              0.00   \n",
       "50%                0.00              0.00              0.00              0.00   \n",
       "75%                0.00              0.00              0.00              0.00   \n",
       "max                1.00              1.00              1.00              1.00   \n",
       "\n",
       "       UniqueCarrier_OH  UniqueCarrier_OO  UniqueCarrier_UA  UniqueCarrier_US  \\\n",
       "count         192825.00         192825.00         192825.00         192825.00   \n",
       "mean               0.03              0.07              0.07              0.05   \n",
       "std                0.16              0.25              0.26              0.22   \n",
       "min                0.00              0.00              0.00              0.00   \n",
       "25%                0.00              0.00              0.00              0.00   \n",
       "50%                0.00              0.00              0.00              0.00   \n",
       "75%                0.00              0.00              0.00              0.00   \n",
       "max                1.00              1.00              1.00              1.00   \n",
       "\n",
       "       UniqueCarrier_WN  UniqueCarrier_XE  UniqueCarrier_YV  \n",
       "count          192825.0         192825.00         192825.00  \n",
       "mean                0.2              0.05              0.03  \n",
       "std                 0.4              0.23              0.18  \n",
       "min                 0.0              0.00              0.00  \n",
       "25%                 0.0              0.00              0.00  \n",
       "50%                 0.0              0.00              0.00  \n",
       "75%                 0.0              0.00              0.00  \n",
       "max                 1.0              1.00              1.00  "
      ]
     },
     "execution_count": 81,
     "metadata": {},
     "output_type": "execute_result"
    }
   ],
   "source": [
    "data_scaled.describe().round(2)"
   ]
  },
  {
   "cell_type": "markdown",
   "id": "65a134ae",
   "metadata": {},
   "source": [
    "These new scaled columns now have all values betwween 0 and 1. "
   ]
  },
  {
   "cell_type": "code",
   "execution_count": 82,
   "id": "da6e7ecd",
   "metadata": {
    "ExecuteTime": {
     "end_time": "2022-05-07T09:56:33.289564Z",
     "start_time": "2022-05-07T09:56:33.259181Z"
    }
   },
   "outputs": [
    {
     "data": {
      "text/html": [
       "<div>\n",
       "<style scoped>\n",
       "    .dataframe tbody tr th:only-of-type {\n",
       "        vertical-align: middle;\n",
       "    }\n",
       "\n",
       "    .dataframe tbody tr th {\n",
       "        vertical-align: top;\n",
       "    }\n",
       "\n",
       "    .dataframe thead th {\n",
       "        text-align: right;\n",
       "    }\n",
       "</style>\n",
       "<table border=\"1\" class=\"dataframe\">\n",
       "  <thead>\n",
       "    <tr style=\"text-align: right;\">\n",
       "      <th></th>\n",
       "      <th>Class</th>\n",
       "      <th>DepDelay</th>\n",
       "      <th>Distance</th>\n",
       "      <th>TaxiOut</th>\n",
       "      <th>CarrierDelay</th>\n",
       "      <th>WeatherDelay</th>\n",
       "      <th>NASDelay</th>\n",
       "      <th>SecurityDelay</th>\n",
       "      <th>ArrTime</th>\n",
       "      <th>Month</th>\n",
       "      <th>DayofMonth</th>\n",
       "      <th>DayOfWeek</th>\n",
       "      <th>UniqueCarrier_AA</th>\n",
       "      <th>UniqueCarrier_AQ</th>\n",
       "      <th>UniqueCarrier_AS</th>\n",
       "      <th>UniqueCarrier_B6</th>\n",
       "      <th>UniqueCarrier_CO</th>\n",
       "      <th>UniqueCarrier_DL</th>\n",
       "      <th>UniqueCarrier_EV</th>\n",
       "      <th>UniqueCarrier_F9</th>\n",
       "      <th>UniqueCarrier_FL</th>\n",
       "      <th>UniqueCarrier_HA</th>\n",
       "      <th>UniqueCarrier_MQ</th>\n",
       "      <th>UniqueCarrier_NW</th>\n",
       "      <th>UniqueCarrier_OH</th>\n",
       "      <th>UniqueCarrier_OO</th>\n",
       "      <th>UniqueCarrier_UA</th>\n",
       "      <th>UniqueCarrier_US</th>\n",
       "      <th>UniqueCarrier_WN</th>\n",
       "      <th>UniqueCarrier_XE</th>\n",
       "      <th>UniqueCarrier_YV</th>\n",
       "    </tr>\n",
       "  </thead>\n",
       "  <tbody>\n",
       "    <tr>\n",
       "      <th>0</th>\n",
       "      <td>1</td>\n",
       "      <td>2.708050</td>\n",
       "      <td>5.899897</td>\n",
       "      <td>3.091042</td>\n",
       "      <td>2.708050</td>\n",
       "      <td>0.0</td>\n",
       "      <td>2.079442</td>\n",
       "      <td>0.0</td>\n",
       "      <td>0.727386</td>\n",
       "      <td>0.000000</td>\n",
       "      <td>0.566667</td>\n",
       "      <td>0.666667</td>\n",
       "      <td>0</td>\n",
       "      <td>0</td>\n",
       "      <td>0</td>\n",
       "      <td>0</td>\n",
       "      <td>0</td>\n",
       "      <td>0</td>\n",
       "      <td>0</td>\n",
       "      <td>0</td>\n",
       "      <td>0</td>\n",
       "      <td>0</td>\n",
       "      <td>0</td>\n",
       "      <td>0</td>\n",
       "      <td>0</td>\n",
       "      <td>0</td>\n",
       "      <td>0</td>\n",
       "      <td>0</td>\n",
       "      <td>0</td>\n",
       "      <td>0</td>\n",
       "      <td>0</td>\n",
       "    </tr>\n",
       "    <tr>\n",
       "      <th>1</th>\n",
       "      <td>1</td>\n",
       "      <td>2.484907</td>\n",
       "      <td>6.701960</td>\n",
       "      <td>2.833213</td>\n",
       "      <td>0.000000</td>\n",
       "      <td>0.0</td>\n",
       "      <td>2.639057</td>\n",
       "      <td>0.0</td>\n",
       "      <td>0.591080</td>\n",
       "      <td>1.000000</td>\n",
       "      <td>0.133333</td>\n",
       "      <td>0.666667</td>\n",
       "      <td>0</td>\n",
       "      <td>0</td>\n",
       "      <td>0</td>\n",
       "      <td>0</td>\n",
       "      <td>0</td>\n",
       "      <td>0</td>\n",
       "      <td>0</td>\n",
       "      <td>0</td>\n",
       "      <td>0</td>\n",
       "      <td>0</td>\n",
       "      <td>0</td>\n",
       "      <td>0</td>\n",
       "      <td>0</td>\n",
       "      <td>0</td>\n",
       "      <td>0</td>\n",
       "      <td>0</td>\n",
       "      <td>0</td>\n",
       "      <td>0</td>\n",
       "      <td>0</td>\n",
       "    </tr>\n",
       "    <tr>\n",
       "      <th>2</th>\n",
       "      <td>1</td>\n",
       "      <td>2.944439</td>\n",
       "      <td>6.196444</td>\n",
       "      <td>2.564949</td>\n",
       "      <td>0.000000</td>\n",
       "      <td>0.0</td>\n",
       "      <td>0.000000</td>\n",
       "      <td>0.0</td>\n",
       "      <td>0.503543</td>\n",
       "      <td>1.000000</td>\n",
       "      <td>0.700000</td>\n",
       "      <td>0.000000</td>\n",
       "      <td>0</td>\n",
       "      <td>0</td>\n",
       "      <td>0</td>\n",
       "      <td>0</td>\n",
       "      <td>0</td>\n",
       "      <td>0</td>\n",
       "      <td>0</td>\n",
       "      <td>0</td>\n",
       "      <td>0</td>\n",
       "      <td>0</td>\n",
       "      <td>0</td>\n",
       "      <td>0</td>\n",
       "      <td>0</td>\n",
       "      <td>0</td>\n",
       "      <td>0</td>\n",
       "      <td>0</td>\n",
       "      <td>0</td>\n",
       "      <td>0</td>\n",
       "      <td>0</td>\n",
       "    </tr>\n",
       "    <tr>\n",
       "      <th>3</th>\n",
       "      <td>1</td>\n",
       "      <td>2.639057</td>\n",
       "      <td>6.093570</td>\n",
       "      <td>3.178054</td>\n",
       "      <td>2.639057</td>\n",
       "      <td>0.0</td>\n",
       "      <td>3.218876</td>\n",
       "      <td>0.0</td>\n",
       "      <td>0.875782</td>\n",
       "      <td>0.454545</td>\n",
       "      <td>0.366667</td>\n",
       "      <td>0.500000</td>\n",
       "      <td>0</td>\n",
       "      <td>0</td>\n",
       "      <td>0</td>\n",
       "      <td>0</td>\n",
       "      <td>0</td>\n",
       "      <td>0</td>\n",
       "      <td>0</td>\n",
       "      <td>0</td>\n",
       "      <td>0</td>\n",
       "      <td>0</td>\n",
       "      <td>0</td>\n",
       "      <td>0</td>\n",
       "      <td>0</td>\n",
       "      <td>0</td>\n",
       "      <td>0</td>\n",
       "      <td>0</td>\n",
       "      <td>0</td>\n",
       "      <td>0</td>\n",
       "      <td>0</td>\n",
       "    </tr>\n",
       "    <tr>\n",
       "      <th>4</th>\n",
       "      <td>1</td>\n",
       "      <td>2.197225</td>\n",
       "      <td>5.948035</td>\n",
       "      <td>3.135494</td>\n",
       "      <td>0.000000</td>\n",
       "      <td>0.0</td>\n",
       "      <td>0.000000</td>\n",
       "      <td>0.0</td>\n",
       "      <td>0.503126</td>\n",
       "      <td>0.272727</td>\n",
       "      <td>0.000000</td>\n",
       "      <td>0.166667</td>\n",
       "      <td>0</td>\n",
       "      <td>0</td>\n",
       "      <td>0</td>\n",
       "      <td>0</td>\n",
       "      <td>0</td>\n",
       "      <td>0</td>\n",
       "      <td>0</td>\n",
       "      <td>0</td>\n",
       "      <td>0</td>\n",
       "      <td>0</td>\n",
       "      <td>0</td>\n",
       "      <td>0</td>\n",
       "      <td>0</td>\n",
       "      <td>0</td>\n",
       "      <td>0</td>\n",
       "      <td>0</td>\n",
       "      <td>0</td>\n",
       "      <td>0</td>\n",
       "      <td>0</td>\n",
       "    </tr>\n",
       "  </tbody>\n",
       "</table>\n",
       "</div>"
      ],
      "text/plain": [
       "   Class  DepDelay  Distance   TaxiOut  CarrierDelay  WeatherDelay  NASDelay  \\\n",
       "0      1  2.708050  5.899897  3.091042      2.708050           0.0  2.079442   \n",
       "1      1  2.484907  6.701960  2.833213      0.000000           0.0  2.639057   \n",
       "2      1  2.944439  6.196444  2.564949      0.000000           0.0  0.000000   \n",
       "3      1  2.639057  6.093570  3.178054      2.639057           0.0  3.218876   \n",
       "4      1  2.197225  5.948035  3.135494      0.000000           0.0  0.000000   \n",
       "\n",
       "   SecurityDelay   ArrTime     Month  DayofMonth  DayOfWeek  UniqueCarrier_AA  \\\n",
       "0            0.0  0.727386  0.000000    0.566667   0.666667                 0   \n",
       "1            0.0  0.591080  1.000000    0.133333   0.666667                 0   \n",
       "2            0.0  0.503543  1.000000    0.700000   0.000000                 0   \n",
       "3            0.0  0.875782  0.454545    0.366667   0.500000                 0   \n",
       "4            0.0  0.503126  0.272727    0.000000   0.166667                 0   \n",
       "\n",
       "   UniqueCarrier_AQ  UniqueCarrier_AS  UniqueCarrier_B6  UniqueCarrier_CO  \\\n",
       "0                 0                 0                 0                 0   \n",
       "1                 0                 0                 0                 0   \n",
       "2                 0                 0                 0                 0   \n",
       "3                 0                 0                 0                 0   \n",
       "4                 0                 0                 0                 0   \n",
       "\n",
       "   UniqueCarrier_DL  UniqueCarrier_EV  UniqueCarrier_F9  UniqueCarrier_FL  \\\n",
       "0                 0                 0                 0                 0   \n",
       "1                 0                 0                 0                 0   \n",
       "2                 0                 0                 0                 0   \n",
       "3                 0                 0                 0                 0   \n",
       "4                 0                 0                 0                 0   \n",
       "\n",
       "   UniqueCarrier_HA  UniqueCarrier_MQ  UniqueCarrier_NW  UniqueCarrier_OH  \\\n",
       "0                 0                 0                 0                 0   \n",
       "1                 0                 0                 0                 0   \n",
       "2                 0                 0                 0                 0   \n",
       "3                 0                 0                 0                 0   \n",
       "4                 0                 0                 0                 0   \n",
       "\n",
       "   UniqueCarrier_OO  UniqueCarrier_UA  UniqueCarrier_US  UniqueCarrier_WN  \\\n",
       "0                 0                 0                 0                 0   \n",
       "1                 0                 0                 0                 0   \n",
       "2                 0                 0                 0                 0   \n",
       "3                 0                 0                 0                 0   \n",
       "4                 0                 0                 0                 0   \n",
       "\n",
       "   UniqueCarrier_XE  UniqueCarrier_YV  \n",
       "0                 0                 0  \n",
       "1                 0                 0  \n",
       "2                 0                 0  \n",
       "3                 0                 0  \n",
       "4                 0                 0  "
      ]
     },
     "execution_count": 82,
     "metadata": {},
     "output_type": "execute_result"
    }
   ],
   "source": [
    "data_scaled.head()"
   ]
  },
  {
   "cell_type": "markdown",
   "id": "44fcde21",
   "metadata": {},
   "source": [
    "#### Prepare new data for the models"
   ]
  },
  {
   "cell_type": "code",
   "execution_count": 83,
   "id": "82ec9898",
   "metadata": {
    "ExecuteTime": {
     "end_time": "2022-05-07T09:56:33.336827Z",
     "start_time": "2022-05-07T09:56:33.291559Z"
    }
   },
   "outputs": [],
   "source": [
    "# altough we are calling y y_scaled we have not scaled dependent variable, we name it this way to rememeber this split \n",
    "# belongs to our scaled data\n",
    "y_scaled = data_scaled['Class']\n",
    "\n",
    "X_scaled = data_scaled.drop(['Class'], axis = 1)"
   ]
  },
  {
   "cell_type": "code",
   "execution_count": 84,
   "id": "b610d071",
   "metadata": {
    "ExecuteTime": {
     "end_time": "2022-05-07T09:56:33.352184Z",
     "start_time": "2022-05-07T09:56:33.337842Z"
    }
   },
   "outputs": [
    {
     "name": "stdout",
     "output_type": "stream",
     "text": [
      "data_scaled.shape:  (192825, 31)\n",
      "X_scaled.shape:  (192825, 30)\n",
      "y_scaled.shape:  (192825,)\n"
     ]
    }
   ],
   "source": [
    "print('data_scaled.shape: ', data_scaled.shape)\n",
    "print('X_scaled.shape: ', X_scaled.shape)\n",
    "print('y_scaled.shape: ', y_scaled.shape)"
   ]
  },
  {
   "cell_type": "code",
   "execution_count": 85,
   "id": "cc34c051",
   "metadata": {
    "ExecuteTime": {
     "end_time": "2022-05-07T09:56:33.446768Z",
     "start_time": "2022-05-07T09:56:33.353460Z"
    }
   },
   "outputs": [],
   "source": [
    "# use test size of 0.3\n",
    "X_train_scaled, X_test_scaled, y_train_scaled, y_test_scaled = train_test_split(X_scaled, y_scaled, \n",
    "                                                        test_size= 0.3, random_state= 0)"
   ]
  },
  {
   "cell_type": "markdown",
   "id": "af7d201f",
   "metadata": {},
   "source": [
    "#### Logistic Regression with imblanced classes"
   ]
  },
  {
   "cell_type": "code",
   "execution_count": 86,
   "id": "e29e041a",
   "metadata": {
    "ExecuteTime": {
     "end_time": "2022-05-07T09:56:35.011445Z",
     "start_time": "2022-05-07T09:56:33.449247Z"
    }
   },
   "outputs": [
    {
     "data": {
      "text/plain": [
       "LogisticRegression(random_state=12)"
      ]
     },
     "execution_count": 86,
     "metadata": {},
     "output_type": "execute_result"
    }
   ],
   "source": [
    "from sklearn.linear_model import LogisticRegression\n",
    "\n",
    "lr_scaled = LogisticRegression(random_state=12)\n",
    "lr_scaled.fit(X_train_scaled, y_train_scaled)"
   ]
  },
  {
   "cell_type": "code",
   "execution_count": 87,
   "id": "b36f3811",
   "metadata": {
    "ExecuteTime": {
     "end_time": "2022-05-07T09:56:35.042483Z",
     "start_time": "2022-05-07T09:56:35.012935Z"
    }
   },
   "outputs": [],
   "source": [
    "lr_scaled_pred = lr_scaled.predict(X_test_scaled)"
   ]
  },
  {
   "cell_type": "code",
   "execution_count": 88,
   "id": "f4c24bfd",
   "metadata": {
    "ExecuteTime": {
     "end_time": "2022-05-07T09:56:35.058031Z",
     "start_time": "2022-05-07T09:56:35.044299Z"
    }
   },
   "outputs": [],
   "source": [
    "# make a function to print different metrics \n",
    "def print_results(true, predicted): \n",
    "    accuracy = accuracy_score(true, predicted)\n",
    "    recall = recall_score(true, predicted)\n",
    "    precision = metrics.precision_score(true, predicted)\n",
    "    f1score = f1_score(true, predicted)\n",
    "    \n",
    "    \n",
    "    print('Accuracy : ', accuracy)\n",
    "    print('Recall (or sensitivity): ', recall)\n",
    "    print('Precision : ', precision)\n",
    "    print('F1 score: ', f1score)"
   ]
  },
  {
   "cell_type": "code",
   "execution_count": 89,
   "id": "3c63332e",
   "metadata": {
    "ExecuteTime": {
     "end_time": "2022-05-07T09:56:35.135343Z",
     "start_time": "2022-05-07T09:56:35.059028Z"
    }
   },
   "outputs": [
    {
     "name": "stdout",
     "output_type": "stream",
     "text": [
      "Accuracy :  0.9090029041626331\n",
      "Recall (or sensitivity):  0.9733955389331226\n",
      "Precision :  0.9285701149425287\n",
      "F1 score:  0.9504546053498485\n"
     ]
    }
   ],
   "source": [
    "print_results(y_test_scaled, lr_scaled_pred)"
   ]
  },
  {
   "cell_type": "code",
   "execution_count": 90,
   "id": "ea354de4",
   "metadata": {
    "ExecuteTime": {
     "end_time": "2022-05-07T09:56:35.150924Z",
     "start_time": "2022-05-07T09:56:35.136389Z"
    }
   },
   "outputs": [
    {
     "data": {
      "text/html": [
       "<div>\n",
       "<style scoped>\n",
       "    .dataframe tbody tr th:only-of-type {\n",
       "        vertical-align: middle;\n",
       "    }\n",
       "\n",
       "    .dataframe tbody tr th {\n",
       "        vertical-align: top;\n",
       "    }\n",
       "\n",
       "    .dataframe thead th {\n",
       "        text-align: right;\n",
       "    }\n",
       "</style>\n",
       "<table border=\"1\" class=\"dataframe\">\n",
       "  <thead>\n",
       "    <tr style=\"text-align: right;\">\n",
       "      <th></th>\n",
       "      <th>Model</th>\n",
       "      <th>Accuracy</th>\n",
       "      <th>Recall</th>\n",
       "      <th>Precision</th>\n",
       "      <th>f1-score</th>\n",
       "      <th>ROC AUC Score</th>\n",
       "    </tr>\n",
       "  </thead>\n",
       "  <tbody>\n",
       "    <tr>\n",
       "      <th>0</th>\n",
       "      <td>Logistic Regression</td>\n",
       "      <td>0.905909</td>\n",
       "      <td>0.979545</td>\n",
       "      <td>0.920604</td>\n",
       "      <td>0.949161</td>\n",
       "      <td>0.926043</td>\n",
       "    </tr>\n",
       "  </tbody>\n",
       "</table>\n",
       "</div>"
      ],
      "text/plain": [
       "                 Model  Accuracy    Recall  Precision  f1-score  ROC AUC Score\n",
       "0  Logistic Regression  0.905909  0.979545   0.920604  0.949161       0.926043"
      ]
     },
     "execution_count": 90,
     "metadata": {},
     "output_type": "execute_result"
    }
   ],
   "source": [
    "# check previous results \n",
    "results_df = pd.read_csv('results_df.csv')\n",
    "results_df[0:1]"
   ]
  },
  {
   "cell_type": "markdown",
   "id": "e40fbe6e",
   "metadata": {},
   "source": [
    "We see some metrics have improved a litlle: Accuracy, Precision and F1 score have improved!!"
   ]
  },
  {
   "cell_type": "code",
   "execution_count": 91,
   "id": "ad637dc1",
   "metadata": {
    "ExecuteTime": {
     "end_time": "2022-05-07T09:56:35.260824Z",
     "start_time": "2022-05-07T09:56:35.153044Z"
    }
   },
   "outputs": [
    {
     "data": {
      "image/png": "[encoded data removed]",
      "text/plain": [
       "<Figure size 360x360 with 1 Axes>"
      ]
     },
     "metadata": {
      "needs_background": "light"
     },
     "output_type": "display_data"
    }
   ],
   "source": [
    "# confusion matrix \n",
    "cm_lr_scaled = confusion_matrix(y_test_scaled, lr_scaled_pred)\n",
    "labels = ['On Time', 'Delayed']\n",
    "\n",
    "plt.figure(figsize= (5,5))\n",
    "sns.heatmap(pd.DataFrame(cm_lr_scaled), annot = True, fmt='g', cbar = False, cmap=\"YlGnBu\", xticklabels= labels, \n",
    "            yticklabels= labels)\n",
    "plt.title('Logistic Rregression (scaled)', fontsize = 14)\n",
    "plt.ylabel('Actual label',fontsize = 12 )\n",
    "plt.xlabel('Predicted label', fontsize = 12);"
   ]
  },
  {
   "cell_type": "markdown",
   "id": "cd0d8bce",
   "metadata": {},
   "source": [
    "In this model we have: \n",
    "+ 52584 correct predictions (2093 True Negatives  + 50491 True Positives) \n",
    "+ 1380 False Negatives \n",
    "+ 3884 False Positives\n",
    "+ Compared with original model, here False Postives have decreased and False Negatives have increased a little. "
   ]
  },
  {
   "cell_type": "code",
   "execution_count": 92,
   "id": "0b94dbcd",
   "metadata": {
    "ExecuteTime": {
     "end_time": "2022-05-07T09:56:35.495101Z",
     "start_time": "2022-05-07T09:56:35.262808Z"
    }
   },
   "outputs": [
    {
     "data": {
      "image/png": "[encoded data removed]",
      "text/plain": [
       "<Figure size 432x288 with 1 Axes>"
      ]
     },
     "metadata": {
      "needs_background": "light"
     },
     "output_type": "display_data"
    }
   ],
   "source": [
    "# let's draw our roc/auc curve\n",
    "lr_scaled_pred_proba = lr_scaled.predict_proba(X_test_scaled)[:,1]\n",
    "fpr, tpr, _ = metrics.roc_curve(y_test_scaled,  lr_scaled_pred_proba)\n",
    "auc_lr_scaled = metrics.roc_auc_score(y_test_scaled, lr_scaled_pred_proba)\n",
    "plt.plot(fpr,tpr,label=\"Logistic Regression(scaled), auc=\"+str(round(auc_lr_scaled, 4)))\n",
    "plt.plot([0, 1], [0, 1], linestyle='--')\n",
    "plt.xlabel('False Positive Rate (1 - Specificity)')\n",
    "plt.ylabel('True Positive Rate (Sensitivity)')\n",
    "plt.grid(True)\n",
    "plt.legend(loc=4)\n",
    "plt.title('ROC/AUC curve Logistic Regression (scaled) '); "
   ]
  },
  {
   "cell_type": "markdown",
   "id": "0d68bd21",
   "metadata": {},
   "source": [
    "We can save the results in a new dataframe, we will create a function to get the results. "
   ]
  },
  {
   "cell_type": "code",
   "execution_count": 93,
   "id": "e5e755d4",
   "metadata": {
    "ExecuteTime": {
     "end_time": "2022-05-07T09:56:35.511042Z",
     "start_time": "2022-05-07T09:56:35.496095Z"
    }
   },
   "outputs": [],
   "source": [
    "# make a function to store results to a dataframe \n",
    "def get_results(true, predicted): \n",
    "    accuracy = accuracy_score(true, predicted)\n",
    "    recall = recall_score(true, predicted)\n",
    "    precision = metrics.precision_score(true, predicted)\n",
    "    f1score = f1_score(true, predicted)\n",
    "    \n",
    "    return accuracy, recall, precision, f1score"
   ]
  },
  {
   "cell_type": "code",
   "execution_count": 94,
   "id": "957430b9",
   "metadata": {
    "ExecuteTime": {
     "end_time": "2022-05-07T09:56:35.858883Z",
     "start_time": "2022-05-07T09:56:35.515709Z"
    }
   },
   "outputs": [
    {
     "data": {
      "text/html": [
       "<div>\n",
       "<style scoped>\n",
       "    .dataframe tbody tr th:only-of-type {\n",
       "        vertical-align: middle;\n",
       "    }\n",
       "\n",
       "    .dataframe tbody tr th {\n",
       "        vertical-align: top;\n",
       "    }\n",
       "\n",
       "    .dataframe thead th {\n",
       "        text-align: right;\n",
       "    }\n",
       "</style>\n",
       "<table border=\"1\" class=\"dataframe\">\n",
       "  <thead>\n",
       "    <tr style=\"text-align: right;\">\n",
       "      <th></th>\n",
       "      <th>Model</th>\n",
       "      <th>Accuracy</th>\n",
       "      <th>Recall</th>\n",
       "      <th>Precision</th>\n",
       "      <th>f1-score</th>\n",
       "      <th>ROC AUC Score</th>\n",
       "    </tr>\n",
       "  </thead>\n",
       "  <tbody>\n",
       "    <tr>\n",
       "      <th>0</th>\n",
       "      <td>Logistic Regression</td>\n",
       "      <td>0.909003</td>\n",
       "      <td>0.973396</td>\n",
       "      <td>0.92857</td>\n",
       "      <td>0.950455</td>\n",
       "      <td>0.930449</td>\n",
       "    </tr>\n",
       "  </tbody>\n",
       "</table>\n",
       "</div>"
      ],
      "text/plain": [
       "                 Model  Accuracy    Recall  Precision  f1-score  ROC AUC Score\n",
       "0  Logistic Regression  0.909003  0.973396    0.92857  0.950455       0.930449"
      ]
     },
     "execution_count": 94,
     "metadata": {},
     "output_type": "execute_result"
    }
   ],
   "source": [
    "scaled_results = pd.DataFrame(data = [['Logistic Regression', get_results(y_test_scaled, lr_scaled_pred)[0], \n",
    "                                      get_results(y_test_scaled, lr_scaled_pred)[1], \n",
    "                                      get_results(y_test_scaled, lr_scaled_pred)[2], \n",
    "                                      get_results(y_test_scaled, lr_scaled_pred)[3], auc_lr_scaled]], \n",
    "                                      columns = ['Model', 'Accuracy', 'Recall', 'Precision', 'f1-score', 'ROC AUC Score'])\n",
    "scaled_results"
   ]
  },
  {
   "cell_type": "markdown",
   "id": "c25be6f5",
   "metadata": {},
   "source": [
    "#### Logistic Regression with balanced classes"
   ]
  },
  {
   "cell_type": "markdown",
   "id": "c8c970a1",
   "metadata": {},
   "source": [
    "We will use the same methods of balancing than before so we can compare the results: "
   ]
  },
  {
   "cell_type": "code",
   "execution_count": 95,
   "id": "e8b384a9",
   "metadata": {
    "ExecuteTime": {
     "end_time": "2022-05-07T09:56:35.874480Z",
     "start_time": "2022-05-07T09:56:35.859880Z"
    }
   },
   "outputs": [
    {
     "data": {
      "text/plain": [
       "1    172460\n",
       "0     20365\n",
       "Name: Class, dtype: int64"
      ]
     },
     "execution_count": 95,
     "metadata": {},
     "output_type": "execute_result"
    }
   ],
   "source": [
    "data_scaled.Class.value_counts()"
   ]
  },
  {
   "cell_type": "markdown",
   "id": "528a8344",
   "metadata": {},
   "source": [
    "+ First we will use SMOTE to oversample our minority class\n",
    "+ Then we will undersample our majority class using RandomUnderSampler"
   ]
  },
  {
   "cell_type": "code",
   "execution_count": 96,
   "id": "5a93b43c",
   "metadata": {
    "ExecuteTime": {
     "end_time": "2022-05-07T09:56:41.134613Z",
     "start_time": "2022-05-07T09:56:35.875948Z"
    }
   },
   "outputs": [],
   "source": [
    "# do all the steps through a pipeline \n",
    "from imblearn.over_sampling import SMOTE\n",
    "from imblearn.under_sampling import RandomUnderSampler\n",
    "from imblearn.pipeline import Pipeline\n",
    "\n",
    " # we increase minority class from 10% to 20% \n",
    "over = SMOTE(sampling_strategy= 0.20)\n",
    "# we accept the minoriyty class to be 70 % of the majority, i f we use  a larger percentage, we will be \n",
    "# missing a lot of data\n",
    "under = RandomUnderSampler(sampling_strategy= 0.70) \n",
    "\n",
    "steps = [('o', over), ('u', under)]\n",
    "pipeline = Pipeline(steps = steps)\n",
    "\n",
    "# we will only apply this to our train set\n",
    "X_train_sm_scaled ,y_train_sm_scaled = pipeline.fit_resample(X_train_scaled, y_train_scaled)"
   ]
  },
  {
   "cell_type": "code",
   "execution_count": 97,
   "id": "83bf41c5",
   "metadata": {
    "ExecuteTime": {
     "end_time": "2022-05-07T09:56:41.149985Z",
     "start_time": "2022-05-07T09:56:41.136595Z"
    }
   },
   "outputs": [
    {
     "data": {
      "text/plain": [
       "1    34452\n",
       "0    24117\n",
       "Name: Class, dtype: int64"
      ]
     },
     "execution_count": 97,
     "metadata": {},
     "output_type": "execute_result"
    }
   ],
   "source": [
    "y_train_sm_scaled.value_counts()"
   ]
  },
  {
   "cell_type": "code",
   "execution_count": 98,
   "id": "bf068765",
   "metadata": {
    "ExecuteTime": {
     "end_time": "2022-05-07T09:56:41.824384Z",
     "start_time": "2022-05-07T09:56:41.153228Z"
    }
   },
   "outputs": [
    {
     "data": {
      "text/plain": [
       "LogisticRegression(random_state=12)"
      ]
     },
     "execution_count": 98,
     "metadata": {},
     "output_type": "execute_result"
    }
   ],
   "source": [
    "lr_scaled_sm = LogisticRegression(random_state=12)\n",
    "\n",
    "lr_scaled_sm.fit(X_train_sm_scaled, y_train_sm_scaled)"
   ]
  },
  {
   "cell_type": "code",
   "execution_count": 99,
   "id": "b5ac39b5",
   "metadata": {
    "ExecuteTime": {
     "end_time": "2022-05-07T09:56:41.917757Z",
     "start_time": "2022-05-07T09:56:41.825880Z"
    }
   },
   "outputs": [
    {
     "name": "stdout",
     "output_type": "stream",
     "text": [
      "Accuracy :  0.8396660212971926\n",
      "Recall (or sensitivity):  0.8335100537872799\n",
      "Precision :  0.985435565482974\n",
      "F1 score:  0.9031281006841088\n"
     ]
    }
   ],
   "source": [
    "# predictions\n",
    "lr_scaled_sm_pred = lr_scaled_sm.predict(X_test_scaled)\n",
    "\n",
    "print_results(y_test_scaled, lr_scaled_sm_pred)"
   ]
  },
  {
   "cell_type": "markdown",
   "id": "cd427e52",
   "metadata": {},
   "source": [
    "All of the metrics except Precision have improved. "
   ]
  },
  {
   "cell_type": "code",
   "execution_count": 100,
   "id": "2887fcd3",
   "metadata": {
    "ExecuteTime": {
     "end_time": "2022-05-07T09:56:42.026736Z",
     "start_time": "2022-05-07T09:56:41.918755Z"
    }
   },
   "outputs": [
    {
     "data": {
      "image/png": "[encoded data removed]",
      "text/plain": [
       "<Figure size 360x360 with 1 Axes>"
      ]
     },
     "metadata": {
      "needs_background": "light"
     },
     "output_type": "display_data"
    }
   ],
   "source": [
    "# confusion matrix \n",
    "cm_lr_scaled_sm = confusion_matrix(y_test_scaled, lr_scaled_sm_pred)\n",
    "\n",
    "plt.figure(figsize= (5,5))\n",
    "sns.heatmap(pd.DataFrame(cm_lr_scaled_sm), annot = True, fmt='g', cbar = False, cmap=\"YlGnBu\", xticklabels= labels, \n",
    "            yticklabels= labels)\n",
    "plt.title('Logistic Regression (balanced and scaled)', fontsize = 14)\n",
    "plt.ylabel('Actual label',fontsize = 12 )\n",
    "plt.xlabel('Predicted label', fontsize = 12);"
   ]
  },
  {
   "cell_type": "markdown",
   "id": "50d6aaaa",
   "metadata": {},
   "source": [
    "+ 48573 Correct Predictions : 5338 TN + 43235 TP\n",
    "+ 8636 False Negatives \n",
    "+ 639 False Positives \n",
    "+ In comparison of the original model, we have increased False Positives by 69 and dicreased False Negatives by 1025. "
   ]
  },
  {
   "cell_type": "code",
   "execution_count": 101,
   "id": "3f3ce47e",
   "metadata": {
    "ExecuteTime": {
     "end_time": "2022-05-07T09:56:42.212100Z",
     "start_time": "2022-05-07T09:56:42.028233Z"
    }
   },
   "outputs": [
    {
     "data": {
      "image/png": "[encoded data removed]",
      "text/plain": [
       "<Figure size 432x288 with 1 Axes>"
      ]
     },
     "metadata": {
      "needs_background": "light"
     },
     "output_type": "display_data"
    }
   ],
   "source": [
    "# let's draw our roc/auc curve\n",
    "lr_scaled_sm_pred_proba = lr_scaled_sm.predict_proba(X_test_scaled)[:,1]\n",
    "fpr, tpr, _ = metrics.roc_curve(y_test_scaled,  lr_scaled_sm_pred_proba)\n",
    "auc_lr_scaled_sm = metrics.roc_auc_score(y_test_scaled, lr_scaled_sm_pred_proba)\n",
    "plt.plot(fpr,tpr,label=\"Logistic Regression(scaled and balanced), auc=\"+str(round(auc_lr_scaled_sm, 4)))\n",
    "plt.plot([0, 1], [0, 1], linestyle='--')\n",
    "plt.xlabel('False Positive Rate (1 - Specificity)')\n",
    "plt.ylabel('True Positive Rate (Sensitivity)')\n",
    "plt.grid(True)\n",
    "plt.legend(loc=4)\n",
    "plt.title('ROC/AUC curve Logistic Regression (scaled and balanced) '); "
   ]
  },
  {
   "cell_type": "markdown",
   "id": "e6465712",
   "metadata": {},
   "source": [
    "ROC AUC score has improved a little (before it was 0.9217)"
   ]
  },
  {
   "cell_type": "code",
   "execution_count": 102,
   "id": "cbb6985e",
   "metadata": {
    "ExecuteTime": {
     "end_time": "2022-05-07T09:56:42.574216Z",
     "start_time": "2022-05-07T09:56:42.214425Z"
    }
   },
   "outputs": [
    {
     "data": {
      "text/html": [
       "<div>\n",
       "<style scoped>\n",
       "    .dataframe tbody tr th:only-of-type {\n",
       "        vertical-align: middle;\n",
       "    }\n",
       "\n",
       "    .dataframe tbody tr th {\n",
       "        vertical-align: top;\n",
       "    }\n",
       "\n",
       "    .dataframe thead th {\n",
       "        text-align: right;\n",
       "    }\n",
       "</style>\n",
       "<table border=\"1\" class=\"dataframe\">\n",
       "  <thead>\n",
       "    <tr style=\"text-align: right;\">\n",
       "      <th></th>\n",
       "      <th>Model</th>\n",
       "      <th>Accuracy</th>\n",
       "      <th>Recall</th>\n",
       "      <th>Precision</th>\n",
       "      <th>f1-score</th>\n",
       "      <th>ROC AUC Score</th>\n",
       "    </tr>\n",
       "  </thead>\n",
       "  <tbody>\n",
       "    <tr>\n",
       "      <th>0</th>\n",
       "      <td>Logistic Regression</td>\n",
       "      <td>0.909003</td>\n",
       "      <td>0.973396</td>\n",
       "      <td>0.928570</td>\n",
       "      <td>0.950455</td>\n",
       "      <td>0.930449</td>\n",
       "    </tr>\n",
       "    <tr>\n",
       "      <th>0</th>\n",
       "      <td>Logistic Regression (Balanced)</td>\n",
       "      <td>0.839666</td>\n",
       "      <td>0.833510</td>\n",
       "      <td>0.985436</td>\n",
       "      <td>0.903128</td>\n",
       "      <td>0.930229</td>\n",
       "    </tr>\n",
       "  </tbody>\n",
       "</table>\n",
       "</div>"
      ],
      "text/plain": [
       "                            Model  Accuracy    Recall  Precision  f1-score  \\\n",
       "0             Logistic Regression  0.909003  0.973396   0.928570  0.950455   \n",
       "0  Logistic Regression (Balanced)  0.839666  0.833510   0.985436  0.903128   \n",
       "\n",
       "   ROC AUC Score  \n",
       "0       0.930449  \n",
       "0       0.930229  "
      ]
     },
     "execution_count": 102,
     "metadata": {},
     "output_type": "execute_result"
    }
   ],
   "source": [
    "# store results \n",
    "lr_sm_scaled_results = pd.DataFrame(data =[['Logistic Regression (Balanced)', \n",
    "                                           get_results(y_test_scaled, lr_scaled_sm_pred)[0], \n",
    "                                           get_results(y_test_scaled, lr_scaled_sm_pred)[1],\n",
    "                                           get_results(y_test_scaled, lr_scaled_sm_pred)[2], \n",
    "                                           get_results(y_test_scaled, lr_scaled_sm_pred)[3], \n",
    "                                           auc_lr_scaled_sm]], columns = ['Model', 'Accuracy', \n",
    "                                          'Recall', 'Precision', 'f1-score', 'ROC AUC Score'])\n",
    "scaled_results = pd.concat([scaled_results, lr_sm_scaled_results])\n",
    "scaled_results"
   ]
  },
  {
   "cell_type": "markdown",
   "id": "9820a406",
   "metadata": {},
   "source": [
    "#### AdaBoost using balanced classes "
   ]
  },
  {
   "cell_type": "markdown",
   "id": "461e0cfe",
   "metadata": {},
   "source": [
    "Now we will apply our balanced and scaled data to AdaBoost model. "
   ]
  },
  {
   "cell_type": "code",
   "execution_count": 103,
   "id": "09b59d0f",
   "metadata": {
    "ExecuteTime": {
     "end_time": "2022-05-07T09:56:45.950375Z",
     "start_time": "2022-05-07T09:56:42.575211Z"
    }
   },
   "outputs": [
    {
     "data": {
      "text/plain": [
       "AdaBoostClassifier(random_state=0)"
      ]
     },
     "execution_count": 103,
     "metadata": {},
     "output_type": "execute_result"
    }
   ],
   "source": [
    "from sklearn.ensemble import AdaBoostClassifier\n",
    "\n",
    "ada_sm_scaled = AdaBoostClassifier(random_state=0)\n",
    "\n",
    "ada_sm_scaled.fit(X_train_sm_scaled, y_train_sm_scaled)"
   ]
  },
  {
   "cell_type": "code",
   "execution_count": 104,
   "id": "39231082",
   "metadata": {
    "ExecuteTime": {
     "end_time": "2022-05-07T09:56:46.771319Z",
     "start_time": "2022-05-07T09:56:45.951355Z"
    }
   },
   "outputs": [
    {
     "name": "stdout",
     "output_type": "stream",
     "text": [
      "Accuracy :  0.835206057253492\n",
      "Recall (or sensitivity):  0.8294615488423204\n",
      "Precision :  0.9842834919472914\n",
      "F1 score:  0.9002646914200224\n"
     ]
    }
   ],
   "source": [
    "ada_sm_scaled_pred = ada_sm_scaled.predict(X_test_scaled)\n",
    "\n",
    "print_results(y_test_scaled, ada_sm_scaled_pred)"
   ]
  },
  {
   "cell_type": "code",
   "execution_count": 105,
   "id": "d0ec704f",
   "metadata": {
    "ExecuteTime": {
     "end_time": "2022-05-07T09:56:46.882662Z",
     "start_time": "2022-05-07T09:56:46.772282Z"
    }
   },
   "outputs": [
    {
     "data": {
      "image/png": "[encoded data removed]",
      "text/plain": [
       "<Figure size 360x360 with 1 Axes>"
      ]
     },
     "metadata": {
      "needs_background": "light"
     },
     "output_type": "display_data"
    }
   ],
   "source": [
    "# cm\n",
    "cm_ada_sm_scaled = confusion_matrix(y_test_scaled, ada_sm_scaled_pred)\n",
    "\n",
    "plt.figure(figsize= (5,5))\n",
    "sns.heatmap(pd.DataFrame(cm_ada_sm_scaled), annot = True, fmt='g', cbar = False, cmap=\"YlGnBu\", xticklabels= labels, \n",
    "            yticklabels= labels)\n",
    "plt.title('AdaBoost (scaled and balanced)', fontsize = 14)\n",
    "plt.ylabel('Actual label',fontsize = 12 )\n",
    "plt.xlabel('Predicted label', fontsize = 12);"
   ]
  },
  {
   "cell_type": "markdown",
   "id": "b4f3466e",
   "metadata": {},
   "source": [
    "+ We have 48315 Correct Predictions: 5290 TN and 43025 TP \n",
    "+ 687 False Positives \n",
    "+ 8846 False Negatives "
   ]
  },
  {
   "cell_type": "code",
   "execution_count": 106,
   "id": "90140ef1",
   "metadata": {
    "ExecuteTime": {
     "end_time": "2022-05-07T09:56:47.888618Z",
     "start_time": "2022-05-07T09:56:46.884656Z"
    }
   },
   "outputs": [
    {
     "data": {
      "image/png": "[encoded data removed]",
      "text/plain": [
       "<Figure size 432x288 with 1 Axes>"
      ]
     },
     "metadata": {
      "needs_background": "light"
     },
     "output_type": "display_data"
    }
   ],
   "source": [
    "# let's draw our roc/auc curve\n",
    "ada_scaled_sm_pred_proba = ada_sm_scaled.predict_proba(X_test_scaled)[:,1]\n",
    "fpr, tpr, _ = metrics.roc_curve(y_test_scaled,  ada_scaled_sm_pred_proba)\n",
    "auc_ada_scaled_sm = metrics.roc_auc_score(y_test_scaled, ada_scaled_sm_pred_proba)\n",
    "plt.plot(fpr,tpr,label=\"AdaBoost (scaled and balanced), auc=\"+str(round(auc_ada_scaled_sm, 4)))\n",
    "plt.plot([0, 1], [0, 1], linestyle='--')\n",
    "plt.xlabel('False Positive Rate (1 - Specificity)')\n",
    "plt.ylabel('True Positive Rate (Sensitivity)')\n",
    "plt.grid(True)\n",
    "plt.legend(loc=4)\n",
    "plt.title('ROC/AUC curve AdaBoost (scaled and balanced) '); "
   ]
  },
  {
   "cell_type": "markdown",
   "id": "0e34b256",
   "metadata": {
    "ExecuteTime": {
     "end_time": "2022-05-07T15:30:02.040164Z",
     "start_time": "2022-05-07T15:30:02.018105Z"
    }
   },
   "source": [
    "ROC AUC score has had very little improvement: previous result was 0.9265. "
   ]
  },
  {
   "cell_type": "code",
   "execution_count": 107,
   "id": "66942970",
   "metadata": {
    "ExecuteTime": {
     "end_time": "2022-05-07T09:56:48.299977Z",
     "start_time": "2022-05-07T09:56:47.890617Z"
    }
   },
   "outputs": [
    {
     "data": {
      "text/html": [
       "<div>\n",
       "<style scoped>\n",
       "    .dataframe tbody tr th:only-of-type {\n",
       "        vertical-align: middle;\n",
       "    }\n",
       "\n",
       "    .dataframe tbody tr th {\n",
       "        vertical-align: top;\n",
       "    }\n",
       "\n",
       "    .dataframe thead th {\n",
       "        text-align: right;\n",
       "    }\n",
       "</style>\n",
       "<table border=\"1\" class=\"dataframe\">\n",
       "  <thead>\n",
       "    <tr style=\"text-align: right;\">\n",
       "      <th></th>\n",
       "      <th>Model</th>\n",
       "      <th>Accuracy</th>\n",
       "      <th>Recall</th>\n",
       "      <th>Precision</th>\n",
       "      <th>f1-score</th>\n",
       "      <th>ROC AUC Score</th>\n",
       "    </tr>\n",
       "  </thead>\n",
       "  <tbody>\n",
       "    <tr>\n",
       "      <th>0</th>\n",
       "      <td>Logistic Regression</td>\n",
       "      <td>0.909003</td>\n",
       "      <td>0.973396</td>\n",
       "      <td>0.928570</td>\n",
       "      <td>0.950455</td>\n",
       "      <td>0.930449</td>\n",
       "    </tr>\n",
       "    <tr>\n",
       "      <th>0</th>\n",
       "      <td>Logistic Regression (Balanced)</td>\n",
       "      <td>0.839666</td>\n",
       "      <td>0.833510</td>\n",
       "      <td>0.985436</td>\n",
       "      <td>0.903128</td>\n",
       "      <td>0.930229</td>\n",
       "    </tr>\n",
       "    <tr>\n",
       "      <th>0</th>\n",
       "      <td>AdaBoost (Balanced)</td>\n",
       "      <td>0.835206</td>\n",
       "      <td>0.829462</td>\n",
       "      <td>0.984283</td>\n",
       "      <td>0.900265</td>\n",
       "      <td>0.926651</td>\n",
       "    </tr>\n",
       "  </tbody>\n",
       "</table>\n",
       "</div>"
      ],
      "text/plain": [
       "                            Model  Accuracy    Recall  Precision  f1-score  \\\n",
       "0             Logistic Regression  0.909003  0.973396   0.928570  0.950455   \n",
       "0  Logistic Regression (Balanced)  0.839666  0.833510   0.985436  0.903128   \n",
       "0             AdaBoost (Balanced)  0.835206  0.829462   0.984283  0.900265   \n",
       "\n",
       "   ROC AUC Score  \n",
       "0       0.930449  \n",
       "0       0.930229  \n",
       "0       0.926651  "
      ]
     },
     "execution_count": 107,
     "metadata": {},
     "output_type": "execute_result"
    }
   ],
   "source": [
    "# store results \n",
    "ada_scaled_results = pd.DataFrame(data= [['AdaBoost (Balanced)', get_results(y_test_scaled, ada_sm_scaled_pred)[0], \n",
    "                                         get_results(y_test_scaled, ada_sm_scaled_pred)[1], \n",
    "                                         get_results(y_test_scaled, ada_sm_scaled_pred)[2], \n",
    "                                         get_results(y_test_scaled, ada_sm_scaled_pred)[3], \n",
    "                                         auc_ada_scaled_sm]], columns = ['Model', 'Accuracy', 'Recall', 'Precision', \n",
    "                                         'f1-score', 'ROC AUC Score'])\n",
    "\n",
    "scaled_results = pd.concat([scaled_results, ada_scaled_results])\n",
    "scaled_results"
   ]
  },
  {
   "cell_type": "markdown",
   "id": "cc6b22c6",
   "metadata": {},
   "source": [
    "#### BalancedBaggingClassifier using Random Forest"
   ]
  },
  {
   "cell_type": "markdown",
   "id": "1881807f",
   "metadata": {},
   "source": [
    "In this model we don't use balanced data, we will use the same disbalanced data that we have used in our first Logistic Regression Model. "
   ]
  },
  {
   "cell_type": "code",
   "execution_count": 108,
   "id": "3928cf5e",
   "metadata": {
    "ExecuteTime": {
     "end_time": "2022-05-07T09:57:25.178814Z",
     "start_time": "2022-05-07T09:56:48.302544Z"
    }
   },
   "outputs": [
    {
     "data": {
      "text/plain": [
       "BalancedBaggingClassifier(base_estimator=RandomForestClassifier(random_state=0),\n",
       "                          random_state=0)"
      ]
     },
     "execution_count": 108,
     "metadata": {},
     "output_type": "execute_result"
    }
   ],
   "source": [
    "from imblearn.ensemble import BalancedBaggingClassifier\n",
    "from sklearn.ensemble import RandomForestClassifier\n",
    "\n",
    "balanced_scaled = BalancedBaggingClassifier(base_estimator= RandomForestClassifier(random_state=0), \n",
    "                                    sampling_strategy= 'auto', replacement= False, random_state= 0 )\n",
    "# fit model on X_train_scaled (not balanced)\n",
    "balanced_scaled.fit(X_train_scaled, y_train_scaled)"
   ]
  },
  {
   "cell_type": "code",
   "execution_count": 109,
   "id": "cc50aeb0",
   "metadata": {
    "ExecuteTime": {
     "end_time": "2022-05-07T09:57:35.113956Z",
     "start_time": "2022-05-07T09:57:25.180481Z"
    }
   },
   "outputs": [
    {
     "name": "stdout",
     "output_type": "stream",
     "text": [
      "Accuracy :  0.8296570322223759\n",
      "Recall (or sensitivity):  0.8180871778064814\n",
      "Precision :  0.9902457237532961\n",
      "F1 score:  0.8959714539081964\n"
     ]
    }
   ],
   "source": [
    "balanced_scaled_pred = balanced_scaled.predict(X_test_scaled)\n",
    "\n",
    "print_results(y_test_scaled, balanced_scaled_pred)"
   ]
  },
  {
   "cell_type": "code",
   "execution_count": 110,
   "id": "9c2c6ff6",
   "metadata": {
    "ExecuteTime": {
     "end_time": "2022-05-07T09:57:35.240113Z",
     "start_time": "2022-05-07T09:57:35.114954Z"
    }
   },
   "outputs": [
    {
     "data": {
      "image/png": "[encoded data removed]",
      "text/plain": [
       "<Figure size 360x360 with 1 Axes>"
      ]
     },
     "metadata": {
      "needs_background": "light"
     },
     "output_type": "display_data"
    }
   ],
   "source": [
    "# cm \n",
    "cm_balanced_scaled = confusion_matrix(y_test_scaled, balanced_scaled_pred)\n",
    "\n",
    "\n",
    "plt.figure(figsize= (5,5))\n",
    "sns.heatmap(pd.DataFrame(cm_balanced_scaled), annot = True, fmt='g', cbar = False, cmap=\"YlGnBu\", xticklabels= labels, \n",
    "            yticklabels= labels)\n",
    "plt.title('BalancedBaggingClassifier (scaled)', fontsize = 14)\n",
    "plt.ylabel('Actual label',fontsize = 12 )\n",
    "plt.xlabel('Predicted label', fontsize = 12);"
   ]
  },
  {
   "cell_type": "markdown",
   "id": "6105afc3",
   "metadata": {},
   "source": [
    "+ We observe 47994 correct predictions : 5559 True Negatives and 42435 True Positives\n",
    "+ False Negatives : 9436 \n",
    "+ False Positives: 418"
   ]
  },
  {
   "cell_type": "code",
   "execution_count": 111,
   "id": "0777ae8d",
   "metadata": {
    "ExecuteTime": {
     "end_time": "2022-05-07T09:57:45.579581Z",
     "start_time": "2022-05-07T09:57:35.241030Z"
    }
   },
   "outputs": [
    {
     "data": {
      "image/png": "[encoded data removed]",
      "text/plain": [
       "<Figure size 432x288 with 1 Axes>"
      ]
     },
     "metadata": {
      "needs_background": "light"
     },
     "output_type": "display_data"
    }
   ],
   "source": [
    "# let's draw our roc/auc curve\n",
    "balanced_scaled_pred_proba = balanced_scaled.predict_proba(X_test_scaled)[:,1]\n",
    "fpr, tpr, _ = metrics.roc_curve(y_test_scaled,  balanced_scaled_pred_proba)\n",
    "auc_balanced_scaled = metrics.roc_auc_score(y_test_scaled, balanced_scaled_pred_proba)\n",
    "plt.plot(fpr,tpr,label=\"Balanced Bagging Classifier (scaled), auc=\"+str(round(auc_balanced_scaled, 4)))\n",
    "plt.plot([0, 1], [0, 1], linestyle='--')\n",
    "plt.xlabel('False Positive Rate (1 - Specificity)')\n",
    "plt.ylabel('True Positive Rate (Sensitivity)')\n",
    "plt.grid(True)\n",
    "plt.legend(loc=4)\n",
    "plt.title('ROC/AUC curve Balanced Bagging Classifier(scaled)'); "
   ]
  },
  {
   "cell_type": "markdown",
   "id": "75914c9d",
   "metadata": {},
   "source": [
    "ROC AUC score has a similar result than for previous model (0.933588)"
   ]
  },
  {
   "cell_type": "code",
   "execution_count": 112,
   "id": "74495ba5",
   "metadata": {
    "ExecuteTime": {
     "end_time": "2022-05-07T09:57:45.878960Z",
     "start_time": "2022-05-07T09:57:45.580577Z"
    }
   },
   "outputs": [
    {
     "data": {
      "text/html": [
       "<div>\n",
       "<style scoped>\n",
       "    .dataframe tbody tr th:only-of-type {\n",
       "        vertical-align: middle;\n",
       "    }\n",
       "\n",
       "    .dataframe tbody tr th {\n",
       "        vertical-align: top;\n",
       "    }\n",
       "\n",
       "    .dataframe thead th {\n",
       "        text-align: right;\n",
       "    }\n",
       "</style>\n",
       "<table border=\"1\" class=\"dataframe\">\n",
       "  <thead>\n",
       "    <tr style=\"text-align: right;\">\n",
       "      <th></th>\n",
       "      <th>Model</th>\n",
       "      <th>Accuracy</th>\n",
       "      <th>Recall</th>\n",
       "      <th>Precision</th>\n",
       "      <th>f1-score</th>\n",
       "      <th>ROC AUC Score</th>\n",
       "    </tr>\n",
       "  </thead>\n",
       "  <tbody>\n",
       "    <tr>\n",
       "      <th>0</th>\n",
       "      <td>Logistic Regression</td>\n",
       "      <td>0.909003</td>\n",
       "      <td>0.973396</td>\n",
       "      <td>0.928570</td>\n",
       "      <td>0.950455</td>\n",
       "      <td>0.930449</td>\n",
       "    </tr>\n",
       "    <tr>\n",
       "      <th>0</th>\n",
       "      <td>Logistic Regression (Balanced)</td>\n",
       "      <td>0.839666</td>\n",
       "      <td>0.833510</td>\n",
       "      <td>0.985436</td>\n",
       "      <td>0.903128</td>\n",
       "      <td>0.930229</td>\n",
       "    </tr>\n",
       "    <tr>\n",
       "      <th>0</th>\n",
       "      <td>AdaBoost (Balanced)</td>\n",
       "      <td>0.835206</td>\n",
       "      <td>0.829462</td>\n",
       "      <td>0.984283</td>\n",
       "      <td>0.900265</td>\n",
       "      <td>0.926651</td>\n",
       "    </tr>\n",
       "    <tr>\n",
       "      <th>0</th>\n",
       "      <td>Balanced Bagging Classifier</td>\n",
       "      <td>0.829657</td>\n",
       "      <td>0.818087</td>\n",
       "      <td>0.990246</td>\n",
       "      <td>0.895971</td>\n",
       "      <td>0.933627</td>\n",
       "    </tr>\n",
       "  </tbody>\n",
       "</table>\n",
       "</div>"
      ],
      "text/plain": [
       "                            Model  Accuracy    Recall  Precision  f1-score  \\\n",
       "0             Logistic Regression  0.909003  0.973396   0.928570  0.950455   \n",
       "0  Logistic Regression (Balanced)  0.839666  0.833510   0.985436  0.903128   \n",
       "0             AdaBoost (Balanced)  0.835206  0.829462   0.984283  0.900265   \n",
       "0     Balanced Bagging Classifier  0.829657  0.818087   0.990246  0.895971   \n",
       "\n",
       "   ROC AUC Score  \n",
       "0       0.930449  \n",
       "0       0.930229  \n",
       "0       0.926651  \n",
       "0       0.933627  "
      ]
     },
     "execution_count": 112,
     "metadata": {},
     "output_type": "execute_result"
    }
   ],
   "source": [
    "# store results \n",
    "balanced_results = pd.DataFrame(data = [['Balanced Bagging Classifier', \n",
    "                                        get_results(y_test_scaled, balanced_scaled_pred)[0], \n",
    "                                        get_results(y_test_scaled, balanced_scaled_pred)[1], \n",
    "                                        get_results(y_test_scaled, balanced_scaled_pred)[2], \n",
    "                                        get_results(y_test_scaled, balanced_scaled_pred)[3], \n",
    "                                        auc_balanced_scaled]], columns = ['Model', 'Accuracy', 'Recall',\n",
    "                                        'Precision', 'f1-score', 'ROC AUC Score'])\n",
    "scaled_results = pd.concat([scaled_results, balanced_results])\n",
    "scaled_results"
   ]
  },
  {
   "cell_type": "markdown",
   "id": "90dc9569",
   "metadata": {},
   "source": [
    "To be able to compare the results, we will look at our original results for our non scaled models: "
   ]
  },
  {
   "cell_type": "code",
   "execution_count": 113,
   "id": "3385708a",
   "metadata": {
    "ExecuteTime": {
     "end_time": "2022-05-07T09:57:45.909993Z",
     "start_time": "2022-05-07T09:57:45.880881Z"
    }
   },
   "outputs": [
    {
     "data": {
      "text/html": [
       "<div>\n",
       "<style scoped>\n",
       "    .dataframe tbody tr th:only-of-type {\n",
       "        vertical-align: middle;\n",
       "    }\n",
       "\n",
       "    .dataframe tbody tr th {\n",
       "        vertical-align: top;\n",
       "    }\n",
       "\n",
       "    .dataframe thead th {\n",
       "        text-align: right;\n",
       "    }\n",
       "</style>\n",
       "<table border=\"1\" class=\"dataframe\">\n",
       "  <thead>\n",
       "    <tr style=\"text-align: right;\">\n",
       "      <th></th>\n",
       "      <th>Model</th>\n",
       "      <th>Accuracy</th>\n",
       "      <th>Recall</th>\n",
       "      <th>Precision</th>\n",
       "      <th>f1-score</th>\n",
       "      <th>ROC AUC Score</th>\n",
       "    </tr>\n",
       "  </thead>\n",
       "  <tbody>\n",
       "    <tr>\n",
       "      <th>0</th>\n",
       "      <td>Logistic Regression</td>\n",
       "      <td>0.905909</td>\n",
       "      <td>0.979545</td>\n",
       "      <td>0.920604</td>\n",
       "      <td>0.949161</td>\n",
       "      <td>0.926043</td>\n",
       "    </tr>\n",
       "    <tr>\n",
       "      <th>1</th>\n",
       "      <td>Logistic Regression (Balanced)</td>\n",
       "      <td>0.823140</td>\n",
       "      <td>0.813749</td>\n",
       "      <td>0.986676</td>\n",
       "      <td>0.891908</td>\n",
       "      <td>0.921749</td>\n",
       "    </tr>\n",
       "    <tr>\n",
       "      <th>2</th>\n",
       "      <td>AdaBoost (Balanced)</td>\n",
       "      <td>0.845319</td>\n",
       "      <td>0.842764</td>\n",
       "      <td>0.982205</td>\n",
       "      <td>0.907157</td>\n",
       "      <td>0.926512</td>\n",
       "    </tr>\n",
       "    <tr>\n",
       "      <th>3</th>\n",
       "      <td>Balanced Bagging Classifier</td>\n",
       "      <td>0.829156</td>\n",
       "      <td>0.817393</td>\n",
       "      <td>0.990399</td>\n",
       "      <td>0.895618</td>\n",
       "      <td>0.933588</td>\n",
       "    </tr>\n",
       "  </tbody>\n",
       "</table>\n",
       "</div>"
      ],
      "text/plain": [
       "                            Model  Accuracy    Recall  Precision  f1-score  \\\n",
       "0             Logistic Regression  0.905909  0.979545   0.920604  0.949161   \n",
       "1  Logistic Regression (Balanced)  0.823140  0.813749   0.986676  0.891908   \n",
       "2             AdaBoost (Balanced)  0.845319  0.842764   0.982205  0.907157   \n",
       "3     Balanced Bagging Classifier  0.829156  0.817393   0.990399  0.895618   \n",
       "\n",
       "   ROC AUC Score  \n",
       "0       0.926043  \n",
       "1       0.921749  \n",
       "2       0.926512  \n",
       "3       0.933588  "
      ]
     },
     "execution_count": 113,
     "metadata": {},
     "output_type": "execute_result"
    }
   ],
   "source": [
    "model_results = pd.read_csv('results_df.csv')\n",
    "model_results[0:4]"
   ]
  },
  {
   "cell_type": "code",
   "execution_count": 114,
   "id": "614347a7",
   "metadata": {
    "ExecuteTime": {
     "end_time": "2022-05-07T09:57:45.940429Z",
     "start_time": "2022-05-07T09:57:45.910910Z"
    }
   },
   "outputs": [
    {
     "data": {
      "text/html": [
       "<div>\n",
       "<style scoped>\n",
       "    .dataframe tbody tr th:only-of-type {\n",
       "        vertical-align: middle;\n",
       "    }\n",
       "\n",
       "    .dataframe tbody tr th {\n",
       "        vertical-align: top;\n",
       "    }\n",
       "\n",
       "    .dataframe thead th {\n",
       "        text-align: right;\n",
       "    }\n",
       "</style>\n",
       "<table border=\"1\" class=\"dataframe\">\n",
       "  <thead>\n",
       "    <tr style=\"text-align: right;\">\n",
       "      <th></th>\n",
       "      <th></th>\n",
       "      <th>Model</th>\n",
       "      <th>Accuracy</th>\n",
       "      <th>Recall</th>\n",
       "      <th>Precision</th>\n",
       "      <th>f1-score</th>\n",
       "      <th>ROC AUC Score</th>\n",
       "    </tr>\n",
       "  </thead>\n",
       "  <tbody>\n",
       "    <tr>\n",
       "      <th rowspan=\"2\" valign=\"top\">0</th>\n",
       "      <th>model_results</th>\n",
       "      <td>Logistic Regression</td>\n",
       "      <td>0.905909</td>\n",
       "      <td>0.979545</td>\n",
       "      <td>0.920604</td>\n",
       "      <td>0.949161</td>\n",
       "      <td>0.926043</td>\n",
       "    </tr>\n",
       "    <tr>\n",
       "      <th>scaled_results</th>\n",
       "      <td>Logistic Regression</td>\n",
       "      <td>0.909003</td>\n",
       "      <td>0.973396</td>\n",
       "      <td>0.92857</td>\n",
       "      <td>0.950455</td>\n",
       "      <td>0.930449</td>\n",
       "    </tr>\n",
       "    <tr>\n",
       "      <th rowspan=\"2\" valign=\"top\">1</th>\n",
       "      <th>model_results</th>\n",
       "      <td>Logistic Regression (Balanced)</td>\n",
       "      <td>0.82314</td>\n",
       "      <td>0.813749</td>\n",
       "      <td>0.986676</td>\n",
       "      <td>0.891908</td>\n",
       "      <td>0.921749</td>\n",
       "    </tr>\n",
       "    <tr>\n",
       "      <th>scaled_results</th>\n",
       "      <td>Logistic Regression (Balanced)</td>\n",
       "      <td>0.839666</td>\n",
       "      <td>0.83351</td>\n",
       "      <td>0.985436</td>\n",
       "      <td>0.903128</td>\n",
       "      <td>0.930229</td>\n",
       "    </tr>\n",
       "    <tr>\n",
       "      <th rowspan=\"2\" valign=\"top\">2</th>\n",
       "      <th>model_results</th>\n",
       "      <td>AdaBoost (Balanced)</td>\n",
       "      <td>0.845319</td>\n",
       "      <td>0.842764</td>\n",
       "      <td>0.982205</td>\n",
       "      <td>0.907157</td>\n",
       "      <td>0.926512</td>\n",
       "    </tr>\n",
       "    <tr>\n",
       "      <th>scaled_results</th>\n",
       "      <td>AdaBoost (Balanced)</td>\n",
       "      <td>0.835206</td>\n",
       "      <td>0.829462</td>\n",
       "      <td>0.984283</td>\n",
       "      <td>0.900265</td>\n",
       "      <td>0.926651</td>\n",
       "    </tr>\n",
       "    <tr>\n",
       "      <th rowspan=\"2\" valign=\"top\">3</th>\n",
       "      <th>model_results</th>\n",
       "      <td>Balanced Bagging Classifier</td>\n",
       "      <td>0.829156</td>\n",
       "      <td>0.817393</td>\n",
       "      <td>0.990399</td>\n",
       "      <td>0.895618</td>\n",
       "      <td>0.933588</td>\n",
       "    </tr>\n",
       "    <tr>\n",
       "      <th>scaled_results</th>\n",
       "      <td>Balanced Bagging Classifier</td>\n",
       "      <td>0.829657</td>\n",
       "      <td>0.818087</td>\n",
       "      <td>0.990246</td>\n",
       "      <td>0.895971</td>\n",
       "      <td>0.933627</td>\n",
       "    </tr>\n",
       "  </tbody>\n",
       "</table>\n",
       "</div>"
      ],
      "text/plain": [
       "                                           Model  Accuracy    Recall  \\\n",
       "0 model_results              Logistic Regression  0.905909  0.979545   \n",
       "  scaled_results             Logistic Regression  0.909003  0.973396   \n",
       "1 model_results   Logistic Regression (Balanced)   0.82314  0.813749   \n",
       "  scaled_results  Logistic Regression (Balanced)  0.839666   0.83351   \n",
       "2 model_results              AdaBoost (Balanced)  0.845319  0.842764   \n",
       "  scaled_results             AdaBoost (Balanced)  0.835206  0.829462   \n",
       "3 model_results      Balanced Bagging Classifier  0.829156  0.817393   \n",
       "  scaled_results     Balanced Bagging Classifier  0.829657  0.818087   \n",
       "\n",
       "                 Precision  f1-score ROC AUC Score  \n",
       "0 model_results   0.920604  0.949161      0.926043  \n",
       "  scaled_results   0.92857  0.950455      0.930449  \n",
       "1 model_results   0.986676  0.891908      0.921749  \n",
       "  scaled_results  0.985436  0.903128      0.930229  \n",
       "2 model_results   0.982205  0.907157      0.926512  \n",
       "  scaled_results  0.984283  0.900265      0.926651  \n",
       "3 model_results   0.990399  0.895618      0.933588  \n",
       "  scaled_results  0.990246  0.895971      0.933627  "
      ]
     },
     "execution_count": 114,
     "metadata": {},
     "output_type": "execute_result"
    }
   ],
   "source": [
    "compared = model_results[0:4].stack().to_frame('model_results')\n",
    "compared.loc[:, 'scaled_results'] = scaled_results.stack().values\n",
    "compared = compared.stack().unstack(1)\n",
    "compared"
   ]
  },
  {
   "cell_type": "markdown",
   "id": "02062b92",
   "metadata": {},
   "source": [
    "+ If we look at metrics like f1 score and ROC AUC score, we can see that it improves in all cases (except for f1 score in AdaBoost that decreases a little)\n",
    "+ The scaling makes major improvement in Logistic Regression models, more sofisticated models like AdaBoost and Balanced Bagging improve a little in general but not so much compared with Logistic models. "
   ]
  },
  {
   "cell_type": "markdown",
   "id": "8c17c2fa",
   "metadata": {},
   "source": [
    "### - Exercici 6\n",
    "\n",
    "No utilitzis la variable DepDelay a l’hora de fer prediccions"
   ]
  },
  {
   "cell_type": "markdown",
   "id": "39acc86f",
   "metadata": {},
   "source": [
    "For this exercise,  we will drop 'DepDelay' feature, the feature that is most correlated with 'ArrDelay'. \n",
    "\n",
    "We have been doing different trials with different models but none of them has had spectacular results (either they had high Type I error or high Type II error), but we have not been able to significantly minimize both errors at the same time. Now we will try a different model: we will use 'Neural Network MLP Classifier' to see how it works. \n",
    "\n",
    "Before we excluded some of the features due to multicolinearity. This time, for this new model,  we will use all available features (excluding 'DepDelay') and dummy columns refering to the Carrier. "
   ]
  },
  {
   "cell_type": "code",
   "execution_count": 115,
   "id": "6480631a",
   "metadata": {
    "ExecuteTime": {
     "end_time": "2022-05-07T09:57:45.987174Z",
     "start_time": "2022-05-07T09:57:45.942340Z"
    }
   },
   "outputs": [
    {
     "data": {
      "text/html": [
       "<div>\n",
       "<style scoped>\n",
       "    .dataframe tbody tr th:only-of-type {\n",
       "        vertical-align: middle;\n",
       "    }\n",
       "\n",
       "    .dataframe tbody tr th {\n",
       "        vertical-align: top;\n",
       "    }\n",
       "\n",
       "    .dataframe thead th {\n",
       "        text-align: right;\n",
       "    }\n",
       "</style>\n",
       "<table border=\"1\" class=\"dataframe\">\n",
       "  <thead>\n",
       "    <tr style=\"text-align: right;\">\n",
       "      <th></th>\n",
       "      <th>Class</th>\n",
       "      <th>ActualElapsedTime</th>\n",
       "      <th>CRSElapsedTime</th>\n",
       "      <th>AirTime</th>\n",
       "      <th>DepDelay</th>\n",
       "      <th>Distance</th>\n",
       "      <th>Speed</th>\n",
       "      <th>TaxiIn</th>\n",
       "      <th>TaxiOut</th>\n",
       "      <th>CarrierDelay</th>\n",
       "      <th>WeatherDelay</th>\n",
       "      <th>NASDelay</th>\n",
       "      <th>SecurityDelay</th>\n",
       "      <th>LateAircraftDelay</th>\n",
       "      <th>DepTime</th>\n",
       "      <th>CRSDepTime</th>\n",
       "      <th>ArrTime</th>\n",
       "      <th>CRSArrTime</th>\n",
       "      <th>Month</th>\n",
       "      <th>DayofMonth</th>\n",
       "      <th>DayOfWeek</th>\n",
       "      <th>UniqueCarrier_AA</th>\n",
       "      <th>UniqueCarrier_AQ</th>\n",
       "      <th>UniqueCarrier_AS</th>\n",
       "      <th>UniqueCarrier_B6</th>\n",
       "      <th>UniqueCarrier_CO</th>\n",
       "      <th>UniqueCarrier_DL</th>\n",
       "      <th>UniqueCarrier_EV</th>\n",
       "      <th>UniqueCarrier_F9</th>\n",
       "      <th>UniqueCarrier_FL</th>\n",
       "      <th>UniqueCarrier_HA</th>\n",
       "      <th>UniqueCarrier_MQ</th>\n",
       "      <th>UniqueCarrier_NW</th>\n",
       "      <th>UniqueCarrier_OH</th>\n",
       "      <th>UniqueCarrier_OO</th>\n",
       "      <th>UniqueCarrier_UA</th>\n",
       "      <th>UniqueCarrier_US</th>\n",
       "      <th>UniqueCarrier_WN</th>\n",
       "      <th>UniqueCarrier_XE</th>\n",
       "      <th>UniqueCarrier_YV</th>\n",
       "    </tr>\n",
       "  </thead>\n",
       "  <tbody>\n",
       "    <tr>\n",
       "      <th>0</th>\n",
       "      <td>1</td>\n",
       "      <td>95.0</td>\n",
       "      <td>88.0</td>\n",
       "      <td>63.0</td>\n",
       "      <td>14.0</td>\n",
       "      <td>364</td>\n",
       "      <td>346.67</td>\n",
       "      <td>11.0</td>\n",
       "      <td>21.0</td>\n",
       "      <td>14.0</td>\n",
       "      <td>0.0</td>\n",
       "      <td>7.0</td>\n",
       "      <td>0.0</td>\n",
       "      <td>0.0</td>\n",
       "      <td>1711.0</td>\n",
       "      <td>1657</td>\n",
       "      <td>1746.0</td>\n",
       "      <td>1725</td>\n",
       "      <td>1</td>\n",
       "      <td>18</td>\n",
       "      <td>5</td>\n",
       "      <td>0</td>\n",
       "      <td>0</td>\n",
       "      <td>0</td>\n",
       "      <td>0</td>\n",
       "      <td>0</td>\n",
       "      <td>0</td>\n",
       "      <td>0</td>\n",
       "      <td>0</td>\n",
       "      <td>0</td>\n",
       "      <td>0</td>\n",
       "      <td>0</td>\n",
       "      <td>0</td>\n",
       "      <td>0</td>\n",
       "      <td>0</td>\n",
       "      <td>0</td>\n",
       "      <td>0</td>\n",
       "      <td>0</td>\n",
       "      <td>0</td>\n",
       "      <td>0</td>\n",
       "    </tr>\n",
       "    <tr>\n",
       "      <th>1</th>\n",
       "      <td>1</td>\n",
       "      <td>139.0</td>\n",
       "      <td>126.0</td>\n",
       "      <td>105.0</td>\n",
       "      <td>11.0</td>\n",
       "      <td>813</td>\n",
       "      <td>464.57</td>\n",
       "      <td>18.0</td>\n",
       "      <td>16.0</td>\n",
       "      <td>0.0</td>\n",
       "      <td>0.0</td>\n",
       "      <td>13.0</td>\n",
       "      <td>0.0</td>\n",
       "      <td>11.0</td>\n",
       "      <td>1100.0</td>\n",
       "      <td>1049</td>\n",
       "      <td>1419.0</td>\n",
       "      <td>1355</td>\n",
       "      <td>12</td>\n",
       "      <td>5</td>\n",
       "      <td>5</td>\n",
       "      <td>0</td>\n",
       "      <td>0</td>\n",
       "      <td>0</td>\n",
       "      <td>0</td>\n",
       "      <td>0</td>\n",
       "      <td>0</td>\n",
       "      <td>0</td>\n",
       "      <td>0</td>\n",
       "      <td>0</td>\n",
       "      <td>0</td>\n",
       "      <td>0</td>\n",
       "      <td>0</td>\n",
       "      <td>0</td>\n",
       "      <td>0</td>\n",
       "      <td>0</td>\n",
       "      <td>0</td>\n",
       "      <td>0</td>\n",
       "      <td>0</td>\n",
       "      <td>0</td>\n",
       "    </tr>\n",
       "    <tr>\n",
       "      <th>2</th>\n",
       "      <td>1</td>\n",
       "      <td>86.0</td>\n",
       "      <td>102.0</td>\n",
       "      <td>65.0</td>\n",
       "      <td>18.0</td>\n",
       "      <td>490</td>\n",
       "      <td>452.31</td>\n",
       "      <td>9.0</td>\n",
       "      <td>12.0</td>\n",
       "      <td>0.0</td>\n",
       "      <td>0.0</td>\n",
       "      <td>0.0</td>\n",
       "      <td>0.0</td>\n",
       "      <td>0.0</td>\n",
       "      <td>943.0</td>\n",
       "      <td>925</td>\n",
       "      <td>1209.0</td>\n",
       "      <td>1207</td>\n",
       "      <td>12</td>\n",
       "      <td>22</td>\n",
       "      <td>1</td>\n",
       "      <td>0</td>\n",
       "      <td>0</td>\n",
       "      <td>0</td>\n",
       "      <td>0</td>\n",
       "      <td>0</td>\n",
       "      <td>0</td>\n",
       "      <td>0</td>\n",
       "      <td>0</td>\n",
       "      <td>0</td>\n",
       "      <td>0</td>\n",
       "      <td>0</td>\n",
       "      <td>0</td>\n",
       "      <td>0</td>\n",
       "      <td>0</td>\n",
       "      <td>0</td>\n",
       "      <td>0</td>\n",
       "      <td>0</td>\n",
       "      <td>0</td>\n",
       "      <td>0</td>\n",
       "    </tr>\n",
       "    <tr>\n",
       "      <th>3</th>\n",
       "      <td>1</td>\n",
       "      <td>114.0</td>\n",
       "      <td>90.0</td>\n",
       "      <td>87.0</td>\n",
       "      <td>13.0</td>\n",
       "      <td>442</td>\n",
       "      <td>304.83</td>\n",
       "      <td>4.0</td>\n",
       "      <td>23.0</td>\n",
       "      <td>13.0</td>\n",
       "      <td>0.0</td>\n",
       "      <td>24.0</td>\n",
       "      <td>0.0</td>\n",
       "      <td>0.0</td>\n",
       "      <td>1908.0</td>\n",
       "      <td>1855</td>\n",
       "      <td>2102.0</td>\n",
       "      <td>2025</td>\n",
       "      <td>6</td>\n",
       "      <td>12</td>\n",
       "      <td>4</td>\n",
       "      <td>0</td>\n",
       "      <td>0</td>\n",
       "      <td>0</td>\n",
       "      <td>0</td>\n",
       "      <td>0</td>\n",
       "      <td>0</td>\n",
       "      <td>0</td>\n",
       "      <td>0</td>\n",
       "      <td>0</td>\n",
       "      <td>0</td>\n",
       "      <td>0</td>\n",
       "      <td>0</td>\n",
       "      <td>0</td>\n",
       "      <td>0</td>\n",
       "      <td>0</td>\n",
       "      <td>0</td>\n",
       "      <td>0</td>\n",
       "      <td>0</td>\n",
       "      <td>0</td>\n",
       "    </tr>\n",
       "    <tr>\n",
       "      <th>4</th>\n",
       "      <td>1</td>\n",
       "      <td>90.0</td>\n",
       "      <td>88.0</td>\n",
       "      <td>61.0</td>\n",
       "      <td>8.0</td>\n",
       "      <td>382</td>\n",
       "      <td>375.74</td>\n",
       "      <td>7.0</td>\n",
       "      <td>22.0</td>\n",
       "      <td>0.0</td>\n",
       "      <td>0.0</td>\n",
       "      <td>0.0</td>\n",
       "      <td>0.0</td>\n",
       "      <td>0.0</td>\n",
       "      <td>1038.0</td>\n",
       "      <td>1030</td>\n",
       "      <td>1208.0</td>\n",
       "      <td>1158</td>\n",
       "      <td>4</td>\n",
       "      <td>1</td>\n",
       "      <td>2</td>\n",
       "      <td>0</td>\n",
       "      <td>0</td>\n",
       "      <td>0</td>\n",
       "      <td>0</td>\n",
       "      <td>0</td>\n",
       "      <td>0</td>\n",
       "      <td>0</td>\n",
       "      <td>0</td>\n",
       "      <td>0</td>\n",
       "      <td>0</td>\n",
       "      <td>0</td>\n",
       "      <td>0</td>\n",
       "      <td>0</td>\n",
       "      <td>0</td>\n",
       "      <td>0</td>\n",
       "      <td>0</td>\n",
       "      <td>0</td>\n",
       "      <td>0</td>\n",
       "      <td>0</td>\n",
       "    </tr>\n",
       "  </tbody>\n",
       "</table>\n",
       "</div>"
      ],
      "text/plain": [
       "   Class  ActualElapsedTime  CRSElapsedTime  AirTime  DepDelay  Distance  \\\n",
       "0      1               95.0            88.0     63.0      14.0       364   \n",
       "1      1              139.0           126.0    105.0      11.0       813   \n",
       "2      1               86.0           102.0     65.0      18.0       490   \n",
       "3      1              114.0            90.0     87.0      13.0       442   \n",
       "4      1               90.0            88.0     61.0       8.0       382   \n",
       "\n",
       "    Speed  TaxiIn  TaxiOut  CarrierDelay  WeatherDelay  NASDelay  \\\n",
       "0  346.67    11.0     21.0          14.0           0.0       7.0   \n",
       "1  464.57    18.0     16.0           0.0           0.0      13.0   \n",
       "2  452.31     9.0     12.0           0.0           0.0       0.0   \n",
       "3  304.83     4.0     23.0          13.0           0.0      24.0   \n",
       "4  375.74     7.0     22.0           0.0           0.0       0.0   \n",
       "\n",
       "   SecurityDelay  LateAircraftDelay  DepTime  CRSDepTime  ArrTime  CRSArrTime  \\\n",
       "0            0.0                0.0   1711.0        1657   1746.0        1725   \n",
       "1            0.0               11.0   1100.0        1049   1419.0        1355   \n",
       "2            0.0                0.0    943.0         925   1209.0        1207   \n",
       "3            0.0                0.0   1908.0        1855   2102.0        2025   \n",
       "4            0.0                0.0   1038.0        1030   1208.0        1158   \n",
       "\n",
       "   Month  DayofMonth  DayOfWeek  UniqueCarrier_AA  UniqueCarrier_AQ  \\\n",
       "0      1          18          5                 0                 0   \n",
       "1     12           5          5                 0                 0   \n",
       "2     12          22          1                 0                 0   \n",
       "3      6          12          4                 0                 0   \n",
       "4      4           1          2                 0                 0   \n",
       "\n",
       "   UniqueCarrier_AS  UniqueCarrier_B6  UniqueCarrier_CO  UniqueCarrier_DL  \\\n",
       "0                 0                 0                 0                 0   \n",
       "1                 0                 0                 0                 0   \n",
       "2                 0                 0                 0                 0   \n",
       "3                 0                 0                 0                 0   \n",
       "4                 0                 0                 0                 0   \n",
       "\n",
       "   UniqueCarrier_EV  UniqueCarrier_F9  UniqueCarrier_FL  UniqueCarrier_HA  \\\n",
       "0                 0                 0                 0                 0   \n",
       "1                 0                 0                 0                 0   \n",
       "2                 0                 0                 0                 0   \n",
       "3                 0                 0                 0                 0   \n",
       "4                 0                 0                 0                 0   \n",
       "\n",
       "   UniqueCarrier_MQ  UniqueCarrier_NW  UniqueCarrier_OH  UniqueCarrier_OO  \\\n",
       "0                 0                 0                 0                 0   \n",
       "1                 0                 0                 0                 0   \n",
       "2                 0                 0                 0                 0   \n",
       "3                 0                 0                 0                 0   \n",
       "4                 0                 0                 0                 0   \n",
       "\n",
       "   UniqueCarrier_UA  UniqueCarrier_US  UniqueCarrier_WN  UniqueCarrier_XE  \\\n",
       "0                 0                 0                 0                 0   \n",
       "1                 0                 0                 0                 0   \n",
       "2                 0                 0                 0                 0   \n",
       "3                 0                 0                 0                 0   \n",
       "4                 0                 0                 0                 0   \n",
       "\n",
       "   UniqueCarrier_YV  \n",
       "0                 0  \n",
       "1                 0  \n",
       "2                 0  \n",
       "3                 0  \n",
       "4                 0  "
      ]
     },
     "execution_count": 115,
     "metadata": {},
     "output_type": "execute_result"
    }
   ],
   "source": [
    "# df that contains all the features without scaling \n",
    "# this df contains all the original features (we have not dropped features that have multicollinearity)\n",
    "data.head()"
   ]
  },
  {
   "cell_type": "markdown",
   "id": "b0869bef",
   "metadata": {},
   "source": [
    "#### Neural Network MLP Classifier"
   ]
  },
  {
   "cell_type": "code",
   "execution_count": 116,
   "id": "04cb7ce3",
   "metadata": {
    "ExecuteTime": {
     "end_time": "2022-05-07T09:57:46.002605Z",
     "start_time": "2022-05-07T09:57:45.989168Z"
    }
   },
   "outputs": [
    {
     "data": {
      "text/plain": [
       "(192825, 40)"
      ]
     },
     "execution_count": 116,
     "metadata": {},
     "output_type": "execute_result"
    }
   ],
   "source": [
    "data.shape"
   ]
  },
  {
   "cell_type": "code",
   "execution_count": 117,
   "id": "dd7f39c6",
   "metadata": {
    "ExecuteTime": {
     "end_time": "2022-05-07T09:57:46.048705Z",
     "start_time": "2022-05-07T09:57:46.004597Z"
    }
   },
   "outputs": [],
   "source": [
    "# drop 'DepDelay' feature\n",
    "\n",
    "data_final = data.drop(['DepDelay'], axis = 1)"
   ]
  },
  {
   "cell_type": "code",
   "execution_count": 118,
   "id": "48890abc",
   "metadata": {
    "ExecuteTime": {
     "end_time": "2022-05-07T09:57:46.064097Z",
     "start_time": "2022-05-07T09:57:46.050699Z"
    }
   },
   "outputs": [
    {
     "data": {
      "text/plain": [
       "(192825, 39)"
      ]
     },
     "execution_count": 118,
     "metadata": {},
     "output_type": "execute_result"
    }
   ],
   "source": [
    "data_final.shape"
   ]
  },
  {
   "cell_type": "code",
   "execution_count": 119,
   "id": "f63a8964",
   "metadata": {
    "ExecuteTime": {
     "end_time": "2022-05-07T09:57:46.111584Z",
     "start_time": "2022-05-07T09:57:46.066333Z"
    }
   },
   "outputs": [
    {
     "data": {
      "text/html": [
       "<div>\n",
       "<style scoped>\n",
       "    .dataframe tbody tr th:only-of-type {\n",
       "        vertical-align: middle;\n",
       "    }\n",
       "\n",
       "    .dataframe tbody tr th {\n",
       "        vertical-align: top;\n",
       "    }\n",
       "\n",
       "    .dataframe thead th {\n",
       "        text-align: right;\n",
       "    }\n",
       "</style>\n",
       "<table border=\"1\" class=\"dataframe\">\n",
       "  <thead>\n",
       "    <tr style=\"text-align: right;\">\n",
       "      <th></th>\n",
       "      <th>Class</th>\n",
       "      <th>ActualElapsedTime</th>\n",
       "      <th>CRSElapsedTime</th>\n",
       "      <th>AirTime</th>\n",
       "      <th>Distance</th>\n",
       "      <th>Speed</th>\n",
       "      <th>TaxiIn</th>\n",
       "      <th>TaxiOut</th>\n",
       "      <th>CarrierDelay</th>\n",
       "      <th>WeatherDelay</th>\n",
       "      <th>NASDelay</th>\n",
       "      <th>SecurityDelay</th>\n",
       "      <th>LateAircraftDelay</th>\n",
       "      <th>DepTime</th>\n",
       "      <th>CRSDepTime</th>\n",
       "      <th>ArrTime</th>\n",
       "      <th>CRSArrTime</th>\n",
       "      <th>Month</th>\n",
       "      <th>DayofMonth</th>\n",
       "      <th>DayOfWeek</th>\n",
       "      <th>UniqueCarrier_AA</th>\n",
       "      <th>UniqueCarrier_AQ</th>\n",
       "      <th>UniqueCarrier_AS</th>\n",
       "      <th>UniqueCarrier_B6</th>\n",
       "      <th>UniqueCarrier_CO</th>\n",
       "      <th>UniqueCarrier_DL</th>\n",
       "      <th>UniqueCarrier_EV</th>\n",
       "      <th>UniqueCarrier_F9</th>\n",
       "      <th>UniqueCarrier_FL</th>\n",
       "      <th>UniqueCarrier_HA</th>\n",
       "      <th>UniqueCarrier_MQ</th>\n",
       "      <th>UniqueCarrier_NW</th>\n",
       "      <th>UniqueCarrier_OH</th>\n",
       "      <th>UniqueCarrier_OO</th>\n",
       "      <th>UniqueCarrier_UA</th>\n",
       "      <th>UniqueCarrier_US</th>\n",
       "      <th>UniqueCarrier_WN</th>\n",
       "      <th>UniqueCarrier_XE</th>\n",
       "      <th>UniqueCarrier_YV</th>\n",
       "    </tr>\n",
       "  </thead>\n",
       "  <tbody>\n",
       "    <tr>\n",
       "      <th>0</th>\n",
       "      <td>1</td>\n",
       "      <td>95.0</td>\n",
       "      <td>88.0</td>\n",
       "      <td>63.0</td>\n",
       "      <td>364</td>\n",
       "      <td>346.67</td>\n",
       "      <td>11.0</td>\n",
       "      <td>21.0</td>\n",
       "      <td>14.0</td>\n",
       "      <td>0.0</td>\n",
       "      <td>7.0</td>\n",
       "      <td>0.0</td>\n",
       "      <td>0.0</td>\n",
       "      <td>1711.0</td>\n",
       "      <td>1657</td>\n",
       "      <td>1746.0</td>\n",
       "      <td>1725</td>\n",
       "      <td>1</td>\n",
       "      <td>18</td>\n",
       "      <td>5</td>\n",
       "      <td>0</td>\n",
       "      <td>0</td>\n",
       "      <td>0</td>\n",
       "      <td>0</td>\n",
       "      <td>0</td>\n",
       "      <td>0</td>\n",
       "      <td>0</td>\n",
       "      <td>0</td>\n",
       "      <td>0</td>\n",
       "      <td>0</td>\n",
       "      <td>0</td>\n",
       "      <td>0</td>\n",
       "      <td>0</td>\n",
       "      <td>0</td>\n",
       "      <td>0</td>\n",
       "      <td>0</td>\n",
       "      <td>0</td>\n",
       "      <td>0</td>\n",
       "      <td>0</td>\n",
       "    </tr>\n",
       "    <tr>\n",
       "      <th>1</th>\n",
       "      <td>1</td>\n",
       "      <td>139.0</td>\n",
       "      <td>126.0</td>\n",
       "      <td>105.0</td>\n",
       "      <td>813</td>\n",
       "      <td>464.57</td>\n",
       "      <td>18.0</td>\n",
       "      <td>16.0</td>\n",
       "      <td>0.0</td>\n",
       "      <td>0.0</td>\n",
       "      <td>13.0</td>\n",
       "      <td>0.0</td>\n",
       "      <td>11.0</td>\n",
       "      <td>1100.0</td>\n",
       "      <td>1049</td>\n",
       "      <td>1419.0</td>\n",
       "      <td>1355</td>\n",
       "      <td>12</td>\n",
       "      <td>5</td>\n",
       "      <td>5</td>\n",
       "      <td>0</td>\n",
       "      <td>0</td>\n",
       "      <td>0</td>\n",
       "      <td>0</td>\n",
       "      <td>0</td>\n",
       "      <td>0</td>\n",
       "      <td>0</td>\n",
       "      <td>0</td>\n",
       "      <td>0</td>\n",
       "      <td>0</td>\n",
       "      <td>0</td>\n",
       "      <td>0</td>\n",
       "      <td>0</td>\n",
       "      <td>0</td>\n",
       "      <td>0</td>\n",
       "      <td>0</td>\n",
       "      <td>0</td>\n",
       "      <td>0</td>\n",
       "      <td>0</td>\n",
       "    </tr>\n",
       "    <tr>\n",
       "      <th>2</th>\n",
       "      <td>1</td>\n",
       "      <td>86.0</td>\n",
       "      <td>102.0</td>\n",
       "      <td>65.0</td>\n",
       "      <td>490</td>\n",
       "      <td>452.31</td>\n",
       "      <td>9.0</td>\n",
       "      <td>12.0</td>\n",
       "      <td>0.0</td>\n",
       "      <td>0.0</td>\n",
       "      <td>0.0</td>\n",
       "      <td>0.0</td>\n",
       "      <td>0.0</td>\n",
       "      <td>943.0</td>\n",
       "      <td>925</td>\n",
       "      <td>1209.0</td>\n",
       "      <td>1207</td>\n",
       "      <td>12</td>\n",
       "      <td>22</td>\n",
       "      <td>1</td>\n",
       "      <td>0</td>\n",
       "      <td>0</td>\n",
       "      <td>0</td>\n",
       "      <td>0</td>\n",
       "      <td>0</td>\n",
       "      <td>0</td>\n",
       "      <td>0</td>\n",
       "      <td>0</td>\n",
       "      <td>0</td>\n",
       "      <td>0</td>\n",
       "      <td>0</td>\n",
       "      <td>0</td>\n",
       "      <td>0</td>\n",
       "      <td>0</td>\n",
       "      <td>0</td>\n",
       "      <td>0</td>\n",
       "      <td>0</td>\n",
       "      <td>0</td>\n",
       "      <td>0</td>\n",
       "    </tr>\n",
       "    <tr>\n",
       "      <th>3</th>\n",
       "      <td>1</td>\n",
       "      <td>114.0</td>\n",
       "      <td>90.0</td>\n",
       "      <td>87.0</td>\n",
       "      <td>442</td>\n",
       "      <td>304.83</td>\n",
       "      <td>4.0</td>\n",
       "      <td>23.0</td>\n",
       "      <td>13.0</td>\n",
       "      <td>0.0</td>\n",
       "      <td>24.0</td>\n",
       "      <td>0.0</td>\n",
       "      <td>0.0</td>\n",
       "      <td>1908.0</td>\n",
       "      <td>1855</td>\n",
       "      <td>2102.0</td>\n",
       "      <td>2025</td>\n",
       "      <td>6</td>\n",
       "      <td>12</td>\n",
       "      <td>4</td>\n",
       "      <td>0</td>\n",
       "      <td>0</td>\n",
       "      <td>0</td>\n",
       "      <td>0</td>\n",
       "      <td>0</td>\n",
       "      <td>0</td>\n",
       "      <td>0</td>\n",
       "      <td>0</td>\n",
       "      <td>0</td>\n",
       "      <td>0</td>\n",
       "      <td>0</td>\n",
       "      <td>0</td>\n",
       "      <td>0</td>\n",
       "      <td>0</td>\n",
       "      <td>0</td>\n",
       "      <td>0</td>\n",
       "      <td>0</td>\n",
       "      <td>0</td>\n",
       "      <td>0</td>\n",
       "    </tr>\n",
       "    <tr>\n",
       "      <th>4</th>\n",
       "      <td>1</td>\n",
       "      <td>90.0</td>\n",
       "      <td>88.0</td>\n",
       "      <td>61.0</td>\n",
       "      <td>382</td>\n",
       "      <td>375.74</td>\n",
       "      <td>7.0</td>\n",
       "      <td>22.0</td>\n",
       "      <td>0.0</td>\n",
       "      <td>0.0</td>\n",
       "      <td>0.0</td>\n",
       "      <td>0.0</td>\n",
       "      <td>0.0</td>\n",
       "      <td>1038.0</td>\n",
       "      <td>1030</td>\n",
       "      <td>1208.0</td>\n",
       "      <td>1158</td>\n",
       "      <td>4</td>\n",
       "      <td>1</td>\n",
       "      <td>2</td>\n",
       "      <td>0</td>\n",
       "      <td>0</td>\n",
       "      <td>0</td>\n",
       "      <td>0</td>\n",
       "      <td>0</td>\n",
       "      <td>0</td>\n",
       "      <td>0</td>\n",
       "      <td>0</td>\n",
       "      <td>0</td>\n",
       "      <td>0</td>\n",
       "      <td>0</td>\n",
       "      <td>0</td>\n",
       "      <td>0</td>\n",
       "      <td>0</td>\n",
       "      <td>0</td>\n",
       "      <td>0</td>\n",
       "      <td>0</td>\n",
       "      <td>0</td>\n",
       "      <td>0</td>\n",
       "    </tr>\n",
       "  </tbody>\n",
       "</table>\n",
       "</div>"
      ],
      "text/plain": [
       "   Class  ActualElapsedTime  CRSElapsedTime  AirTime  Distance   Speed  \\\n",
       "0      1               95.0            88.0     63.0       364  346.67   \n",
       "1      1              139.0           126.0    105.0       813  464.57   \n",
       "2      1               86.0           102.0     65.0       490  452.31   \n",
       "3      1              114.0            90.0     87.0       442  304.83   \n",
       "4      1               90.0            88.0     61.0       382  375.74   \n",
       "\n",
       "   TaxiIn  TaxiOut  CarrierDelay  WeatherDelay  NASDelay  SecurityDelay  \\\n",
       "0    11.0     21.0          14.0           0.0       7.0            0.0   \n",
       "1    18.0     16.0           0.0           0.0      13.0            0.0   \n",
       "2     9.0     12.0           0.0           0.0       0.0            0.0   \n",
       "3     4.0     23.0          13.0           0.0      24.0            0.0   \n",
       "4     7.0     22.0           0.0           0.0       0.0            0.0   \n",
       "\n",
       "   LateAircraftDelay  DepTime  CRSDepTime  ArrTime  CRSArrTime  Month  \\\n",
       "0                0.0   1711.0        1657   1746.0        1725      1   \n",
       "1               11.0   1100.0        1049   1419.0        1355     12   \n",
       "2                0.0    943.0         925   1209.0        1207     12   \n",
       "3                0.0   1908.0        1855   2102.0        2025      6   \n",
       "4                0.0   1038.0        1030   1208.0        1158      4   \n",
       "\n",
       "   DayofMonth  DayOfWeek  UniqueCarrier_AA  UniqueCarrier_AQ  \\\n",
       "0          18          5                 0                 0   \n",
       "1           5          5                 0                 0   \n",
       "2          22          1                 0                 0   \n",
       "3          12          4                 0                 0   \n",
       "4           1          2                 0                 0   \n",
       "\n",
       "   UniqueCarrier_AS  UniqueCarrier_B6  UniqueCarrier_CO  UniqueCarrier_DL  \\\n",
       "0                 0                 0                 0                 0   \n",
       "1                 0                 0                 0                 0   \n",
       "2                 0                 0                 0                 0   \n",
       "3                 0                 0                 0                 0   \n",
       "4                 0                 0                 0                 0   \n",
       "\n",
       "   UniqueCarrier_EV  UniqueCarrier_F9  UniqueCarrier_FL  UniqueCarrier_HA  \\\n",
       "0                 0                 0                 0                 0   \n",
       "1                 0                 0                 0                 0   \n",
       "2                 0                 0                 0                 0   \n",
       "3                 0                 0                 0                 0   \n",
       "4                 0                 0                 0                 0   \n",
       "\n",
       "   UniqueCarrier_MQ  UniqueCarrier_NW  UniqueCarrier_OH  UniqueCarrier_OO  \\\n",
       "0                 0                 0                 0                 0   \n",
       "1                 0                 0                 0                 0   \n",
       "2                 0                 0                 0                 0   \n",
       "3                 0                 0                 0                 0   \n",
       "4                 0                 0                 0                 0   \n",
       "\n",
       "   UniqueCarrier_UA  UniqueCarrier_US  UniqueCarrier_WN  UniqueCarrier_XE  \\\n",
       "0                 0                 0                 0                 0   \n",
       "1                 0                 0                 0                 0   \n",
       "2                 0                 0                 0                 0   \n",
       "3                 0                 0                 0                 0   \n",
       "4                 0                 0                 0                 0   \n",
       "\n",
       "   UniqueCarrier_YV  \n",
       "0                 0  \n",
       "1                 0  \n",
       "2                 0  \n",
       "3                 0  \n",
       "4                 0  "
      ]
     },
     "execution_count": 119,
     "metadata": {},
     "output_type": "execute_result"
    }
   ],
   "source": [
    "data_final.head()"
   ]
  },
  {
   "cell_type": "code",
   "execution_count": 120,
   "id": "9b56774a",
   "metadata": {
    "ExecuteTime": {
     "end_time": "2022-05-07T09:57:46.143401Z",
     "start_time": "2022-05-07T09:57:46.112581Z"
    }
   },
   "outputs": [],
   "source": [
    "y = data_final['Class']\n",
    "\n",
    "X = data_final.drop(['Class'], axis = 1)"
   ]
  },
  {
   "cell_type": "code",
   "execution_count": 121,
   "id": "6568b6e3",
   "metadata": {
    "ExecuteTime": {
     "end_time": "2022-05-07T09:57:46.158770Z",
     "start_time": "2022-05-07T09:57:46.144325Z"
    }
   },
   "outputs": [
    {
     "name": "stdout",
     "output_type": "stream",
     "text": [
      "y.shape:  (192825,)\n",
      "X.shape:  (192825, 38)\n"
     ]
    }
   ],
   "source": [
    "print('y.shape: ', y.shape)\n",
    "print('X.shape: ', X.shape)"
   ]
  },
  {
   "cell_type": "code",
   "execution_count": 122,
   "id": "0479b6ff",
   "metadata": {
    "ExecuteTime": {
     "end_time": "2022-05-07T09:57:46.299352Z",
     "start_time": "2022-05-07T09:57:46.161686Z"
    }
   },
   "outputs": [],
   "source": [
    "# split test size 0.3\n",
    "X_train, X_test, y_train, y_test = train_test_split(X, y, test_size= 0.3, random_state= 7)"
   ]
  },
  {
   "cell_type": "markdown",
   "id": "1536a7fc",
   "metadata": {},
   "source": [
    "The parameters for this model have been decided after some trial and error, this is the ones that worked the best so far: "
   ]
  },
  {
   "cell_type": "code",
   "execution_count": 123,
   "id": "2f5b08fa",
   "metadata": {
    "ExecuteTime": {
     "end_time": "2022-05-07T10:01:30.796183Z",
     "start_time": "2022-05-07T09:57:46.301278Z"
    }
   },
   "outputs": [
    {
     "data": {
      "text/plain": [
       "MLPClassifier(activation='logistic', hidden_layer_sizes=(30, 40, 30, 2),\n",
       "              max_iter=300, random_state=7, solver='lbfgs', tol=1e-09,\n",
       "              verbose=10)"
      ]
     },
     "execution_count": 123,
     "metadata": {},
     "output_type": "execute_result"
    }
   ],
   "source": [
    "from sklearn.neural_network import MLPClassifier\n",
    "\n",
    "clf = MLPClassifier(activation= 'logistic', hidden_layer_sizes= (30,40,30, 2), max_iter= 300,  alpha=0.0001,\n",
    "                     solver='lbfgs', verbose=10,  random_state=7,tol=0.000000001)\n",
    "\n",
    "clf.fit(X_train, y_train)"
   ]
  },
  {
   "cell_type": "code",
   "execution_count": 124,
   "id": "be8fba26",
   "metadata": {
    "ExecuteTime": {
     "end_time": "2022-05-07T10:01:31.013691Z",
     "start_time": "2022-05-07T10:01:30.798242Z"
    }
   },
   "outputs": [],
   "source": [
    "# predcitions on test set \n",
    "y_pred = clf.predict(X_test)"
   ]
  },
  {
   "cell_type": "code",
   "execution_count": 125,
   "id": "00081b06",
   "metadata": {
    "ExecuteTime": {
     "end_time": "2022-05-07T10:01:31.105993Z",
     "start_time": "2022-05-07T10:01:31.015107Z"
    }
   },
   "outputs": [
    {
     "name": "stdout",
     "output_type": "stream",
     "text": [
      "Accuracy :  0.9847704328585258\n",
      "Recall (or sensitivity):  0.9877092809445466\n",
      "Precision :  0.9952024338871986\n",
      "F1 score:  0.9914416996143421\n"
     ]
    }
   ],
   "source": [
    "# showing results\n",
    "print_results(y_test, y_pred)"
   ]
  },
  {
   "cell_type": "markdown",
   "id": "9fe30892",
   "metadata": {},
   "source": [
    "We have now better results than with our previous models, even after droping our most important variable!! Let's check confusion matrix: "
   ]
  },
  {
   "cell_type": "code",
   "execution_count": 126,
   "id": "513fe672",
   "metadata": {
    "ExecuteTime": {
     "end_time": "2022-05-07T10:01:31.260326Z",
     "start_time": "2022-05-07T10:01:31.106985Z"
    }
   },
   "outputs": [
    {
     "data": {
      "image/png": "[encoded data removed]",
      "text/plain": [
       "<Figure size 360x360 with 1 Axes>"
      ]
     },
     "metadata": {
      "needs_background": "light"
     },
     "output_type": "display_data"
    }
   ],
   "source": [
    "cm = confusion_matrix(y_test, y_pred)\n",
    "\n",
    "plt.figure(figsize= (5,5))\n",
    "sns.heatmap(pd.DataFrame(cm), annot = True, fmt='g', cbar = False, cmap=\"YlGnBu\", xticklabels= labels, \n",
    "            yticklabels= labels)\n",
    "plt.title('Neural Networks Classifier (without DepDelay)', fontsize = 14)\n",
    "plt.ylabel('Actual label',fontsize = 12 )\n",
    "plt.xlabel('Predicted label', fontsize = 12);"
   ]
  },
  {
   "cell_type": "markdown",
   "id": "8060f34b",
   "metadata": {},
   "source": [
    "+ False Positives : 246\n",
    "+ False Negatives : 635\n",
    "+ Out of 57848 flights, we only got 881 wrong. \n",
    "+ Total correct predictions : 56967 (5937 True Negatives and 51030 True Positives)\n",
    "+ Unlike the previous models, here we see that there is a certain balance between False Negatives and False Positives. "
   ]
  },
  {
   "cell_type": "code",
   "execution_count": 127,
   "id": "719078d4",
   "metadata": {
    "ExecuteTime": {
     "end_time": "2022-05-07T10:01:31.661282Z",
     "start_time": "2022-05-07T10:01:31.262314Z"
    }
   },
   "outputs": [
    {
     "data": {
      "image/png": "[encoded data removed]",
      "text/plain": [
       "<Figure size 432x288 with 1 Axes>"
      ]
     },
     "metadata": {
      "needs_background": "light"
     },
     "output_type": "display_data"
    }
   ],
   "source": [
    "# roc aun curve \n",
    "nn_pred_proba = clf.predict_proba(X_test)[:,1]\n",
    "fpr, tpr, _ = metrics.roc_curve(y_test,  nn_pred_proba)\n",
    "auc_nn = metrics.roc_auc_score(y_test, nn_pred_proba)\n",
    "plt.plot(fpr,tpr,label=\"Neural Network Classifier, auc=\"+str(round(auc_nn, 4)))\n",
    "plt.plot([0, 1], [0, 1], linestyle='--')\n",
    "plt.xlabel('False Positive Rate (1 - Specificity)')\n",
    "plt.ylabel('True Positive Rate (Sensitivity)')\n",
    "plt.grid(True)\n",
    "plt.legend(loc=4)\n",
    "plt.title('ROC/AUC curve Neural Network Classifier (without DepDelay)'); "
   ]
  },
  {
   "cell_type": "markdown",
   "id": "19fe2b3a",
   "metadata": {},
   "source": [
    "The ROC/AUC curve looks a litle different than our previous ones, but it clearly covers a larger area and it is closer to one (actually it seems almost perfect). Now we will store the results and compare them with our first models: "
   ]
  },
  {
   "cell_type": "code",
   "execution_count": 128,
   "id": "080adf50",
   "metadata": {
    "ExecuteTime": {
     "end_time": "2022-05-07T10:01:31.974044Z",
     "start_time": "2022-05-07T10:01:31.663203Z"
    }
   },
   "outputs": [
    {
     "data": {
      "text/html": [
       "<div>\n",
       "<style scoped>\n",
       "    .dataframe tbody tr th:only-of-type {\n",
       "        vertical-align: middle;\n",
       "    }\n",
       "\n",
       "    .dataframe tbody tr th {\n",
       "        vertical-align: top;\n",
       "    }\n",
       "\n",
       "    .dataframe thead th {\n",
       "        text-align: right;\n",
       "    }\n",
       "</style>\n",
       "<table border=\"1\" class=\"dataframe\">\n",
       "  <thead>\n",
       "    <tr style=\"text-align: right;\">\n",
       "      <th></th>\n",
       "      <th>Model</th>\n",
       "      <th>Accuracy</th>\n",
       "      <th>Recall</th>\n",
       "      <th>Precision</th>\n",
       "      <th>f1-score</th>\n",
       "      <th>ROC AUC Score</th>\n",
       "    </tr>\n",
       "  </thead>\n",
       "  <tbody>\n",
       "    <tr>\n",
       "      <th>0</th>\n",
       "      <td>Neural Network Clf (without DepDelay)</td>\n",
       "      <td>0.98477</td>\n",
       "      <td>0.987709</td>\n",
       "      <td>0.995202</td>\n",
       "      <td>0.991442</td>\n",
       "      <td>0.994688</td>\n",
       "    </tr>\n",
       "  </tbody>\n",
       "</table>\n",
       "</div>"
      ],
      "text/plain": [
       "                                   Model  Accuracy    Recall  Precision  \\\n",
       "0  Neural Network Clf (without DepDelay)   0.98477  0.987709   0.995202   \n",
       "\n",
       "   f1-score  ROC AUC Score  \n",
       "0  0.991442       0.994688  "
      ]
     },
     "execution_count": 128,
     "metadata": {},
     "output_type": "execute_result"
    }
   ],
   "source": [
    "nn_results = pd.DataFrame(data = [['Neural Network Clf (without DepDelay)', get_results(y_test, y_pred)[0],\n",
    "                                  get_results(y_test, y_pred)[1], get_results(y_test, y_pred)[2], \n",
    "                                  get_results(y_test, y_pred)[3], auc_nn]], columns = ['Model', \n",
    "                                   'Accuracy', 'Recall', 'Precision', 'f1-score', 'ROC AUC Score'])\n",
    "nn_results"
   ]
  },
  {
   "cell_type": "code",
   "execution_count": 129,
   "id": "42d78bd5",
   "metadata": {
    "ExecuteTime": {
     "end_time": "2022-05-07T10:01:32.005370Z",
     "start_time": "2022-05-07T10:01:31.976059Z"
    }
   },
   "outputs": [
    {
     "data": {
      "text/html": [
       "<div>\n",
       "<style scoped>\n",
       "    .dataframe tbody tr th:only-of-type {\n",
       "        vertical-align: middle;\n",
       "    }\n",
       "\n",
       "    .dataframe tbody tr th {\n",
       "        vertical-align: top;\n",
       "    }\n",
       "\n",
       "    .dataframe thead th {\n",
       "        text-align: right;\n",
       "    }\n",
       "</style>\n",
       "<table border=\"1\" class=\"dataframe\">\n",
       "  <thead>\n",
       "    <tr style=\"text-align: right;\">\n",
       "      <th></th>\n",
       "      <th>Model</th>\n",
       "      <th>Accuracy</th>\n",
       "      <th>Recall</th>\n",
       "      <th>Precision</th>\n",
       "      <th>f1-score</th>\n",
       "      <th>ROC AUC Score</th>\n",
       "    </tr>\n",
       "  </thead>\n",
       "  <tbody>\n",
       "    <tr>\n",
       "      <th>0</th>\n",
       "      <td>Logistic Regression</td>\n",
       "      <td>0.905909</td>\n",
       "      <td>0.979545</td>\n",
       "      <td>0.920604</td>\n",
       "      <td>0.949161</td>\n",
       "      <td>0.926043</td>\n",
       "    </tr>\n",
       "    <tr>\n",
       "      <th>1</th>\n",
       "      <td>Logistic Regression (Balanced)</td>\n",
       "      <td>0.823140</td>\n",
       "      <td>0.813749</td>\n",
       "      <td>0.986676</td>\n",
       "      <td>0.891908</td>\n",
       "      <td>0.921749</td>\n",
       "    </tr>\n",
       "    <tr>\n",
       "      <th>2</th>\n",
       "      <td>AdaBoost (Balanced)</td>\n",
       "      <td>0.845319</td>\n",
       "      <td>0.842764</td>\n",
       "      <td>0.982205</td>\n",
       "      <td>0.907157</td>\n",
       "      <td>0.926512</td>\n",
       "    </tr>\n",
       "    <tr>\n",
       "      <th>3</th>\n",
       "      <td>Balanced Bagging Classifier</td>\n",
       "      <td>0.829156</td>\n",
       "      <td>0.817393</td>\n",
       "      <td>0.990399</td>\n",
       "      <td>0.895618</td>\n",
       "      <td>0.933588</td>\n",
       "    </tr>\n",
       "    <tr>\n",
       "      <th>4</th>\n",
       "      <td>Logistic Regression (tuned parameters)</td>\n",
       "      <td>0.903575</td>\n",
       "      <td>0.988838</td>\n",
       "      <td>0.911194</td>\n",
       "      <td>0.948429</td>\n",
       "      <td>0.926217</td>\n",
       "    </tr>\n",
       "    <tr>\n",
       "      <th>5</th>\n",
       "      <td>Logistic Regression (Balanced and tuned parame...</td>\n",
       "      <td>0.848258</td>\n",
       "      <td>0.847044</td>\n",
       "      <td>0.981153</td>\n",
       "      <td>0.909179</td>\n",
       "      <td>0.923453</td>\n",
       "    </tr>\n",
       "    <tr>\n",
       "      <th>6</th>\n",
       "      <td>AdaBoost (Balanced and tuned parameters)</td>\n",
       "      <td>0.862968</td>\n",
       "      <td>0.867151</td>\n",
       "      <td>0.977486</td>\n",
       "      <td>0.919019</td>\n",
       "      <td>0.929833</td>\n",
       "    </tr>\n",
       "    <tr>\n",
       "      <th>7</th>\n",
       "      <td>BalancedBaggingClassifier (tuned)</td>\n",
       "      <td>0.832907</td>\n",
       "      <td>0.822367</td>\n",
       "      <td>0.989515</td>\n",
       "      <td>0.898231</td>\n",
       "      <td>0.932421</td>\n",
       "    </tr>\n",
       "  </tbody>\n",
       "</table>\n",
       "</div>"
      ],
      "text/plain": [
       "                                               Model  Accuracy    Recall  \\\n",
       "0                                Logistic Regression  0.905909  0.979545   \n",
       "1                     Logistic Regression (Balanced)  0.823140  0.813749   \n",
       "2                                AdaBoost (Balanced)  0.845319  0.842764   \n",
       "3                        Balanced Bagging Classifier  0.829156  0.817393   \n",
       "4             Logistic Regression (tuned parameters)  0.903575  0.988838   \n",
       "5  Logistic Regression (Balanced and tuned parame...  0.848258  0.847044   \n",
       "6           AdaBoost (Balanced and tuned parameters)  0.862968  0.867151   \n",
       "7                  BalancedBaggingClassifier (tuned)  0.832907  0.822367   \n",
       "\n",
       "   Precision  f1-score  ROC AUC Score  \n",
       "0   0.920604  0.949161       0.926043  \n",
       "1   0.986676  0.891908       0.921749  \n",
       "2   0.982205  0.907157       0.926512  \n",
       "3   0.990399  0.895618       0.933588  \n",
       "4   0.911194  0.948429       0.926217  \n",
       "5   0.981153  0.909179       0.923453  \n",
       "6   0.977486  0.919019       0.929833  \n",
       "7   0.989515  0.898231       0.932421  "
      ]
     },
     "execution_count": 129,
     "metadata": {},
     "output_type": "execute_result"
    }
   ],
   "source": [
    "# open the results from previous models \n",
    "results_df = pd.read_csv('results_df.csv')\n",
    "results_df"
   ]
  },
  {
   "cell_type": "code",
   "execution_count": 130,
   "id": "8069f523",
   "metadata": {
    "ExecuteTime": {
     "end_time": "2022-05-07T10:01:32.021408Z",
     "start_time": "2022-05-07T10:01:32.006296Z"
    }
   },
   "outputs": [
    {
     "data": {
      "text/html": [
       "<div>\n",
       "<style scoped>\n",
       "    .dataframe tbody tr th:only-of-type {\n",
       "        vertical-align: middle;\n",
       "    }\n",
       "\n",
       "    .dataframe tbody tr th {\n",
       "        vertical-align: top;\n",
       "    }\n",
       "\n",
       "    .dataframe thead th {\n",
       "        text-align: right;\n",
       "    }\n",
       "</style>\n",
       "<table border=\"1\" class=\"dataframe\">\n",
       "  <thead>\n",
       "    <tr style=\"text-align: right;\">\n",
       "      <th></th>\n",
       "      <th>Model</th>\n",
       "      <th>Accuracy</th>\n",
       "      <th>Recall</th>\n",
       "      <th>Precision</th>\n",
       "      <th>f1-score</th>\n",
       "      <th>ROC AUC Score</th>\n",
       "    </tr>\n",
       "  </thead>\n",
       "  <tbody>\n",
       "    <tr>\n",
       "      <th>0</th>\n",
       "      <td>Logistic Regression</td>\n",
       "      <td>0.905909</td>\n",
       "      <td>0.979545</td>\n",
       "      <td>0.920604</td>\n",
       "      <td>0.949161</td>\n",
       "      <td>0.926043</td>\n",
       "    </tr>\n",
       "    <tr>\n",
       "      <th>1</th>\n",
       "      <td>Logistic Regression (Balanced)</td>\n",
       "      <td>0.823140</td>\n",
       "      <td>0.813749</td>\n",
       "      <td>0.986676</td>\n",
       "      <td>0.891908</td>\n",
       "      <td>0.921749</td>\n",
       "    </tr>\n",
       "    <tr>\n",
       "      <th>2</th>\n",
       "      <td>AdaBoost (Balanced)</td>\n",
       "      <td>0.845319</td>\n",
       "      <td>0.842764</td>\n",
       "      <td>0.982205</td>\n",
       "      <td>0.907157</td>\n",
       "      <td>0.926512</td>\n",
       "    </tr>\n",
       "    <tr>\n",
       "      <th>3</th>\n",
       "      <td>Balanced Bagging Classifier</td>\n",
       "      <td>0.829156</td>\n",
       "      <td>0.817393</td>\n",
       "      <td>0.990399</td>\n",
       "      <td>0.895618</td>\n",
       "      <td>0.933588</td>\n",
       "    </tr>\n",
       "    <tr>\n",
       "      <th>0</th>\n",
       "      <td>Neural Network Clf (without DepDelay)</td>\n",
       "      <td>0.984770</td>\n",
       "      <td>0.987709</td>\n",
       "      <td>0.995202</td>\n",
       "      <td>0.991442</td>\n",
       "      <td>0.994688</td>\n",
       "    </tr>\n",
       "  </tbody>\n",
       "</table>\n",
       "</div>"
      ],
      "text/plain": [
       "                                   Model  Accuracy    Recall  Precision  \\\n",
       "0                    Logistic Regression  0.905909  0.979545   0.920604   \n",
       "1         Logistic Regression (Balanced)  0.823140  0.813749   0.986676   \n",
       "2                    AdaBoost (Balanced)  0.845319  0.842764   0.982205   \n",
       "3            Balanced Bagging Classifier  0.829156  0.817393   0.990399   \n",
       "0  Neural Network Clf (without DepDelay)  0.984770  0.987709   0.995202   \n",
       "\n",
       "   f1-score  ROC AUC Score  \n",
       "0  0.949161       0.926043  \n",
       "1  0.891908       0.921749  \n",
       "2  0.907157       0.926512  \n",
       "3  0.895618       0.933588  \n",
       "0  0.991442       0.994688  "
      ]
     },
     "execution_count": 130,
     "metadata": {},
     "output_type": "execute_result"
    }
   ],
   "source": [
    "# let's put together the first models with our last Neural Network model \n",
    "results = pd.concat([results_df[0:4], nn_results])\n",
    "results"
   ]
  },
  {
   "cell_type": "code",
   "execution_count": 131,
   "id": "a9f0d545",
   "metadata": {
    "ExecuteTime": {
     "end_time": "2022-05-07T10:01:32.037117Z",
     "start_time": "2022-05-07T10:01:32.023422Z"
    }
   },
   "outputs": [],
   "source": [
    "results = results.set_index('Model')"
   ]
  },
  {
   "cell_type": "code",
   "execution_count": 132,
   "id": "359e362d",
   "metadata": {
    "ExecuteTime": {
     "end_time": "2022-05-07T10:01:32.252670Z",
     "start_time": "2022-05-07T10:01:32.039110Z"
    }
   },
   "outputs": [
    {
     "data": {
      "image/png": "[encoded data removed]",
      "text/plain": [
       "<Figure size 864x576 with 1 Axes>"
      ]
     },
     "metadata": {
      "needs_background": "light"
     },
     "output_type": "display_data"
    }
   ],
   "source": [
    "ax = results[['Accuracy', 'Recall', 'Precision', 'f1-score', 'ROC AUC Score']].plot(kind='barh', figsize=(12, 8))\n",
    "ax.set_title('Comparison of different metrics accross different models', fontsize = 14)\n",
    "ax.set_ylabel('')\n",
    "ax.set_xlim([0.5, 1.05])\n",
    "handles, labels = ax.get_legend_handles_labels()\n",
    "ax.legend(reversed(handles), reversed(labels), loc='upper left', bbox_to_anchor=(1, 1.02)); "
   ]
  },
  {
   "cell_type": "markdown",
   "id": "38e95f20",
   "metadata": {},
   "source": [
    "+ Using Neural networks (MLP Classifier) has given better results in all the metrics compared with the rest of the models (its metrics exceed all metrics of previous models).  \n",
    "+ All these good results have been achieved in spite of the removal of the most important feature : DepDelay"
   ]
  },
  {
   "cell_type": "markdown",
   "id": "debf0321",
   "metadata": {},
   "source": [
    "#### Testing our MLP Classifier using Cross-Validation"
   ]
  },
  {
   "cell_type": "markdown",
   "id": "14592bc5",
   "metadata": {},
   "source": [
    "We want to see if the model is really good or if it is really the result of randomness, we will use Cross Validation and evaluate f1 score: "
   ]
  },
  {
   "cell_type": "code",
   "execution_count": 138,
   "id": "e1090b47",
   "metadata": {
    "ExecuteTime": {
     "end_time": "2022-05-07T14:29:17.236516Z",
     "start_time": "2022-05-07T10:27:20.727619Z"
    }
   },
   "outputs": [
    {
     "name": "stdout",
     "output_type": "stream",
     "text": [
      "f1-score: 0.972 (0.015)\n"
     ]
    }
   ],
   "source": [
    "from sklearn.model_selection import RepeatedKFold\n",
    "from sklearn.model_selection import cross_val_score\n",
    "from numpy import mean\n",
    "from numpy import std\n",
    "\n",
    "cv = RepeatedKFold(n_splits=10, n_repeats=5, random_state=12)\n",
    "\n",
    "# same paramters as the model we have used \n",
    "model = MLPClassifier(activation= 'logistic', hidden_layer_sizes= (30,40,30, 2), max_iter= 300,  alpha=0.0001,\n",
    "                     solver='lbfgs', verbose=10,  random_state=7,tol=0.000000001)\n",
    "\n",
    "# evaluate model \n",
    "scores1 = cross_val_score(model, X, y, scoring = 'f1', cv=cv)\n",
    "\n",
    "# report performance\n",
    "print('f1-score: %.3f (%.3f)' % (mean(scores1), std(scores1)))"
   ]
  },
  {
   "cell_type": "code",
   "execution_count": 143,
   "id": "108681d6",
   "metadata": {
    "ExecuteTime": {
     "end_time": "2022-05-07T14:52:36.886936Z",
     "start_time": "2022-05-07T14:52:36.866258Z"
    }
   },
   "outputs": [
    {
     "data": {
      "text/plain": [
       "Model\n",
       "Logistic Regression                      0.949161\n",
       "Logistic Regression (Balanced)           0.891908\n",
       "AdaBoost (Balanced)                      0.907157\n",
       "Balanced Bagging Classifier              0.895618\n",
       "Neural Network Clf (without DepDelay)    0.991442\n",
       "Name: f1-score, dtype: float64"
      ]
     },
     "execution_count": 143,
     "metadata": {},
     "output_type": "execute_result"
    }
   ],
   "source": [
    "results['f1-score']"
   ]
  },
  {
   "cell_type": "code",
   "execution_count": 144,
   "id": "724b3336",
   "metadata": {
    "ExecuteTime": {
     "end_time": "2022-05-07T14:52:55.523915Z",
     "start_time": "2022-05-07T14:52:55.515875Z"
    }
   },
   "outputs": [
    {
     "data": {
      "text/plain": [
       "0.9721409898070238"
      ]
     },
     "execution_count": 144,
     "metadata": {},
     "output_type": "execute_result"
    }
   ],
   "source": [
    "# mean of all f1 scores of Cross Validation \n",
    "mean(scores1)"
   ]
  },
  {
   "cell_type": "markdown",
   "id": "778686b3",
   "metadata": {},
   "source": [
    "+ F1 in Cross Validation is 0.972 (with a standard deviation of 0.15) \n",
    "+ It is a little lower than f1-score for the model (which was 0.991) but still it is a very good result, it shows our model does not suffer from overfitting.  \n",
    "+ This Cross Validation f1 result is still higher than f1 score for all the other models, even though we haven't used in this model the most important variable!! (DepDelay). "
   ]
  },
  {
   "cell_type": "markdown",
   "id": "4802b6f7",
   "metadata": {},
   "source": [
    "### CONCLUSIONS"
   ]
  },
  {
   "cell_type": "markdown",
   "id": "cbdc3e34",
   "metadata": {},
   "source": [
    "+ The choice of the right model is as important as the features we use in the model itself. \n",
    "\n",
    "\n",
    "+ In the same model, it may not be possible to improve all metrics at the same time; it is often the case that increasing precision decreases recall and vice versa.\n",
    "\n",
    "\n",
    "+ F1 score and ROC AUC score allow us to compare models with each other but even so we cannot define the goodness of a model only with these metrics, we have already seen that our blind model had an f1 score of 0.945 (higher than other models) and had no predictive value at all, it was only predicting that all flights were delayed. For this reason, in addition to the metrics, it is important to take into account the confusion matrix too (evaluate false negatives and false positives and see if they are acceptable compared to true results). \n",
    "\n",
    "\n",
    "+ In this exercise I have sought to increase the precision so that class 0 (on-time flights) would be correctly represented. I have considered that it is not a good result if the false positives outnumber the true negatives as this means that of the minority class we are getting more than 50% of the predictions wrong.  For this reason, the models have sometimes not improved the metrics very much and, on the other hand, these considerations have caused the false negatives to go up more than necessary. \n",
    "\n",
    "\n",
    "+ When we have balanced the classes using SMOTE and Undersampling we have managed to reduce False Positives, but at the cost of increasing False Negatives considerably on some occasions. \n",
    "\n",
    "\n",
    "+ We have used the Neural Networks model in the last exercise and it has worked incredibly well, even though we have removed the most important variable for the predictions which is DepDelay. This Neural Network model has been able to improve all the metrics of the previous models while minimizing both false negatives and false positives (compared to the rest of the models). Cross Validation has also confirmed that the model fits the data well, so in this case we reaffirm that the choice of the right model (or choosing the correct parameters for the model) is perhaps one of the most important considerations for this kind of problem. \n",
    "\n",
    "\n"
   ]
  }
 ],
 "metadata": {
  "kernelspec": {
   "display_name": "Python 3 (ipykernel)",
   "language": "python",
   "name": "python3"
  },
  "language_info": {
   "codemirror_mode": {
    "name": "ipython",
    "version": 3
   },
   "file_extension": ".py",
   "mimetype": "text/x-python",
   "name": "python",
   "nbconvert_exporter": "python",
   "pygments_lexer": "ipython3",
   "version": "3.9.7"
  }
 },
 "nbformat": 4,
 "nbformat_minor": 5
}
